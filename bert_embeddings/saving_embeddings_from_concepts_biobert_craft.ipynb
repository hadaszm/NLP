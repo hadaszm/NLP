{
 "cells": [
  {
   "cell_type": "code",
   "execution_count": 1,
   "metadata": {
    "id": "GvjGNt5xtvXH"
   },
   "outputs": [],
   "source": [
    "import pandas as pd\n",
    "import numpy as np\n",
    "import sys\n",
    "import tqdm\n",
    "import os\n",
    "import glob"
   ]
  },
  {
   "cell_type": "code",
   "execution_count": null,
   "metadata": {},
   "outputs": [],
   "source": [
    "!rm -R /content/drive/MyDrive/NLP\n",
    "!git clone https://github.com/hadaszm/NLP.git /content/drive/MyDrive/NLP"
   ]
  },
  {
   "cell_type": "code",
   "execution_count": null,
   "metadata": {},
   "outputs": [],
   "source": [
    "!pip install transformers"
   ]
  },
  {
   "cell_type": "code",
   "execution_count": 6,
   "metadata": {
    "colab": {
     "base_uri": "https://localhost:8080/"
    },
    "id": "LRb-VCLqtvXI",
    "outputId": "3fef9d61-5afe-46f1-812c-3b49f29778f8"
   },
   "outputs": [],
   "source": [
    "try:\n",
    "    import google.colab\n",
    "    colab = True\n",
    "    from google.colab import drive\n",
    "    concepts_filepath = '/content/drive/MyDrive/NLP_files/concepts_strings_with_ids.csv'\n",
    "    embeddings_output_filepath = '/content/drive/MyDrive/NLP_files/concepts_embeddings.csv'\n",
    "    drive.mount('/content/drive')\n",
    "    device_name = 'cuda'\n",
    "    sys.path.append('/content/drive/MyDrive/NLP/bert_embeddings')\n",
    "except ImportError:\n",
    "    colab = False\n",
    "    concepts_filepath = '../CRAFT/data/ontologies_mappings/*'\n",
    "    embeddings_output_filepath = '../CRAFT/data/embeddings/'\n",
    "    device_name = 'cpu'\n",
    "from emb_helpers import * \n"
   ]
  },
  {
   "cell_type": "code",
   "execution_count": 14,
   "metadata": {},
   "outputs": [],
   "source": [
    "try:\n",
    "    os.mkdir(embeddings_output_filepath)\n",
    "except FileExistsError: \n",
    "    pass"
   ]
  },
  {
   "cell_type": "code",
   "execution_count": 7,
   "metadata": {
    "id": "W4aYNjhttvXJ"
   },
   "outputs": [],
   "source": [
    "from transformers import AutoTokenizer, AutoModel\n",
    "\n",
    "biobert = AutoModel.from_pretrained(\"dmis-lab/biobert-v1.1\").to(device_name)"
   ]
  },
  {
   "cell_type": "code",
   "execution_count": 18,
   "metadata": {
    "colab": {
     "base_uri": "https://localhost:8080/"
    },
    "id": "l2NPvlJgtvXJ",
    "outputId": "eabb0228-6adb-4744-b105-a44e32caa4bc"
   },
   "outputs": [
    {
     "name": "stdout",
     "output_type": "stream",
     "text": [
      "../CRAFT/data/ontologies_mappings\\chebi_labels.csv ../CRAFT/data/embeddings/chebi_labels.csv\n"
     ]
    },
    {
     "name": "stderr",
     "output_type": "stream",
     "text": [
      "  0%|▏                                                                          | 337/163545 [00:13<1:46:35, 25.52it/s]\n",
      "\n",
      "KeyboardInterrupt\n",
      "\n"
     ]
    }
   ],
   "source": [
    "for file in glob.glob(concepts_filepath):\n",
    "    output_filename = os.path.join(embeddings_output_filepath, os.path.basename(file))\n",
    "    print(file, output_filename)\n",
    "\n",
    "    concepts = pd.read_csv(file)\n",
    "    concepts_emb = return_embeddings_for_concepts(concepts['label'], biobert, device_name)\n",
    "    concepts_emb['concept_name'] = concepts['label']\n",
    "    concepts_emb['id'] = concepts['id']\n",
    "    concepts_emb[['id', 'concept_name'] + list(range(len(concepts_emb.columns)-2))]\n",
    "    concepts_emb.to_csv(output_filename, index=False)"
   ]
  }
 ],
 "metadata": {
  "accelerator": "GPU",
  "colab": {
   "machine_shape": "hm",
   "provenance": []
  },
  "gpuClass": "premium",
  "kernelspec": {
   "display_name": "Python 3 (ipykernel)",
   "language": "python",
   "name": "python3"
  },
  "language_info": {
   "codemirror_mode": {
    "name": "ipython",
    "version": 3
   },
   "file_extension": ".py",
   "mimetype": "text/x-python",
   "name": "python",
   "nbconvert_exporter": "python",
   "pygments_lexer": "ipython3",
   "version": "3.9.14"
  }
 },
 "nbformat": 4,
 "nbformat_minor": 1
}
