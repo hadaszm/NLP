{
 "cells": [
  {
   "cell_type": "code",
   "execution_count": 1,
   "metadata": {},
   "outputs": [],
   "source": [
    "import pandas as pd\n",
    "import numpy as np"
   ]
  },
  {
   "cell_type": "code",
   "execution_count": 2,
   "metadata": {},
   "outputs": [
    {
     "name": "stderr",
     "output_type": "stream",
     "text": [
      "c:\\users\\krystian kurek\\.conda\\envs\\nlp\\lib\\site-packages\\tqdm\\auto.py:22: TqdmWarning: IProgress not found. Please update jupyter and ipywidgets. See https://ipywidgets.readthedocs.io/en/stable/user_install.html\n",
      "  from .autonotebook import tqdm as notebook_tqdm\n",
      "Some weights of the model checkpoint at bert-base-uncased were not used when initializing BertModel: ['cls.seq_relationship.bias', 'cls.predictions.transform.dense.bias', 'cls.predictions.decoder.weight', 'cls.seq_relationship.weight', 'cls.predictions.transform.LayerNorm.weight', 'cls.predictions.transform.dense.weight', 'cls.predictions.transform.LayerNorm.bias', 'cls.predictions.bias']\n",
      "- This IS expected if you are initializing BertModel from the checkpoint of a model trained on another task or with another architecture (e.g. initializing a BertForSequenceClassification model from a BertForPreTraining model).\n",
      "- This IS NOT expected if you are initializing BertModel from the checkpoint of a model that you expect to be exactly identical (initializing a BertForSequenceClassification model from a BertForSequenceClassification model).\n"
     ]
    }
   ],
   "source": [
    "from transformers import BertTokenizer, BertForPreTraining, BertModel\n",
    "import torch\n",
    "from emb_helpers import * \n",
    "my_sentence = \"Whatever your sentence is\"\n",
    "tokenizer = BertTokenizer.from_pretrained('bert-base-uncased')\n",
    "model_pretrained = BertModel.from_pretrained('bert-base-uncased')\n",
    "model_fine_tuned = torch.load('../models/mybert.pickle', map_location=torch.device('cpu'))"
   ]
  },
  {
   "cell_type": "code",
   "execution_count": 3,
   "metadata": {},
   "outputs": [
    {
     "data": {
      "text/plain": [
       "(1, 768)"
      ]
     },
     "execution_count": 3,
     "metadata": {},
     "output_type": "execute_result"
    }
   ],
   "source": [
    "return_embeddings('Whatever', model_pretrained).shape"
   ]
  },
  {
   "cell_type": "code",
   "execution_count": 4,
   "metadata": {},
   "outputs": [
    {
     "data": {
      "text/plain": [
       "(1, 768)"
      ]
     },
     "execution_count": 4,
     "metadata": {},
     "output_type": "execute_result"
    }
   ],
   "source": [
    "return_embeddings('Whatever', model_fine_tuned).shape"
   ]
  },
  {
   "cell_type": "code",
   "execution_count": 5,
   "metadata": {},
   "outputs": [],
   "source": [
    "import tqdm"
   ]
  },
  {
   "cell_type": "code",
   "execution_count": 6,
   "metadata": {},
   "outputs": [],
   "source": [
    "import os\n",
    "import glob"
   ]
  },
  {
   "cell_type": "code",
   "execution_count": 7,
   "metadata": {
    "scrolled": true
   },
   "outputs": [
    {
     "name": "stderr",
     "output_type": "stream",
     "text": [
      "100%|██████████████████████████████████████████████████████████████████████████████████| 91/91 [00:02<00:00, 34.39it/s]\n",
      "100%|████████████████████████████████████████████████████████████████████████████████| 110/110 [00:03<00:00, 33.46it/s]\n",
      "100%|████████████████████████████████████████████████████████████████████████████████| 435/435 [00:13<00:00, 31.65it/s]\n",
      "100%|████████████████████████████████████████████████████████████████████████████████| 494/494 [00:15<00:00, 32.89it/s]\n",
      "100%|██████████████████████████████████████████████████████████████████████████████████| 91/91 [00:02<00:00, 33.71it/s]\n",
      "100%|████████████████████████████████████████████████████████████████████████████████| 110/110 [00:03<00:00, 35.22it/s]\n",
      "100%|████████████████████████████████████████████████████████████████████████████████| 435/435 [00:12<00:00, 35.52it/s]\n",
      "100%|████████████████████████████████████████████████████████████████████████████████| 494/494 [00:13<00:00, 35.39it/s]\n"
     ]
    }
   ],
   "source": [
    "models = {'model_fine_tuned': model_fine_tuned, 'model_pretrained': model_pretrained}\n",
    "\n",
    "for model_name, model in models.items():\n",
    "    for file in glob.glob('../results/LDA/LDA*.csv') + glob.glob('../results/bertopic/bertopic_processed*.csv'): \n",
    "        extracted_keywords = process_extracted_keywords_file(file)\n",
    "        embeddings_and_keywords = add_embeddings_to_keywords(extracted_keywords, model=model)\n",
    "        new_file = os.path.join('../results/embeddings', os.path.basename(file).replace('.csv', f'_embeddings_{model_name}.csv'))\n",
    "        embeddings_and_keywords.to_csv(new_file, index=False)"
   ]
  },
  {
   "cell_type": "code",
   "execution_count": 8,
   "metadata": {},
   "outputs": [
    {
     "data": {
      "text/plain": [
       "(1, 768)"
      ]
     },
     "execution_count": 8,
     "metadata": {},
     "output_type": "execute_result"
    }
   ],
   "source": [
    "return_embeddings('tetramethyl phenylene diamine oxidase', model_pretrained).shape"
   ]
  },
  {
   "cell_type": "code",
   "execution_count": 9,
   "metadata": {},
   "outputs": [
    {
     "name": "stdout",
     "output_type": "stream",
     "text": [
      "model_fine_tuned\n"
     ]
    },
    {
     "name": "stderr",
     "output_type": "stream",
     "text": [
      "100%|██████████████████████████████████████████████████████████████████████████████| 3337/3337 [01:54<00:00, 29.20it/s]\n",
      "100%|██████████████████████████████████████████████████████████████████████████████| 3153/3153 [01:47<00:00, 29.22it/s]\n"
     ]
    },
    {
     "name": "stdout",
     "output_type": "stream",
     "text": [
      "model_pretrained\n"
     ]
    },
    {
     "name": "stderr",
     "output_type": "stream",
     "text": [
      "100%|██████████████████████████████████████████████████████████████████████████████| 3337/3337 [01:46<00:00, 31.39it/s]\n",
      "100%|██████████████████████████████████████████████████████████████████████████████| 3153/3153 [01:38<00:00, 32.09it/s]\n"
     ]
    }
   ],
   "source": [
    "for model_name, model in models.items():\n",
    "    print(model_name)\n",
    "    for file in glob.glob('../results/bertopic_nbco/bertopic_ncbo*fulldata*'):\n",
    "        df = pd.read_csv(file)\n",
    "        df['ncbo_annotations_pairs'] = df['ncbo_annotations_pairs'].apply(lambda x: sum([row[:2] for row in eval(x)], []))\n",
    "        all_words_to_embed = list(set(sum(df['ncbo_annotations_pairs'], [])))\n",
    "        all_words_to_embed = pd.DataFrame(all_words_to_embed, columns=['words'])\n",
    "        embeddings = return_embeddings_for_concepts(all_words_to_embed['words'],model)\n",
    "        embeddings['words'] = all_words_to_embed['words']\n",
    "        embeddings[['words'] + list(range(len(embeddings.columns)-1))]\n",
    "        basename = os.path.basename(file).replace('.csv',f'_{model_name}.csv')\n",
    "        embeddings.to_csv(f'../results/embeddings/{basename}', index=False)"
   ]
  },
  {
   "cell_type": "code",
   "execution_count": null,
   "metadata": {},
   "outputs": [],
   "source": []
  },
  {
   "cell_type": "code",
   "execution_count": 64,
   "metadata": {},
   "outputs": [],
   "source": [
    "#concepts = pd.read_csv('../data/ids_to_concept_mapping.csv')"
   ]
  },
  {
   "cell_type": "code",
   "execution_count": 65,
   "metadata": {},
   "outputs": [
    {
     "name": "stderr",
     "output_type": "stream",
     "text": [
      "100%|████████████████████████████████████████████████████████████████████████████| 17820/17820 [10:38<00:00, 27.90it/s]\n"
     ]
    },
    {
     "data": {
      "text/html": [
       "<div>\n",
       "<style scoped>\n",
       "    .dataframe tbody tr th:only-of-type {\n",
       "        vertical-align: middle;\n",
       "    }\n",
       "\n",
       "    .dataframe tbody tr th {\n",
       "        vertical-align: top;\n",
       "    }\n",
       "\n",
       "    .dataframe thead th {\n",
       "        text-align: right;\n",
       "    }\n",
       "</style>\n",
       "<table border=\"1\" class=\"dataframe\">\n",
       "  <thead>\n",
       "    <tr style=\"text-align: right;\">\n",
       "      <th></th>\n",
       "      <th>concept_name</th>\n",
       "      <th>0</th>\n",
       "      <th>1</th>\n",
       "      <th>2</th>\n",
       "      <th>3</th>\n",
       "      <th>4</th>\n",
       "      <th>5</th>\n",
       "      <th>6</th>\n",
       "      <th>7</th>\n",
       "      <th>8</th>\n",
       "      <th>...</th>\n",
       "      <th>758</th>\n",
       "      <th>759</th>\n",
       "      <th>760</th>\n",
       "      <th>761</th>\n",
       "      <th>762</th>\n",
       "      <th>763</th>\n",
       "      <th>764</th>\n",
       "      <th>765</th>\n",
       "      <th>766</th>\n",
       "      <th>767</th>\n",
       "    </tr>\n",
       "  </thead>\n",
       "  <tbody>\n",
       "    <tr>\n",
       "      <th>0</th>\n",
       "      <td>1-Methyl-4-phenyl-1,2,3,6-tetrahydropyridine</td>\n",
       "      <td>0.039947</td>\n",
       "      <td>0.140954</td>\n",
       "      <td>0.112286</td>\n",
       "      <td>0.019872</td>\n",
       "      <td>-0.627875</td>\n",
       "      <td>-0.140577</td>\n",
       "      <td>0.265062</td>\n",
       "      <td>-0.083067</td>\n",
       "      <td>0.147241</td>\n",
       "      <td>...</td>\n",
       "      <td>-0.444273</td>\n",
       "      <td>-0.129947</td>\n",
       "      <td>-0.134103</td>\n",
       "      <td>-0.280778</td>\n",
       "      <td>-0.013810</td>\n",
       "      <td>-0.340783</td>\n",
       "      <td>0.322789</td>\n",
       "      <td>-0.312991</td>\n",
       "      <td>0.317635</td>\n",
       "      <td>0.460104</td>\n",
       "    </tr>\n",
       "    <tr>\n",
       "      <th>1</th>\n",
       "      <td>1-Methyl-4-phenylpyridinium</td>\n",
       "      <td>0.381213</td>\n",
       "      <td>0.021037</td>\n",
       "      <td>0.062805</td>\n",
       "      <td>-0.061094</td>\n",
       "      <td>-0.553361</td>\n",
       "      <td>-0.300442</td>\n",
       "      <td>0.249189</td>\n",
       "      <td>-0.332862</td>\n",
       "      <td>0.221136</td>\n",
       "      <td>...</td>\n",
       "      <td>-0.361582</td>\n",
       "      <td>-0.275238</td>\n",
       "      <td>-0.059798</td>\n",
       "      <td>0.296815</td>\n",
       "      <td>0.187730</td>\n",
       "      <td>0.084299</td>\n",
       "      <td>0.269819</td>\n",
       "      <td>-0.218715</td>\n",
       "      <td>0.139012</td>\n",
       "      <td>0.597568</td>\n",
       "    </tr>\n",
       "    <tr>\n",
       "      <th>2</th>\n",
       "      <td>3,4-Dihydroxyphenylacetic Acid</td>\n",
       "      <td>0.171835</td>\n",
       "      <td>-0.114181</td>\n",
       "      <td>0.318304</td>\n",
       "      <td>0.050699</td>\n",
       "      <td>-0.267773</td>\n",
       "      <td>-0.190374</td>\n",
       "      <td>0.147208</td>\n",
       "      <td>0.094964</td>\n",
       "      <td>0.007978</td>\n",
       "      <td>...</td>\n",
       "      <td>-0.517286</td>\n",
       "      <td>-0.011329</td>\n",
       "      <td>0.074155</td>\n",
       "      <td>0.210840</td>\n",
       "      <td>-0.050799</td>\n",
       "      <td>-0.191697</td>\n",
       "      <td>0.219117</td>\n",
       "      <td>-0.474767</td>\n",
       "      <td>0.070690</td>\n",
       "      <td>0.468977</td>\n",
       "    </tr>\n",
       "    <tr>\n",
       "      <th>3</th>\n",
       "      <td>pyrithione zinc 1 % TOPICAL SHAMPOO</td>\n",
       "      <td>0.241237</td>\n",
       "      <td>0.200548</td>\n",
       "      <td>-0.288182</td>\n",
       "      <td>0.026677</td>\n",
       "      <td>0.260056</td>\n",
       "      <td>0.030032</td>\n",
       "      <td>0.483646</td>\n",
       "      <td>0.125540</td>\n",
       "      <td>0.379671</td>\n",
       "      <td>...</td>\n",
       "      <td>-0.180128</td>\n",
       "      <td>-0.358755</td>\n",
       "      <td>0.051714</td>\n",
       "      <td>0.283720</td>\n",
       "      <td>0.347812</td>\n",
       "      <td>-0.109365</td>\n",
       "      <td>-0.440637</td>\n",
       "      <td>-0.548938</td>\n",
       "      <td>-0.322496</td>\n",
       "      <td>0.481040</td>\n",
       "    </tr>\n",
       "    <tr>\n",
       "      <th>4</th>\n",
       "      <td>dalfampridine</td>\n",
       "      <td>-0.058877</td>\n",
       "      <td>-0.604588</td>\n",
       "      <td>-0.206819</td>\n",
       "      <td>-0.186415</td>\n",
       "      <td>0.075803</td>\n",
       "      <td>-0.584705</td>\n",
       "      <td>0.222073</td>\n",
       "      <td>0.177960</td>\n",
       "      <td>-0.130236</td>\n",
       "      <td>...</td>\n",
       "      <td>0.234394</td>\n",
       "      <td>-0.276867</td>\n",
       "      <td>-0.082531</td>\n",
       "      <td>0.517761</td>\n",
       "      <td>0.217361</td>\n",
       "      <td>0.455573</td>\n",
       "      <td>-0.094413</td>\n",
       "      <td>-0.332777</td>\n",
       "      <td>-0.164161</td>\n",
       "      <td>0.802149</td>\n",
       "    </tr>\n",
       "    <tr>\n",
       "      <th>...</th>\n",
       "      <td>...</td>\n",
       "      <td>...</td>\n",
       "      <td>...</td>\n",
       "      <td>...</td>\n",
       "      <td>...</td>\n",
       "      <td>...</td>\n",
       "      <td>...</td>\n",
       "      <td>...</td>\n",
       "      <td>...</td>\n",
       "      <td>...</td>\n",
       "      <td>...</td>\n",
       "      <td>...</td>\n",
       "      <td>...</td>\n",
       "      <td>...</td>\n",
       "      <td>...</td>\n",
       "      <td>...</td>\n",
       "      <td>...</td>\n",
       "      <td>...</td>\n",
       "      <td>...</td>\n",
       "      <td>...</td>\n",
       "      <td>...</td>\n",
       "    </tr>\n",
       "    <tr>\n",
       "      <th>17815</th>\n",
       "      <td>Autistic symptoms</td>\n",
       "      <td>-0.551843</td>\n",
       "      <td>-0.047219</td>\n",
       "      <td>0.370944</td>\n",
       "      <td>-0.351795</td>\n",
       "      <td>0.676788</td>\n",
       "      <td>0.112030</td>\n",
       "      <td>0.460379</td>\n",
       "      <td>1.037875</td>\n",
       "      <td>-0.871300</td>\n",
       "      <td>...</td>\n",
       "      <td>0.124645</td>\n",
       "      <td>0.209162</td>\n",
       "      <td>0.314340</td>\n",
       "      <td>0.079829</td>\n",
       "      <td>-0.261706</td>\n",
       "      <td>-0.279989</td>\n",
       "      <td>-0.782161</td>\n",
       "      <td>-0.272435</td>\n",
       "      <td>-0.170435</td>\n",
       "      <td>-0.658430</td>\n",
       "    </tr>\n",
       "    <tr>\n",
       "      <th>17816</th>\n",
       "      <td>Small size at birth</td>\n",
       "      <td>-0.649714</td>\n",
       "      <td>-0.323830</td>\n",
       "      <td>-0.414301</td>\n",
       "      <td>-0.658360</td>\n",
       "      <td>0.316826</td>\n",
       "      <td>0.155497</td>\n",
       "      <td>0.037140</td>\n",
       "      <td>0.983196</td>\n",
       "      <td>-0.379999</td>\n",
       "      <td>...</td>\n",
       "      <td>-0.043060</td>\n",
       "      <td>-0.135122</td>\n",
       "      <td>0.691281</td>\n",
       "      <td>0.282643</td>\n",
       "      <td>-0.433693</td>\n",
       "      <td>-0.373392</td>\n",
       "      <td>0.052395</td>\n",
       "      <td>-0.240808</td>\n",
       "      <td>-0.344765</td>\n",
       "      <td>0.143974</td>\n",
       "    </tr>\n",
       "    <tr>\n",
       "      <th>17817</th>\n",
       "      <td>Autism or autism spectrum disorder</td>\n",
       "      <td>0.321699</td>\n",
       "      <td>0.568425</td>\n",
       "      <td>-0.042600</td>\n",
       "      <td>-0.629903</td>\n",
       "      <td>0.768433</td>\n",
       "      <td>0.176140</td>\n",
       "      <td>0.331890</td>\n",
       "      <td>1.196353</td>\n",
       "      <td>-1.236493</td>\n",
       "      <td>...</td>\n",
       "      <td>-0.216357</td>\n",
       "      <td>0.000727</td>\n",
       "      <td>0.521696</td>\n",
       "      <td>-0.216283</td>\n",
       "      <td>-0.131417</td>\n",
       "      <td>-0.228413</td>\n",
       "      <td>-0.508352</td>\n",
       "      <td>-0.286844</td>\n",
       "      <td>-0.175067</td>\n",
       "      <td>-0.401804</td>\n",
       "    </tr>\n",
       "    <tr>\n",
       "      <th>17818</th>\n",
       "      <td>Childhood epilepsy</td>\n",
       "      <td>-0.249563</td>\n",
       "      <td>-0.016884</td>\n",
       "      <td>-0.459402</td>\n",
       "      <td>-0.227199</td>\n",
       "      <td>0.905198</td>\n",
       "      <td>0.043063</td>\n",
       "      <td>-0.096856</td>\n",
       "      <td>0.748580</td>\n",
       "      <td>-0.148533</td>\n",
       "      <td>...</td>\n",
       "      <td>-0.297823</td>\n",
       "      <td>0.086314</td>\n",
       "      <td>0.337602</td>\n",
       "      <td>-0.252247</td>\n",
       "      <td>0.005456</td>\n",
       "      <td>-0.003812</td>\n",
       "      <td>-0.340069</td>\n",
       "      <td>-0.440074</td>\n",
       "      <td>-0.550789</td>\n",
       "      <td>-0.702810</td>\n",
       "    </tr>\n",
       "    <tr>\n",
       "      <th>17819</th>\n",
       "      <td>Preauricular sinuses or cysts</td>\n",
       "      <td>0.119657</td>\n",
       "      <td>0.255253</td>\n",
       "      <td>0.277377</td>\n",
       "      <td>-0.218178</td>\n",
       "      <td>0.929152</td>\n",
       "      <td>0.499625</td>\n",
       "      <td>0.056369</td>\n",
       "      <td>1.383731</td>\n",
       "      <td>-0.387404</td>\n",
       "      <td>...</td>\n",
       "      <td>-0.278500</td>\n",
       "      <td>0.380420</td>\n",
       "      <td>0.756763</td>\n",
       "      <td>-0.018307</td>\n",
       "      <td>-0.408057</td>\n",
       "      <td>-0.207912</td>\n",
       "      <td>-0.678271</td>\n",
       "      <td>-0.063060</td>\n",
       "      <td>-0.275659</td>\n",
       "      <td>-0.084175</td>\n",
       "    </tr>\n",
       "  </tbody>\n",
       "</table>\n",
       "<p>17820 rows × 769 columns</p>\n",
       "</div>"
      ],
      "text/plain": [
       "                                       concept_name         0         1  \\\n",
       "0      1-Methyl-4-phenyl-1,2,3,6-tetrahydropyridine  0.039947  0.140954   \n",
       "1                       1-Methyl-4-phenylpyridinium  0.381213  0.021037   \n",
       "2                    3,4-Dihydroxyphenylacetic Acid  0.171835 -0.114181   \n",
       "3               pyrithione zinc 1 % TOPICAL SHAMPOO  0.241237  0.200548   \n",
       "4                                     dalfampridine -0.058877 -0.604588   \n",
       "...                                             ...       ...       ...   \n",
       "17815                             Autistic symptoms -0.551843 -0.047219   \n",
       "17816                           Small size at birth -0.649714 -0.323830   \n",
       "17817            Autism or autism spectrum disorder  0.321699  0.568425   \n",
       "17818                            Childhood epilepsy -0.249563 -0.016884   \n",
       "17819                 Preauricular sinuses or cysts  0.119657  0.255253   \n",
       "\n",
       "              2         3         4         5         6         7         8  \\\n",
       "0      0.112286  0.019872 -0.627875 -0.140577  0.265062 -0.083067  0.147241   \n",
       "1      0.062805 -0.061094 -0.553361 -0.300442  0.249189 -0.332862  0.221136   \n",
       "2      0.318304  0.050699 -0.267773 -0.190374  0.147208  0.094964  0.007978   \n",
       "3     -0.288182  0.026677  0.260056  0.030032  0.483646  0.125540  0.379671   \n",
       "4     -0.206819 -0.186415  0.075803 -0.584705  0.222073  0.177960 -0.130236   \n",
       "...         ...       ...       ...       ...       ...       ...       ...   \n",
       "17815  0.370944 -0.351795  0.676788  0.112030  0.460379  1.037875 -0.871300   \n",
       "17816 -0.414301 -0.658360  0.316826  0.155497  0.037140  0.983196 -0.379999   \n",
       "17817 -0.042600 -0.629903  0.768433  0.176140  0.331890  1.196353 -1.236493   \n",
       "17818 -0.459402 -0.227199  0.905198  0.043063 -0.096856  0.748580 -0.148533   \n",
       "17819  0.277377 -0.218178  0.929152  0.499625  0.056369  1.383731 -0.387404   \n",
       "\n",
       "       ...       758       759       760       761       762       763  \\\n",
       "0      ... -0.444273 -0.129947 -0.134103 -0.280778 -0.013810 -0.340783   \n",
       "1      ... -0.361582 -0.275238 -0.059798  0.296815  0.187730  0.084299   \n",
       "2      ... -0.517286 -0.011329  0.074155  0.210840 -0.050799 -0.191697   \n",
       "3      ... -0.180128 -0.358755  0.051714  0.283720  0.347812 -0.109365   \n",
       "4      ...  0.234394 -0.276867 -0.082531  0.517761  0.217361  0.455573   \n",
       "...    ...       ...       ...       ...       ...       ...       ...   \n",
       "17815  ...  0.124645  0.209162  0.314340  0.079829 -0.261706 -0.279989   \n",
       "17816  ... -0.043060 -0.135122  0.691281  0.282643 -0.433693 -0.373392   \n",
       "17817  ... -0.216357  0.000727  0.521696 -0.216283 -0.131417 -0.228413   \n",
       "17818  ... -0.297823  0.086314  0.337602 -0.252247  0.005456 -0.003812   \n",
       "17819  ... -0.278500  0.380420  0.756763 -0.018307 -0.408057 -0.207912   \n",
       "\n",
       "            764       765       766       767  \n",
       "0      0.322789 -0.312991  0.317635  0.460104  \n",
       "1      0.269819 -0.218715  0.139012  0.597568  \n",
       "2      0.219117 -0.474767  0.070690  0.468977  \n",
       "3     -0.440637 -0.548938 -0.322496  0.481040  \n",
       "4     -0.094413 -0.332777 -0.164161  0.802149  \n",
       "...         ...       ...       ...       ...  \n",
       "17815 -0.782161 -0.272435 -0.170435 -0.658430  \n",
       "17816  0.052395 -0.240808 -0.344765  0.143974  \n",
       "17817 -0.508352 -0.286844 -0.175067 -0.401804  \n",
       "17818 -0.340069 -0.440074 -0.550789 -0.702810  \n",
       "17819 -0.678271 -0.063060 -0.275659 -0.084175  \n",
       "\n",
       "[17820 rows x 769 columns]"
      ]
     },
     "execution_count": 65,
     "metadata": {},
     "output_type": "execute_result"
    }
   ],
   "source": [
    "#for model_name, model in models.items():\n",
    "#    concepts_emb_pretrained = return_embeddings_for_concepts(concepts['concept_name'],model_pretrained)\n",
    "#    concepts_emb_pretrained['concept_name'] = concepts['concept_name']\n",
    "#    concepts_emb_pretrained[['concept_name'] + list(range(len(concepts_emb_pretrained.columns)-1))]\n",
    "#    basename = os.path.basename(file).replace('.csv',f'_{model_name}.csv')\n",
    "#    concepts_emb_pretrained.to_csv(f'../results/embeddings/concepts_emb_{model_name}.csv', index=False)"
   ]
  },
  {
   "cell_type": "code",
   "execution_count": 67,
   "metadata": {},
   "outputs": [],
   "source": []
  },
  {
   "cell_type": "code",
   "execution_count": null,
   "metadata": {},
   "outputs": [],
   "source": []
  }
 ],
 "metadata": {
  "kernelspec": {
   "display_name": "Python 3 (ipykernel)",
   "language": "python",
   "name": "python3"
  },
  "language_info": {
   "codemirror_mode": {
    "name": "ipython",
    "version": 3
   },
   "file_extension": ".py",
   "mimetype": "text/x-python",
   "name": "python",
   "nbconvert_exporter": "python",
   "pygments_lexer": "ipython3",
   "version": "3.9.14"
  }
 },
 "nbformat": 4,
 "nbformat_minor": 4
}
