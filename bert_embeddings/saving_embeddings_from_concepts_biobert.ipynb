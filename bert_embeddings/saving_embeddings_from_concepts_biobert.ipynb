{
 "cells": [
  {
   "cell_type": "code",
   "execution_count": 13,
   "metadata": {},
   "outputs": [],
   "source": [
    "import pandas as pd\n",
    "import numpy as np\n",
    "import sys\n",
    "import tqdm\n",
    "import os\n",
    "import glob"
   ]
  },
  {
   "cell_type": "code",
   "execution_count": 14,
   "metadata": {},
   "outputs": [],
   "source": [
    "try:\n",
    "    import google.colab\n",
    "    colab = True\n",
    "    from google.colab import drive\n",
    "    drive.mount('/content/drive')\n",
    "    \n",
    "    fine_tuned_filepath = '/content/drive/MyDrive/NLP_files/mybert.pickle'\n",
    "    concepts_filepath = '/content/drive/MyDrive/NLP_files/concepts_strings_with_ids.csv'\n",
    "    embeddings_output_filepath = '/content/drive/MyDrive/NLP_files/concepts_embeddings.csv'\n",
    "    device_name = 'cuda'\n",
    "    sys.path.append('/content/drive/MyDrive/NLP/bert_embeddings')\n",
    "    print(sys.path[-1])\n",
    "except ImportError:\n",
    "    colab = False\n",
    "    fine_tuned_filepath = '../models/mybert.pickle'\n",
    "    concepts_filepath = '../data/concepts_strings_with_ids.csv'\n",
    "    embeddings_output_filepath = '../results/embeddings/concepts_embeddings.csv'\n",
    "    device_name = 'cpu'\n",
    "from emb_helpers import * \n"
   ]
  },
  {
   "cell_type": "code",
   "execution_count": 15,
   "metadata": {},
   "outputs": [],
   "source": [
    "!pip install transformers"
   ]
  },
  {
   "cell_type": "code",
   "execution_count": 16,
   "metadata": {},
   "outputs": [],
   "source": [
    "!rm -R /content/drive/MyDrive/NLP\n",
    "!git clone https://github.com/hadaszm/NLP.git /content/drive/MyDrive/NLP"
   ]
  },
  {
   "cell_type": "code",
   "execution_count": 24,
   "metadata": {},
   "outputs": [],
   "source": [
    "from transformers import AutoTokenizer, AutoModel\n",
    "\n",
    "biobert = AutoModel.from_pretrained(\"dmis-lab/biobert-v1.1\").to(device_name)"
   ]
  },
  {
   "cell_type": "code",
   "execution_count": 23,
   "metadata": {},
   "outputs": [
    {
     "name": "stdout",
     "output_type": "stream",
     "text": [
      "../results/embeddings/concepts_embeddings_ids_biobert.csv\n",
      "../results/embeddings/concepts_embeddings_0_biobert.csv\n",
      "../results/embeddings/concepts_embeddings_1_biobert.csv\n",
      "../results/embeddings/concepts_embeddings_10_biobert.csv\n",
      "../results/embeddings/concepts_embeddings_2_biobert.csv\n",
      "../results/embeddings/concepts_embeddings_3_biobert.csv\n",
      "../results/embeddings/concepts_embeddings_4_biobert.csv\n",
      "../results/embeddings/concepts_embeddings_5_biobert.csv\n",
      "../results/embeddings/concepts_embeddings_6_biobert.csv\n",
      "../results/embeddings/concepts_embeddings_7_biobert.csv\n",
      "../results/embeddings/concepts_embeddings_8_biobert.csv\n",
      "../results/embeddings/concepts_embeddings_9_biobert.csv\n"
     ]
    }
   ],
   "source": [
    "for file in glob.glob(os.path.join(os.path.dirname(concepts_filepath), os.path.basename(concepts_filepath).replace('.csv', '*.csv'))):\n",
    "    print(file)\n",
    "    output_filename = embeddings_output_filepath.replace('.csv',f'_{id_}_biobert.csv')\n",
    "    if os.path.exists(output_filename): \n",
    "        continue\n",
    "    concepts = pd.read_csv(file)\n",
    "    concepts_emb = return_embeddings_for_concepts(concepts['best_string'], biobert)\n",
    "    concepts_emb['concept_name'] = concepts['STR']\n",
    "    concepts_emb[['concept_name'] + list(range(len(concepts_emb.columns)-1))]\n",
    "    id_ = file.split('_')[-1].replace('.csv', '')\n",
    "    concepts_emb.to_csv(output_filename, index=False)"
   ]
  },
  {
   "cell_type": "code",
   "execution_count": null,
   "metadata": {},
   "outputs": [],
   "source": []
  }
 ],
 "metadata": {
  "kernelspec": {
   "display_name": "Python 3 (ipykernel)",
   "language": "python",
   "name": "python3"
  },
  "language_info": {
   "codemirror_mode": {
    "name": "ipython",
    "version": 3
   },
   "file_extension": ".py",
   "mimetype": "text/x-python",
   "name": "python",
   "nbconvert_exporter": "python",
   "pygments_lexer": "ipython3",
   "version": "3.9.14"
  }
 },
 "nbformat": 4,
 "nbformat_minor": 4
}
