{
 "cells": [
  {
   "cell_type": "code",
   "execution_count": 1,
   "metadata": {},
   "outputs": [],
   "source": [
    "import pandas as pd\n",
    "import numpy as np\n",
    "import sys\n",
    "import tqdm\n",
    "import os\n",
    "import glob"
   ]
  },
  {
   "cell_type": "code",
   "execution_count": 2,
   "metadata": {},
   "outputs": [],
   "source": [
    "try:\n",
    "    import google.colab\n",
    "    colab = True\n",
    "    from google.colab import drive\n",
    "    drive.mount('/content/drive')\n",
    "    \n",
    "    fine_tuned_filepath = '/content/drive/MyDrive/NLP_files/mybert.pickle'\n",
    "    concepts_filepath = '/content/drive/MyDrive/NLP_files/concepts_strings_with_ids.csv'\n",
    "    embeddings_output_filepath = '/content/drive/MyDrive/NLP_files/concepts_embeddings.csv'\n",
    "    device_name = 'cuda'\n",
    "    sys.path.append('/content/drive/MyDrive/NLP/bert_embeddings')\n",
    "    print(sys.path[-1])\n",
    "except ImportError:\n",
    "    colab = False\n",
    "    fine_tuned_filepath = '../models/mybert.pickle'\n",
    "    concepts_filepath = '../data/concepts_strings_with_ids.csv'\n",
    "    embeddings_output_filepath = '../results/embeddings/concepts_embeddings.csv'\n",
    "    device_name = 'cpu'\n",
    "from emb_helpers import * \n"
   ]
  },
  {
   "cell_type": "code",
   "execution_count": 3,
   "metadata": {},
   "outputs": [],
   "source": [
    "#!pip install transformers"
   ]
  },
  {
   "cell_type": "code",
   "execution_count": 4,
   "metadata": {},
   "outputs": [],
   "source": [
    "#!rm -R /content/drive/MyDrive/NLP\n",
    "#!git clone https://github.com/hadaszm/NLP.git /content/drive/MyDrive/NLP"
   ]
  },
  {
   "cell_type": "code",
   "execution_count": 5,
   "metadata": {},
   "outputs": [],
   "source": [
    "#!pip install nlu\n",
    "#!pip install pyspark==3.0.2\n",
    "\n"
   ]
  },
  {
   "cell_type": "code",
   "execution_count": 9,
   "metadata": {},
   "outputs": [],
   "source": [
    "concepts = pd.read_csv(concepts_filepath)"
   ]
  },
  {
   "cell_type": "code",
   "execution_count": 11,
   "metadata": {},
   "outputs": [
    {
     "name": "stderr",
     "output_type": "stream",
     "text": [
      "Downloading: 100%|██████████████████████████████████████████████████████████████████| 433M/433M [01:01<00:00, 7.08MB/s]\n"
     ]
    }
   ],
   "source": [
    "from transformers import AutoTokenizer, AutoModel\n",
    "\n",
    "biobert = AutoModel.from_pretrained(\"dmis-lab/biobert-v1.1\")"
   ]
  },
  {
   "cell_type": "code",
   "execution_count": 12,
   "metadata": {},
   "outputs": [
    {
     "name": "stderr",
     "output_type": "stream",
     "text": [
      "  0%|                                                                           | 2/1073954 [00:00<18:44:16, 15.92it/s]"
     ]
    },
    {
     "name": "stdout",
     "output_type": "stream",
     "text": [
      "torch.Size([1, 11])\n",
      "torch.Size([1, 6])\n",
      "torch.Size([1, 6])\n",
      "torch.Size([1, 6])\n",
      "torch.Size([1, 12])\n"
     ]
    },
    {
     "name": "stderr",
     "output_type": "stream",
     "text": [
      "  0%|                                                                           | 8/1073954 [00:00<12:29:54, 23.87it/s]"
     ]
    },
    {
     "name": "stdout",
     "output_type": "stream",
     "text": [
      "torch.Size([1, 11])\n",
      "torch.Size([1, 8])\n",
      "torch.Size([1, 8])\n",
      "torch.Size([1, 13])\n",
      "torch.Size([1, 6])\n",
      "torch.Size([1, 7])\n"
     ]
    },
    {
     "name": "stderr",
     "output_type": "stream",
     "text": [
      "  0%|                                                                          | 14/1073954 [00:00<11:45:36, 25.37it/s]"
     ]
    },
    {
     "name": "stdout",
     "output_type": "stream",
     "text": [
      "torch.Size([1, 8])\n",
      "torch.Size([1, 7])\n",
      "torch.Size([1, 9])\n",
      "torch.Size([1, 9])\n",
      "torch.Size([1, 4])\n",
      "torch.Size([1, 3])\n",
      "torch.Size([1, 5])\n"
     ]
    },
    {
     "name": "stderr",
     "output_type": "stream",
     "text": [
      "  0%|                                                                          | 21/1073954 [00:00<11:06:03, 26.87it/s]"
     ]
    },
    {
     "name": "stdout",
     "output_type": "stream",
     "text": [
      "torch.Size([1, 7])\n",
      "torch.Size([1, 16])\n",
      "torch.Size([1, 6])\n",
      "torch.Size([1, 5])\n",
      "torch.Size([1, 9])\n",
      "torch.Size([1, 13])\n"
     ]
    },
    {
     "name": "stderr",
     "output_type": "stream",
     "text": [
      "  0%|                                                                          | 27/1073954 [00:01<12:01:30, 24.81it/s]"
     ]
    },
    {
     "name": "stdout",
     "output_type": "stream",
     "text": [
      "torch.Size([1, 14])\n",
      "torch.Size([1, 8])\n",
      "torch.Size([1, 18])\n",
      "torch.Size([1, 7])\n",
      "torch.Size([1, 17])\n"
     ]
    },
    {
     "name": "stderr",
     "output_type": "stream",
     "text": [
      "  0%|                                                                          | 33/1073954 [00:01<12:06:55, 24.62it/s]"
     ]
    },
    {
     "name": "stdout",
     "output_type": "stream",
     "text": [
      "torch.Size([1, 10])\n",
      "torch.Size([1, 5])\n",
      "torch.Size([1, 16])\n",
      "torch.Size([1, 7])\n",
      "torch.Size([1, 8])\n",
      "torch.Size([1, 11])\n"
     ]
    },
    {
     "name": "stderr",
     "output_type": "stream",
     "text": [
      "  0%|                                                                          | 39/1073954 [00:01<11:53:54, 25.07it/s]"
     ]
    },
    {
     "name": "stdout",
     "output_type": "stream",
     "text": [
      "torch.Size([1, 6])\n",
      "torch.Size([1, 9])\n",
      "torch.Size([1, 11])\n",
      "torch.Size([1, 10])\n",
      "torch.Size([1, 7])\n",
      "torch.Size([1, 7])\n"
     ]
    },
    {
     "name": "stderr",
     "output_type": "stream",
     "text": [
      "  0%|                                                                          | 45/1073954 [00:01<11:18:19, 26.39it/s]"
     ]
    },
    {
     "name": "stdout",
     "output_type": "stream",
     "text": [
      "torch.Size([1, 8])\n",
      "torch.Size([1, 9])\n",
      "torch.Size([1, 10])\n",
      "torch.Size([1, 5])\n",
      "torch.Size([1, 7])\n",
      "torch.Size([1, 5])\n"
     ]
    },
    {
     "name": "stderr",
     "output_type": "stream",
     "text": [
      "  0%|                                                                          | 51/1073954 [00:02<11:21:43, 26.25it/s]"
     ]
    },
    {
     "name": "stdout",
     "output_type": "stream",
     "text": [
      "torch.Size([1, 7])\n",
      "torch.Size([1, 6])\n",
      "torch.Size([1, 10])\n",
      "torch.Size([1, 18])\n",
      "torch.Size([1, 9])\n",
      "torch.Size([1, 4])\n"
     ]
    },
    {
     "name": "stderr",
     "output_type": "stream",
     "text": [
      "  0%|                                                                          | 58/1073954 [00:02<10:41:07, 27.92it/s]"
     ]
    },
    {
     "name": "stdout",
     "output_type": "stream",
     "text": [
      "torch.Size([1, 10])\n",
      "torch.Size([1, 6])\n",
      "torch.Size([1, 6])\n",
      "torch.Size([1, 6])\n",
      "torch.Size([1, 8])\n",
      "torch.Size([1, 7])\n"
     ]
    },
    {
     "name": "stderr",
     "output_type": "stream",
     "text": [
      "  0%|                                                                          | 64/1073954 [00:02<10:40:14, 27.96it/s]"
     ]
    },
    {
     "name": "stdout",
     "output_type": "stream",
     "text": [
      "torch.Size([1, 8])\n",
      "torch.Size([1, 5])\n",
      "torch.Size([1, 7])\n",
      "torch.Size([1, 6])\n",
      "torch.Size([1, 11])\n",
      "torch.Size([1, 4])\n",
      "torch.Size([1, 6])\n"
     ]
    },
    {
     "name": "stderr",
     "output_type": "stream",
     "text": [
      "\r",
      "  0%|                                                                          | 68/1073954 [00:02<10:33:59, 28.23it/s]"
     ]
    },
    {
     "name": "stdout",
     "output_type": "stream",
     "text": [
      "torch.Size([1, 9])\n",
      "torch.Size([1, 11])\n",
      "torch.Size([1, 6])\n",
      "torch.Size([1, 7])\n",
      "torch.Size([1, 5])\n",
      "torch.Size([1, 9])\n"
     ]
    },
    {
     "name": "stderr",
     "output_type": "stream",
     "text": [
      "  0%|                                                                           | 76/1073954 [00:02<9:55:55, 30.03it/s]"
     ]
    },
    {
     "name": "stdout",
     "output_type": "stream",
     "text": [
      "torch.Size([1, 6])\n",
      "torch.Size([1, 5])\n",
      "torch.Size([1, 4])\n",
      "torch.Size([1, 6])\n",
      "torch.Size([1, 9])\n",
      "torch.Size([1, 4])\n",
      "torch.Size([1, 5])\n"
     ]
    },
    {
     "name": "stderr",
     "output_type": "stream",
     "text": [
      "  0%|                                                                          | 83/1073954 [00:03<10:08:58, 29.39it/s]"
     ]
    },
    {
     "name": "stdout",
     "output_type": "stream",
     "text": [
      "torch.Size([1, 10])\n",
      "torch.Size([1, 7])\n",
      "torch.Size([1, 10])\n",
      "torch.Size([1, 5])\n",
      "torch.Size([1, 6])\n",
      "torch.Size([1, 7])\n"
     ]
    },
    {
     "name": "stderr",
     "output_type": "stream",
     "text": [
      "  0%|                                                                          | 90/1073954 [00:03<10:01:34, 29.75it/s]"
     ]
    },
    {
     "name": "stdout",
     "output_type": "stream",
     "text": [
      "torch.Size([1, 11])\n",
      "torch.Size([1, 5])\n",
      "torch.Size([1, 7])\n",
      "torch.Size([1, 7])\n",
      "torch.Size([1, 6])\n",
      "torch.Size([1, 3])\n",
      "torch.Size([1, 11])\n"
     ]
    },
    {
     "name": "stderr",
     "output_type": "stream",
     "text": [
      "  0%|                                                                          | 96/1073954 [00:03<10:29:00, 28.45it/s]"
     ]
    },
    {
     "name": "stdout",
     "output_type": "stream",
     "text": [
      "torch.Size([1, 7])\n",
      "torch.Size([1, 10])\n",
      "torch.Size([1, 7])\n",
      "torch.Size([1, 6])\n",
      "torch.Size([1, 9])\n",
      "torch.Size([1, 9])\n"
     ]
    },
    {
     "name": "stderr",
     "output_type": "stream",
     "text": [
      "  0%|                                                                         | 103/1073954 [00:03<10:11:47, 29.25it/s]"
     ]
    },
    {
     "name": "stdout",
     "output_type": "stream",
     "text": [
      "torch.Size([1, 9])\n",
      "torch.Size([1, 7])\n",
      "torch.Size([1, 3])\n",
      "torch.Size([1, 6])\n",
      "torch.Size([1, 7])\n",
      "torch.Size([1, 5])\n",
      "torch.Size([1, 8])\n"
     ]
    },
    {
     "name": "stderr",
     "output_type": "stream",
     "text": [
      "  0%|                                                                         | 109/1073954 [00:04<10:28:16, 28.49it/s]"
     ]
    },
    {
     "name": "stdout",
     "output_type": "stream",
     "text": [
      "torch.Size([1, 12])\n",
      "torch.Size([1, 5])\n",
      "torch.Size([1, 8])\n",
      "torch.Size([1, 9])\n",
      "torch.Size([1, 9])\n",
      "torch.Size([1, 8])\n"
     ]
    },
    {
     "name": "stderr",
     "output_type": "stream",
     "text": [
      "  0%|                                                                          | 116/1073954 [00:04<9:53:36, 30.15it/s]"
     ]
    },
    {
     "name": "stdout",
     "output_type": "stream",
     "text": [
      "torch.Size([1, 5])\n",
      "torch.Size([1, 4])\n",
      "torch.Size([1, 4])\n",
      "torch.Size([1, 4])\n",
      "torch.Size([1, 4])\n",
      "torch.Size([1, 7])\n",
      "torch.Size([1, 7])\n"
     ]
    },
    {
     "name": "stderr",
     "output_type": "stream",
     "text": [
      "\r",
      "  0%|                                                                          | 120/1073954 [00:04<9:52:07, 30.23it/s]"
     ]
    },
    {
     "name": "stdout",
     "output_type": "stream",
     "text": [
      "torch.Size([1, 7])\n",
      "torch.Size([1, 6])\n",
      "torch.Size([1, 11])\n",
      "torch.Size([1, 11])\n",
      "torch.Size([1, 6])\n",
      "torch.Size([1, 7])\n"
     ]
    },
    {
     "name": "stderr",
     "output_type": "stream",
     "text": [
      "  0%|                                                                         | 128/1073954 [00:04<10:05:20, 29.57it/s]"
     ]
    },
    {
     "name": "stdout",
     "output_type": "stream",
     "text": [
      "torch.Size([1, 6])\n",
      "torch.Size([1, 8])\n",
      "torch.Size([1, 6])\n",
      "torch.Size([1, 6])\n",
      "torch.Size([1, 5])\n",
      "torch.Size([1, 4])\n",
      "torch.Size([1, 7])\n"
     ]
    },
    {
     "name": "stderr",
     "output_type": "stream",
     "text": [
      "  0%|                                                                          | 136/1073954 [00:04<9:45:26, 30.57it/s]"
     ]
    },
    {
     "name": "stdout",
     "output_type": "stream",
     "text": [
      "torch.Size([1, 7])\n",
      "torch.Size([1, 4])\n",
      "torch.Size([1, 5])\n",
      "torch.Size([1, 5])\n",
      "torch.Size([1, 12])\n",
      "torch.Size([1, 5])\n",
      "torch.Size([1, 7])\n"
     ]
    },
    {
     "name": "stderr",
     "output_type": "stream",
     "text": [
      "\r",
      "  0%|                                                                         | 140/1073954 [00:05<10:03:05, 29.67it/s]"
     ]
    },
    {
     "name": "stdout",
     "output_type": "stream",
     "text": [
      "torch.Size([1, 5])\n",
      "torch.Size([1, 13])\n",
      "torch.Size([1, 6])\n",
      "torch.Size([1, 6])\n",
      "torch.Size([1, 5])\n",
      "torch.Size([1, 6])\n"
     ]
    },
    {
     "name": "stderr",
     "output_type": "stream",
     "text": [
      "  0%|                                                                         | 147/1073954 [00:05<10:18:05, 28.96it/s]"
     ]
    },
    {
     "name": "stdout",
     "output_type": "stream",
     "text": [
      "torch.Size([1, 5])\n",
      "torch.Size([1, 8])\n",
      "torch.Size([1, 11])\n",
      "torch.Size([1, 5])\n",
      "torch.Size([1, 6])\n",
      "torch.Size([1, 6])\n",
      "torch.Size([1, 13])\n"
     ]
    },
    {
     "name": "stderr",
     "output_type": "stream",
     "text": [
      "  0%|                                                                         | 155/1073954 [00:05<10:14:25, 29.13it/s]"
     ]
    },
    {
     "name": "stdout",
     "output_type": "stream",
     "text": [
      "torch.Size([1, 6])\n",
      "torch.Size([1, 5])\n",
      "torch.Size([1, 6])\n",
      "torch.Size([1, 9])\n",
      "torch.Size([1, 6])\n",
      "torch.Size([1, 13])\n"
     ]
    },
    {
     "name": "stderr",
     "output_type": "stream",
     "text": [
      "  0%|                                                                         | 162/1073954 [00:05<10:28:39, 28.47it/s]"
     ]
    },
    {
     "name": "stdout",
     "output_type": "stream",
     "text": [
      "torch.Size([1, 12])\n",
      "torch.Size([1, 6])\n",
      "torch.Size([1, 5])\n",
      "torch.Size([1, 6])\n",
      "torch.Size([1, 10])\n"
     ]
    },
    {
     "name": "stderr",
     "output_type": "stream",
     "text": [
      "\r",
      "  0%|                                                                         | 165/1073954 [00:05<10:41:47, 27.89it/s]"
     ]
    },
    {
     "name": "stdout",
     "output_type": "stream",
     "text": [
      "torch.Size([1, 10])\n",
      "torch.Size([1, 6])\n",
      "torch.Size([1, 8])\n",
      "torch.Size([1, 12])\n",
      "torch.Size([1, 10])\n",
      "torch.Size([1, 9])\n"
     ]
    },
    {
     "name": "stderr",
     "output_type": "stream",
     "text": [
      "  0%|                                                                         | 172/1073954 [00:06<10:35:32, 28.16it/s]"
     ]
    },
    {
     "name": "stdout",
     "output_type": "stream",
     "text": [
      "torch.Size([1, 9])\n",
      "torch.Size([1, 5])\n",
      "torch.Size([1, 6])\n",
      "torch.Size([1, 7])\n",
      "torch.Size([1, 6])\n",
      "torch.Size([1, 6])\n",
      "torch.Size([1, 7])\n"
     ]
    },
    {
     "name": "stderr",
     "output_type": "stream",
     "text": [
      "  0%|                                                                         | 179/1073954 [00:06<10:32:25, 28.30it/s]"
     ]
    },
    {
     "name": "stdout",
     "output_type": "stream",
     "text": [
      "torch.Size([1, 5])\n",
      "torch.Size([1, 10])\n",
      "torch.Size([1, 6])\n",
      "torch.Size([1, 10])\n",
      "torch.Size([1, 9])\n",
      "torch.Size([1, 4])\n"
     ]
    },
    {
     "name": "stderr",
     "output_type": "stream",
     "text": [
      "  0%|                                                                         | 185/1073954 [00:06<11:24:56, 26.13it/s]"
     ]
    },
    {
     "name": "stdout",
     "output_type": "stream",
     "text": [
      "torch.Size([1, 8])\n",
      "torch.Size([1, 13])\n",
      "torch.Size([1, 12])\n",
      "torch.Size([1, 15])\n",
      "torch.Size([1, 5])\n",
      "torch.Size([1, 5])\n"
     ]
    },
    {
     "name": "stderr",
     "output_type": "stream",
     "text": [
      "  0%|                                                                         | 192/1073954 [00:06<10:54:56, 27.32it/s]"
     ]
    },
    {
     "name": "stdout",
     "output_type": "stream",
     "text": [
      "torch.Size([1, 6])\n",
      "torch.Size([1, 3])\n",
      "torch.Size([1, 9])\n",
      "torch.Size([1, 5])\n",
      "torch.Size([1, 16])\n"
     ]
    },
    {
     "name": "stderr",
     "output_type": "stream",
     "text": [
      "  0%|                                                                         | 198/1073954 [00:07<10:41:46, 27.88it/s]"
     ]
    },
    {
     "name": "stdout",
     "output_type": "stream",
     "text": [
      "torch.Size([1, 10])\n",
      "torch.Size([1, 5])\n",
      "torch.Size([1, 7])\n",
      "torch.Size([1, 11])\n",
      "torch.Size([1, 6])\n",
      "torch.Size([1, 5])\n"
     ]
    },
    {
     "name": "stderr",
     "output_type": "stream",
     "text": [
      "\r",
      "  0%|                                                                         | 201/1073954 [00:07<11:25:21, 26.11it/s]"
     ]
    },
    {
     "name": "stdout",
     "output_type": "stream",
     "text": [
      "torch.Size([1, 9])\n",
      "torch.Size([1, 14])\n",
      "torch.Size([1, 14])\n",
      "torch.Size([1, 9])\n",
      "torch.Size([1, 10])\n"
     ]
    },
    {
     "name": "stderr",
     "output_type": "stream",
     "text": [
      "  0%|                                                                         | 207/1073954 [00:07<12:03:23, 24.74it/s]"
     ]
    },
    {
     "name": "stdout",
     "output_type": "stream",
     "text": [
      "torch.Size([1, 7])\n",
      "torch.Size([1, 15])\n",
      "torch.Size([1, 10])\n",
      "torch.Size([1, 8])\n",
      "torch.Size([1, 8])\n"
     ]
    },
    {
     "name": "stderr",
     "output_type": "stream",
     "text": [
      "\r",
      "  0%|                                                                         | 210/1073954 [00:07<11:54:12, 25.06it/s]"
     ]
    },
    {
     "name": "stdout",
     "output_type": "stream",
     "text": [
      "torch.Size([1, 9])\n",
      "torch.Size([1, 9])\n",
      "torch.Size([1, 11])\n",
      "torch.Size([1, 7])\n",
      "torch.Size([1, 9])\n"
     ]
    },
    {
     "name": "stderr",
     "output_type": "stream",
     "text": [
      "  0%|                                                                         | 217/1073954 [00:07<10:59:10, 27.15it/s]"
     ]
    },
    {
     "name": "stdout",
     "output_type": "stream",
     "text": [
      "torch.Size([1, 5])\n",
      "torch.Size([1, 7])\n",
      "torch.Size([1, 6])\n",
      "torch.Size([1, 5])\n",
      "torch.Size([1, 9])\n",
      "torch.Size([1, 8])\n",
      "torch.Size([1, 8])\n"
     ]
    },
    {
     "name": "stderr",
     "output_type": "stream",
     "text": [
      "  0%|                                                                         | 223/1073954 [00:08<11:18:25, 26.38it/s]"
     ]
    },
    {
     "name": "stdout",
     "output_type": "stream",
     "text": [
      "torch.Size([1, 8])\n",
      "torch.Size([1, 8])\n",
      "torch.Size([1, 14])\n",
      "torch.Size([1, 8])\n",
      "torch.Size([1, 10])\n",
      "torch.Size([1, 6])\n"
     ]
    },
    {
     "name": "stderr",
     "output_type": "stream",
     "text": [
      "  0%|                                                                         | 232/1073954 [00:08<10:36:11, 28.13it/s]"
     ]
    },
    {
     "name": "stdout",
     "output_type": "stream",
     "text": [
      "torch.Size([1, 5])\n",
      "torch.Size([1, 7])\n",
      "torch.Size([1, 6])\n",
      "torch.Size([1, 6])\n",
      "torch.Size([1, 7])\n",
      "torch.Size([1, 7])\n"
     ]
    },
    {
     "name": "stderr",
     "output_type": "stream",
     "text": [
      "\r",
      "  0%|                                                                         | 235/1073954 [00:08<10:31:43, 28.33it/s]"
     ]
    },
    {
     "name": "stdout",
     "output_type": "stream",
     "text": [
      "torch.Size([1, 7])\n",
      "torch.Size([1, 6])\n",
      "torch.Size([1, 9])\n",
      "torch.Size([1, 16])\n",
      "torch.Size([1, 6])\n",
      "torch.Size([1, 8])\n"
     ]
    },
    {
     "name": "stderr",
     "output_type": "stream",
     "text": [
      "  0%|                                                                         | 242/1073954 [00:08<10:30:16, 28.39it/s]"
     ]
    },
    {
     "name": "stdout",
     "output_type": "stream",
     "text": [
      "torch.Size([1, 8])\n",
      "torch.Size([1, 5])\n",
      "torch.Size([1, 4])\n",
      "torch.Size([1, 5])\n",
      "torch.Size([1, 7])\n",
      "torch.Size([1, 6])\n",
      "torch.Size([1, 7])\n"
     ]
    },
    {
     "name": "stderr",
     "output_type": "stream",
     "text": [
      "  0%|                                                                         | 251/1073954 [00:09<10:22:19, 28.76it/s]"
     ]
    },
    {
     "name": "stdout",
     "output_type": "stream",
     "text": [
      "torch.Size([1, 7])\n",
      "torch.Size([1, 6])\n",
      "torch.Size([1, 10])\n",
      "torch.Size([1, 7])\n",
      "torch.Size([1, 7])\n",
      "torch.Size([1, 4])\n"
     ]
    },
    {
     "name": "stderr",
     "output_type": "stream",
     "text": [
      "\r",
      "  0%|                                                                         | 255/1073954 [00:09<10:09:30, 29.36it/s]"
     ]
    },
    {
     "name": "stdout",
     "output_type": "stream",
     "text": [
      "torch.Size([1, 4])\n",
      "torch.Size([1, 3])\n",
      "torch.Size([1, 10])\n",
      "torch.Size([1, 7])\n",
      "torch.Size([1, 8])\n",
      "torch.Size([1, 5])\n",
      "torch.Size([1, 3])\n"
     ]
    },
    {
     "name": "stderr",
     "output_type": "stream",
     "text": [
      "  0%|                                                                         | 262/1073954 [00:09<10:01:15, 29.76it/s]"
     ]
    },
    {
     "name": "stdout",
     "output_type": "stream",
     "text": [
      "torch.Size([1, 6])\n",
      "torch.Size([1, 7])\n",
      "torch.Size([1, 8])\n",
      "torch.Size([1, 5])\n",
      "torch.Size([1, 3])\n",
      "torch.Size([1, 5])\n"
     ]
    },
    {
     "name": "stderr",
     "output_type": "stream",
     "text": [
      "  0%|                                                                         | 268/1073954 [00:09<11:00:28, 27.09it/s]"
     ]
    },
    {
     "name": "stdout",
     "output_type": "stream",
     "text": [
      "torch.Size([1, 8])\n",
      "torch.Size([1, 13])\n",
      "torch.Size([1, 8])\n",
      "torch.Size([1, 9])\n",
      "torch.Size([1, 8])\n"
     ]
    },
    {
     "name": "stderr",
     "output_type": "stream",
     "text": [
      "  0%|                                                                         | 274/1073954 [00:09<10:57:06, 27.23it/s]"
     ]
    },
    {
     "name": "stdout",
     "output_type": "stream",
     "text": [
      "torch.Size([1, 6])\n",
      "torch.Size([1, 7])\n",
      "torch.Size([1, 7])\n",
      "torch.Size([1, 10])\n",
      "torch.Size([1, 10])\n"
     ]
    },
    {
     "name": "stderr",
     "output_type": "stream",
     "text": [
      "\r",
      "  0%|                                                                         | 278/1073954 [00:10<10:28:00, 28.49it/s]"
     ]
    },
    {
     "name": "stdout",
     "output_type": "stream",
     "text": [
      "torch.Size([1, 6])\n",
      "torch.Size([1, 3])\n",
      "torch.Size([1, 6])\n",
      "torch.Size([1, 8])\n",
      "torch.Size([1, 10])\n",
      "torch.Size([1, 6])\n",
      "torch.Size([1, 7])\n"
     ]
    },
    {
     "name": "stderr",
     "output_type": "stream",
     "text": [
      "  0%|                                                                         | 284/1073954 [00:10<11:51:43, 25.14it/s]"
     ]
    },
    {
     "name": "stdout",
     "output_type": "stream",
     "text": [
      "torch.Size([1, 6])\n",
      "torch.Size([1, 11])\n",
      "torch.Size([1, 6])\n",
      "torch.Size([1, 8])\n",
      "torch.Size([1, 5])\n"
     ]
    },
    {
     "name": "stderr",
     "output_type": "stream",
     "text": [
      "  0%|                                                                         | 290/1073954 [00:10<11:02:20, 27.02it/s]"
     ]
    },
    {
     "name": "stdout",
     "output_type": "stream",
     "text": [
      "torch.Size([1, 8])\n",
      "torch.Size([1, 5])\n",
      "torch.Size([1, 8])\n",
      "torch.Size([1, 6])\n",
      "torch.Size([1, 4])\n",
      "torch.Size([1, 6])\n"
     ]
    },
    {
     "name": "stderr",
     "output_type": "stream",
     "text": [
      "  0%|                                                                         | 297/1073954 [00:10<10:28:47, 28.46it/s]"
     ]
    },
    {
     "name": "stdout",
     "output_type": "stream",
     "text": [
      "torch.Size([1, 6])\n",
      "torch.Size([1, 6])\n",
      "torch.Size([1, 12])\n",
      "torch.Size([1, 5])\n",
      "torch.Size([1, 7])\n",
      "torch.Size([1, 4])\n",
      "torch.Size([1, 8])\n"
     ]
    },
    {
     "name": "stderr",
     "output_type": "stream",
     "text": [
      "  0%|                                                                         | 303/1073954 [00:10<10:23:34, 28.70it/s]"
     ]
    },
    {
     "name": "stdout",
     "output_type": "stream",
     "text": [
      "torch.Size([1, 9])\n",
      "torch.Size([1, 6])\n",
      "torch.Size([1, 8])\n",
      "torch.Size([1, 7])\n",
      "torch.Size([1, 7])\n",
      "torch.Size([1, 11])\n"
     ]
    },
    {
     "name": "stderr",
     "output_type": "stream",
     "text": [
      "  0%|                                                                         | 310/1073954 [00:11<10:09:56, 29.34it/s]"
     ]
    },
    {
     "name": "stdout",
     "output_type": "stream",
     "text": [
      "torch.Size([1, 7])\n",
      "torch.Size([1, 6])\n",
      "torch.Size([1, 4])\n",
      "torch.Size([1, 5])\n",
      "torch.Size([1, 4])\n",
      "torch.Size([1, 5])\n",
      "torch.Size([1, 6])\n"
     ]
    },
    {
     "name": "stderr",
     "output_type": "stream",
     "text": [
      "  0%|                                                                         | 317/1073954 [00:11<10:07:03, 29.48it/s]"
     ]
    },
    {
     "name": "stdout",
     "output_type": "stream",
     "text": [
      "torch.Size([1, 8])\n",
      "torch.Size([1, 7])\n",
      "torch.Size([1, 10])\n",
      "torch.Size([1, 4])\n",
      "torch.Size([1, 6])\n",
      "torch.Size([1, 6])\n"
     ]
    },
    {
     "name": "stderr",
     "output_type": "stream",
     "text": [
      "\r",
      "  0%|                                                                          | 321/1073954 [00:11<9:51:19, 30.26it/s]"
     ]
    },
    {
     "name": "stdout",
     "output_type": "stream",
     "text": [
      "torch.Size([1, 4])\n",
      "torch.Size([1, 5])\n",
      "torch.Size([1, 7])\n",
      "torch.Size([1, 5])\n",
      "torch.Size([1, 5])\n",
      "torch.Size([1, 5])\n"
     ]
    },
    {
     "name": "stderr",
     "output_type": "stream",
     "text": [
      "  0%|                                                                          | 329/1073954 [00:11<9:34:11, 31.16it/s]"
     ]
    },
    {
     "name": "stdout",
     "output_type": "stream",
     "text": [
      "torch.Size([1, 6])\n",
      "torch.Size([1, 4])\n",
      "torch.Size([1, 8])\n",
      "torch.Size([1, 4])\n",
      "torch.Size([1, 3])\n",
      "torch.Size([1, 5])\n",
      "torch.Size([1, 6])\n"
     ]
    },
    {
     "name": "stderr",
     "output_type": "stream",
     "text": [
      "\r",
      "  0%|                                                                          | 333/1073954 [00:11<9:51:50, 30.23it/s]"
     ]
    },
    {
     "name": "stdout",
     "output_type": "stream",
     "text": [
      "torch.Size([1, 9])\n",
      "torch.Size([1, 9])\n",
      "torch.Size([1, 5])\n",
      "torch.Size([1, 9])\n",
      "torch.Size([1, 18])\n"
     ]
    },
    {
     "name": "stderr",
     "output_type": "stream",
     "text": [
      "  0%|                                                                         | 340/1073954 [00:12<11:12:57, 26.59it/s]"
     ]
    },
    {
     "name": "stdout",
     "output_type": "stream",
     "text": [
      "torch.Size([1, 12])\n",
      "torch.Size([1, 11])\n",
      "torch.Size([1, 10])\n",
      "torch.Size([1, 14])\n",
      "torch.Size([1, 5])\n",
      "torch.Size([1, 8])\n"
     ]
    },
    {
     "name": "stderr",
     "output_type": "stream",
     "text": [
      "  0%|                                                                         | 346/1073954 [00:12<10:55:27, 27.30it/s]"
     ]
    },
    {
     "name": "stdout",
     "output_type": "stream",
     "text": [
      "torch.Size([1, 6])\n",
      "torch.Size([1, 7])\n",
      "torch.Size([1, 10])\n",
      "torch.Size([1, 7])\n",
      "torch.Size([1, 5])\n",
      "torch.Size([1, 9])\n",
      "torch.Size([1, 8])\n"
     ]
    },
    {
     "name": "stderr",
     "output_type": "stream",
     "text": [
      "  0%|                                                                         | 352/1073954 [00:12<10:41:56, 27.87it/s]"
     ]
    },
    {
     "name": "stdout",
     "output_type": "stream",
     "text": [
      "torch.Size([1, 4])\n",
      "torch.Size([1, 13])\n",
      "torch.Size([1, 4])\n",
      "torch.Size([1, 12])\n",
      "torch.Size([1, 7])\n",
      "torch.Size([1, 9])\n"
     ]
    },
    {
     "name": "stderr",
     "output_type": "stream",
     "text": [
      "  0%|                                                                         | 359/1073954 [00:12<10:26:54, 28.54it/s]"
     ]
    },
    {
     "name": "stdout",
     "output_type": "stream",
     "text": [
      "torch.Size([1, 5])\n",
      "torch.Size([1, 4])\n",
      "torch.Size([1, 8])\n",
      "torch.Size([1, 6])\n",
      "torch.Size([1, 3])\n",
      "torch.Size([1, 5])\n",
      "torch.Size([1, 7])\n"
     ]
    },
    {
     "name": "stderr",
     "output_type": "stream",
     "text": [
      "  0%|                                                                         | 366/1073954 [00:13<10:24:01, 28.67it/s]"
     ]
    },
    {
     "name": "stdout",
     "output_type": "stream",
     "text": [
      "torch.Size([1, 9])\n",
      "torch.Size([1, 8])\n",
      "torch.Size([1, 6])\n",
      "torch.Size([1, 6])\n",
      "torch.Size([1, 5])\n",
      "torch.Size([1, 4])\n",
      "torch.Size([1, 4])\n"
     ]
    },
    {
     "name": "stderr",
     "output_type": "stream",
     "text": [
      "  0%|                                                                         | 373/1073954 [00:13<10:03:30, 29.65it/s]"
     ]
    },
    {
     "name": "stdout",
     "output_type": "stream",
     "text": [
      "torch.Size([1, 7])\n",
      "torch.Size([1, 4])\n",
      "torch.Size([1, 5])\n",
      "torch.Size([1, 11])\n",
      "torch.Size([1, 8])\n",
      "torch.Size([1, 6])\n"
     ]
    },
    {
     "name": "stderr",
     "output_type": "stream",
     "text": [
      "  0%|                                                                         | 380/1073954 [00:13<10:31:57, 28.31it/s]"
     ]
    },
    {
     "name": "stdout",
     "output_type": "stream",
     "text": [
      "torch.Size([1, 5])\n",
      "torch.Size([1, 8])\n",
      "torch.Size([1, 8])\n",
      "torch.Size([1, 15])\n",
      "torch.Size([1, 6])\n"
     ]
    },
    {
     "name": "stderr",
     "output_type": "stream",
     "text": [
      "\r",
      "  0%|                                                                         | 383/1073954 [00:13<10:55:05, 27.31it/s]"
     ]
    },
    {
     "name": "stdout",
     "output_type": "stream",
     "text": [
      "torch.Size([1, 7])\n",
      "torch.Size([1, 11])\n",
      "torch.Size([1, 12])\n",
      "torch.Size([1, 17])\n",
      "torch.Size([1, 10])\n"
     ]
    },
    {
     "name": "stderr",
     "output_type": "stream",
     "text": [
      "  0%|                                                                         | 389/1073954 [00:13<11:25:07, 26.12it/s]"
     ]
    },
    {
     "name": "stdout",
     "output_type": "stream",
     "text": [
      "torch.Size([1, 9])\n",
      "torch.Size([1, 15])\n",
      "torch.Size([1, 5])\n",
      "torch.Size([1, 4])\n",
      "torch.Size([1, 8])\n",
      "torch.Size([1, 11])\n"
     ]
    },
    {
     "name": "stderr",
     "output_type": "stream",
     "text": [
      "  0%|                                                                         | 395/1073954 [00:14<11:29:02, 25.97it/s]"
     ]
    },
    {
     "name": "stdout",
     "output_type": "stream",
     "text": [
      "torch.Size([1, 6])\n",
      "torch.Size([1, 6])\n",
      "torch.Size([1, 10])\n",
      "torch.Size([1, 8])\n",
      "torch.Size([1, 8])\n",
      "torch.Size([1, 5])\n"
     ]
    },
    {
     "name": "stderr",
     "output_type": "stream",
     "text": [
      "  0%|                                                                         | 401/1073954 [00:14<11:00:36, 27.09it/s]"
     ]
    },
    {
     "name": "stdout",
     "output_type": "stream",
     "text": [
      "torch.Size([1, 9])\n",
      "torch.Size([1, 8])\n",
      "torch.Size([1, 5])\n",
      "torch.Size([1, 8])\n",
      "torch.Size([1, 5])\n",
      "torch.Size([1, 9])\n"
     ]
    },
    {
     "name": "stderr",
     "output_type": "stream",
     "text": [
      "  0%|                                                                         | 408/1073954 [00:14<10:38:01, 28.04it/s]"
     ]
    },
    {
     "name": "stdout",
     "output_type": "stream",
     "text": [
      "torch.Size([1, 10])\n",
      "torch.Size([1, 4])\n",
      "torch.Size([1, 5])\n",
      "torch.Size([1, 9])\n",
      "torch.Size([1, 9])\n",
      "torch.Size([1, 6])\n"
     ]
    },
    {
     "name": "stderr",
     "output_type": "stream",
     "text": [
      "  0%|                                                                         | 415/1073954 [00:14<10:08:20, 29.41it/s]"
     ]
    },
    {
     "name": "stdout",
     "output_type": "stream",
     "text": [
      "torch.Size([1, 11])\n",
      "torch.Size([1, 7])\n",
      "torch.Size([1, 5])\n",
      "torch.Size([1, 3])\n",
      "torch.Size([1, 6])\n",
      "torch.Size([1, 4])\n"
     ]
    },
    {
     "name": "stderr",
     "output_type": "stream",
     "text": [
      "\r",
      "  0%|                                                                         | 418/1073954 [00:15<10:09:34, 29.35it/s]"
     ]
    },
    {
     "name": "stdout",
     "output_type": "stream",
     "text": [
      "torch.Size([1, 8])\n",
      "torch.Size([1, 5])\n",
      "torch.Size([1, 6])\n",
      "torch.Size([1, 7])\n",
      "torch.Size([1, 7])\n",
      "torch.Size([1, 9])\n"
     ]
    },
    {
     "name": "stderr",
     "output_type": "stream",
     "text": [
      "  0%|                                                                         | 424/1073954 [00:15<10:50:53, 27.49it/s]"
     ]
    },
    {
     "name": "stdout",
     "output_type": "stream",
     "text": [
      "torch.Size([1, 10])\n",
      "torch.Size([1, 10])\n",
      "torch.Size([1, 8])\n",
      "torch.Size([1, 5])\n",
      "torch.Size([1, 4])\n",
      "torch.Size([1, 5])\n"
     ]
    },
    {
     "name": "stderr",
     "output_type": "stream",
     "text": [
      "  0%|                                                                         | 432/1073954 [00:15<10:13:53, 29.15it/s]"
     ]
    },
    {
     "name": "stdout",
     "output_type": "stream",
     "text": [
      "torch.Size([1, 7])\n",
      "torch.Size([1, 6])\n",
      "torch.Size([1, 8])\n",
      "torch.Size([1, 5])\n",
      "torch.Size([1, 8])\n",
      "torch.Size([1, 7])\n",
      "torch.Size([1, 9])\n"
     ]
    },
    {
     "name": "stderr",
     "output_type": "stream",
     "text": [
      "  0%|                                                                         | 438/1073954 [00:15<11:05:31, 26.88it/s]"
     ]
    },
    {
     "name": "stdout",
     "output_type": "stream",
     "text": [
      "torch.Size([1, 9])\n",
      "torch.Size([1, 18])\n",
      "torch.Size([1, 5])\n",
      "torch.Size([1, 10])\n",
      "torch.Size([1, 11])\n"
     ]
    },
    {
     "name": "stderr",
     "output_type": "stream",
     "text": [
      "  0%|                                                                         | 444/1073954 [00:15<11:02:44, 27.00it/s]"
     ]
    },
    {
     "name": "stdout",
     "output_type": "stream",
     "text": [
      "torch.Size([1, 4])\n",
      "torch.Size([1, 7])\n",
      "torch.Size([1, 8])\n",
      "torch.Size([1, 8])\n",
      "torch.Size([1, 6])\n",
      "torch.Size([1, 6])\n",
      "torch.Size([1, 6])\n"
     ]
    },
    {
     "name": "stderr",
     "output_type": "stream",
     "text": [
      "  0%|                                                                         | 451/1073954 [00:16<10:31:18, 28.34it/s]"
     ]
    },
    {
     "name": "stdout",
     "output_type": "stream",
     "text": [
      "torch.Size([1, 4])\n",
      "torch.Size([1, 4])\n",
      "torch.Size([1, 10])\n",
      "torch.Size([1, 4])\n",
      "torch.Size([1, 8])\n",
      "torch.Size([1, 5])\n",
      "torch.Size([1, 5])\n"
     ]
    },
    {
     "name": "stderr",
     "output_type": "stream",
     "text": [
      "  0%|                                                                         | 458/1073954 [00:16<10:45:31, 27.72it/s]"
     ]
    },
    {
     "name": "stdout",
     "output_type": "stream",
     "text": [
      "torch.Size([1, 7])\n",
      "torch.Size([1, 6])\n",
      "torch.Size([1, 14])\n",
      "torch.Size([1, 8])\n",
      "torch.Size([1, 6])\n"
     ]
    },
    {
     "name": "stderr",
     "output_type": "stream",
     "text": [
      "\r",
      "  0%|                                                                         | 462/1073954 [00:16<10:28:28, 28.47it/s]"
     ]
    },
    {
     "name": "stdout",
     "output_type": "stream",
     "text": [
      "torch.Size([1, 8])\n",
      "torch.Size([1, 5])\n",
      "torch.Size([1, 5])\n",
      "torch.Size([1, 7])\n",
      "torch.Size([1, 5])\n",
      "torch.Size([1, 6])\n"
     ]
    },
    {
     "name": "stderr",
     "output_type": "stream",
     "text": [
      "  0%|                                                                         | 468/1073954 [00:16<10:33:58, 28.22it/s]"
     ]
    },
    {
     "name": "stdout",
     "output_type": "stream",
     "text": [
      "torch.Size([1, 6])\n",
      "torch.Size([1, 6])\n",
      "torch.Size([1, 7])\n",
      "torch.Size([1, 10])\n",
      "torch.Size([1, 10])\n",
      "torch.Size([1, 10])\n"
     ]
    },
    {
     "name": "stderr",
     "output_type": "stream",
     "text": [
      "  0%|                                                                         | 475/1073954 [00:17<10:20:27, 28.84it/s]"
     ]
    },
    {
     "name": "stdout",
     "output_type": "stream",
     "text": [
      "torch.Size([1, 4])\n",
      "torch.Size([1, 7])\n",
      "torch.Size([1, 7])\n",
      "torch.Size([1, 6])\n",
      "torch.Size([1, 5])\n",
      "torch.Size([1, 6])\n",
      "torch.Size([1, 10])\n"
     ]
    },
    {
     "name": "stderr",
     "output_type": "stream",
     "text": [
      "  0%|                                                                         | 481/1073954 [00:17<10:44:38, 27.75it/s]"
     ]
    },
    {
     "name": "stdout",
     "output_type": "stream",
     "text": [
      "torch.Size([1, 11])\n",
      "torch.Size([1, 8])\n",
      "torch.Size([1, 11])\n",
      "torch.Size([1, 4])\n",
      "torch.Size([1, 6])\n",
      "torch.Size([1, 7])\n",
      "torch.Size([1, 12])\n"
     ]
    },
    {
     "name": "stderr",
     "output_type": "stream",
     "text": [
      "  0%|                                                                         | 487/1073954 [00:17<10:57:02, 27.23it/s]"
     ]
    },
    {
     "name": "stdout",
     "output_type": "stream",
     "text": [
      "torch.Size([1, 10])\n",
      "torch.Size([1, 8])\n",
      "torch.Size([1, 9])\n",
      "torch.Size([1, 7])\n",
      "torch.Size([1, 5])\n",
      "torch.Size([1, 10])\n"
     ]
    },
    {
     "name": "stderr",
     "output_type": "stream",
     "text": [
      "  0%|                                                                         | 496/1073954 [00:17<10:43:10, 27.82it/s]"
     ]
    },
    {
     "name": "stdout",
     "output_type": "stream",
     "text": [
      "torch.Size([1, 5])\n",
      "torch.Size([1, 9])\n",
      "torch.Size([1, 9])\n",
      "torch.Size([1, 7])\n",
      "torch.Size([1, 5])\n",
      "torch.Size([1, 8])\n"
     ]
    },
    {
     "name": "stderr",
     "output_type": "stream",
     "text": [
      "\r",
      "  0%|                                                                         | 499/1073954 [00:17<10:42:31, 27.84it/s]"
     ]
    },
    {
     "name": "stdout",
     "output_type": "stream",
     "text": [
      "torch.Size([1, 4])\n",
      "torch.Size([1, 7])\n",
      "torch.Size([1, 12])\n",
      "torch.Size([1, 11])\n",
      "torch.Size([1, 5])\n",
      "torch.Size([1, 12])\n"
     ]
    },
    {
     "name": "stderr",
     "output_type": "stream",
     "text": [
      "  0%|                                                                         | 505/1073954 [00:18<11:06:10, 26.86it/s]"
     ]
    },
    {
     "name": "stdout",
     "output_type": "stream",
     "text": [
      "torch.Size([1, 5])\n",
      "torch.Size([1, 5])\n",
      "torch.Size([1, 17])\n",
      "torch.Size([1, 6])\n",
      "torch.Size([1, 4])\n",
      "torch.Size([1, 4])\n",
      "torch.Size([1, 8])\n"
     ]
    },
    {
     "name": "stderr",
     "output_type": "stream",
     "text": [
      "  0%|                                                                         | 512/1073954 [00:18<10:36:41, 28.10it/s]"
     ]
    },
    {
     "name": "stdout",
     "output_type": "stream",
     "text": [
      "torch.Size([1, 6])\n",
      "torch.Size([1, 9])\n",
      "torch.Size([1, 9])\n",
      "torch.Size([1, 14])\n",
      "torch.Size([1, 9])\n",
      "torch.Size([1, 16])\n"
     ]
    },
    {
     "name": "stderr",
     "output_type": "stream",
     "text": [
      "  0%|                                                                         | 518/1073954 [00:18<11:55:20, 25.01it/s]"
     ]
    },
    {
     "name": "stdout",
     "output_type": "stream",
     "text": [
      "torch.Size([1, 21])\n",
      "torch.Size([1, 6])\n",
      "torch.Size([1, 10])\n",
      "torch.Size([1, 10])\n",
      "torch.Size([1, 8])\n"
     ]
    },
    {
     "name": "stderr",
     "output_type": "stream",
     "text": [
      "  0%|                                                                         | 524/1073954 [00:18<11:21:53, 26.24it/s]"
     ]
    },
    {
     "name": "stdout",
     "output_type": "stream",
     "text": [
      "torch.Size([1, 4])\n",
      "torch.Size([1, 5])\n",
      "torch.Size([1, 5])\n",
      "torch.Size([1, 15])\n",
      "torch.Size([1, 9])\n",
      "torch.Size([1, 6])\n"
     ]
    },
    {
     "name": "stderr",
     "output_type": "stream",
     "text": [
      "  0%|                                                                         | 531/1073954 [00:19<10:46:44, 27.66it/s]"
     ]
    },
    {
     "name": "stdout",
     "output_type": "stream",
     "text": [
      "torch.Size([1, 8])\n",
      "torch.Size([1, 7])\n",
      "torch.Size([1, 6])\n",
      "torch.Size([1, 3])\n",
      "torch.Size([1, 6])\n",
      "torch.Size([1, 5])\n",
      "torch.Size([1, 10])\n"
     ]
    },
    {
     "name": "stderr",
     "output_type": "stream",
     "text": [
      "  0%|                                                                         | 537/1073954 [00:19<10:39:43, 27.97it/s]"
     ]
    },
    {
     "name": "stdout",
     "output_type": "stream",
     "text": [
      "torch.Size([1, 6])\n",
      "torch.Size([1, 10])\n",
      "torch.Size([1, 7])\n",
      "torch.Size([1, 6])\n",
      "torch.Size([1, 8])\n",
      "torch.Size([1, 8])\n",
      "torch.Size([1, 8])\n"
     ]
    },
    {
     "name": "stderr",
     "output_type": "stream",
     "text": [
      "  0%|                                                                         | 543/1073954 [00:19<10:58:30, 27.17it/s]"
     ]
    },
    {
     "name": "stdout",
     "output_type": "stream",
     "text": [
      "torch.Size([1, 13])\n",
      "torch.Size([1, 8])\n",
      "torch.Size([1, 6])\n",
      "torch.Size([1, 7])\n",
      "torch.Size([1, 10])\n",
      "torch.Size([1, 9])\n"
     ]
    },
    {
     "name": "stderr",
     "output_type": "stream",
     "text": [
      "  0%|                                                                         | 549/1073954 [00:19<11:19:02, 26.35it/s]"
     ]
    },
    {
     "name": "stdout",
     "output_type": "stream",
     "text": [
      "torch.Size([1, 5])\n",
      "torch.Size([1, 5])\n",
      "torch.Size([1, 4])\n",
      "torch.Size([1, 9])\n",
      "torch.Size([1, 7])\n"
     ]
    },
    {
     "name": "stderr",
     "output_type": "stream",
     "text": [
      "  0%|                                                                         | 555/1073954 [00:20<12:09:47, 24.51it/s]"
     ]
    },
    {
     "name": "stdout",
     "output_type": "stream",
     "text": [
      "torch.Size([1, 5])\n",
      "torch.Size([1, 5])\n",
      "torch.Size([1, 5])\n",
      "torch.Size([1, 4])\n",
      "torch.Size([1, 7])\n",
      "torch.Size([1, 9])\n"
     ]
    },
    {
     "name": "stderr",
     "output_type": "stream",
     "text": [
      "  0%|                                                                         | 562/1073954 [00:20<11:21:30, 26.25it/s]"
     ]
    },
    {
     "name": "stdout",
     "output_type": "stream",
     "text": [
      "torch.Size([1, 7])\n",
      "torch.Size([1, 5])\n",
      "torch.Size([1, 6])\n",
      "torch.Size([1, 4])\n",
      "torch.Size([1, 13])\n",
      "torch.Size([1, 4])\n",
      "torch.Size([1, 6])\n"
     ]
    },
    {
     "name": "stderr",
     "output_type": "stream",
     "text": [
      "  0%|                                                                         | 569/1073954 [00:20<10:40:38, 27.92it/s]"
     ]
    },
    {
     "name": "stdout",
     "output_type": "stream",
     "text": [
      "torch.Size([1, 6])\n",
      "torch.Size([1, 7])\n",
      "torch.Size([1, 6])\n",
      "torch.Size([1, 5])\n",
      "torch.Size([1, 6])\n",
      "torch.Size([1, 5])\n"
     ]
    },
    {
     "name": "stderr",
     "output_type": "stream",
     "text": [
      "  0%|                                                                         | 575/1073954 [00:20<10:40:26, 27.93it/s]"
     ]
    },
    {
     "name": "stdout",
     "output_type": "stream",
     "text": [
      "torch.Size([1, 5])\n",
      "torch.Size([1, 8])\n",
      "torch.Size([1, 7])\n",
      "torch.Size([1, 7])\n",
      "torch.Size([1, 12])\n"
     ]
    },
    {
     "name": "stderr",
     "output_type": "stream",
     "text": [
      "\r",
      "  0%|                                                                         | 578/1073954 [00:20<10:39:19, 27.98it/s]"
     ]
    },
    {
     "name": "stdout",
     "output_type": "stream",
     "text": [
      "torch.Size([1, 3])\n",
      "torch.Size([1, 9])\n",
      "torch.Size([1, 8])\n",
      "torch.Size([1, 9])\n",
      "torch.Size([1, 4])\n",
      "torch.Size([1, 4])\n"
     ]
    },
    {
     "name": "stderr",
     "output_type": "stream",
     "text": [
      "  0%|                                                                         | 587/1073954 [00:21<10:20:41, 28.82it/s]"
     ]
    },
    {
     "name": "stdout",
     "output_type": "stream",
     "text": [
      "torch.Size([1, 5])\n",
      "torch.Size([1, 4])\n",
      "torch.Size([1, 10])\n",
      "torch.Size([1, 6])\n",
      "torch.Size([1, 6])\n",
      "torch.Size([1, 5])\n"
     ]
    },
    {
     "name": "stderr",
     "output_type": "stream",
     "text": [
      "\r",
      "  0%|                                                                         | 590/1073954 [00:21<10:31:41, 28.32it/s]"
     ]
    },
    {
     "name": "stdout",
     "output_type": "stream",
     "text": [
      "torch.Size([1, 8])\n",
      "torch.Size([1, 7])\n",
      "torch.Size([1, 8])\n",
      "torch.Size([1, 8])\n",
      "torch.Size([1, 7])\n",
      "torch.Size([1, 9])\n"
     ]
    },
    {
     "name": "stderr",
     "output_type": "stream",
     "text": [
      "  0%|                                                                         | 596/1073954 [00:21<10:55:47, 27.28it/s]"
     ]
    },
    {
     "name": "stdout",
     "output_type": "stream",
     "text": [
      "torch.Size([1, 10])\n",
      "torch.Size([1, 8])\n",
      "torch.Size([1, 7])\n",
      "torch.Size([1, 11])\n",
      "torch.Size([1, 3])\n",
      "torch.Size([1, 5])\n"
     ]
    },
    {
     "name": "stderr",
     "output_type": "stream",
     "text": [
      "  0%|                                                                         | 602/1073954 [00:21<10:49:43, 27.53it/s]"
     ]
    },
    {
     "name": "stdout",
     "output_type": "stream",
     "text": [
      "torch.Size([1, 8])\n",
      "torch.Size([1, 7])\n",
      "torch.Size([1, 7])\n",
      "torch.Size([1, 4])\n",
      "torch.Size([1, 14])\n",
      "torch.Size([1, 7])\n"
     ]
    },
    {
     "name": "stderr",
     "output_type": "stream",
     "text": [
      "  0%|                                                                         | 608/1073954 [00:21<12:12:36, 24.42it/s]"
     ]
    },
    {
     "name": "stdout",
     "output_type": "stream",
     "text": [
      "torch.Size([1, 30])\n",
      "torch.Size([1, 7])\n",
      "torch.Size([1, 11])\n",
      "torch.Size([1, 12])\n",
      "torch.Size([1, 34])\n"
     ]
    },
    {
     "name": "stderr",
     "output_type": "stream",
     "text": [
      "\r",
      "  0%|                                                                         | 611/1073954 [00:22<13:46:42, 21.64it/s]"
     ]
    },
    {
     "name": "stdout",
     "output_type": "stream",
     "text": [
      "torch.Size([1, 14])\n",
      "torch.Size([1, 6])\n",
      "torch.Size([1, 9])\n",
      "torch.Size([1, 6])\n"
     ]
    },
    {
     "name": "stderr",
     "output_type": "stream",
     "text": [
      "  0%|                                                                         | 617/1073954 [00:22<14:18:16, 20.84it/s]"
     ]
    },
    {
     "name": "stdout",
     "output_type": "stream",
     "text": [
      "torch.Size([1, 6])\n",
      "torch.Size([1, 6])\n",
      "torch.Size([1, 5])\n",
      "torch.Size([1, 10])\n",
      "torch.Size([1, 8])\n"
     ]
    },
    {
     "name": "stderr",
     "output_type": "stream",
     "text": [
      "  0%|                                                                         | 623/1073954 [00:22<13:33:45, 21.98it/s]"
     ]
    },
    {
     "name": "stdout",
     "output_type": "stream",
     "text": [
      "torch.Size([1, 8])\n",
      "torch.Size([1, 11])\n",
      "torch.Size([1, 9])\n",
      "torch.Size([1, 8])\n",
      "torch.Size([1, 10])\n"
     ]
    },
    {
     "name": "stderr",
     "output_type": "stream",
     "text": [
      "  0%|                                                                         | 629/1073954 [00:22<12:29:59, 23.85it/s]"
     ]
    },
    {
     "name": "stdout",
     "output_type": "stream",
     "text": [
      "torch.Size([1, 10])\n",
      "torch.Size([1, 5])\n",
      "torch.Size([1, 7])\n",
      "torch.Size([1, 6])\n",
      "torch.Size([1, 8])\n"
     ]
    },
    {
     "name": "stderr",
     "output_type": "stream",
     "text": [
      "\r",
      "  0%|                                                                         | 632/1073954 [00:23<12:17:26, 24.26it/s]"
     ]
    },
    {
     "name": "stdout",
     "output_type": "stream",
     "text": [
      "torch.Size([1, 5])\n",
      "torch.Size([1, 9])\n",
      "torch.Size([1, 8])\n",
      "torch.Size([1, 10])\n",
      "torch.Size([1, 5])\n",
      "torch.Size([1, 6])\n"
     ]
    },
    {
     "name": "stderr",
     "output_type": "stream",
     "text": [
      "  0%|                                                                         | 638/1073954 [00:23<13:11:39, 22.60it/s]"
     ]
    },
    {
     "name": "stdout",
     "output_type": "stream",
     "text": [
      "torch.Size([1, 11])\n",
      "torch.Size([1, 35])\n",
      "torch.Size([1, 4])\n",
      "torch.Size([1, 4])\n",
      "torch.Size([1, 7])\n"
     ]
    },
    {
     "name": "stderr",
     "output_type": "stream",
     "text": [
      "  0%|                                                                         | 644/1073954 [00:23<11:52:28, 25.11it/s]"
     ]
    },
    {
     "name": "stdout",
     "output_type": "stream",
     "text": [
      "torch.Size([1, 8])\n",
      "torch.Size([1, 6])\n",
      "torch.Size([1, 4])\n",
      "torch.Size([1, 6])\n",
      "torch.Size([1, 8])\n",
      "torch.Size([1, 6])\n"
     ]
    },
    {
     "name": "stderr",
     "output_type": "stream",
     "text": [
      "  0%|                                                                         | 650/1073954 [00:23<11:18:26, 26.37it/s]"
     ]
    },
    {
     "name": "stdout",
     "output_type": "stream",
     "text": [
      "torch.Size([1, 9])\n",
      "torch.Size([1, 5])\n",
      "torch.Size([1, 6])\n",
      "torch.Size([1, 6])\n",
      "torch.Size([1, 8])\n",
      "torch.Size([1, 9])\n"
     ]
    },
    {
     "name": "stderr",
     "output_type": "stream",
     "text": [
      "  0%|                                                                         | 656/1073954 [00:24<11:43:09, 25.44it/s]"
     ]
    },
    {
     "name": "stdout",
     "output_type": "stream",
     "text": [
      "torch.Size([1, 11])\n",
      "torch.Size([1, 10])\n",
      "torch.Size([1, 6])\n",
      "torch.Size([1, 5])\n",
      "torch.Size([1, 7])\n",
      "torch.Size([1, 6])\n"
     ]
    },
    {
     "name": "stderr",
     "output_type": "stream",
     "text": [
      "  0%|                                                                         | 662/1073954 [00:24<11:10:32, 26.68it/s]"
     ]
    },
    {
     "name": "stdout",
     "output_type": "stream",
     "text": [
      "torch.Size([1, 5])\n",
      "torch.Size([1, 5])\n",
      "torch.Size([1, 7])\n",
      "torch.Size([1, 8])\n",
      "torch.Size([1, 5])\n",
      "torch.Size([1, 7])\n"
     ]
    },
    {
     "name": "stderr",
     "output_type": "stream",
     "text": [
      "  0%|                                                                         | 668/1073954 [00:24<11:03:48, 26.95it/s]"
     ]
    },
    {
     "name": "stdout",
     "output_type": "stream",
     "text": [
      "torch.Size([1, 6])\n",
      "torch.Size([1, 4])\n",
      "torch.Size([1, 7])\n",
      "torch.Size([1, 7])\n",
      "torch.Size([1, 5])\n",
      "torch.Size([1, 5])\n",
      "torch.Size([1, 6])\n"
     ]
    },
    {
     "name": "stderr",
     "output_type": "stream",
     "text": [
      "  0%|                                                                         | 674/1073954 [00:24<11:02:32, 27.00it/s]"
     ]
    },
    {
     "name": "stdout",
     "output_type": "stream",
     "text": [
      "torch.Size([1, 12])\n",
      "torch.Size([1, 4])\n",
      "torch.Size([1, 8])\n",
      "torch.Size([1, 8])\n",
      "torch.Size([1, 7])\n",
      "torch.Size([1, 7])\n"
     ]
    },
    {
     "name": "stderr",
     "output_type": "stream",
     "text": [
      "  0%|                                                                         | 680/1073954 [00:24<11:14:01, 26.54it/s]"
     ]
    },
    {
     "name": "stdout",
     "output_type": "stream",
     "text": [
      "torch.Size([1, 9])\n",
      "torch.Size([1, 5])\n",
      "torch.Size([1, 10])\n",
      "torch.Size([1, 8])\n",
      "torch.Size([1, 6])\n",
      "torch.Size([1, 8])\n"
     ]
    },
    {
     "name": "stderr",
     "output_type": "stream",
     "text": [
      "  0%|                                                                         | 686/1073954 [00:25<11:07:36, 26.79it/s]"
     ]
    },
    {
     "name": "stdout",
     "output_type": "stream",
     "text": [
      "torch.Size([1, 7])\n",
      "torch.Size([1, 7])\n",
      "torch.Size([1, 4])\n",
      "torch.Size([1, 4])\n",
      "torch.Size([1, 5])\n",
      "torch.Size([1, 8])\n"
     ]
    },
    {
     "name": "stderr",
     "output_type": "stream",
     "text": [
      "  0%|                                                                         | 692/1073954 [00:25<10:42:43, 27.83it/s]"
     ]
    },
    {
     "name": "stdout",
     "output_type": "stream",
     "text": [
      "torch.Size([1, 6])\n",
      "torch.Size([1, 5])\n",
      "torch.Size([1, 5])\n",
      "torch.Size([1, 5])\n",
      "torch.Size([1, 6])\n",
      "torch.Size([1, 13])\n"
     ]
    },
    {
     "name": "stderr",
     "output_type": "stream",
     "text": [
      "  0%|                                                                         | 698/1073954 [00:25<10:55:53, 27.27it/s]"
     ]
    },
    {
     "name": "stdout",
     "output_type": "stream",
     "text": [
      "torch.Size([1, 6])\n",
      "torch.Size([1, 7])\n",
      "torch.Size([1, 7])\n",
      "torch.Size([1, 4])\n",
      "torch.Size([1, 8])\n",
      "torch.Size([1, 11])\n"
     ]
    },
    {
     "name": "stderr",
     "output_type": "stream",
     "text": [
      "  0%|                                                                         | 704/1073954 [00:25<11:16:33, 26.44it/s]"
     ]
    },
    {
     "name": "stdout",
     "output_type": "stream",
     "text": [
      "torch.Size([1, 10])\n",
      "torch.Size([1, 10])\n",
      "torch.Size([1, 5])\n",
      "torch.Size([1, 7])\n",
      "torch.Size([1, 4])\n",
      "torch.Size([1, 6])\n"
     ]
    },
    {
     "name": "stderr",
     "output_type": "stream",
     "text": [
      "  0%|                                                                         | 710/1073954 [00:26<11:07:38, 26.79it/s]"
     ]
    },
    {
     "name": "stdout",
     "output_type": "stream",
     "text": [
      "torch.Size([1, 6])\n",
      "torch.Size([1, 11])\n",
      "torch.Size([1, 8])\n",
      "torch.Size([1, 7])\n",
      "torch.Size([1, 6])\n",
      "torch.Size([1, 6])\n"
     ]
    },
    {
     "name": "stderr",
     "output_type": "stream",
     "text": [
      "  0%|                                                                         | 716/1073954 [00:26<11:13:28, 26.56it/s]"
     ]
    },
    {
     "name": "stdout",
     "output_type": "stream",
     "text": [
      "torch.Size([1, 4])\n",
      "torch.Size([1, 5])\n",
      "torch.Size([1, 9])\n",
      "torch.Size([1, 9])\n",
      "torch.Size([1, 4])\n"
     ]
    },
    {
     "name": "stderr",
     "output_type": "stream",
     "text": [
      "  0%|                                                                         | 722/1073954 [00:26<12:55:10, 23.08it/s]"
     ]
    },
    {
     "name": "stdout",
     "output_type": "stream",
     "text": [
      "torch.Size([1, 7])\n",
      "torch.Size([1, 6])\n",
      "torch.Size([1, 9])\n",
      "torch.Size([1, 8])\n",
      "torch.Size([1, 5])\n"
     ]
    },
    {
     "name": "stderr",
     "output_type": "stream",
     "text": [
      "  0%|                                                                         | 728/1073954 [00:26<11:51:15, 25.15it/s]"
     ]
    },
    {
     "name": "stdout",
     "output_type": "stream",
     "text": [
      "torch.Size([1, 11])\n",
      "torch.Size([1, 6])\n",
      "torch.Size([1, 6])\n",
      "torch.Size([1, 6])\n",
      "torch.Size([1, 6])\n"
     ]
    },
    {
     "name": "stderr",
     "output_type": "stream",
     "text": [
      "\r",
      "  0%|                                                                         | 731/1073954 [00:26<12:15:17, 24.33it/s]"
     ]
    },
    {
     "name": "stdout",
     "output_type": "stream",
     "text": [
      "torch.Size([1, 9])\n",
      "torch.Size([1, 12])\n",
      "torch.Size([1, 10])\n",
      "torch.Size([1, 11])\n",
      "torch.Size([1, 11])\n"
     ]
    },
    {
     "name": "stderr",
     "output_type": "stream",
     "text": [
      "  0%|                                                                         | 737/1073954 [00:27<12:21:03, 24.14it/s]"
     ]
    },
    {
     "name": "stdout",
     "output_type": "stream",
     "text": [
      "torch.Size([1, 5])\n",
      "torch.Size([1, 9])\n",
      "torch.Size([1, 6])\n",
      "torch.Size([1, 13])\n",
      "torch.Size([1, 6])\n",
      "torch.Size([1, 9])\n"
     ]
    },
    {
     "name": "stderr",
     "output_type": "stream",
     "text": [
      "  0%|                                                                         | 743/1073954 [00:27<11:57:56, 24.91it/s]"
     ]
    },
    {
     "name": "stdout",
     "output_type": "stream",
     "text": [
      "torch.Size([1, 8])\n",
      "torch.Size([1, 5])\n",
      "torch.Size([1, 9])\n",
      "torch.Size([1, 7])\n",
      "torch.Size([1, 5])\n",
      "torch.Size([1, 9])\n"
     ]
    },
    {
     "name": "stderr",
     "output_type": "stream",
     "text": [
      "  0%|                                                                         | 749/1073954 [00:27<12:03:14, 24.73it/s]"
     ]
    },
    {
     "name": "stdout",
     "output_type": "stream",
     "text": [
      "torch.Size([1, 8])\n",
      "torch.Size([1, 11])\n",
      "torch.Size([1, 8])\n",
      "torch.Size([1, 7])\n",
      "torch.Size([1, 7])\n",
      "torch.Size([1, 7])\n"
     ]
    },
    {
     "name": "stderr",
     "output_type": "stream",
     "text": [
      "  0%|                                                                         | 755/1073954 [00:27<12:10:50, 24.47it/s]"
     ]
    },
    {
     "name": "stdout",
     "output_type": "stream",
     "text": [
      "torch.Size([1, 10])\n",
      "torch.Size([1, 10])\n",
      "torch.Size([1, 10])\n",
      "torch.Size([1, 10])\n",
      "torch.Size([1, 7])\n"
     ]
    },
    {
     "name": "stderr",
     "output_type": "stream",
     "text": [
      "  0%|                                                                         | 761/1073954 [00:28<11:27:29, 26.02it/s]"
     ]
    },
    {
     "name": "stdout",
     "output_type": "stream",
     "text": [
      "torch.Size([1, 7])\n",
      "torch.Size([1, 5])\n",
      "torch.Size([1, 4])\n",
      "torch.Size([1, 6])\n",
      "torch.Size([1, 5])\n"
     ]
    },
    {
     "name": "stderr",
     "output_type": "stream",
     "text": [
      "\r",
      "  0%|                                                                         | 764/1073954 [00:28<11:18:03, 26.38it/s]"
     ]
    },
    {
     "name": "stdout",
     "output_type": "stream",
     "text": [
      "torch.Size([1, 6])\n",
      "torch.Size([1, 6])\n",
      "torch.Size([1, 7])\n",
      "torch.Size([1, 7])\n",
      "torch.Size([1, 6])\n",
      "torch.Size([1, 5])\n"
     ]
    },
    {
     "name": "stderr",
     "output_type": "stream",
     "text": [
      "  0%|                                                                         | 770/1073954 [00:28<10:56:56, 27.23it/s]"
     ]
    },
    {
     "name": "stdout",
     "output_type": "stream",
     "text": [
      "torch.Size([1, 11])\n",
      "torch.Size([1, 5])\n",
      "torch.Size([1, 6])\n",
      "torch.Size([1, 5])\n",
      "torch.Size([1, 4])\n",
      "torch.Size([1, 8])\n"
     ]
    },
    {
     "name": "stderr",
     "output_type": "stream",
     "text": [
      "  0%|                                                                         | 777/1073954 [00:28<10:40:41, 27.92it/s]"
     ]
    },
    {
     "name": "stdout",
     "output_type": "stream",
     "text": [
      "torch.Size([1, 5])\n",
      "torch.Size([1, 5])\n",
      "torch.Size([1, 7])\n",
      "torch.Size([1, 12])\n",
      "torch.Size([1, 4])\n",
      "torch.Size([1, 7])\n"
     ]
    },
    {
     "name": "stderr",
     "output_type": "stream",
     "text": [
      "  0%|                                                                         | 783/1073954 [00:28<10:48:48, 27.57it/s]"
     ]
    },
    {
     "name": "stdout",
     "output_type": "stream",
     "text": [
      "torch.Size([1, 10])\n",
      "torch.Size([1, 9])\n",
      "torch.Size([1, 6])\n",
      "torch.Size([1, 9])\n",
      "torch.Size([1, 5])\n",
      "torch.Size([1, 7])\n"
     ]
    },
    {
     "name": "stderr",
     "output_type": "stream",
     "text": [
      "  0%|                                                                         | 789/1073954 [00:29<10:42:58, 27.82it/s]"
     ]
    },
    {
     "name": "stdout",
     "output_type": "stream",
     "text": [
      "torch.Size([1, 6])\n",
      "torch.Size([1, 7])\n",
      "torch.Size([1, 5])\n",
      "torch.Size([1, 6])\n",
      "torch.Size([1, 14])\n",
      "torch.Size([1, 7])\n"
     ]
    },
    {
     "name": "stderr",
     "output_type": "stream",
     "text": [
      "  0%|                                                                         | 795/1073954 [00:29<11:05:56, 26.86it/s]"
     ]
    },
    {
     "name": "stdout",
     "output_type": "stream",
     "text": [
      "torch.Size([1, 8])\n",
      "torch.Size([1, 8])\n",
      "torch.Size([1, 6])\n",
      "torch.Size([1, 7])\n",
      "torch.Size([1, 6])\n",
      "torch.Size([1, 10])\n"
     ]
    },
    {
     "name": "stderr",
     "output_type": "stream",
     "text": [
      "  0%|                                                                         | 801/1073954 [00:29<11:13:48, 26.54it/s]"
     ]
    },
    {
     "name": "stdout",
     "output_type": "stream",
     "text": [
      "torch.Size([1, 8])\n",
      "torch.Size([1, 7])\n",
      "torch.Size([1, 9])\n",
      "torch.Size([1, 6])\n",
      "torch.Size([1, 4])\n",
      "torch.Size([1, 13])\n"
     ]
    },
    {
     "name": "stderr",
     "output_type": "stream",
     "text": [
      "  0%|                                                                         | 807/1073954 [00:29<11:09:16, 26.72it/s]"
     ]
    },
    {
     "name": "stdout",
     "output_type": "stream",
     "text": [
      "torch.Size([1, 6])\n",
      "torch.Size([1, 10])\n",
      "torch.Size([1, 6])\n",
      "torch.Size([1, 5])\n",
      "torch.Size([1, 3])\n",
      "torch.Size([1, 3])\n",
      "torch.Size([1, 5])\n"
     ]
    },
    {
     "name": "stderr",
     "output_type": "stream",
     "text": [
      "  0%|                                                                         | 815/1073954 [00:30<10:36:31, 28.10it/s]"
     ]
    },
    {
     "name": "stdout",
     "output_type": "stream",
     "text": [
      "torch.Size([1, 8])\n",
      "torch.Size([1, 5])\n",
      "torch.Size([1, 4])\n",
      "torch.Size([1, 9])\n",
      "torch.Size([1, 10])\n",
      "torch.Size([1, 5])\n",
      "torch.Size([1, 12])\n"
     ]
    },
    {
     "name": "stderr",
     "output_type": "stream",
     "text": [
      "  0%|                                                                         | 821/1073954 [00:30<10:34:43, 28.18it/s]"
     ]
    },
    {
     "name": "stdout",
     "output_type": "stream",
     "text": [
      "torch.Size([1, 5])\n",
      "torch.Size([1, 7])\n",
      "torch.Size([1, 5])\n",
      "torch.Size([1, 11])\n",
      "torch.Size([1, 11])\n",
      "torch.Size([1, 5])\n",
      "torch.Size([1, 6])\n"
     ]
    },
    {
     "name": "stderr",
     "output_type": "stream",
     "text": [
      "  0%|                                                                         | 828/1073954 [00:30<10:23:51, 28.67it/s]"
     ]
    },
    {
     "name": "stdout",
     "output_type": "stream",
     "text": [
      "torch.Size([1, 6])\n",
      "torch.Size([1, 5])\n",
      "torch.Size([1, 4])\n",
      "torch.Size([1, 10])\n",
      "torch.Size([1, 6])\n",
      "torch.Size([1, 14])\n"
     ]
    },
    {
     "name": "stderr",
     "output_type": "stream",
     "text": [
      "  0%|                                                                         | 834/1073954 [00:30<10:33:39, 28.23it/s]"
     ]
    },
    {
     "name": "stdout",
     "output_type": "stream",
     "text": [
      "torch.Size([1, 6])\n",
      "torch.Size([1, 6])\n",
      "torch.Size([1, 5])\n",
      "torch.Size([1, 7])\n",
      "torch.Size([1, 4])\n",
      "torch.Size([1, 5])\n",
      "torch.Size([1, 7])\n"
     ]
    },
    {
     "name": "stderr",
     "output_type": "stream",
     "text": [
      "  0%|                                                                         | 841/1073954 [00:30<10:24:06, 28.66it/s]"
     ]
    },
    {
     "name": "stdout",
     "output_type": "stream",
     "text": [
      "torch.Size([1, 8])\n",
      "torch.Size([1, 9])\n",
      "torch.Size([1, 6])\n",
      "torch.Size([1, 7])\n",
      "torch.Size([1, 7])\n",
      "torch.Size([1, 7])\n",
      "torch.Size([1, 7])\n"
     ]
    },
    {
     "name": "stderr",
     "output_type": "stream",
     "text": [
      "  0%|                                                                         | 847/1073954 [00:31<10:47:34, 27.62it/s]"
     ]
    },
    {
     "name": "stdout",
     "output_type": "stream",
     "text": [
      "torch.Size([1, 7])\n",
      "torch.Size([1, 10])\n",
      "torch.Size([1, 10])\n",
      "torch.Size([1, 8])\n",
      "torch.Size([1, 7])\n",
      "torch.Size([1, 6])\n"
     ]
    },
    {
     "name": "stderr",
     "output_type": "stream",
     "text": [
      "  0%|                                                                         | 853/1073954 [00:31<10:53:05, 27.38it/s]"
     ]
    },
    {
     "name": "stdout",
     "output_type": "stream",
     "text": [
      "torch.Size([1, 4])\n",
      "torch.Size([1, 5])\n",
      "torch.Size([1, 5])\n",
      "torch.Size([1, 4])\n",
      "torch.Size([1, 7])\n",
      "torch.Size([1, 11])\n"
     ]
    },
    {
     "name": "stderr",
     "output_type": "stream",
     "text": [
      "  0%|                                                                         | 859/1073954 [00:31<11:00:14, 27.09it/s]"
     ]
    },
    {
     "name": "stdout",
     "output_type": "stream",
     "text": [
      "torch.Size([1, 4])\n",
      "torch.Size([1, 7])\n",
      "torch.Size([1, 11])\n",
      "torch.Size([1, 9])\n",
      "torch.Size([1, 5])\n",
      "torch.Size([1, 10])\n"
     ]
    },
    {
     "name": "stderr",
     "output_type": "stream",
     "text": [
      "  0%|                                                                         | 865/1073954 [00:31<11:10:49, 26.66it/s]"
     ]
    },
    {
     "name": "stdout",
     "output_type": "stream",
     "text": [
      "torch.Size([1, 6])\n",
      "torch.Size([1, 10])\n",
      "torch.Size([1, 8])\n",
      "torch.Size([1, 9])\n",
      "torch.Size([1, 10])\n",
      "torch.Size([1, 6])\n"
     ]
    },
    {
     "name": "stderr",
     "output_type": "stream",
     "text": [
      "  0%|                                                                         | 871/1073954 [00:32<11:41:19, 25.50it/s]"
     ]
    },
    {
     "name": "stdout",
     "output_type": "stream",
     "text": [
      "torch.Size([1, 6])\n",
      "torch.Size([1, 14])\n",
      "torch.Size([1, 8])\n",
      "torch.Size([1, 11])\n",
      "torch.Size([1, 6])\n"
     ]
    },
    {
     "name": "stderr",
     "output_type": "stream",
     "text": [
      "  0%|                                                                         | 877/1073954 [00:32<11:42:31, 25.46it/s]"
     ]
    },
    {
     "name": "stdout",
     "output_type": "stream",
     "text": [
      "torch.Size([1, 5])\n",
      "torch.Size([1, 10])\n",
      "torch.Size([1, 8])\n",
      "torch.Size([1, 9])\n",
      "torch.Size([1, 5])\n",
      "torch.Size([1, 6])\n",
      "torch.Size([1, 7])\n"
     ]
    },
    {
     "name": "stderr",
     "output_type": "stream",
     "text": [
      "  0%|                                                                         | 883/1073954 [00:32<11:10:34, 26.67it/s]"
     ]
    },
    {
     "name": "stdout",
     "output_type": "stream",
     "text": [
      "torch.Size([1, 5])\n",
      "torch.Size([1, 12])\n",
      "torch.Size([1, 7])\n",
      "torch.Size([1, 4])\n",
      "torch.Size([1, 12])\n",
      "torch.Size([1, 8])\n"
     ]
    },
    {
     "name": "stderr",
     "output_type": "stream",
     "text": [
      "  0%|                                                                         | 889/1073954 [00:32<11:54:01, 25.05it/s]"
     ]
    },
    {
     "name": "stdout",
     "output_type": "stream",
     "text": [
      "torch.Size([1, 13])\n",
      "torch.Size([1, 16])\n",
      "torch.Size([1, 9])\n",
      "torch.Size([1, 13])\n",
      "torch.Size([1, 15])\n"
     ]
    },
    {
     "name": "stderr",
     "output_type": "stream",
     "text": [
      "\r",
      "  0%|                                                                         | 892/1073954 [00:32<13:22:56, 22.27it/s]"
     ]
    },
    {
     "name": "stdout",
     "output_type": "stream",
     "text": [
      "torch.Size([1, 14])\n",
      "torch.Size([1, 11])\n",
      "torch.Size([1, 14])\n",
      "torch.Size([1, 14])\n"
     ]
    },
    {
     "name": "stderr",
     "output_type": "stream",
     "text": [
      "  0%|                                                                         | 898/1073954 [00:33<12:27:44, 23.92it/s]"
     ]
    },
    {
     "name": "stdout",
     "output_type": "stream",
     "text": [
      "torch.Size([1, 3])\n",
      "torch.Size([1, 6])\n",
      "torch.Size([1, 6])\n",
      "torch.Size([1, 13])\n",
      "torch.Size([1, 8])\n",
      "torch.Size([1, 6])\n"
     ]
    },
    {
     "name": "stderr",
     "output_type": "stream",
     "text": [
      "  0%|                                                                         | 904/1073954 [00:33<11:51:39, 25.13it/s]"
     ]
    },
    {
     "name": "stdout",
     "output_type": "stream",
     "text": [
      "torch.Size([1, 6])\n",
      "torch.Size([1, 7])\n",
      "torch.Size([1, 10])\n",
      "torch.Size([1, 17])\n",
      "torch.Size([1, 6])\n"
     ]
    },
    {
     "name": "stderr",
     "output_type": "stream",
     "text": [
      "  0%|                                                                         | 910/1073954 [00:33<11:55:30, 24.99it/s]"
     ]
    },
    {
     "name": "stdout",
     "output_type": "stream",
     "text": [
      "torch.Size([1, 6])\n",
      "torch.Size([1, 10])\n",
      "torch.Size([1, 9])\n",
      "torch.Size([1, 6])\n",
      "torch.Size([1, 8])\n",
      "torch.Size([1, 5])\n"
     ]
    },
    {
     "name": "stderr",
     "output_type": "stream",
     "text": [
      "  0%|                                                                         | 916/1073954 [00:33<12:17:16, 24.26it/s]"
     ]
    },
    {
     "name": "stdout",
     "output_type": "stream",
     "text": [
      "torch.Size([1, 9])\n",
      "torch.Size([1, 3])\n",
      "torch.Size([1, 14])\n",
      "torch.Size([1, 11])\n",
      "torch.Size([1, 5])\n",
      "torch.Size([1, 6])\n"
     ]
    },
    {
     "name": "stderr",
     "output_type": "stream",
     "text": [
      "  0%|                                                                         | 922/1073954 [00:34<11:57:24, 24.93it/s]"
     ]
    },
    {
     "name": "stdout",
     "output_type": "stream",
     "text": [
      "torch.Size([1, 11])\n",
      "torch.Size([1, 8])\n",
      "torch.Size([1, 8])\n",
      "torch.Size([1, 10])\n",
      "torch.Size([1, 6])\n",
      "torch.Size([1, 7])\n"
     ]
    },
    {
     "name": "stderr",
     "output_type": "stream",
     "text": [
      "  0%|                                                                         | 928/1073954 [00:34<11:50:58, 25.15it/s]"
     ]
    },
    {
     "name": "stdout",
     "output_type": "stream",
     "text": [
      "torch.Size([1, 8])\n",
      "torch.Size([1, 13])\n",
      "torch.Size([1, 9])\n",
      "torch.Size([1, 8])\n",
      "torch.Size([1, 9])\n",
      "torch.Size([1, 9])\n"
     ]
    },
    {
     "name": "stderr",
     "output_type": "stream",
     "text": [
      "  0%|                                                                         | 934/1073954 [00:34<11:37:56, 25.62it/s]"
     ]
    },
    {
     "name": "stdout",
     "output_type": "stream",
     "text": [
      "torch.Size([1, 4])\n",
      "torch.Size([1, 7])\n",
      "torch.Size([1, 5])\n",
      "torch.Size([1, 7])\n",
      "torch.Size([1, 8])\n",
      "torch.Size([1, 13])\n"
     ]
    },
    {
     "name": "stderr",
     "output_type": "stream",
     "text": [
      "  0%|                                                                         | 940/1073954 [00:34<11:44:27, 25.39it/s]"
     ]
    },
    {
     "name": "stdout",
     "output_type": "stream",
     "text": [
      "torch.Size([1, 11])\n",
      "torch.Size([1, 13])\n",
      "torch.Size([1, 5])\n",
      "torch.Size([1, 6])\n",
      "torch.Size([1, 8])\n",
      "torch.Size([1, 5])\n"
     ]
    },
    {
     "name": "stderr",
     "output_type": "stream",
     "text": [
      "  0%|                                                                         | 946/1073954 [00:35<11:20:13, 26.29it/s]"
     ]
    },
    {
     "name": "stdout",
     "output_type": "stream",
     "text": [
      "torch.Size([1, 7])\n",
      "torch.Size([1, 4])\n",
      "torch.Size([1, 7])\n",
      "torch.Size([1, 6])\n",
      "torch.Size([1, 6])\n",
      "torch.Size([1, 8])\n"
     ]
    },
    {
     "name": "stderr",
     "output_type": "stream",
     "text": [
      "  0%|                                                                         | 953/1073954 [00:35<11:06:10, 26.84it/s]"
     ]
    },
    {
     "name": "stdout",
     "output_type": "stream",
     "text": [
      "torch.Size([1, 11])\n",
      "torch.Size([1, 6])\n",
      "torch.Size([1, 5])\n",
      "torch.Size([1, 4])\n",
      "torch.Size([1, 5])\n",
      "torch.Size([1, 6])\n"
     ]
    },
    {
     "name": "stderr",
     "output_type": "stream",
     "text": [
      "\r",
      "  0%|                                                                         | 957/1073954 [00:35<10:45:58, 27.68it/s]"
     ]
    },
    {
     "name": "stdout",
     "output_type": "stream",
     "text": [
      "torch.Size([1, 4])\n",
      "torch.Size([1, 4])\n",
      "torch.Size([1, 8])\n",
      "torch.Size([1, 11])\n",
      "torch.Size([1, 4])\n",
      "torch.Size([1, 10])\n"
     ]
    },
    {
     "name": "stderr",
     "output_type": "stream",
     "text": [
      "  0%|                                                                         | 963/1073954 [00:35<12:02:49, 24.74it/s]"
     ]
    },
    {
     "name": "stdout",
     "output_type": "stream",
     "text": [
      "torch.Size([1, 13])\n",
      "torch.Size([1, 7])\n",
      "torch.Size([1, 8])\n",
      "torch.Size([1, 13])\n",
      "torch.Size([1, 6])\n"
     ]
    },
    {
     "name": "stderr",
     "output_type": "stream",
     "text": [
      "  0%|                                                                         | 969/1073954 [00:35<11:32:07, 25.84it/s]"
     ]
    },
    {
     "name": "stdout",
     "output_type": "stream",
     "text": [
      "torch.Size([1, 4])\n",
      "torch.Size([1, 6])\n",
      "torch.Size([1, 8])\n",
      "torch.Size([1, 9])\n",
      "torch.Size([1, 8])\n",
      "torch.Size([1, 18])\n"
     ]
    },
    {
     "name": "stderr",
     "output_type": "stream",
     "text": [
      "  0%|                                                                         | 975/1073954 [00:36<12:16:37, 24.28it/s]"
     ]
    },
    {
     "name": "stdout",
     "output_type": "stream",
     "text": [
      "torch.Size([1, 9])\n",
      "torch.Size([1, 12])\n",
      "torch.Size([1, 7])\n",
      "torch.Size([1, 11])\n",
      "torch.Size([1, 16])\n"
     ]
    },
    {
     "name": "stderr",
     "output_type": "stream",
     "text": [
      "  0%|                                                                         | 981/1073954 [00:36<12:08:19, 24.55it/s]"
     ]
    },
    {
     "name": "stdout",
     "output_type": "stream",
     "text": [
      "torch.Size([1, 9])\n",
      "torch.Size([1, 5])\n",
      "torch.Size([1, 15])\n",
      "torch.Size([1, 4])\n",
      "torch.Size([1, 6])\n"
     ]
    },
    {
     "name": "stderr",
     "output_type": "stream",
     "text": [
      "  0%|                                                                         | 987/1073954 [00:36<11:29:05, 25.95it/s]"
     ]
    },
    {
     "name": "stdout",
     "output_type": "stream",
     "text": [
      "torch.Size([1, 7])\n",
      "torch.Size([1, 7])\n",
      "torch.Size([1, 8])\n",
      "torch.Size([1, 4])\n",
      "torch.Size([1, 10])\n",
      "torch.Size([1, 6])\n"
     ]
    },
    {
     "name": "stderr",
     "output_type": "stream",
     "text": [
      "\r",
      "  0%|                                                                         | 990/1073954 [00:36<11:10:21, 26.68it/s]"
     ]
    },
    {
     "name": "stdout",
     "output_type": "stream",
     "text": [
      "torch.Size([1, 7])\n",
      "torch.Size([1, 8])\n",
      "torch.Size([1, 3])\n",
      "torch.Size([1, 9])\n",
      "torch.Size([1, 9])\n",
      "torch.Size([1, 7])\n"
     ]
    },
    {
     "name": "stderr",
     "output_type": "stream",
     "text": [
      "  0%|                                                                         | 996/1073954 [00:37<11:26:47, 26.04it/s]"
     ]
    },
    {
     "name": "stdout",
     "output_type": "stream",
     "text": [
      "torch.Size([1, 10])\n",
      "torch.Size([1, 11])\n",
      "torch.Size([1, 7])\n",
      "torch.Size([1, 12])\n",
      "torch.Size([1, 7])\n"
     ]
    },
    {
     "name": "stderr",
     "output_type": "stream",
     "text": [
      "  0%|                                                                        | 1002/1073954 [00:37<11:12:23, 26.60it/s]"
     ]
    },
    {
     "name": "stdout",
     "output_type": "stream",
     "text": [
      "torch.Size([1, 6])\n",
      "torch.Size([1, 9])\n",
      "torch.Size([1, 6])\n",
      "torch.Size([1, 6])\n",
      "torch.Size([1, 6])\n",
      "torch.Size([1, 6])\n"
     ]
    },
    {
     "name": "stderr",
     "output_type": "stream",
     "text": [
      "  0%|                                                                        | 1009/1073954 [00:37<10:24:14, 28.65it/s]"
     ]
    },
    {
     "name": "stdout",
     "output_type": "stream",
     "text": [
      "torch.Size([1, 7])\n",
      "torch.Size([1, 4])\n",
      "torch.Size([1, 4])\n",
      "torch.Size([1, 4])\n",
      "torch.Size([1, 5])\n",
      "torch.Size([1, 6])\n",
      "torch.Size([1, 10])\n"
     ]
    },
    {
     "name": "stderr",
     "output_type": "stream",
     "text": [
      "  0%|                                                                        | 1015/1073954 [00:37<10:37:07, 28.07it/s]"
     ]
    },
    {
     "name": "stdout",
     "output_type": "stream",
     "text": [
      "torch.Size([1, 6])\n",
      "torch.Size([1, 9])\n",
      "torch.Size([1, 7])\n",
      "torch.Size([1, 7])\n",
      "torch.Size([1, 7])\n",
      "torch.Size([1, 4])\n"
     ]
    },
    {
     "name": "stderr",
     "output_type": "stream",
     "text": [
      "  0%|                                                                        | 1022/1073954 [00:37<10:22:40, 28.72it/s]"
     ]
    },
    {
     "name": "stdout",
     "output_type": "stream",
     "text": [
      "torch.Size([1, 7])\n",
      "torch.Size([1, 7])\n",
      "torch.Size([1, 10])\n",
      "torch.Size([1, 4])\n",
      "torch.Size([1, 6])\n"
     ]
    },
    {
     "name": "stderr",
     "output_type": "stream",
     "text": [
      "\r",
      "  0%|                                                                        | 1025/1073954 [00:38<10:32:02, 28.29it/s]"
     ]
    },
    {
     "name": "stdout",
     "output_type": "stream",
     "text": [
      "torch.Size([1, 5])\n",
      "torch.Size([1, 7])\n",
      "torch.Size([1, 10])\n",
      "torch.Size([1, 9])\n",
      "torch.Size([1, 10])\n",
      "torch.Size([1, 8])\n"
     ]
    },
    {
     "name": "stderr",
     "output_type": "stream",
     "text": [
      "  0%|                                                                        | 1031/1073954 [00:38<11:00:32, 27.07it/s]"
     ]
    },
    {
     "name": "stdout",
     "output_type": "stream",
     "text": [
      "torch.Size([1, 9])\n",
      "torch.Size([1, 9])\n",
      "torch.Size([1, 6])\n",
      "torch.Size([1, 4])\n",
      "torch.Size([1, 9])\n",
      "torch.Size([1, 6])\n"
     ]
    },
    {
     "name": "stderr",
     "output_type": "stream",
     "text": [
      "  0%|                                                                        | 1037/1073954 [00:38<11:06:40, 26.82it/s]"
     ]
    },
    {
     "name": "stdout",
     "output_type": "stream",
     "text": [
      "torch.Size([1, 15])\n",
      "torch.Size([1, 7])\n",
      "torch.Size([1, 4])\n",
      "torch.Size([1, 6])\n",
      "torch.Size([1, 4])\n",
      "torch.Size([1, 3])\n",
      "torch.Size([1, 7])\n"
     ]
    },
    {
     "name": "stderr",
     "output_type": "stream",
     "text": [
      "  0%|                                                                        | 1044/1073954 [00:38<10:40:22, 27.92it/s]"
     ]
    },
    {
     "name": "stdout",
     "output_type": "stream",
     "text": [
      "torch.Size([1, 9])\n",
      "torch.Size([1, 9])\n",
      "torch.Size([1, 7])\n",
      "torch.Size([1, 8])\n",
      "torch.Size([1, 6])\n",
      "torch.Size([1, 8])\n"
     ]
    },
    {
     "name": "stderr",
     "output_type": "stream",
     "text": [
      "  0%|                                                                        | 1050/1073954 [00:38<10:33:57, 28.21it/s]"
     ]
    },
    {
     "name": "stdout",
     "output_type": "stream",
     "text": [
      "torch.Size([1, 5])\n",
      "torch.Size([1, 8])\n",
      "torch.Size([1, 9])\n",
      "torch.Size([1, 8])\n",
      "torch.Size([1, 8])\n",
      "torch.Size([1, 6])\n"
     ]
    },
    {
     "name": "stderr",
     "output_type": "stream",
     "text": [
      "  0%|                                                                        | 1059/1073954 [00:39<10:28:15, 28.46it/s]"
     ]
    },
    {
     "name": "stdout",
     "output_type": "stream",
     "text": [
      "torch.Size([1, 6])\n",
      "torch.Size([1, 6])\n",
      "torch.Size([1, 7])\n",
      "torch.Size([1, 7])\n",
      "torch.Size([1, 4])\n",
      "torch.Size([1, 5])\n"
     ]
    },
    {
     "name": "stderr",
     "output_type": "stream",
     "text": [
      "\r",
      "  0%|                                                                        | 1063/1073954 [00:39<10:09:39, 29.33it/s]"
     ]
    },
    {
     "name": "stdout",
     "output_type": "stream",
     "text": [
      "torch.Size([1, 6])\n",
      "torch.Size([1, 5])\n",
      "torch.Size([1, 5])\n",
      "torch.Size([1, 6])\n",
      "torch.Size([1, 5])\n",
      "torch.Size([1, 8])\n",
      "torch.Size([1, 7])\n"
     ]
    },
    {
     "name": "stderr",
     "output_type": "stream",
     "text": [
      "  0%|                                                                        | 1069/1073954 [00:39<10:31:14, 28.33it/s]"
     ]
    },
    {
     "name": "stdout",
     "output_type": "stream",
     "text": [
      "torch.Size([1, 6])\n",
      "torch.Size([1, 9])\n",
      "torch.Size([1, 11])\n",
      "torch.Size([1, 4])\n",
      "torch.Size([1, 9])\n",
      "torch.Size([1, 4])\n"
     ]
    },
    {
     "name": "stderr",
     "output_type": "stream",
     "text": [
      "  0%|                                                                        | 1076/1073954 [00:39<10:09:55, 29.32it/s]"
     ]
    },
    {
     "name": "stdout",
     "output_type": "stream",
     "text": [
      "torch.Size([1, 4])\n",
      "torch.Size([1, 8])\n",
      "torch.Size([1, 6])\n",
      "torch.Size([1, 7])\n",
      "torch.Size([1, 5])\n",
      "torch.Size([1, 9])\n"
     ]
    },
    {
     "name": "stderr",
     "output_type": "stream",
     "text": [
      "\r",
      "  0%|                                                                        | 1080/1073954 [00:39<10:10:44, 29.28it/s]"
     ]
    },
    {
     "name": "stdout",
     "output_type": "stream",
     "text": [
      "torch.Size([1, 5])\n",
      "torch.Size([1, 9])\n",
      "torch.Size([1, 5])\n",
      "torch.Size([1, 5])\n",
      "torch.Size([1, 7])\n",
      "torch.Size([1, 6])\n"
     ]
    },
    {
     "name": "stderr",
     "output_type": "stream",
     "text": [
      "  0%|                                                                        | 1087/1073954 [00:40<10:39:37, 27.96it/s]"
     ]
    },
    {
     "name": "stdout",
     "output_type": "stream",
     "text": [
      "torch.Size([1, 12])\n",
      "torch.Size([1, 11])\n",
      "torch.Size([1, 6])\n",
      "torch.Size([1, 3])\n",
      "torch.Size([1, 7])\n",
      "torch.Size([1, 10])\n"
     ]
    },
    {
     "name": "stderr",
     "output_type": "stream",
     "text": [
      "  0%|                                                                        | 1093/1073954 [00:40<12:16:10, 24.29it/s]"
     ]
    },
    {
     "name": "stdout",
     "output_type": "stream",
     "text": [
      "torch.Size([1, 9])\n",
      "torch.Size([1, 18])\n",
      "torch.Size([1, 19])\n",
      "torch.Size([1, 9])\n",
      "torch.Size([1, 6])\n"
     ]
    },
    {
     "name": "stderr",
     "output_type": "stream",
     "text": [
      "  0%|                                                                        | 1099/1073954 [00:40<11:23:11, 26.17it/s]"
     ]
    },
    {
     "name": "stdout",
     "output_type": "stream",
     "text": [
      "torch.Size([1, 7])\n",
      "torch.Size([1, 7])\n",
      "torch.Size([1, 7])\n",
      "torch.Size([1, 7])\n",
      "torch.Size([1, 7])\n",
      "torch.Size([1, 6])\n",
      "torch.Size([1, 8])\n"
     ]
    },
    {
     "name": "stderr",
     "output_type": "stream",
     "text": [
      "  0%|                                                                        | 1108/1073954 [00:41<10:40:52, 27.90it/s]"
     ]
    },
    {
     "name": "stdout",
     "output_type": "stream",
     "text": [
      "torch.Size([1, 9])\n",
      "torch.Size([1, 5])\n",
      "torch.Size([1, 9])\n",
      "torch.Size([1, 5])\n",
      "torch.Size([1, 10])\n",
      "torch.Size([1, 6])\n"
     ]
    },
    {
     "name": "stderr",
     "output_type": "stream",
     "text": [
      "\r",
      "  0%|                                                                        | 1111/1073954 [00:41<10:42:07, 27.85it/s]"
     ]
    },
    {
     "name": "stdout",
     "output_type": "stream",
     "text": [
      "torch.Size([1, 7])\n",
      "torch.Size([1, 4])\n",
      "torch.Size([1, 10])\n",
      "torch.Size([1, 7])\n",
      "torch.Size([1, 10])\n",
      "torch.Size([1, 10])\n"
     ]
    },
    {
     "name": "stderr",
     "output_type": "stream",
     "text": [
      "  0%|                                                                        | 1117/1073954 [00:41<11:19:16, 26.32it/s]"
     ]
    },
    {
     "name": "stdout",
     "output_type": "stream",
     "text": [
      "torch.Size([1, 10])\n",
      "torch.Size([1, 7])\n",
      "torch.Size([1, 6])\n",
      "torch.Size([1, 5])\n",
      "torch.Size([1, 5])\n",
      "torch.Size([1, 7])\n"
     ]
    },
    {
     "name": "stderr",
     "output_type": "stream",
     "text": [
      "  0%|                                                                        | 1124/1073954 [00:41<11:20:36, 26.27it/s]"
     ]
    },
    {
     "name": "stdout",
     "output_type": "stream",
     "text": [
      "torch.Size([1, 8])\n",
      "torch.Size([1, 6])\n",
      "torch.Size([1, 6])\n",
      "torch.Size([1, 12])\n",
      "torch.Size([1, 5])\n"
     ]
    },
    {
     "name": "stderr",
     "output_type": "stream",
     "text": [
      "  0%|                                                                        | 1130/1073954 [00:41<11:22:41, 26.19it/s]"
     ]
    },
    {
     "name": "stdout",
     "output_type": "stream",
     "text": [
      "torch.Size([1, 6])\n",
      "torch.Size([1, 7])\n",
      "torch.Size([1, 14])\n",
      "torch.Size([1, 6])\n",
      "torch.Size([1, 9])\n"
     ]
    },
    {
     "name": "stderr",
     "output_type": "stream",
     "text": [
      "\r",
      "  0%|                                                                        | 1133/1073954 [00:41<11:13:16, 26.56it/s]"
     ]
    },
    {
     "name": "stdout",
     "output_type": "stream",
     "text": [
      "torch.Size([1, 9])\n",
      "torch.Size([1, 8])\n",
      "torch.Size([1, 6])\n",
      "torch.Size([1, 12])\n",
      "torch.Size([1, 14])\n",
      "torch.Size([1, 5])\n"
     ]
    },
    {
     "name": "stderr",
     "output_type": "stream",
     "text": [
      "  0%|                                                                        | 1139/1073954 [00:42<11:17:34, 26.39it/s]"
     ]
    },
    {
     "name": "stdout",
     "output_type": "stream",
     "text": [
      "torch.Size([1, 10])\n",
      "torch.Size([1, 5])\n",
      "torch.Size([1, 6])\n",
      "torch.Size([1, 8])\n",
      "torch.Size([1, 6])\n",
      "torch.Size([1, 7])\n"
     ]
    },
    {
     "name": "stderr",
     "output_type": "stream",
     "text": [
      "  0%|                                                                        | 1145/1073954 [00:42<11:10:10, 26.68it/s]"
     ]
    },
    {
     "name": "stdout",
     "output_type": "stream",
     "text": [
      "torch.Size([1, 11])\n",
      "torch.Size([1, 4])\n",
      "torch.Size([1, 9])\n",
      "torch.Size([1, 7])\n",
      "torch.Size([1, 6])\n",
      "torch.Size([1, 6])\n"
     ]
    },
    {
     "name": "stderr",
     "output_type": "stream",
     "text": [
      "  0%|                                                                        | 1151/1073954 [00:42<10:42:37, 27.82it/s]"
     ]
    },
    {
     "name": "stdout",
     "output_type": "stream",
     "text": [
      "torch.Size([1, 6])\n",
      "torch.Size([1, 9])\n",
      "torch.Size([1, 6])\n",
      "torch.Size([1, 9])\n",
      "torch.Size([1, 6])\n",
      "torch.Size([1, 9])\n"
     ]
    },
    {
     "name": "stderr",
     "output_type": "stream",
     "text": [
      "  0%|                                                                        | 1157/1073954 [00:42<10:33:30, 28.22it/s]"
     ]
    },
    {
     "name": "stdout",
     "output_type": "stream",
     "text": [
      "torch.Size([1, 8])\n",
      "torch.Size([1, 6])\n",
      "torch.Size([1, 5])\n",
      "torch.Size([1, 9])\n",
      "torch.Size([1, 13])\n",
      "torch.Size([1, 9])\n"
     ]
    },
    {
     "name": "stderr",
     "output_type": "stream",
     "text": [
      "  0%|                                                                        | 1163/1073954 [00:43<10:58:59, 27.13it/s]"
     ]
    },
    {
     "name": "stdout",
     "output_type": "stream",
     "text": [
      "torch.Size([1, 5])\n",
      "torch.Size([1, 6])\n",
      "torch.Size([1, 11])\n",
      "torch.Size([1, 9])\n",
      "torch.Size([1, 6])\n",
      "torch.Size([1, 6])\n"
     ]
    },
    {
     "name": "stderr",
     "output_type": "stream",
     "text": [
      "  0%|                                                                        | 1169/1073954 [00:43<11:17:05, 26.41it/s]"
     ]
    },
    {
     "name": "stdout",
     "output_type": "stream",
     "text": [
      "torch.Size([1, 15])\n",
      "torch.Size([1, 8])\n",
      "torch.Size([1, 4])\n",
      "torch.Size([1, 7])\n",
      "torch.Size([1, 10])\n",
      "torch.Size([1, 4])\n"
     ]
    },
    {
     "name": "stderr",
     "output_type": "stream",
     "text": [
      "  0%|                                                                        | 1175/1073954 [00:43<10:45:40, 27.69it/s]"
     ]
    },
    {
     "name": "stdout",
     "output_type": "stream",
     "text": [
      "torch.Size([1, 5])\n",
      "torch.Size([1, 7])\n",
      "torch.Size([1, 5])\n",
      "torch.Size([1, 7])\n",
      "torch.Size([1, 3])\n",
      "torch.Size([1, 5])\n"
     ]
    },
    {
     "name": "stderr",
     "output_type": "stream",
     "text": [
      "  0%|                                                                        | 1181/1073954 [00:43<10:34:50, 28.16it/s]"
     ]
    },
    {
     "name": "stdout",
     "output_type": "stream",
     "text": [
      "torch.Size([1, 4])\n",
      "torch.Size([1, 7])\n",
      "torch.Size([1, 12])\n",
      "torch.Size([1, 12])\n",
      "torch.Size([1, 10])\n",
      "torch.Size([1, 16])\n"
     ]
    },
    {
     "name": "stderr",
     "output_type": "stream",
     "text": [
      "  0%|                                                                        | 1187/1073954 [00:44<12:35:27, 23.67it/s]"
     ]
    },
    {
     "name": "stdout",
     "output_type": "stream",
     "text": [
      "torch.Size([1, 19])\n",
      "torch.Size([1, 12])\n",
      "torch.Size([1, 9])\n",
      "torch.Size([1, 8])\n",
      "torch.Size([1, 5])\n"
     ]
    },
    {
     "name": "stderr",
     "output_type": "stream",
     "text": [
      "  0%|                                                                        | 1193/1073954 [00:44<11:44:27, 25.38it/s]"
     ]
    },
    {
     "name": "stdout",
     "output_type": "stream",
     "text": [
      "torch.Size([1, 5])\n",
      "torch.Size([1, 9])\n",
      "torch.Size([1, 6])\n",
      "torch.Size([1, 5])\n",
      "torch.Size([1, 6])\n",
      "torch.Size([1, 4])\n",
      "torch.Size([1, 5])\n"
     ]
    },
    {
     "name": "stderr",
     "output_type": "stream",
     "text": [
      "  0%|                                                                        | 1200/1073954 [00:44<10:52:40, 27.39it/s]"
     ]
    },
    {
     "name": "stdout",
     "output_type": "stream",
     "text": [
      "torch.Size([1, 7])\n",
      "torch.Size([1, 6])\n",
      "torch.Size([1, 4])\n",
      "torch.Size([1, 9])\n",
      "torch.Size([1, 6])\n",
      "torch.Size([1, 10])\n",
      "torch.Size([1, 5])\n"
     ]
    },
    {
     "name": "stderr",
     "output_type": "stream",
     "text": [
      "  0%|                                                                        | 1206/1073954 [00:44<11:03:46, 26.94it/s]"
     ]
    },
    {
     "name": "stdout",
     "output_type": "stream",
     "text": [
      "torch.Size([1, 7])\n",
      "torch.Size([1, 12])\n",
      "torch.Size([1, 10])\n",
      "torch.Size([1, 10])\n",
      "torch.Size([1, 7])\n",
      "torch.Size([1, 7])\n"
     ]
    },
    {
     "name": "stderr",
     "output_type": "stream",
     "text": [
      "  0%|                                                                        | 1212/1073954 [00:44<11:35:52, 25.69it/s]"
     ]
    },
    {
     "name": "stdout",
     "output_type": "stream",
     "text": [
      "torch.Size([1, 18])\n",
      "torch.Size([1, 5])\n",
      "torch.Size([1, 11])\n",
      "torch.Size([1, 11])\n",
      "torch.Size([1, 7])\n"
     ]
    },
    {
     "name": "stderr",
     "output_type": "stream",
     "text": [
      "  0%|                                                                        | 1218/1073954 [00:45<11:43:30, 25.41it/s]"
     ]
    },
    {
     "name": "stdout",
     "output_type": "stream",
     "text": [
      "torch.Size([1, 7])\n",
      "torch.Size([1, 6])\n",
      "torch.Size([1, 10])\n",
      "torch.Size([1, 6])\n",
      "torch.Size([1, 11])\n",
      "torch.Size([1, 8])\n"
     ]
    },
    {
     "name": "stderr",
     "output_type": "stream",
     "text": [
      "  0%|                                                                        | 1224/1073954 [00:45<11:48:13, 25.24it/s]"
     ]
    },
    {
     "name": "stdout",
     "output_type": "stream",
     "text": [
      "torch.Size([1, 6])\n",
      "torch.Size([1, 9])\n",
      "torch.Size([1, 7])\n",
      "torch.Size([1, 8])\n",
      "torch.Size([1, 6])\n",
      "torch.Size([1, 5])\n"
     ]
    },
    {
     "name": "stderr",
     "output_type": "stream",
     "text": [
      "  0%|                                                                        | 1230/1073954 [00:45<11:17:11, 26.40it/s]"
     ]
    },
    {
     "name": "stdout",
     "output_type": "stream",
     "text": [
      "torch.Size([1, 7])\n",
      "torch.Size([1, 5])\n",
      "torch.Size([1, 8])\n",
      "torch.Size([1, 7])\n",
      "torch.Size([1, 6])\n",
      "torch.Size([1, 7])\n"
     ]
    },
    {
     "name": "stderr",
     "output_type": "stream",
     "text": [
      "  0%|                                                                        | 1237/1073954 [00:45<10:39:23, 27.96it/s]"
     ]
    },
    {
     "name": "stdout",
     "output_type": "stream",
     "text": [
      "torch.Size([1, 9])\n",
      "torch.Size([1, 4])\n",
      "torch.Size([1, 5])\n",
      "torch.Size([1, 7])\n",
      "torch.Size([1, 6])\n",
      "torch.Size([1, 4])\n",
      "torch.Size([1, 6])\n"
     ]
    },
    {
     "name": "stderr",
     "output_type": "stream",
     "text": [
      "  0%|                                                                        | 1243/1073954 [00:46<10:42:40, 27.82it/s]"
     ]
    },
    {
     "name": "stdout",
     "output_type": "stream",
     "text": [
      "torch.Size([1, 10])\n",
      "torch.Size([1, 4])\n",
      "torch.Size([1, 12])\n",
      "torch.Size([1, 8])\n",
      "torch.Size([1, 5])\n",
      "torch.Size([1, 6])\n"
     ]
    },
    {
     "name": "stderr",
     "output_type": "stream",
     "text": [
      "  0%|                                                                        | 1250/1073954 [00:46<10:07:00, 29.45it/s]"
     ]
    },
    {
     "name": "stdout",
     "output_type": "stream",
     "text": [
      "torch.Size([1, 5])\n",
      "torch.Size([1, 6])\n",
      "torch.Size([1, 5])\n",
      "torch.Size([1, 4])\n",
      "torch.Size([1, 4])\n",
      "torch.Size([1, 6])\n",
      "torch.Size([1, 8])\n"
     ]
    },
    {
     "name": "stderr",
     "output_type": "stream",
     "text": [
      "  0%|                                                                        | 1256/1073954 [00:46<10:21:50, 28.75it/s]"
     ]
    },
    {
     "name": "stdout",
     "output_type": "stream",
     "text": [
      "torch.Size([1, 8])\n",
      "torch.Size([1, 8])\n",
      "torch.Size([1, 7])\n",
      "torch.Size([1, 6])\n",
      "torch.Size([1, 7])\n",
      "torch.Size([1, 4])\n"
     ]
    },
    {
     "name": "stderr",
     "output_type": "stream",
     "text": [
      "  0%|                                                                        | 1263/1073954 [00:46<10:17:29, 28.95it/s]"
     ]
    },
    {
     "name": "stdout",
     "output_type": "stream",
     "text": [
      "torch.Size([1, 4])\n",
      "torch.Size([1, 6])\n",
      "torch.Size([1, 8])\n",
      "torch.Size([1, 9])\n",
      "torch.Size([1, 6])\n",
      "torch.Size([1, 7])\n"
     ]
    },
    {
     "name": "stderr",
     "output_type": "stream",
     "text": [
      "  0%|                                                                        | 1265/1073954 [00:46<11:02:39, 26.98it/s]\n"
     ]
    },
    {
     "name": "stdout",
     "output_type": "stream",
     "text": [
      "torch.Size([1, 8])\n",
      "torch.Size([1, 7])\n"
     ]
    },
    {
     "name": "stderr",
     "output_type": "stream",
     "text": [
      "\n",
      "KeyboardInterrupt\n",
      "\n"
     ]
    }
   ],
   "source": [
    "concepts_emb = return_embeddings_for_concepts(concepts['best_string'], biobert)\n",
    "concepts_emb['concept_name'] = concepts['STR']\n",
    "concepts_emb[['concept_name'] + list(range(len(concepts_emb.columns)-1))]\n",
    "filename = embeddings_output_filepath.replace('.csv',f'_biobert.csv')\n",
    "concepts_emb.to_csv(filename, index=False)"
   ]
  },
  {
   "cell_type": "code",
   "execution_count": null,
   "metadata": {},
   "outputs": [],
   "source": []
  }
 ],
 "metadata": {
  "kernelspec": {
   "display_name": "Python 3 (ipykernel)",
   "language": "python",
   "name": "python3"
  },
  "language_info": {
   "codemirror_mode": {
    "name": "ipython",
    "version": 3
   },
   "file_extension": ".py",
   "mimetype": "text/x-python",
   "name": "python",
   "nbconvert_exporter": "python",
   "pygments_lexer": "ipython3",
   "version": "3.9.14"
  }
 },
 "nbformat": 4,
 "nbformat_minor": 4
}
