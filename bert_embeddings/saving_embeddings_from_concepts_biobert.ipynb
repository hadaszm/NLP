{
 "cells": [
  {
   "cell_type": "code",
   "execution_count": null,
   "metadata": {},
   "outputs": [],
   "source": [
    "import pandas as pd\n",
    "import numpy as np\n",
    "import sys\n",
    "import tqdm\n",
    "import os\n",
    "import glob"
   ]
  },
  {
   "cell_type": "code",
   "execution_count": null,
   "metadata": {},
   "outputs": [],
   "source": [
    "try:\n",
    "    import google.colab\n",
    "    colab = True\n",
    "    from google.colab import drive\n",
    "    drive.mount('/content/drive')\n",
    "    \n",
    "    fine_tuned_filepath = '/content/drive/MyDrive/NLP_files/mybert.pickle'\n",
    "    concepts_filepath = '/content/drive/MyDrive/NLP_files/concepts_strings_with_ids.csv'\n",
    "    embeddings_output_filepath = '/content/drive/MyDrive/NLP_files/concepts_embeddings.csv'\n",
    "    device_name = 'cuda'\n",
    "    sys.path.append('/content/drive/MyDrive/NLP/bert_embeddings')\n",
    "    print(sys.path[-1])\n",
    "except ImportError:\n",
    "    colab = False\n",
    "    fine_tuned_filepath = '../models/mybert.pickle'\n",
    "    concepts_filepath = '../data/concepts_strings_with_ids.csv'\n",
    "    embeddings_output_filepath = '../results/embeddings/concepts_embeddings.csv'\n",
    "    device_name = 'cpu'\n",
    "from emb_helpers import * \n"
   ]
  },
  {
   "cell_type": "code",
   "execution_count": null,
   "metadata": {},
   "outputs": [],
   "source": [
    "!pip install transformers"
   ]
  },
  {
   "cell_type": "code",
   "execution_count": null,
   "metadata": {},
   "outputs": [],
   "source": [
    "!rm -R /content/drive/MyDrive/NLP\n",
    "!git clone https://github.com/hadaszm/NLP.git /content/drive/MyDrive/NLP"
   ]
  },
  {
   "cell_type": "code",
   "execution_count": null,
   "metadata": {},
   "outputs": [],
   "source": [
    "concepts = pd.read_csv(concepts_filepath)"
   ]
  },
  {
   "cell_type": "code",
   "execution_count": null,
   "metadata": {},
   "outputs": [],
   "source": [
    "from transformers import AutoTokenizer, AutoModel\n",
    "\n",
    "biobert = AutoModel.from_pretrained(\"dmis-lab/biobert-v1.1\")"
   ]
  },
  {
   "cell_type": "code",
   "execution_count": null,
   "metadata": {},
   "outputs": [],
   "source": [
    "concepts_emb = return_embeddings_for_concepts(concepts['best_string'], biobert)\n",
    "concepts_emb['concept_name'] = concepts['STR']\n",
    "concepts_emb[['concept_name'] + list(range(len(concepts_emb.columns)-1))]\n",
    "filename = embeddings_output_filepath.replace('.csv',f'_biobert.csv')\n",
    "concepts_emb.to_csv(filename, index=False)"
   ]
  },
  {
   "cell_type": "code",
   "execution_count": null,
   "metadata": {},
   "outputs": [],
   "source": []
  }
 ],
 "metadata": {
  "kernelspec": {
   "display_name": "Python 3 (ipykernel)",
   "language": "python",
   "name": "python3"
  },
  "language_info": {
   "codemirror_mode": {
    "name": "ipython",
    "version": 3
   },
   "file_extension": ".py",
   "mimetype": "text/x-python",
   "name": "python",
   "nbconvert_exporter": "python",
   "pygments_lexer": "ipython3",
   "version": "3.9.14"
  }
 },
 "nbformat": 4,
 "nbformat_minor": 4
}
