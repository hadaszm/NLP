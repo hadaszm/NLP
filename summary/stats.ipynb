{
 "cells": [
  {
   "cell_type": "code",
   "execution_count": 1,
   "id": "6186f020",
   "metadata": {},
   "outputs": [],
   "source": [
    "import pandas as pd "
   ]
  },
  {
   "cell_type": "code",
   "execution_count": 2,
   "id": "3e95bf84",
   "metadata": {},
   "outputs": [],
   "source": [
    "import numpy as np"
   ]
  },
  {
   "cell_type": "code",
   "execution_count": 3,
   "id": "ec41667e",
   "metadata": {},
   "outputs": [],
   "source": [
    "def precision(TP, FP): \n",
    "    return TP/(TP+FP)\n",
    "\n",
    "def recall(TP, FN): \n",
    "    return TP/(TP+FN)\n",
    "\n",
    "def F1(precision, recall):\n",
    "    return 2/(1/precision + 1/recall)"
   ]
  },
  {
   "cell_type": "code",
   "execution_count": 52,
   "id": "6a3c0556",
   "metadata": {},
   "outputs": [],
   "source": [
    "def return_TP_FN_FP(keywords, ground_truth):\n",
    "    keywords = set(keywords)\n",
    "    ground_truth = set(ground_truth)\n",
    "    TP = len(keywords.intersection(ground_truth) )\n",
    "    FN = len(keywords.difference(ground_truth))\n",
    "    FP = len(ground_truth.difference(keywords))\n",
    "    return np.array([TP, FN, FP])"
   ]
  },
  {
   "cell_type": "code",
   "execution_count": 5,
   "id": "89d0e50f",
   "metadata": {},
   "outputs": [],
   "source": [
    "concepts_mapping = pd.read_csv('../data/ids_to_concept_mapping.csv')"
   ]
  },
  {
   "cell_type": "code",
   "execution_count": 7,
   "id": "0da2aff9",
   "metadata": {},
   "outputs": [],
   "source": [
    "taggs = pd.read_csv('../results/tagged_bertopic_bert_pretrained.csv')"
   ]
  },
  {
   "cell_type": "code",
   "execution_count": 37,
   "id": "ad8bcb24",
   "metadata": {},
   "outputs": [
    {
     "data": {
      "text/html": [
       "<div>\n",
       "<style scoped>\n",
       "    .dataframe tbody tr th:only-of-type {\n",
       "        vertical-align: middle;\n",
       "    }\n",
       "\n",
       "    .dataframe tbody tr th {\n",
       "        vertical-align: top;\n",
       "    }\n",
       "\n",
       "    .dataframe thead th {\n",
       "        text-align: right;\n",
       "    }\n",
       "</style>\n",
       "<table border=\"1\" class=\"dataframe\">\n",
       "  <thead>\n",
       "    <tr style=\"text-align: right;\">\n",
       "      <th></th>\n",
       "      <th>PMID</th>\n",
       "      <th>Unique_concepts</th>\n",
       "    </tr>\n",
       "  </thead>\n",
       "  <tbody>\n",
       "    <tr>\n",
       "      <th>0</th>\n",
       "      <td>25763772</td>\n",
       "      <td>C4308010</td>\n",
       "    </tr>\n",
       "    <tr>\n",
       "      <th>0</th>\n",
       "      <td>25763772</td>\n",
       "      <td>C0854135</td>\n",
       "    </tr>\n",
       "    <tr>\n",
       "      <th>0</th>\n",
       "      <td>25763772</td>\n",
       "      <td>C0010674</td>\n",
       "    </tr>\n",
       "    <tr>\n",
       "      <th>0</th>\n",
       "      <td>25763772</td>\n",
       "      <td>C0024115</td>\n",
       "    </tr>\n",
       "    <tr>\n",
       "      <th>0</th>\n",
       "      <td>25763772</td>\n",
       "      <td>C3160731</td>\n",
       "    </tr>\n",
       "  </tbody>\n",
       "</table>\n",
       "</div>"
      ],
      "text/plain": [
       "       PMID Unique_concepts\n",
       "0  25763772        C4308010\n",
       "0  25763772        C0854135\n",
       "0  25763772        C0010674\n",
       "0  25763772        C0024115\n",
       "0  25763772        C3160731"
      ]
     },
     "execution_count": 37,
     "metadata": {},
     "output_type": "execute_result"
    }
   ],
   "source": [
    "ground_truth = pd.read_csv('../data/concepts_per_document.csv').drop('Concepts', axis=1)\n",
    "ground_truth['Unique_concepts'] = ground_truth['Unique_concepts'].apply(lambda x: x.replace('\\r\\n', '').replace('\\' \\'','\\',\\'')).apply(eval)\n",
    "ground_truth = ground_truth.explode('Unique_concepts')\n",
    "assert max(ground_truth['Unique_concepts'].apply(lambda x: x.count('U'))) == 1\n",
    "ground_truth['Unique_concepts'] = ground_truth['Unique_concepts'].apply(lambda x: x.replace('UMLS:', ''))\n",
    "ground_truth.head()"
   ]
  },
  {
   "cell_type": "code",
   "execution_count": 38,
   "id": "b87aa866",
   "metadata": {},
   "outputs": [],
   "source": [
    "merged = ground_truth.merge(concepts_mapping, left_on=['Unique_concepts'], right_on=['concept_id'], how='inner')"
   ]
  },
  {
   "cell_type": "code",
   "execution_count": 39,
   "id": "7a1bee26",
   "metadata": {},
   "outputs": [],
   "source": [
    "def collect_list(x): \n",
    "    result= {}\n",
    "    result['ground_truth'] = list(x['concept_name'])\n",
    "    return pd.Series(result, index=['ground_truth'])\n",
    "ground_truth = merged.groupby('PMID').apply(collect_list).reset_index()"
   ]
  },
  {
   "cell_type": "code",
   "execution_count": 44,
   "id": "877f0bf5",
   "metadata": {},
   "outputs": [],
   "source": [
    "test_data = ground_truth.merge(taggs)"
   ]
  },
  {
   "cell_type": "code",
   "execution_count": 45,
   "id": "f5e5602d",
   "metadata": {},
   "outputs": [
    {
     "data": {
      "text/html": [
       "<div>\n",
       "<style scoped>\n",
       "    .dataframe tbody tr th:only-of-type {\n",
       "        vertical-align: middle;\n",
       "    }\n",
       "\n",
       "    .dataframe tbody tr th {\n",
       "        vertical-align: top;\n",
       "    }\n",
       "\n",
       "    .dataframe thead th {\n",
       "        text-align: right;\n",
       "    }\n",
       "</style>\n",
       "<table border=\"1\" class=\"dataframe\">\n",
       "  <thead>\n",
       "    <tr style=\"text-align: right;\">\n",
       "      <th></th>\n",
       "      <th>PMID</th>\n",
       "      <th>ground_truth</th>\n",
       "      <th>tagged_words</th>\n",
       "    </tr>\n",
       "  </thead>\n",
       "  <tbody>\n",
       "    <tr>\n",
       "      <th>0</th>\n",
       "      <td>26868132</td>\n",
       "      <td>[Population Groups, Persons, RBP4 protein, hum...</td>\n",
       "      <td>['Hyperemia', 'HN Protein', 'Intention', 'Insu...</td>\n",
       "    </tr>\n",
       "  </tbody>\n",
       "</table>\n",
       "</div>"
      ],
      "text/plain": [
       "       PMID                                       ground_truth  \\\n",
       "0  26868132  [Population Groups, Persons, RBP4 protein, hum...   \n",
       "\n",
       "                                        tagged_words  \n",
       "0  ['Hyperemia', 'HN Protein', 'Intention', 'Insu...  "
      ]
     },
     "execution_count": 45,
     "metadata": {},
     "output_type": "execute_result"
    }
   ],
   "source": [
    "test_data.head(1)"
   ]
  },
  {
   "cell_type": "code",
   "execution_count": 53,
   "id": "5201b995",
   "metadata": {},
   "outputs": [],
   "source": [
    "TP_FN_FP = np.zeros((3,))\n",
    "for i, row in test_data.iterrows(): \n",
    "    TP_FN_FP += return_TP_FN_FP(eval(row['tagged_words']), row['ground_truth'])"
   ]
  },
  {
   "cell_type": "code",
   "execution_count": 56,
   "id": "8de4b871",
   "metadata": {},
   "outputs": [
    {
     "data": {
      "text/plain": [
       "(0.01000071947622131, 0.0158947970268725)"
      ]
     },
     "execution_count": 56,
     "metadata": {},
     "output_type": "execute_result"
    }
   ],
   "source": [
    "precision_ = precision(TP_FN_FP[0], TP_FN_FP[2])\n",
    "recall_ = recall(TP_FN_FP[0], TP_FN_FP[1])\n",
    "precision_, recall_\n"
   ]
  },
  {
   "cell_type": "code",
   "execution_count": 58,
   "id": "b4dfe8e4",
   "metadata": {},
   "outputs": [
    {
     "data": {
      "text/plain": [
       "0.012276982865218158"
      ]
     },
     "execution_count": 58,
     "metadata": {},
     "output_type": "execute_result"
    }
   ],
   "source": [
    "F1(precision_, recall_)"
   ]
  },
  {
   "cell_type": "code",
   "execution_count": null,
   "id": "02f13fc7",
   "metadata": {},
   "outputs": [],
   "source": []
  }
 ],
 "metadata": {
  "kernelspec": {
   "display_name": "Python 3 (ipykernel)",
   "language": "python",
   "name": "python3"
  },
  "language_info": {
   "codemirror_mode": {
    "name": "ipython",
    "version": 3
   },
   "file_extension": ".py",
   "mimetype": "text/x-python",
   "name": "python",
   "nbconvert_exporter": "python",
   "pygments_lexer": "ipython3",
   "version": "3.9.14"
  }
 },
 "nbformat": 4,
 "nbformat_minor": 5
}
