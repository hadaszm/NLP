{
 "cells": [
  {
   "cell_type": "code",
   "execution_count": 7,
   "metadata": {},
   "outputs": [],
   "source": [
    "import os\n",
    "import pandas as pd\n",
    "from bertopic import BERTopic"
   ]
  },
  {
   "cell_type": "code",
   "execution_count": 2,
   "metadata": {},
   "outputs": [],
   "source": [
    "data_path = '../CRAFT/data/'"
   ]
  },
  {
   "cell_type": "code",
   "execution_count": 11,
   "metadata": {},
   "outputs": [],
   "source": [
    "ontologies = os.listdir(data_path)\n",
    "ontologies = [o for o in ontologies if os.path.isdir(os.path.join(data_path, o))]"
   ]
  },
  {
   "cell_type": "code",
   "execution_count": 53,
   "metadata": {},
   "outputs": [],
   "source": [
    "dfs = []\n",
    "for o in ontologies:\n",
    "    dfs.append(pd.read_csv(os.path.join(data_path, o, \"annotations.csv\"))[['PMID', 'MentionTextSegment']])\n",
    "mentions = pd.concat(dfs)\n",
    "mentions = mentions.groupby('PMID').apply(lambda x: (list(x.MentionTextSegment)))"
   ]
  },
  {
   "cell_type": "code",
   "execution_count": 54,
   "metadata": {},
   "outputs": [
    {
     "data": {
      "text/plain": [
       "PMID\n",
       "11319941    [neuron, neuron, neuron, neuron, neuron, neuro...\n",
       "11532192    [biological pigment, aging, circadian rhythm, ...\n",
       "11597317    [double-strand break repair via homologous rec...\n",
       "11604102    [gene expression, gene expression, gene expres...\n",
       "11897010    [cation, ion, alternative mRNA splicing, via s...\n",
       "                                  ...                        \n",
       "17565376    [T cell, M cell of gut, Peyer's patch developm...\n",
       "17590087    [Purkinje cell, gene expression, autosome, aut...\n",
       "17608565    [acetylcholine, neuron, neuron, amacrine cell,...\n",
       "17677002    [polyatomic entity, polyatomic entity, neuron,...\n",
       "17696610    [okadaic acid, spermatocyte, oocyte, spermatoc...\n",
       "Length: 97, dtype: object"
      ]
     },
     "execution_count": 54,
     "metadata": {},
     "output_type": "execute_result"
    }
   ],
   "source": [
    "mentions"
   ]
  },
  {
   "cell_type": "code",
   "execution_count": 55,
   "metadata": {},
   "outputs": [],
   "source": [
    "## Training"
   ]
  },
  {
   "cell_type": "code",
   "execution_count": 56,
   "metadata": {},
   "outputs": [],
   "source": [
    "def transform_strings_to_arrays(df, col_names = ['tokenized_sentences', 'tokenized_words', 'tokenized_words_processed', 'tokenized_words_no_stopwords', 'tokenized_words_lemmatize']):\n",
    "    for col in col_names:\n",
    "        df[col] = df[col].apply(eval)\n",
    "    return df"
   ]
  },
  {
   "cell_type": "code",
   "execution_count": null,
   "metadata": {},
   "outputs": [],
   "source": [
    "# basic BertTopic keyword extraction\n",
    "def train_transform(train_data, model_save_name, min_topic_size=10):\n",
    "    \n",
    "    # train transform\n",
    "    topic_model = BERTopic(min_topic_size=min_topic_size)\n",
    "    topics, probs = topic_model.fit_transform(train_data.values)\n",
    "\n",
    "    return topic_model, topics, probs"
   ]
  },
  {
   "cell_type": "code",
   "execution_count": null,
   "metadata": {},
   "outputs": [],
   "source": [
    "train_full_data = transform_strings_to_arrays(pd.read_csv(train_data_path))\n",
    "\n",
    "train_data = train_full_data.groupby(by = ['PMID'])['tokenized_words_processed'].agg(lambda x: ' '.join(x.values[0] + x.values[1]))\n",
    "\n",
    "topic_model, topics, probs = train_transform(train_data)"
   ]
  }
 ],
 "metadata": {
  "kernelspec": {
   "display_name": "nlp",
   "language": "python",
   "name": "python3"
  },
  "language_info": {
   "codemirror_mode": {
    "name": "ipython",
    "version": 3
   },
   "file_extension": ".py",
   "mimetype": "text/x-python",
   "name": "python",
   "nbconvert_exporter": "python",
   "pygments_lexer": "ipython3",
   "version": "3.9.13"
  },
  "orig_nbformat": 4,
  "vscode": {
   "interpreter": {
    "hash": "88ba28277a1630fc5f744f385ba08b8a5477e64ab64787e3b7b12637e39579c4"
   }
  }
 },
 "nbformat": 4,
 "nbformat_minor": 2
}
