{
 "cells": [
  {
   "cell_type": "markdown",
   "metadata": {},
   "source": [
    "## Definitions"
   ]
  },
  {
   "cell_type": "code",
   "execution_count": 1,
   "metadata": {},
   "outputs": [],
   "source": [
    "\n",
    "input_data_type = 'nostopwords'\n",
    "train_path = f'../results/bertopic/bertopic_{input_data_type}_data_2022-11-24_14-26-06_train.csv'\n",
    "test_path = f'../results/bertopic/bertopic_{input_data_type}_data_2022-11-24_14-26-06_test.csv'\n",
    "\n",
    "results_folder = '../results/bertopic_ncbo/'"
   ]
  },
  {
   "cell_type": "code",
   "execution_count": 2,
   "metadata": {},
   "outputs": [],
   "source": [
    "UMLS_ST21pv_ontologies_ids = ['CPT', 'FMA', 'GO', 'HGNC', 'HPO', 'ICD10', 'ICD10CM', 'ICD9CM', 'MDR', 'MSH', 'MTH', 'NCBI', 'NCI', 'NDDF', 'NDFRT', 'OMIM', 'RXNORM', 'SNOMEDCT_US']\n",
    "\n",
    "# HPO = HP\n",
    "# MDR = MEDDRA\n",
    "# MSH = MESH\n",
    "# MTH = ?\n",
    "# NCBI = NCBITAXON\n",
    "# NCI = NCIT\n",
    "# SNOMEDCT_US = SNMI\n",
    "UMLS_NCBO_ST21pv_ontologies_ids = ['CPT', 'FMA', 'GO', 'HGNC', 'HP', 'ICD10', 'ICD10CM', 'ICD9CM', 'MEDDRA', 'MESH', 'NCBITAXON', 'NCIT', 'NDDF', 'NDFRT', 'OMIM', 'RXNORM', 'SNMI']\n",
    "\n",
    "\n",
    "UMLS_ST21pv_semantic_types_ids = ['T005', 'T007', 'T017', 'T022', 'T031', 'T033', 'T037', 'T038',\n",
    "'T058', 'T062', 'T074', 'T082', 'T091', 'T092', 'T097', 'T098', 'T103', 'T168', 'T170', 'T201', 'T204']"
   ]
  },
  {
   "cell_type": "markdown",
   "metadata": {},
   "source": [
    "## Read the data to annotate"
   ]
  },
  {
   "cell_type": "code",
   "execution_count": 3,
   "metadata": {},
   "outputs": [],
   "source": [
    "def transform_strings_to_arrays(df, col_names = ['tokenized_sentences', 'tokenized_words', 'tokenized_words_processed', 'tokenized_words_no_stopwords']):\n",
    "    for col in col_names:\n",
    "        df[col] = df[col].apply(eval)\n",
    "    return df"
   ]
  },
  {
   "cell_type": "code",
   "execution_count": 4,
   "metadata": {},
   "outputs": [],
   "source": [
    "import datetime\n",
    "def get_now_str():\n",
    "    return datetime.datetime.now().strftime(\"%Y-%m-%d_%H-%M-%S\")"
   ]
  },
  {
   "cell_type": "code",
   "execution_count": 5,
   "metadata": {},
   "outputs": [],
   "source": [
    "import pandas as pd\n",
    "import re\n",
    "\n",
    "def read_berttopic_results(path):\n",
    "    data = pd.read_csv(path, index_col=0)\n",
    "    data = transform_strings_to_arrays(data, col_names = ['topic_keywords'])\n",
    "    data['text_to_annotate'] = data.topic_keywords.apply(\n",
    "        lambda row: re.sub(r\"[\\'\\[\\]]\", \"\", str([keyword[0] for keyword in row]))\n",
    "        )\n",
    "        \n",
    "    return data"
   ]
  },
  {
   "cell_type": "code",
   "execution_count": 6,
   "metadata": {},
   "outputs": [],
   "source": [
    "train_data = read_berttopic_results(train_path)\n",
    "test_data = read_berttopic_results(test_path)"
   ]
  },
  {
   "cell_type": "code",
   "execution_count": 7,
   "metadata": {},
   "outputs": [
    {
     "data": {
      "text/html": [
       "<div>\n",
       "<style scoped>\n",
       "    .dataframe tbody tr th:only-of-type {\n",
       "        vertical-align: middle;\n",
       "    }\n",
       "\n",
       "    .dataframe tbody tr th {\n",
       "        vertical-align: top;\n",
       "    }\n",
       "\n",
       "    .dataframe thead th {\n",
       "        text-align: right;\n",
       "    }\n",
       "</style>\n",
       "<table border=\"1\" class=\"dataframe\">\n",
       "  <thead>\n",
       "    <tr style=\"text-align: right;\">\n",
       "      <th></th>\n",
       "      <th>PMID</th>\n",
       "      <th>topic_number</th>\n",
       "      <th>topic_probs</th>\n",
       "      <th>topic_keywords</th>\n",
       "      <th>text_to_annotate</th>\n",
       "    </tr>\n",
       "  </thead>\n",
       "  <tbody>\n",
       "    <tr>\n",
       "      <th>0</th>\n",
       "      <td>25763772</td>\n",
       "      <td>7</td>\n",
       "      <td>0.572430</td>\n",
       "      <td>[(isolates, 0.05042230174446078), (infection, ...</td>\n",
       "      <td>isolates, infection, infections, transmission,...</td>\n",
       "    </tr>\n",
       "    <tr>\n",
       "      <th>1</th>\n",
       "      <td>25847295</td>\n",
       "      <td>45</td>\n",
       "      <td>1.000000</td>\n",
       "      <td>[(coumarin, 0.06773487533928456), (antioxidant...</td>\n",
       "      <td>coumarin, antioxidant, pfos, nonylphenol, diet...</td>\n",
       "    </tr>\n",
       "    <tr>\n",
       "      <th>2</th>\n",
       "      <td>26316050</td>\n",
       "      <td>3</td>\n",
       "      <td>0.828241</td>\n",
       "      <td>[(nanoparticles, 0.039172866449073675), (nps, ...</td>\n",
       "      <td>nanoparticles, nps, silk, films, coatings, sur...</td>\n",
       "    </tr>\n",
       "    <tr>\n",
       "      <th>3</th>\n",
       "      <td>26406200</td>\n",
       "      <td>18</td>\n",
       "      <td>0.837246</td>\n",
       "      <td>[(muscle, 0.038904659277154356), (walking, 0.0...</td>\n",
       "      <td>muscle, walking, exercise, gait, speed, standi...</td>\n",
       "    </tr>\n",
       "    <tr>\n",
       "      <th>4</th>\n",
       "      <td>26424709</td>\n",
       "      <td>0</td>\n",
       "      <td>0.801365</td>\n",
       "      <td>[(health, 0.027007069710077814), (students, 0....</td>\n",
       "      <td>health, students, study, participants, mental,...</td>\n",
       "    </tr>\n",
       "    <tr>\n",
       "      <th>...</th>\n",
       "      <td>...</td>\n",
       "      <td>...</td>\n",
       "      <td>...</td>\n",
       "      <td>...</td>\n",
       "      <td>...</td>\n",
       "    </tr>\n",
       "    <tr>\n",
       "      <th>3508</th>\n",
       "      <td>28549399</td>\n",
       "      <td>0</td>\n",
       "      <td>0.807432</td>\n",
       "      <td>[(health, 0.027007069710077814), (students, 0....</td>\n",
       "      <td>health, students, study, participants, mental,...</td>\n",
       "    </tr>\n",
       "    <tr>\n",
       "      <th>3509</th>\n",
       "      <td>28549760</td>\n",
       "      <td>6</td>\n",
       "      <td>1.000000</td>\n",
       "      <td>[(diabetes, 0.0369171787521816), (obesity, 0.0...</td>\n",
       "      <td>diabetes, obesity, intake, bmi, metabolic, adu...</td>\n",
       "    </tr>\n",
       "    <tr>\n",
       "      <th>3510</th>\n",
       "      <td>28550154</td>\n",
       "      <td>3</td>\n",
       "      <td>1.000000</td>\n",
       "      <td>[(nanoparticles, 0.039172866449073675), (nps, ...</td>\n",
       "      <td>nanoparticles, nps, silk, films, coatings, sur...</td>\n",
       "    </tr>\n",
       "    <tr>\n",
       "      <th>3511</th>\n",
       "      <td>28550348</td>\n",
       "      <td>-1</td>\n",
       "      <td>0.000000</td>\n",
       "      <td>[(patients, 0.009029385224441256), (study, 0.0...</td>\n",
       "      <td>patients, study, cells, treatment, results, ex...</td>\n",
       "    </tr>\n",
       "    <tr>\n",
       "      <th>3512</th>\n",
       "      <td>28550521</td>\n",
       "      <td>8</td>\n",
       "      <td>0.425838</td>\n",
       "      <td>[(images, 0.03884403340935491), (image, 0.0315...</td>\n",
       "      <td>images, image, mri, imaging, ct, adc, mm, meth...</td>\n",
       "    </tr>\n",
       "  </tbody>\n",
       "</table>\n",
       "<p>3513 rows × 5 columns</p>\n",
       "</div>"
      ],
      "text/plain": [
       "          PMID  topic_number  topic_probs  \\\n",
       "0     25763772             7     0.572430   \n",
       "1     25847295            45     1.000000   \n",
       "2     26316050             3     0.828241   \n",
       "3     26406200            18     0.837246   \n",
       "4     26424709             0     0.801365   \n",
       "...        ...           ...          ...   \n",
       "3508  28549399             0     0.807432   \n",
       "3509  28549760             6     1.000000   \n",
       "3510  28550154             3     1.000000   \n",
       "3511  28550348            -1     0.000000   \n",
       "3512  28550521             8     0.425838   \n",
       "\n",
       "                                         topic_keywords  \\\n",
       "0     [(isolates, 0.05042230174446078), (infection, ...   \n",
       "1     [(coumarin, 0.06773487533928456), (antioxidant...   \n",
       "2     [(nanoparticles, 0.039172866449073675), (nps, ...   \n",
       "3     [(muscle, 0.038904659277154356), (walking, 0.0...   \n",
       "4     [(health, 0.027007069710077814), (students, 0....   \n",
       "...                                                 ...   \n",
       "3508  [(health, 0.027007069710077814), (students, 0....   \n",
       "3509  [(diabetes, 0.0369171787521816), (obesity, 0.0...   \n",
       "3510  [(nanoparticles, 0.039172866449073675), (nps, ...   \n",
       "3511  [(patients, 0.009029385224441256), (study, 0.0...   \n",
       "3512  [(images, 0.03884403340935491), (image, 0.0315...   \n",
       "\n",
       "                                       text_to_annotate  \n",
       "0     isolates, infection, infections, transmission,...  \n",
       "1     coumarin, antioxidant, pfos, nonylphenol, diet...  \n",
       "2     nanoparticles, nps, silk, films, coatings, sur...  \n",
       "3     muscle, walking, exercise, gait, speed, standi...  \n",
       "4     health, students, study, participants, mental,...  \n",
       "...                                                 ...  \n",
       "3508  health, students, study, participants, mental,...  \n",
       "3509  diabetes, obesity, intake, bmi, metabolic, adu...  \n",
       "3510  nanoparticles, nps, silk, films, coatings, sur...  \n",
       "3511  patients, study, cells, treatment, results, ex...  \n",
       "3512  images, image, mri, imaging, ct, adc, mm, meth...  \n",
       "\n",
       "[3513 rows x 5 columns]"
      ]
     },
     "execution_count": 7,
     "metadata": {},
     "output_type": "execute_result"
    }
   ],
   "source": [
    "train_data"
   ]
  },
  {
   "cell_type": "markdown",
   "metadata": {},
   "source": [
    "## NCBO tagger API connection"
   ]
  },
  {
   "cell_type": "code",
   "execution_count": 8,
   "metadata": {},
   "outputs": [],
   "source": [
    "import urllib.request, urllib.error, urllib.parse\n",
    "import json\n",
    "import os\n",
    "from pprint import pprint\n",
    "\n",
    "REST_URL = \"http://data.bioontology.org\"\n",
    "API_KEY = \"194c9635-ce67-4e70-81c5-898c3a2b30fb\"\n",
    "\n",
    "def get_json(url):\n",
    "    opener = urllib.request.build_opener()\n",
    "    opener.addheaders = [('Authorization', 'apikey token=' + API_KEY)]\n",
    "    return json.loads(opener.open(url).read())\n",
    "\n",
    "def print_annotations(annotations, get_class=True):\n",
    "    for result in annotations:\n",
    "        class_details = result[\"annotatedClass\"]\n",
    "        if get_class:\n",
    "            try:\n",
    "                class_details = get_json(result[\"annotatedClass\"][\"links\"][\"self\"])\n",
    "            except urllib.error.HTTPError:\n",
    "                print(f\"Error retrieving {result['annotatedClass']['@id']}\")\n",
    "                continue\n",
    "        print(\"Class details\")\n",
    "        print(\"\\tid: \" + class_details[\"@id\"])\n",
    "        print(\"\\tprefLabel: \" + class_details[\"prefLabel\"])\n",
    "        print(\"\\tontology: \" + class_details[\"links\"][\"ontology\"])\n",
    "\n",
    "        print(\"Annotation details\")\n",
    "        for annotation in result[\"annotations\"]:\n",
    "            print(\"\\tfrom: \" + str(annotation[\"from\"]))\n",
    "            print(\"\\tto: \" + str(annotation[\"to\"]))\n",
    "            print(\"\\tmatch type: \" + annotation[\"matchType\"])\n",
    "\n",
    "        if result[\"hierarchy\"]:\n",
    "            print(\"\\n\\tHierarchy annotations\")\n",
    "            for annotation in result[\"hierarchy\"]:\n",
    "                try:\n",
    "                    class_details = get_json(annotation[\"annotatedClass\"][\"links\"][\"self\"])\n",
    "                except urllib.error.HTTPError:\n",
    "                    print(f\"Error retrieving {annotation['annotatedClass']['@id']}\")\n",
    "                    continue\n",
    "                pref_label = class_details[\"prefLabel\"] or \"no label\"\n",
    "                print(\"\\t\\tClass details\")\n",
    "                print(\"\\t\\t\\tid: \" + class_details[\"@id\"])\n",
    "                print(\"\\t\\t\\tprefLabel: \" + class_details[\"prefLabel\"])\n",
    "                print(\"\\t\\t\\tontology: \" + class_details[\"links\"][\"ontology\"])\n",
    "                print(\"\\t\\t\\tdistance from originally annotated class: \" + str(annotation[\"distance\"]))\n",
    "\n",
    "        print(\"\\n\\n\")"
   ]
  },
  {
   "cell_type": "markdown",
   "metadata": {},
   "source": [
    "## Annotations within 17 available (out of 18 all) ontologies from ULMS used in MedMentions"
   ]
  },
  {
   "cell_type": "code",
   "execution_count": null,
   "metadata": {},
   "outputs": [],
   "source": [
    "train_data['ncbo_annotations'] = train_data.text_to_annotate.apply(lambda text:  get_json(REST_URL + f\"/annotator?ontologies={','.join(UMLS_NCBO_ST21pv_ontologies_ids)}&text=\" + urllib.parse.quote(text)))"
   ]
  },
  {
   "cell_type": "code",
   "execution_count": 10,
   "metadata": {},
   "outputs": [],
   "source": [
    "test_data['ncbo_annotations'] = test_data.text_to_annotate.apply(lambda text:  get_json(REST_URL + f\"/annotator?ontologies={','.join(UMLS_NCBO_ST21pv_ontologies_ids)}&text=\" + urllib.parse.quote(text)))"
   ]
  },
  {
   "cell_type": "markdown",
   "metadata": {},
   "source": [
    "## Annotations within 17 available (out of 18 all) ontologies from ULMS used in MedMentions, but only for sematic types included in ST21pv"
   ]
  },
  {
   "cell_type": "code",
   "execution_count": 11,
   "metadata": {},
   "outputs": [],
   "source": [
    "train_data['ncbo_annotations_ST21pv_semtypes'] = train_data.text_to_annotate.apply(lambda text:  get_json(REST_URL + f\"/annotator?ontologies={','.join(UMLS_NCBO_ST21pv_ontologies_ids)}&semantic_types={','.join(UMLS_ST21pv_semantic_types_ids)}&text=\" + urllib.parse.quote(text)))"
   ]
  },
  {
   "cell_type": "code",
   "execution_count": 12,
   "metadata": {},
   "outputs": [],
   "source": [
    "test_data['ncbo_annotations_ST21pv_semtypes'] = test_data.text_to_annotate.apply(lambda text:  get_json(REST_URL + f\"/annotator?ontologies={','.join(UMLS_NCBO_ST21pv_ontologies_ids)}&semantic_types={','.join(UMLS_ST21pv_semantic_types_ids)}&text=\" + urllib.parse.quote(text)))"
   ]
  },
  {
   "cell_type": "markdown",
   "metadata": {},
   "source": [
    "## Save resultss"
   ]
  },
  {
   "cell_type": "code",
   "execution_count": 10,
   "metadata": {},
   "outputs": [],
   "source": [
    "now = get_now_str()\n",
    "\n",
    "save_train_name = f'bertopic_ncbo_{input_data_type}_data_{now}_train.csv'\n",
    "save_test_name = f'bertopic_ncbo_{input_data_type}_data_{now}_test.csv'\n",
    "\n",
    "save_train_path = os.path.join(results_folder, save_train_name)\n",
    "save_test_path = os.path.join(results_folder, save_test_name)"
   ]
  },
  {
   "cell_type": "code",
   "execution_count": 16,
   "metadata": {},
   "outputs": [],
   "source": [
    "to_save_test_data = test_data[['PMID', 'text_to_annotate', 'ncbo_annotations', 'ncbo_annotations_ST21pv_semtypes']]\n",
    "to_save_train_data = train_data[['PMID', 'text_to_annotate', 'ncbo_annotations', 'ncbo_annotations_ST21pv_semtypes']]"
   ]
  },
  {
   "cell_type": "code",
   "execution_count": 17,
   "metadata": {},
   "outputs": [],
   "source": [
    "to_save_train_data.to_csv(save_train_path)\n",
    "to_save_test_data.to_csv(save_test_path)"
   ]
  },
  {
   "cell_type": "markdown",
   "metadata": {},
   "source": [
    "## Results analysis"
   ]
  },
  {
   "cell_type": "code",
   "execution_count": null,
   "metadata": {},
   "outputs": [],
   "source": [
    "train_number_of_ncbo_annotations = train_data['ncbo_annotations'].apply(len)\n",
    "test_number_of_ncbo_annotations = test_data['ncbo_annotations'].apply(len)\n",
    "train_number_of_ncbo_annotations_ST21pv_semtypes = train_data['ncbo_annotations_ST21pv_semtypes'].apply(len)\n",
    "test_number_of_ncbo_annotations_ST21pv_semtypes = test_data['ncbo_annotations_ST21pv_semtypes'].apply(len)"
   ]
  },
  {
   "cell_type": "code",
   "execution_count": 19,
   "metadata": {},
   "outputs": [],
   "source": [
    "import matplotlib.pyplot as plt\n",
    "\n",
    "def plot_hist(ax, data, xlab, ylab, title, bins = 10):\n",
    "    ax.hist(data, bins = bins)\n",
    "    ax.set_title(title)\n",
    "    ax.set_xlabel(xlab)\n",
    "    ax.set_ylabel(ylab)\n",
    "    pass"
   ]
  },
  {
   "cell_type": "code",
   "execution_count": 20,
   "metadata": {},
   "outputs": [
    {
     "data": {
      "image/png": "[encoded data removed]",
      "text/plain": [
       "<Figure size 1200x1000 with 4 Axes>"
      ]
     },
     "metadata": {},
     "output_type": "display_data"
    }
   ],
   "source": [
    "fig, axes = plt.subplots(2,2, figsize=(12, 10))\n",
    "\n",
    "ax = axes[0,0]\n",
    "plot_hist(axes[0,0], train_number_of_ncbo_annotations, \"number of annotations\", \"frequency\", \"train ncbo\")\n",
    "plot_hist(axes[0,1], test_number_of_ncbo_annotations, \"number of annotations\", \"frequency\", \"test ncbo\")\n",
    "plot_hist(axes[1,0], train_number_of_ncbo_annotations_ST21pv_semtypes, \"number of annotations\", \"frequency\", \"train ncbo ST21pv_semtypes\")\n",
    "plot_hist(axes[1,1], test_number_of_ncbo_annotations_ST21pv_semtypes, \"number of annotations\", \"frequency\", \"test ncbo ST21pv_semtypes\")\n"
   ]
  },
  {
   "cell_type": "markdown",
   "metadata": {},
   "source": [
    "## Extracting first order keywords-anotations matching"
   ]
  },
  {
   "cell_type": "code",
   "execution_count": 9,
   "metadata": {},
   "outputs": [],
   "source": [
    "train_data = transform_strings_to_arrays(pd.read_csv('../results/bertopic_ncbo/bertopic_ncbo_nostopwords_data_2022-11-24_18-38-08_train.csv', index_col=0), col_names=['ncbo_annotations', 'ncbo_annotations_ST21pv_semtypes'])\n",
    "test_data = transform_strings_to_arrays(pd.read_csv('../results/bertopic_ncbo/bertopic_ncbo_nostopwords_data_2022-11-24_18-38-08_test.csv', index_col=0), col_names=['ncbo_annotations', 'ncbo_annotations_ST21pv_semtypes'])"
   ]
  },
  {
   "cell_type": "code",
   "execution_count": 10,
   "metadata": {},
   "outputs": [
    {
     "data": {
      "text/html": [
       "<div>\n",
       "<style scoped>\n",
       "    .dataframe tbody tr th:only-of-type {\n",
       "        vertical-align: middle;\n",
       "    }\n",
       "\n",
       "    .dataframe tbody tr th {\n",
       "        vertical-align: top;\n",
       "    }\n",
       "\n",
       "    .dataframe thead th {\n",
       "        text-align: right;\n",
       "    }\n",
       "</style>\n",
       "<table border=\"1\" class=\"dataframe\">\n",
       "  <thead>\n",
       "    <tr style=\"text-align: right;\">\n",
       "      <th></th>\n",
       "      <th>PMID</th>\n",
       "      <th>text_to_annotate</th>\n",
       "      <th>ncbo_annotations</th>\n",
       "      <th>ncbo_annotations_ST21pv_semtypes</th>\n",
       "    </tr>\n",
       "  </thead>\n",
       "  <tbody>\n",
       "    <tr>\n",
       "      <th>0</th>\n",
       "      <td>25763772</td>\n",
       "      <td>isolates, infection, infections, transmission,...</td>\n",
       "      <td>[{'annotatedClass': {'@id': 'http://ncicb.nci....</td>\n",
       "      <td>[{'annotatedClass': {'@id': 'http://purl.bioon...</td>\n",
       "    </tr>\n",
       "    <tr>\n",
       "      <th>1</th>\n",
       "      <td>25847295</td>\n",
       "      <td>coumarin, antioxidant, pfos, nonylphenol, diet...</td>\n",
       "      <td>[{'annotatedClass': {'@id': 'http://ncicb.nci....</td>\n",
       "      <td>[{'annotatedClass': {'@id': 'http://purl.bioon...</td>\n",
       "    </tr>\n",
       "    <tr>\n",
       "      <th>2</th>\n",
       "      <td>26316050</td>\n",
       "      <td>nanoparticles, nps, silk, films, coatings, sur...</td>\n",
       "      <td>[{'annotatedClass': {'@id': 'http://purl.bioon...</td>\n",
       "      <td>[{'annotatedClass': {'@id': 'http://purl.bioon...</td>\n",
       "    </tr>\n",
       "    <tr>\n",
       "      <th>3</th>\n",
       "      <td>26406200</td>\n",
       "      <td>muscle, walking, exercise, gait, speed, standi...</td>\n",
       "      <td>[{'annotatedClass': {'@id': 'http://ncicb.nci....</td>\n",
       "      <td>[{'annotatedClass': {'@id': 'http://purl.bioon...</td>\n",
       "    </tr>\n",
       "    <tr>\n",
       "      <th>4</th>\n",
       "      <td>26424709</td>\n",
       "      <td>health, students, study, participants, mental,...</td>\n",
       "      <td>[{'annotatedClass': {'@id': 'http://purl.bioon...</td>\n",
       "      <td>[{'annotatedClass': {'@id': 'http://purl.bioon...</td>\n",
       "    </tr>\n",
       "    <tr>\n",
       "      <th>...</th>\n",
       "      <td>...</td>\n",
       "      <td>...</td>\n",
       "      <td>...</td>\n",
       "      <td>...</td>\n",
       "    </tr>\n",
       "    <tr>\n",
       "      <th>3508</th>\n",
       "      <td>28549399</td>\n",
       "      <td>health, students, study, participants, mental,...</td>\n",
       "      <td>[{'annotatedClass': {'@id': 'http://purl.bioon...</td>\n",
       "      <td>[{'annotatedClass': {'@id': 'http://purl.bioon...</td>\n",
       "    </tr>\n",
       "    <tr>\n",
       "      <th>3509</th>\n",
       "      <td>28549760</td>\n",
       "      <td>diabetes, obesity, intake, bmi, metabolic, adu...</td>\n",
       "      <td>[{'annotatedClass': {'@id': 'http://ncicb.nci....</td>\n",
       "      <td>[{'annotatedClass': {'@id': 'http://purl.bioon...</td>\n",
       "    </tr>\n",
       "    <tr>\n",
       "      <th>3510</th>\n",
       "      <td>28550154</td>\n",
       "      <td>nanoparticles, nps, silk, films, coatings, sur...</td>\n",
       "      <td>[{'annotatedClass': {'@id': 'http://purl.bioon...</td>\n",
       "      <td>[{'annotatedClass': {'@id': 'http://purl.bioon...</td>\n",
       "    </tr>\n",
       "    <tr>\n",
       "      <th>3511</th>\n",
       "      <td>28550348</td>\n",
       "      <td>patients, study, cells, treatment, results, ex...</td>\n",
       "      <td>[{'annotatedClass': {'@id': 'http://purl.bioon...</td>\n",
       "      <td>[{'annotatedClass': {'@id': 'http://purl.bioon...</td>\n",
       "    </tr>\n",
       "    <tr>\n",
       "      <th>3512</th>\n",
       "      <td>28550521</td>\n",
       "      <td>images, image, mri, imaging, ct, adc, mm, meth...</td>\n",
       "      <td>[{'annotatedClass': {'@id': 'http://ncicb.nci....</td>\n",
       "      <td>[]</td>\n",
       "    </tr>\n",
       "  </tbody>\n",
       "</table>\n",
       "<p>3513 rows × 4 columns</p>\n",
       "</div>"
      ],
      "text/plain": [
       "          PMID                                   text_to_annotate  \\\n",
       "0     25763772  isolates, infection, infections, transmission,...   \n",
       "1     25847295  coumarin, antioxidant, pfos, nonylphenol, diet...   \n",
       "2     26316050  nanoparticles, nps, silk, films, coatings, sur...   \n",
       "3     26406200  muscle, walking, exercise, gait, speed, standi...   \n",
       "4     26424709  health, students, study, participants, mental,...   \n",
       "...        ...                                                ...   \n",
       "3508  28549399  health, students, study, participants, mental,...   \n",
       "3509  28549760  diabetes, obesity, intake, bmi, metabolic, adu...   \n",
       "3510  28550154  nanoparticles, nps, silk, films, coatings, sur...   \n",
       "3511  28550348  patients, study, cells, treatment, results, ex...   \n",
       "3512  28550521  images, image, mri, imaging, ct, adc, mm, meth...   \n",
       "\n",
       "                                       ncbo_annotations  \\\n",
       "0     [{'annotatedClass': {'@id': 'http://ncicb.nci....   \n",
       "1     [{'annotatedClass': {'@id': 'http://ncicb.nci....   \n",
       "2     [{'annotatedClass': {'@id': 'http://purl.bioon...   \n",
       "3     [{'annotatedClass': {'@id': 'http://ncicb.nci....   \n",
       "4     [{'annotatedClass': {'@id': 'http://purl.bioon...   \n",
       "...                                                 ...   \n",
       "3508  [{'annotatedClass': {'@id': 'http://purl.bioon...   \n",
       "3509  [{'annotatedClass': {'@id': 'http://ncicb.nci....   \n",
       "3510  [{'annotatedClass': {'@id': 'http://purl.bioon...   \n",
       "3511  [{'annotatedClass': {'@id': 'http://purl.bioon...   \n",
       "3512  [{'annotatedClass': {'@id': 'http://ncicb.nci....   \n",
       "\n",
       "                       ncbo_annotations_ST21pv_semtypes  \n",
       "0     [{'annotatedClass': {'@id': 'http://purl.bioon...  \n",
       "1     [{'annotatedClass': {'@id': 'http://purl.bioon...  \n",
       "2     [{'annotatedClass': {'@id': 'http://purl.bioon...  \n",
       "3     [{'annotatedClass': {'@id': 'http://purl.bioon...  \n",
       "4     [{'annotatedClass': {'@id': 'http://purl.bioon...  \n",
       "...                                                 ...  \n",
       "3508  [{'annotatedClass': {'@id': 'http://purl.bioon...  \n",
       "3509  [{'annotatedClass': {'@id': 'http://purl.bioon...  \n",
       "3510  [{'annotatedClass': {'@id': 'http://purl.bioon...  \n",
       "3511  [{'annotatedClass': {'@id': 'http://purl.bioon...  \n",
       "3512                                                 []  \n",
       "\n",
       "[3513 rows x 4 columns]"
      ]
     },
     "execution_count": 10,
     "metadata": {},
     "output_type": "execute_result"
    }
   ],
   "source": [
    "train_data"
   ]
  },
  {
   "cell_type": "code",
   "execution_count": 11,
   "metadata": {},
   "outputs": [],
   "source": [
    "def create_annotation_pairs(sample_row, column_name):\n",
    "    found_concepts = sample_row[column_name]\n",
    "    res_ann_pairs= []\n",
    "    for concept in found_concepts:\n",
    "\n",
    "        max_trials = 5\n",
    "        trials_no = 0\n",
    "        while trials_no < max_trials:\n",
    "            try:\n",
    "                concept_class = get_json(concept[\"annotatedClass\"][\"links\"][\"self\"])\n",
    "                concept_class_ancestors = get_json(concept[\"annotatedClass\"]['links']['ancestors'])\n",
    "                break\n",
    "            except:\n",
    "                trials_no+=1\n",
    "                continue\n",
    "        if trials_no==max_trials:\n",
    "            raise Exception(\"number of unsuccessfull connection attempts is max_trials\")\n",
    "\n",
    "        annotations = concept['annotations']\n",
    "\n",
    "        # annotations for this class\n",
    "        for annot in annotations:\n",
    "            res_ann_pairs.append([annot['text'], concept_class[\"prefLabel\"], 'DIRECT'])\n",
    "\n",
    "        # annotations for ancestors\n",
    "        for annot in annotations:\n",
    "            for ancestor in concept_class_ancestors:\n",
    "                res_ann_pairs.append([annot['text'], ancestor[\"prefLabel\"], 'ANCESTOR'] )\n",
    "      \n",
    "    unique_ann_pairs = [list(x) for x in set(tuple(x) for x in res_ann_pairs)]\n",
    "    return unique_ann_pairs\n",
    "        "
   ]
  },
  {
   "cell_type": "code",
   "execution_count": 15,
   "metadata": {},
   "outputs": [],
   "source": [
    "# TODO\n",
    "train_data['ncbo_annotation_pairs'] = train_data.apply(create_annotation_pairs, column_name='ncbo_annotations', axis = 1)\n",
    "test_data['ncbo_annotation_pairs'] = test_data.apply(create_annotation_pairs, column_name='ncbo_annotations', axis = 1)"
   ]
  },
  {
   "cell_type": "code",
   "execution_count": null,
   "metadata": {},
   "outputs": [],
   "source": [
    "# TODO\n",
    "train_data['ncbo_annotation_ST21pv_semtypes_pairs'] = train_data.apply(create_annotation_pairs, column_name='ncbo_annotations_ST21pv_semtypes', axis = 1)\n",
    "test_data['ncbo_annotation_ST21pv_semtypes_pairs'] = test_data.apply(create_annotation_pairs, column_name='ncbo_annotations_ST21pv_semtypes', axis = 1)"
   ]
  },
  {
   "cell_type": "markdown",
   "metadata": {},
   "source": [
    "### Annotation pairs example"
   ]
  },
  {
   "cell_type": "code",
   "execution_count": 12,
   "metadata": {},
   "outputs": [],
   "source": [
    "examp_annot_pairs = train_data.iloc[0:2].apply(create_annotation_pairs, column_name='ncbo_annotations', axis = 1)"
   ]
  },
  {
   "cell_type": "code",
   "execution_count": 13,
   "metadata": {},
   "outputs": [
    {
     "data": {
      "text/plain": [
       "[['TRANSMISSION', 'Transmission', 'DIRECT'],\n",
       " ['ANTIMICROBIAL', 'Anti-Infective Agent', 'ANCESTOR'],\n",
       " ['CPS', 'Research or Clinical Assessment Tool', 'ANCESTOR'],\n",
       " ['CPS', 'Immunohistochemical Status of PD-L1', 'ANCESTOR'],\n",
       " ['ANTIMICROBIAL', 'Drug, Food, Chemical or Biomedical Material', 'ANCESTOR'],\n",
       " ['CPS', 'Unit of Viscosity', 'ANCESTOR'],\n",
       " ['CPS', 'Diagnostic or Prognostic Test', 'ANCESTOR'],\n",
       " ['VIRUS', 'Virus', 'DIRECT'],\n",
       " ['INFECTION', 'Infectious Disorder', 'DIRECT'],\n",
       " ['CPS', 'Immunophenotypic Finding', 'ANCESTOR'],\n",
       " ['TRANSMISSION', 'Pathogenesis', 'ANCESTOR'],\n",
       " ['VIRUS', 'Physical Object', 'ANCESTOR'],\n",
       " ['INFECTION', 'Infection [Disease/Finding]', 'DIRECT'],\n",
       " ['INFECTION', 'Non-Neoplastic Disorder', 'ANCESTOR'],\n",
       " ['INFECTION', 'Non-Neoplastic Disorder by Special Category', 'ANCESTOR'],\n",
       " ['VIRUS', 'Organism', 'ANCESTOR'],\n",
       " ['CPS', 'Laboratory Test Result', 'ANCESTOR'],\n",
       " ['CPS', 'Finding', 'ANCESTOR'],\n",
       " ['STRAINS', 'Sprains and Strains', 'DIRECT'],\n",
       " ['INFECTION', 'Adverse Event Associated with Infection', 'DIRECT'],\n",
       " ['CPS', 'Clinical or Research Activity', 'ANCESTOR'],\n",
       " ['CPS', 'Pathology Result', 'ANCESTOR'],\n",
       " ['INFECTION',\n",
       "  'Diseases, Manifestations or Physiologic States [Disease/Finding]',\n",
       "  'ANCESTOR'],\n",
       " ['CPS', 'Unit by Category', 'ANCESTOR'],\n",
       " ['CPS', 'Control Preference Scale', 'DIRECT'],\n",
       " ['INFECTION', 'Disease, Disorder or Finding', 'ANCESTOR'],\n",
       " ['TRANSMISSION', 'Pathologic Process', 'ANCESTOR'],\n",
       " ['CPS', 'Diagnostic Procedure', 'ANCESTOR'],\n",
       " ['CPS', 'Unit of Dynamic Viscosity', 'ANCESTOR'],\n",
       " ['CPS', 'Disease, Disorder or Finding', 'ANCESTOR'],\n",
       " ['INFECTION', 'Inflammatory Disorder', 'ANCESTOR'],\n",
       " ['CPS', 'PD-L1 Combined Positive Score', 'DIRECT'],\n",
       " ['INFECTION', 'Disease or Disorder', 'ANCESTOR'],\n",
       " ['TRANSMISSION', 'Disease Transmission', 'DIRECT'],\n",
       " ['ANTIMICROBIAL', 'Antibiotic', 'DIRECT'],\n",
       " ['VIRUS', 'Entity', 'ANCESTOR'],\n",
       " ['INFECTION', 'Infection', 'DIRECT'],\n",
       " ['ANTIMICROBIAL', 'Pharmacologic Substance', 'ANCESTOR'],\n",
       " ['CPS', 'Property or Attribute', 'ANCESTOR'],\n",
       " ['CPS', 'Histopathology Result', 'ANCESTOR'],\n",
       " ['INFECTION', 'Infectious Diseases [Disease/Finding]', 'ANCESTOR'],\n",
       " ['CPS', 'Centipoise', 'DIRECT'],\n",
       " ['CPS', 'Intervention or Procedure', 'ANCESTOR'],\n",
       " ['TRANSMISSION', 'transmission', 'DIRECT'],\n",
       " ['INFECTION', 'National Drug File - Reference Terminology', 'ANCESTOR'],\n",
       " ['INFECTION', 'Infections and infestations', 'ANCESTOR'],\n",
       " ['INFECTION', 'Finding by Cause', 'ANCESTOR'],\n",
       " ['INFECTIONS', 'Infections', 'DIRECT'],\n",
       " ['TRANSMISSION', 'Action', 'ANCESTOR'],\n",
       " ['STRAINS', 'Wounds and Injuries', 'ANCESTOR'],\n",
       " ['CPS', 'Activity', 'ANCESTOR'],\n",
       " ['INFECTION', 'Infections NEC', 'ANCESTOR'],\n",
       " ['TRANSMISSION', 'Biological Process', 'ANCESTOR'],\n",
       " ['INFECTION', 'Adverse Event by CTCAE Category', 'ANCESTOR'],\n",
       " ['CPS', 'Clinical Test Result', 'ANCESTOR'],\n",
       " ['TRANSMISSION', 'Activity', 'ANCESTOR'],\n",
       " ['INFECTION',\n",
       "  'Bacterial Infections and Mycoses [Disease/Finding]',\n",
       "  'ANCESTOR'],\n",
       " ['INFECTION', 'Adverse Event', 'ANCESTOR'],\n",
       " ['CPS', 'Unit of Measure', 'ANCESTOR'],\n",
       " ['INFECTION', 'Infections - pathogen unspecified', 'ANCESTOR'],\n",
       " ['INFECTION', 'Finding', 'ANCESTOR']]"
      ]
     },
     "execution_count": 13,
     "metadata": {},
     "output_type": "execute_result"
    }
   ],
   "source": [
    "examp_annot_pairs[0]"
   ]
  },
  {
   "cell_type": "code",
   "execution_count": null,
   "metadata": {},
   "outputs": [],
   "source": []
  }
 ],
 "metadata": {
  "kernelspec": {
   "display_name": "Python 3.9.13 ('nlp')",
   "language": "python",
   "name": "python3"
  },
  "language_info": {
   "codemirror_mode": {
    "name": "ipython",
    "version": 3
   },
   "file_extension": ".py",
   "mimetype": "text/x-python",
   "name": "python",
   "nbconvert_exporter": "python",
   "pygments_lexer": "ipython3",
   "version": "3.9.13"
  },
  "orig_nbformat": 4,
  "vscode": {
   "interpreter": {
    "hash": "88ba28277a1630fc5f744f385ba08b8a5477e64ab64787e3b7b12637e39579c4"
   }
  }
 },
 "nbformat": 4,
 "nbformat_minor": 2
}
