{
 "cells": [
  {
   "cell_type": "markdown",
   "metadata": {},
   "source": [
    "## Definitions"
   ]
  },
  {
   "cell_type": "code",
   "execution_count": 193,
   "metadata": {},
   "outputs": [],
   "source": [
    "train_path = '../results/bertopic/bertopic_processed_data_2022-11-22_23-14-24_train.csv'\n",
    "test_path = '../results/bertopic/bertopic_processed_data_2022-11-22_23-14-24_test.csv'\n",
    "\n",
    "results_folder = '../results/bertopic_nbco/'\n",
    "\n",
    "# train_path = '../results/bertopic/bertopic_raw_data_2022-11-22_23-51-25_train.csv'\n",
    "# test_path = '../results/bertopic/bertopic_raw_data_2022-11-22_23-51-25_test.csv'"
   ]
  },
  {
   "cell_type": "code",
   "execution_count": 152,
   "metadata": {},
   "outputs": [],
   "source": [
    "UMLS_ST21pv_ontologies_ids = ['CPT', 'FMA', 'GO', 'HGNC', 'HPO', 'ICD10', 'ICD10CM', 'ICD9CM', 'MDR', 'MSH', 'MTH', 'NCBI', 'NCI', 'NDDF', 'NDFRT', 'OMIM', 'RXNORM', 'SNOMEDCT_US']\n",
    "\n",
    "# HPO = HP\n",
    "# MDR = MEDDRA\n",
    "# MSH = MESH\n",
    "# MTH = ?\n",
    "# NCBI = NCBITAXON\n",
    "# NCI = NCIT\n",
    "# SNOMEDCT_US = SNMI\n",
    "UMLS_NCBO_ST21pv_ontologies_ids = ['CPT', 'FMA', 'GO', 'HGNC', 'HP', 'ICD10', 'ICD10CM', 'ICD9CM', 'MEDDRA', 'MESH', 'NCBITAXON', 'NCIT', 'NDDF', 'NDFRT', 'OMIM', 'RXNORM', 'SNMI']\n",
    "\n",
    "\n",
    "UMLS_ST21pv_semantic_types_ids = ['T005', 'T007', 'T017', 'T022', 'T031', 'T033', 'T037', 'T038',\n",
    "'T058', 'T062', 'T074', 'T082', 'T091', 'T092', 'T097', 'T098', 'T103', 'T168', 'T170', 'T201', 'T204']"
   ]
  },
  {
   "cell_type": "markdown",
   "metadata": {},
   "source": [
    "## Read the data to annotate"
   ]
  },
  {
   "cell_type": "code",
   "execution_count": 153,
   "metadata": {},
   "outputs": [],
   "source": [
    "def transform_strings_to_arrays(df, col_names = ['tokenized_sentences', 'tokenized_words', 'tokenized_words_processed']):\n",
    "    for col in col_names:\n",
    "        df[col] = df[col].apply(eval)\n",
    "    return df"
   ]
  },
  {
   "cell_type": "code",
   "execution_count": 171,
   "metadata": {},
   "outputs": [],
   "source": [
    "import datetime\n",
    "def get_now_str():\n",
    "    return datetime.datetime.now().strftime(\"%Y-%m-%d_%H-%M-%S\")"
   ]
  },
  {
   "cell_type": "code",
   "execution_count": 160,
   "metadata": {},
   "outputs": [],
   "source": [
    "import pandas as pd\n",
    "import re\n",
    "\n",
    "def read_berttopic_results(path):\n",
    "    data = pd.read_csv(path, index_col=0)\n",
    "    data = transform_strings_to_arrays(data, col_names = ['topic_keywords'])\n",
    "    data['text_to_annotate'] = data.topic_keywords.apply(\n",
    "        lambda row: re.sub(r\"[\\'\\[\\]]\", \"\", str([keyword[0] for keyword in row]))\n",
    "        )\n",
    "        \n",
    "    return data"
   ]
  },
  {
   "cell_type": "code",
   "execution_count": 161,
   "metadata": {},
   "outputs": [],
   "source": [
    "train_data = read_berttopic_results(train_path)\n",
    "test_data = read_berttopic_results(test_path)"
   ]
  },
  {
   "cell_type": "code",
   "execution_count": 157,
   "metadata": {},
   "outputs": [
    {
     "data": {
      "text/html": [
       "<div>\n",
       "<style scoped>\n",
       "    .dataframe tbody tr th:only-of-type {\n",
       "        vertical-align: middle;\n",
       "    }\n",
       "\n",
       "    .dataframe tbody tr th {\n",
       "        vertical-align: top;\n",
       "    }\n",
       "\n",
       "    .dataframe thead th {\n",
       "        text-align: right;\n",
       "    }\n",
       "</style>\n",
       "<table border=\"1\" class=\"dataframe\">\n",
       "  <thead>\n",
       "    <tr style=\"text-align: right;\">\n",
       "      <th></th>\n",
       "      <th>PMID</th>\n",
       "      <th>topic_number</th>\n",
       "      <th>topic_probs</th>\n",
       "      <th>topic_keywords</th>\n",
       "    </tr>\n",
       "  </thead>\n",
       "  <tbody>\n",
       "    <tr>\n",
       "      <th>0</th>\n",
       "      <td>25763772</td>\n",
       "      <td>52</td>\n",
       "      <td>1.000000</td>\n",
       "      <td>pneumonia, antimicrobi, isol, hmkp, infect, nt...</td>\n",
       "    </tr>\n",
       "    <tr>\n",
       "      <th>1</th>\n",
       "      <td>25847295</td>\n",
       "      <td>57</td>\n",
       "      <td>1.000000</td>\n",
       "      <td>zinc, cell, apoptosi, nonylphenol, naf, induc,...</td>\n",
       "    </tr>\n",
       "    <tr>\n",
       "      <th>2</th>\n",
       "      <td>26316050</td>\n",
       "      <td>2</td>\n",
       "      <td>1.000000</td>\n",
       "      <td>nanoparticl, surfac, coat, properti, np, relea...</td>\n",
       "    </tr>\n",
       "    <tr>\n",
       "      <th>3</th>\n",
       "      <td>26406200</td>\n",
       "      <td>4</td>\n",
       "      <td>1.000000</td>\n",
       "      <td>fractur, knee, bone, spine, implant, patient, ...</td>\n",
       "    </tr>\n",
       "    <tr>\n",
       "      <th>4</th>\n",
       "      <td>26424709</td>\n",
       "      <td>-1</td>\n",
       "      <td>0.000000</td>\n",
       "      <td>patient, studi, effect, associ, differ, group,...</td>\n",
       "    </tr>\n",
       "    <tr>\n",
       "      <th>...</th>\n",
       "      <td>...</td>\n",
       "      <td>...</td>\n",
       "      <td>...</td>\n",
       "      <td>...</td>\n",
       "    </tr>\n",
       "    <tr>\n",
       "      <th>3508</th>\n",
       "      <td>28549399</td>\n",
       "      <td>-1</td>\n",
       "      <td>0.000000</td>\n",
       "      <td>patient, studi, effect, associ, differ, group,...</td>\n",
       "    </tr>\n",
       "    <tr>\n",
       "      <th>3509</th>\n",
       "      <td>28549760</td>\n",
       "      <td>24</td>\n",
       "      <td>0.909189</td>\n",
       "      <td>obes, food, weight, children, overweight, heal...</td>\n",
       "    </tr>\n",
       "    <tr>\n",
       "      <th>3510</th>\n",
       "      <td>28550154</td>\n",
       "      <td>2</td>\n",
       "      <td>1.000000</td>\n",
       "      <td>nanoparticl, surfac, coat, properti, np, relea...</td>\n",
       "    </tr>\n",
       "    <tr>\n",
       "      <th>3511</th>\n",
       "      <td>28550348</td>\n",
       "      <td>-1</td>\n",
       "      <td>0.000000</td>\n",
       "      <td>patient, studi, effect, associ, differ, group,...</td>\n",
       "    </tr>\n",
       "    <tr>\n",
       "      <th>3512</th>\n",
       "      <td>28550521</td>\n",
       "      <td>4</td>\n",
       "      <td>1.000000</td>\n",
       "      <td>fractur, knee, bone, spine, implant, patient, ...</td>\n",
       "    </tr>\n",
       "  </tbody>\n",
       "</table>\n",
       "<p>3513 rows × 4 columns</p>\n",
       "</div>"
      ],
      "text/plain": [
       "          PMID  topic_number  topic_probs  \\\n",
       "0     25763772            52     1.000000   \n",
       "1     25847295            57     1.000000   \n",
       "2     26316050             2     1.000000   \n",
       "3     26406200             4     1.000000   \n",
       "4     26424709            -1     0.000000   \n",
       "...        ...           ...          ...   \n",
       "3508  28549399            -1     0.000000   \n",
       "3509  28549760            24     0.909189   \n",
       "3510  28550154             2     1.000000   \n",
       "3511  28550348            -1     0.000000   \n",
       "3512  28550521             4     1.000000   \n",
       "\n",
       "                                         topic_keywords  \n",
       "0     pneumonia, antimicrobi, isol, hmkp, infect, nt...  \n",
       "1     zinc, cell, apoptosi, nonylphenol, naf, induc,...  \n",
       "2     nanoparticl, surfac, coat, properti, np, relea...  \n",
       "3     fractur, knee, bone, spine, implant, patient, ...  \n",
       "4     patient, studi, effect, associ, differ, group,...  \n",
       "...                                                 ...  \n",
       "3508  patient, studi, effect, associ, differ, group,...  \n",
       "3509  obes, food, weight, children, overweight, heal...  \n",
       "3510  nanoparticl, surfac, coat, properti, np, relea...  \n",
       "3511  patient, studi, effect, associ, differ, group,...  \n",
       "3512  fractur, knee, bone, spine, implant, patient, ...  \n",
       "\n",
       "[3513 rows x 4 columns]"
      ]
     },
     "execution_count": 157,
     "metadata": {},
     "output_type": "execute_result"
    }
   ],
   "source": [
    "train_data"
   ]
  },
  {
   "cell_type": "markdown",
   "metadata": {},
   "source": [
    "## NCBO tagger API connection"
   ]
  },
  {
   "cell_type": "code",
   "execution_count": 126,
   "metadata": {},
   "outputs": [],
   "source": [
    "import urllib.request, urllib.error, urllib.parse\n",
    "import json\n",
    "import os\n",
    "from pprint import pprint\n",
    "\n",
    "REST_URL = \"http://data.bioontology.org\"\n",
    "API_KEY = \"194c9635-ce67-4e70-81c5-898c3a2b30fb\"\n",
    "\n",
    "def get_json(url):\n",
    "    opener = urllib.request.build_opener()\n",
    "    opener.addheaders = [('Authorization', 'apikey token=' + API_KEY)]\n",
    "    return json.loads(opener.open(url).read())\n",
    "\n",
    "def print_annotations(annotations, get_class=True):\n",
    "    for result in annotations:\n",
    "        class_details = result[\"annotatedClass\"]\n",
    "        if get_class:\n",
    "            try:\n",
    "                class_details = get_json(result[\"annotatedClass\"][\"links\"][\"self\"])\n",
    "            except urllib.error.HTTPError:\n",
    "                print(f\"Error retrieving {result['annotatedClass']['@id']}\")\n",
    "                continue\n",
    "        print(\"Class details\")\n",
    "        print(\"\\tid: \" + class_details[\"@id\"])\n",
    "        print(\"\\tprefLabel: \" + class_details[\"prefLabel\"])\n",
    "        print(\"\\tontology: \" + class_details[\"links\"][\"ontology\"])\n",
    "\n",
    "        print(\"Annotation details\")\n",
    "        for annotation in result[\"annotations\"]:\n",
    "            print(\"\\tfrom: \" + str(annotation[\"from\"]))\n",
    "            print(\"\\tto: \" + str(annotation[\"to\"]))\n",
    "            print(\"\\tmatch type: \" + annotation[\"matchType\"])\n",
    "\n",
    "        if result[\"hierarchy\"]:\n",
    "            print(\"\\n\\tHierarchy annotations\")\n",
    "            for annotation in result[\"hierarchy\"]:\n",
    "                try:\n",
    "                    class_details = get_json(annotation[\"annotatedClass\"][\"links\"][\"self\"])\n",
    "                except urllib.error.HTTPError:\n",
    "                    print(f\"Error retrieving {annotation['annotatedClass']['@id']}\")\n",
    "                    continue\n",
    "                pref_label = class_details[\"prefLabel\"] or \"no label\"\n",
    "                print(\"\\t\\tClass details\")\n",
    "                print(\"\\t\\t\\tid: \" + class_details[\"@id\"])\n",
    "                print(\"\\t\\t\\tprefLabel: \" + class_details[\"prefLabel\"])\n",
    "                print(\"\\t\\t\\tontology: \" + class_details[\"links\"][\"ontology\"])\n",
    "                print(\"\\t\\t\\tdistance from originally annotated class: \" + str(annotation[\"distance\"]))\n",
    "\n",
    "        print(\"\\n\\n\")"
   ]
  },
  {
   "cell_type": "markdown",
   "metadata": {},
   "source": [
    "## Annotations within 17 available (out of 18 all) ontologies from ULMS used in MedMentions"
   ]
  },
  {
   "cell_type": "code",
   "execution_count": 165,
   "metadata": {},
   "outputs": [],
   "source": [
    "train_data['ncbo_annotations'] = train_data.text_to_annotate.apply(lambda text:  get_json(REST_URL + f\"/annotator?ontologies={','.join(UMLS_NCBO_ST21pv_ontologies_ids)}&text=\" + urllib.parse.quote(text)))"
   ]
  },
  {
   "cell_type": "code",
   "execution_count": 169,
   "metadata": {},
   "outputs": [],
   "source": [
    "test_data['ncbo_annotations'] = test_data.text_to_annotate.apply(lambda text:  get_json(REST_URL + f\"/annotator?ontologies={','.join(UMLS_NCBO_ST21pv_ontologies_ids)}&text=\" + urllib.parse.quote(text)))"
   ]
  },
  {
   "cell_type": "markdown",
   "metadata": {},
   "source": [
    "## Annotations within 17 available (out of 18 all) ontologies from ULMS used in MedMentions, but only for sematic types included in ST21pv"
   ]
  },
  {
   "cell_type": "code",
   "execution_count": 179,
   "metadata": {},
   "outputs": [],
   "source": [
    "train_data['ncbo_annotations_ST21pv_semtypes'] = train_data.text_to_annotate.apply(lambda text:  get_json(REST_URL + f\"/annotator?ontologies={','.join(UMLS_NCBO_ST21pv_ontologies_ids)}&semantic_types={','.join(UMLS_ST21pv_semantic_types_ids)}&text=\" + urllib.parse.quote(text)))"
   ]
  },
  {
   "cell_type": "code",
   "execution_count": 180,
   "metadata": {},
   "outputs": [],
   "source": [
    "test_data['ncbo_annotations_ST21pv_semtypes'] = test_data.text_to_annotate.apply(lambda text:  get_json(REST_URL + f\"/annotator?ontologies={','.join(UMLS_NCBO_ST21pv_ontologies_ids)}&semantic_types={','.join(UMLS_ST21pv_semantic_types_ids)}&text=\" + urllib.parse.quote(text)))"
   ]
  },
  {
   "cell_type": "markdown",
   "metadata": {},
   "source": [
    "## Save resultss"
   ]
  },
  {
   "cell_type": "code",
   "execution_count": 194,
   "metadata": {},
   "outputs": [],
   "source": [
    "now = get_now_str()\n",
    "\n",
    "save_train_name = f'bertopic_ncbo_processed_data_{now}_train.csv'\n",
    "save_test_name = f'bertopic_ncbo_processed_data_{now}_test.csv'\n",
    "\n",
    "save_train_path = os.path.join(results_folder, save_train_name)\n",
    "save_test_path = os.path.join(results_folder, save_test_name)"
   ]
  },
  {
   "cell_type": "code",
   "execution_count": 188,
   "metadata": {},
   "outputs": [],
   "source": [
    "to_save_test_data = test_data[['PMID', 'text_to_annotate', 'ncbo_annotations', 'ncbo_annotations_ST21pv_semtypes']]\n",
    "to_save_train_data = train_data[['PMID', 'text_to_annotate', 'ncbo_annotations', 'ncbo_annotations_ST21pv_semtypes']]"
   ]
  },
  {
   "cell_type": "code",
   "execution_count": 197,
   "metadata": {},
   "outputs": [],
   "source": [
    "to_save_train_data.to_csv(save_train_path)\n",
    "to_save_test_data.to_csv(save_test_path)"
   ]
  },
  {
   "cell_type": "markdown",
   "metadata": {},
   "source": [
    "## Results analysis"
   ]
  },
  {
   "cell_type": "code",
   "execution_count": 219,
   "metadata": {},
   "outputs": [],
   "source": [
    "train_number_of_ncbo_annotations = train_data['ncbo_annotations'].apply(len)\n",
    "test_number_of_ncbo_annotations = test_data['ncbo_annotations'].apply(len)\n",
    "train_number_of_ncbo_annotations_ST21pv_semtypes = train_data['ncbo_annotations_ST21pv_semtypes'].apply(len)\n",
    "test_number_of_ncbo_annotations_ST21pv_semtypes = test_data['ncbo_annotations_ST21pv_semtypes'].apply(len)"
   ]
  },
  {
   "cell_type": "code",
   "execution_count": 216,
   "metadata": {},
   "outputs": [],
   "source": [
    "import matplotlib.pyplot as plt\n",
    "\n",
    "def plot_hist(ax, data, xlab, ylab, title, bins = 10):\n",
    "    ax.hist(data, bins = bins)\n",
    "    ax.set_title(title)\n",
    "    ax.set_xlabel(xlab)\n",
    "    ax.set_ylabel(ylab)\n",
    "    pass"
   ]
  },
  {
   "cell_type": "code",
   "execution_count": 222,
   "metadata": {},
   "outputs": [
    {
     "data": {
      "image/png": "[encoded data removed]",
      "text/plain": [
       "<Figure size 1200x1000 with 4 Axes>"
      ]
     },
     "metadata": {},
     "output_type": "display_data"
    }
   ],
   "source": [
    "fig, axes = plt.subplots(2,2, figsize=(12, 10))\n",
    "\n",
    "\n",
    "ax = axes[0,0]\n",
    "plot_hist(axes[0,0], train_number_of_ncbo_annotations, \"number of annotations\", \"frequency\", \"train ncbo\")\n",
    "plot_hist(axes[0,1], test_number_of_ncbo_annotations, \"number of annotations\", \"frequency\", \"test ncbo\")\n",
    "plot_hist(axes[1,0], train_number_of_ncbo_annotations_ST21pv_semtypes, \"number of annotations\", \"frequency\", \"train ncbo ST21pv_semtypes\")\n",
    "plot_hist(axes[1,1], test_number_of_ncbo_annotations_ST21pv_semtypes, \"number of annotations\", \"frequency\", \"test ncbo ST21pv_semtypes\")\n"
   ]
  },
  {
   "cell_type": "code",
   "execution_count": null,
   "metadata": {},
   "outputs": [],
   "source": []
  }
 ],
 "metadata": {
  "kernelspec": {
   "display_name": "Python 3.9.13 ('nlp')",
   "language": "python",
   "name": "python3"
  },
  "language_info": {
   "codemirror_mode": {
    "name": "ipython",
    "version": 3
   },
   "file_extension": ".py",
   "mimetype": "text/x-python",
   "name": "python",
   "nbconvert_exporter": "python",
   "pygments_lexer": "ipython3",
   "version": "3.9.13"
  },
  "orig_nbformat": 4,
  "vscode": {
   "interpreter": {
    "hash": "88ba28277a1630fc5f744f385ba08b8a5477e64ab64787e3b7b12637e39579c4"
   }
  }
 },
 "nbformat": 4,
 "nbformat_minor": 2
}
