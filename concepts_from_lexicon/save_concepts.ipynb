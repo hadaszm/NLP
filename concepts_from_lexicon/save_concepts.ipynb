{
 "cells": [
  {
   "cell_type": "code",
   "execution_count": null,
   "id": "b8efcfa4",
   "metadata": {},
   "outputs": [],
   "source": []
  },
  {
   "cell_type": "code",
   "execution_count": 3,
   "id": "afa2d35f",
   "metadata": {},
   "outputs": [],
   "source": [
    "with open('LEXICON', 'r',encoding=\"utf-8\") as file: \n",
    "    lexicon = file.readlines()"
   ]
  },
  {
   "cell_type": "code",
   "execution_count": 8,
   "id": "1d6a44f8",
   "metadata": {},
   "outputs": [
    {
     "data": {
      "text/plain": [
       "{'abbreviation_of',\n",
       " 'acronym_of',\n",
       " 'cat',\n",
       " 'compl',\n",
       " 'cplxtran',\n",
       " 'ditran',\n",
       " 'entry',\n",
       " 'gender',\n",
       " 'link',\n",
       " 'modification_type',\n",
       " 'nominalization',\n",
       " 'nominalization_of',\n",
       " 'position',\n",
       " 'spelling_variant',\n",
       " 'trademark',\n",
       " 'tran',\n",
       " 'type',\n",
       " 'variant',\n",
       " 'variants',\n",
       " '{base'}"
      ]
     },
     "execution_count": 8,
     "metadata": {},
     "output_type": "execute_result"
    }
   ],
   "source": [
    "{line.strip().split('=')[0] for line in lexicon if '=' in line}"
   ]
  },
  {
   "cell_type": "code",
   "execution_count": 9,
   "id": "132d0865",
   "metadata": {},
   "outputs": [],
   "source": [
    "tags_to_use = {'abbreviation_of','acronym_of','spelling_variant', 'trademark', 'base'}"
   ]
  },
  {
   "cell_type": "code",
   "execution_count": 12,
   "id": "c0d3c0a0",
   "metadata": {},
   "outputs": [],
   "source": [
    "def check_tag_in_line(line): \n",
    "    for tag in tags_to_use: \n",
    "        if tag in line: \n",
    "            return True\n",
    "    return False"
   ]
  },
  {
   "cell_type": "code",
   "execution_count": 18,
   "id": "bf8b6971",
   "metadata": {},
   "outputs": [],
   "source": [
    "concepts = {line.strip().split('=')[1].split('|')[0] for line in lexicon if check_tag_in_line(line) and '=' in line}"
   ]
  },
  {
   "cell_type": "code",
   "execution_count": 19,
   "id": "b197722c",
   "metadata": {},
   "outputs": [
    {
     "data": {
      "text/plain": [
       "701625"
      ]
     },
     "execution_count": 19,
     "metadata": {},
     "output_type": "execute_result"
    }
   ],
   "source": [
    "len(concepts)"
   ]
  },
  {
   "cell_type": "code",
   "execution_count": 63,
   "id": "ca59d306",
   "metadata": {},
   "outputs": [],
   "source": [
    "import pandas as pd\n"
   ]
  },
  {
   "cell_type": "code",
   "execution_count": null,
   "id": "712061d3",
   "metadata": {},
   "outputs": [],
   "source": [
    "','.join([elem.replace('UMLS:', '')for elem in list(set(sum(df['Concepts'].apply(eval), [])))])"
   ]
  },
  {
   "cell_type": "code",
   "execution_count": 59,
   "id": "252e7900",
   "metadata": {},
   "outputs": [],
   "source": [
    "with open('../data/unique_concepts_id', 'w') as file:\n",
    "    file.write(','.join([elem.replace('UMLS:', '')for elem in list(set(sum(df['Concepts'].apply(eval), [])))]))\n"
   ]
  },
  {
   "cell_type": "code",
   "execution_count": 81,
   "id": "560fd3ce",
   "metadata": {},
   "outputs": [],
   "source": [
    "ids_to_concept = pd.read_csv('../data/concept_names_tmp.csv')"
   ]
  },
  {
   "cell_type": "code",
   "execution_count": 102,
   "id": "aa55e203",
   "metadata": {},
   "outputs": [],
   "source": [
    "unique_concepts = list(set(sum(df['Concepts'].apply(eval), [])))\n",
    "unique_concepts = pd.DataFrame(unique_concepts, columns=['concept_id_full'])\n",
    "unique_concepts['concept_id'] = unique_concepts['concept_id_full'].apply(lambda x: x.replace('UMLS:', ''))"
   ]
  },
  {
   "cell_type": "code",
   "execution_count": 107,
   "id": "cdf5f379",
   "metadata": {},
   "outputs": [],
   "source": [
    "def get_common_word(x): \n",
    "    result = {}\n",
    "    result['concept_name'] = Counter(x['concept_name']).most_common()[0][0]\n",
    "    return pd.Series(result, index=['concept_name'])\n",
    "ids_to_concept.merge(unique_concepts).groupby('concept_id')\\\n",
    "    .apply(get_common_word).reset_index().to_csv('../data/ids_to_concept_mapping.csv', index=False)"
   ]
  },
  {
   "cell_type": "code",
   "execution_count": 45,
   "id": "fb2667a2",
   "metadata": {},
   "outputs": [],
   "source": [
    "pd.DataFrame(list(concepts), columns=['concept']).to_csv('../data/concepts.csv', index=False)"
   ]
  },
  {
   "cell_type": "code",
   "execution_count": 40,
   "id": "2ee69f82",
   "metadata": {},
   "outputs": [],
   "source": [
    "pd.DataFrame(list(concepts) + list(ground_truth), columns=['concept']).to_csv('../data/concepts.csv', index=False)"
   ]
  }
 ],
 "metadata": {
  "kernelspec": {
   "display_name": "Python 3 (ipykernel)",
   "language": "python",
   "name": "python3"
  },
  "language_info": {
   "codemirror_mode": {
    "name": "ipython",
    "version": 3
   },
   "file_extension": ".py",
   "mimetype": "text/x-python",
   "name": "python",
   "nbconvert_exporter": "python",
   "pygments_lexer": "ipython3",
   "version": "3.9.14"
  }
 },
 "nbformat": 4,
 "nbformat_minor": 5
}
