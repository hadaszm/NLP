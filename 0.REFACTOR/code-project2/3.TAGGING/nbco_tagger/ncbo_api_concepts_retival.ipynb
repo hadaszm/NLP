{
 "cells": [
  {
   "cell_type": "code",
   "execution_count": 14,
   "metadata": {},
   "outputs": [],
   "source": [
    "UMLS_ST21pv_ontologies_ids = ['CPT', 'FMA', 'GO', 'HGNC', 'HPO', 'ICD10', 'ICD10CM', 'ICD9CM', 'MDR', 'MSH', 'MTH', 'NCBI', 'NCI', 'NDDF', 'NDFRT', 'OMIM', 'RXNORM', 'SNOMEDCT_US']\n",
    "\n",
    "# HPO = HP\n",
    "# MDR = MEDDRA\n",
    "# MSH = MESH\n",
    "# MTH = ?\n",
    "# NCBI = NCBITAXON\n",
    "# NCI = NCIT\n",
    "# SNOMEDCT_US = SNMI\n",
    "UMLS_NCBO_ST21pv_ontologies_ids = ['CPT', 'FMA', 'GO', 'HGNC', 'HP', 'ICD10', 'ICD10CM', 'ICD9CM', 'MEDDRA', 'MESH', 'NCBITAXON', 'NCIT', 'NDDF', 'NDFRT', 'OMIM', 'RXNORM', 'SNMI']\n",
    "\n",
    "\n",
    "UMLS_ST21pv_semantic_types_ids = ['T005', 'T007', 'T017', 'T022', 'T031', 'T033', 'T037', 'T038',\n",
    "'T058', 'T062', 'T074', 'T082', 'T091', 'T092', 'T097', 'T098', 'T103', 'T168', 'T170', 'T201', 'T204']\n",
    "\n",
    "unique_concept_ids_path = \"../data/unique_concepts_id.txt\"\n",
    "concept_names_results_path = \"../data/concept_names.csv\""
   ]
  },
  {
   "cell_type": "code",
   "execution_count": 2,
   "metadata": {},
   "outputs": [],
   "source": [
    "import urllib.request, urllib.error, urllib.parse\n",
    "import json\n",
    "REST_URL = \"http://data.bioontology.org\"\n",
    "API_KEY = \"194c9635-ce67-4e70-81c5-898c3a2b30fb\"\n",
    "\n",
    "def get_json(url):\n",
    "    opener = urllib.request.build_opener()\n",
    "    opener.addheaders = [('Authorization', 'apikey token=' + API_KEY)]\n",
    "    return json.loads(opener.open(url).read())"
   ]
  },
  {
   "cell_type": "code",
   "execution_count": 3,
   "metadata": {},
   "outputs": [],
   "source": [
    "def chunks(lst, n):\n",
    "    \"\"\"Yield successive n-sized chunks from lst.\"\"\"\n",
    "    for i in range(0, len(lst), n):\n",
    "        yield lst[i:i + n]"
   ]
  },
  {
   "cell_type": "code",
   "execution_count": 4,
   "metadata": {},
   "outputs": [],
   "source": [
    "def process_chunk(concepts_id_names, page_link):\n",
    "    while page_link:\n",
    "        result = get_json(page_link)\n",
    "        # extract pairs (cui, concept_name)\n",
    "        concepts = result['collection']\n",
    "        for concept in concepts:\n",
    "            concept_cuis = concept['cui']\n",
    "            concept_name = concept['prefLabel']\n",
    "            for cui in concept_cuis:\n",
    "                pass\n",
    "                concepts_id_names.append([cui, concept_name])\n",
    "        \n",
    "        page_link = result['links']['nextPage']"
   ]
  },
  {
   "cell_type": "code",
   "execution_count": 5,
   "metadata": {},
   "outputs": [],
   "source": [
    "import numpy as np\n",
    "\n",
    "with open(unique_concept_ids_path) as f:\n",
    "    line = f.read()\n",
    "concept_ids = np.array(line.split(','))\n",
    "\n",
    "concept_ids[-1] = concept_ids[-1].replace('\\n', '')\n",
    "chunked_concpet_ids = list(chunks(concept_ids, 500))"
   ]
  },
  {
   "cell_type": "code",
   "execution_count": null,
   "metadata": {},
   "outputs": [],
   "source": [
    "concepts_id_names = []\n",
    "ontologies_query = f\"ontologies={','.join(UMLS_NCBO_ST21pv_ontologies_ids)}\"\n",
    "for chunk in chunked_concpet_ids:\n",
    "    cui_query = f\"cui={','.join(chunk)}\"\n",
    "    query = f\"https://data.bioontology.org/search?{ontologies_query}&{cui_query}&apikey={API_KEY}\"\n",
    "    process_chunk(concepts_id_names, query)\n",
    "    print(len(concepts_id_names))"
   ]
  },
  {
   "cell_type": "code",
   "execution_count": 37,
   "metadata": {},
   "outputs": [],
   "source": [
    "import pandas as pd\n",
    "res_df = pd.DataFrame(concepts_id_names, columns=['concept_id','concept_name'])\n",
    "res_df.concept_name = res_df.concept_name.replace('\"', '')"
   ]
  },
  {
   "cell_type": "code",
   "execution_count": 38,
   "metadata": {},
   "outputs": [],
   "source": [
    "res_df.to_csv(concept_names_results_path, index=False)"
   ]
  }
 ],
 "metadata": {
  "kernelspec": {
   "display_name": "Python 3.8.12 ('base')",
   "language": "python",
   "name": "python3"
  },
  "language_info": {
   "codemirror_mode": {
    "name": "ipython",
    "version": 3
   },
   "file_extension": ".py",
   "mimetype": "text/x-python",
   "name": "python",
   "nbconvert_exporter": "python",
   "pygments_lexer": "ipython3",
   "version": "3.8.12"
  },
  "orig_nbformat": 4,
  "vscode": {
   "interpreter": {
    "hash": "ad2bdc8ecc057115af97d19610ffacc2b4e99fae6737bb82f5d7fb13d2f2c186"
   }
  }
 },
 "nbformat": 4,
 "nbformat_minor": 2
}
