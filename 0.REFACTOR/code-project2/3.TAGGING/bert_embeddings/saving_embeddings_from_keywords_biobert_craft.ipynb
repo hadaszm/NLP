{
 "cells": [
  {
   "cell_type": "code",
   "execution_count": 14,
   "metadata": {
    "id": "GvjGNt5xtvXH"
   },
   "outputs": [],
   "source": [
    "import pandas as pd\n",
    "import numpy as np\n",
    "import sys\n",
    "import tqdm\n",
    "import os\n",
    "import glob\n",
    "from collections import Counter"
   ]
  },
  {
   "cell_type": "code",
   "execution_count": 7,
   "metadata": {
    "colab": {
     "base_uri": "https://localhost:8080/"
    },
    "id": "LRb-VCLqtvXI",
    "outputId": "3fef9d61-5afe-46f1-812c-3b49f29778f8"
   },
   "outputs": [],
   "source": [
    "try:\n",
    "    import google.colab\n",
    "    colab = True\n",
    "    from google.colab import drive\n",
    "    lda_input = '/content/drive/MyDrive/NLP_files/CRAFT/results/lda/*whole*'\n",
    "    bertopic_input = '/content/drive/MyDrive/NLP_files/CRAFT/results/bertopic/bertopic_lemmatize_nostopwords_data_2023-01-02_10-04-20.csv'\n",
    "\n",
    "    embeddings_output_filepath = '/content/drive/MyDrive/NLP_files/CRAFT/data/embeddings/'\n",
    "    drive.mount('/content/drive')\n",
    "    device_name = 'cuda'\n",
    "    sys.path.append('/content/drive/MyDrive/NLP/bert_embeddings')\n",
    "except ImportError:\n",
    "    colab = False\n",
    "    lda_input = '../CRAFT/results/lda/*whole*'\n",
    "    bertopic_input = '../CRAFT/results/bertopic/bertopic_lemmatize_nostopwords_data_2023-01-02_10-04-20.csv'\n",
    "\n",
    "    embeddings_output_filepath = '../CRAFT/results/embeddings/'\n",
    "    device_name = 'cpu'\n",
    "from emb_helpers import * \n"
   ]
  },
  {
   "cell_type": "code",
   "execution_count": 4,
   "metadata": {},
   "outputs": [],
   "source": [
    "try:\n",
    "    os.mkdir(embeddings_output_filepath)\n",
    "except FileExistsError: \n",
    "    pass"
   ]
  },
  {
   "cell_type": "code",
   "execution_count": 5,
   "metadata": {
    "id": "W4aYNjhttvXJ"
   },
   "outputs": [],
   "source": [
    "from transformers import AutoTokenizer, AutoModel\n",
    "\n",
    "biobert = AutoModel.from_pretrained(\"dmis-lab/biobert-v1.1\").to(device_name)"
   ]
  },
  {
   "cell_type": "code",
   "execution_count": 9,
   "metadata": {},
   "outputs": [],
   "source": [
    "files = glob.glob(lda_input) + glob.glob(bertopic_input)"
   ]
  },
  {
   "cell_type": "code",
   "execution_count": 18,
   "metadata": {},
   "outputs": [
    {
     "data": {
      "text/plain": [
       "[(0, 19), (-1, 19), (1, 18), (2, 14), (3, 8), (4, 6), (5, 5), (6, 5), (7, 3)]"
      ]
     },
     "execution_count": 18,
     "metadata": {},
     "output_type": "execute_result"
    }
   ],
   "source": [
    "Counter(pd.read_csv(files[1])['topic_number']).most_common()"
   ]
  },
  {
   "cell_type": "code",
   "execution_count": 32,
   "metadata": {},
   "outputs": [
    {
     "name": "stderr",
     "output_type": "stream",
     "text": [
      "100%|███████████████████████████████████████████████████████████████████████████████████████████████████████████████████████████████████████████████████████████████████████████████████████████████████████| 91/91 [00:03<00:00, 29.68it/s]\n"
     ]
    }
   ],
   "source": [
    "df = pd.concat([pd.read_csv(file) for file in files])\n",
    "all_keywords = sum(df['topic_keywords'].apply(eval), [])\n",
    "all_keywords = list(set([keyword for keyword, prob in all_keywords]))\n",
    "all_keywords = pd.DataFrame(all_keywords, columns=['keyword'])\n",
    "embeddings = return_embeddings_for_concepts(all_keywords['keyword'],biobert, 'cpu')\n",
    "embeddings['keyword'] = all_keywords['keyword']\n",
    "embeddings = embeddings[['keyword'] + list(range(len(embeddings.columns)-1))]\n",
    "embeddings.to_csv(os.path.join(embeddings_output_filepath, 'keywords_embeddings.csv'), index=False)"
   ]
  }
 ],
 "metadata": {
  "accelerator": "GPU",
  "colab": {
   "machine_shape": "hm",
   "provenance": []
  },
  "gpuClass": "premium",
  "kernelspec": {
   "display_name": "Python 3 (ipykernel)",
   "language": "python",
   "name": "python3"
  },
  "language_info": {
   "codemirror_mode": {
    "name": "ipython",
    "version": 3
   },
   "file_extension": ".py",
   "mimetype": "text/x-python",
   "name": "python",
   "nbconvert_exporter": "python",
   "pygments_lexer": "ipython3",
   "version": "3.9.14"
  }
 },
 "nbformat": 4,
 "nbformat_minor": 1
}
