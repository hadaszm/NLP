{
 "cells": [
  {
   "cell_type": "code",
   "execution_count": 1,
   "id": "a790596f",
   "metadata": {},
   "outputs": [],
   "source": [
    "import pandas as pd\n",
    "import numpy as np\n",
    "from numba import jit, njit, prange\n",
    "import glob\n",
    "import os"
   ]
  },
  {
   "cell_type": "code",
   "execution_count": 2,
   "id": "f49847f0",
   "metadata": {},
   "outputs": [],
   "source": [
    "emb_cols = [str(col) for col in range(767+1)]"
   ]
  },
  {
   "cell_type": "code",
   "execution_count": 3,
   "id": "0d63ae5c",
   "metadata": {},
   "outputs": [],
   "source": [
    "@njit\n",
    "def cosine_sim(a, b): \n",
    "    return np.dot(a, b)/(np.linalg.norm(a)*np.linalg.norm(b))\n",
    "[cosine_sim(np.random.normal(size=(800,)),np.random.normal(size=(800,))) for _ in range(20000)];"
   ]
  },
  {
   "cell_type": "code",
   "execution_count": 4,
   "id": "f5b7b358",
   "metadata": {},
   "outputs": [],
   "source": [
    "@njit(parallel=True)\n",
    "def return_similarities(embedding, concept_embeddings):\n",
    "    result = np.zeros((concept_embeddings.shape[0], ))\n",
    "    for i in prange(concept_embeddings.shape[0]):\n",
    "        result[i] = cosine_sim(embedding, concept_embeddings[i])\n",
    "    return result"
   ]
  },
  {
   "cell_type": "code",
   "execution_count": 5,
   "id": "73dd5bea",
   "metadata": {},
   "outputs": [],
   "source": [
    "emb_files = {\n",
    "    'bertopic_test': '../results/embeddings/bertopic_processed_data_2022-11-22_23-14-24_test_embeddings_biobert.csv',\n",
    "    'bertopic_train': '../results/embeddings/bertopic_processed_data_2022-11-22_23-14-24_train_embeddings_biobert.csv',\n",
    "    'LDA_test': '../results/embeddings/LDA_test_2022-11-23_17-47-24_embeddings_biobert.csv',\n",
    "    'LDA_train': '../results/embeddings/LDA_train_2022-11-23_17-47-24_embeddings_biobert.csv'\n",
    "}"
   ]
  },
  {
   "cell_type": "code",
   "execution_count": 6,
   "id": "a8a68068",
   "metadata": {},
   "outputs": [],
   "source": [
    "concepts_emb_pretrained = pd.concat([pd.read_csv(file) for file in glob.glob('../results/embeddings/concepts_embeddings_*_biobert.csv')])"
   ]
  },
  {
   "cell_type": "code",
   "execution_count": 10,
   "id": "506d0de3",
   "metadata": {},
   "outputs": [],
   "source": [
    "concepts_emb_pretrained_raw = np.ascontiguousarray(concepts_emb_pretrained[emb_cols].values.astype(np.float32))"
   ]
  },
  {
   "cell_type": "code",
   "execution_count": 11,
   "id": "935c7b72",
   "metadata": {},
   "outputs": [],
   "source": [
    "concepts_emb_pretrained = concepts_emb_pretrained[['concept_name']]"
   ]
  },
  {
   "cell_type": "code",
   "execution_count": 12,
   "id": "7106e4b7",
   "metadata": {},
   "outputs": [],
   "source": [
    "def return_embedded_word(row):\n",
    "    embedding = row.values[5:].astype(np.float32).flatten()\n",
    "    #cosine_similarities = np.apply_along_axis(lambda x: cosine_sim(embedding, x), axis=1, arr=concepts_emb_pretrained_raw)\n",
    "    cosine_similarities = return_similarities(embedding, concepts_emb_pretrained_raw)\n",
    "    return concepts_emb_pretrained.iloc[cosine_similarities.argmax()]['concept_name']"
   ]
  },
  {
   "cell_type": "code",
   "execution_count": 13,
   "id": "d4c2f122",
   "metadata": {},
   "outputs": [],
   "source": [
    "def collect_list(x): \n",
    "    result= {}\n",
    "    result['tagged_words'] = list(x['tagged_word'])\n",
    "    return pd.Series(result, index=['tagged_words'])"
   ]
  },
  {
   "cell_type": "code",
   "execution_count": 65,
   "id": "795062b2",
   "metadata": {},
   "outputs": [
    {
     "name": "stderr",
     "output_type": "stream",
     "text": [
      " 38%|█████████████████████████████▉                                                | 3378/8790 [02:45<04:25, 20.35it/s]\n"
     ]
    },
    {
     "ename": "KeyboardInterrupt",
     "evalue": "",
     "output_type": "error",
     "traceback": [
      "\u001b[1;31m---------------------------------------------------------------------------\u001b[0m",
      "\u001b[1;31mKeyboardInterrupt\u001b[0m                         Traceback (most recent call last)",
      "Cell \u001b[1;32mIn [65], line 6\u001b[0m\n\u001b[0;32m      4\u001b[0m tagged_words \u001b[38;5;241m=\u001b[39m []\n\u001b[0;32m      5\u001b[0m \u001b[38;5;28;01mfor\u001b[39;00m i, row \u001b[38;5;129;01min\u001b[39;00m tqdm\u001b[38;5;241m.\u001b[39mtqdm(keyword_embs\u001b[38;5;241m.\u001b[39miterrows(), total\u001b[38;5;241m=\u001b[39m\u001b[38;5;28mlen\u001b[39m(keyword_embs)):\n\u001b[1;32m----> 6\u001b[0m     tagged_word \u001b[38;5;241m=\u001b[39m \u001b[43mreturn_embedded_word\u001b[49m\u001b[43m(\u001b[49m\u001b[43mrow\u001b[49m\u001b[43m)\u001b[49m\n\u001b[0;32m      7\u001b[0m     tagged_words\u001b[38;5;241m.\u001b[39mappend(tagged_word)\n\u001b[0;32m      8\u001b[0m keyword_embs[\u001b[38;5;124m'\u001b[39m\u001b[38;5;124mtagged_word\u001b[39m\u001b[38;5;124m'\u001b[39m] \u001b[38;5;241m=\u001b[39m tagged_words\n",
      "Cell \u001b[1;32mIn [63], line 4\u001b[0m, in \u001b[0;36mreturn_embedded_word\u001b[1;34m(row)\u001b[0m\n\u001b[0;32m      2\u001b[0m embedding \u001b[38;5;241m=\u001b[39m row\u001b[38;5;241m.\u001b[39mvalues[\u001b[38;5;241m5\u001b[39m:]\u001b[38;5;241m.\u001b[39mastype(np\u001b[38;5;241m.\u001b[39mfloat32)\u001b[38;5;241m.\u001b[39mflatten()\n\u001b[0;32m      3\u001b[0m \u001b[38;5;66;03m#cosine_similarities = np.apply_along_axis(lambda x: cosine_sim(embedding, x), axis=1, arr=concepts_emb_pretrained_raw)\u001b[39;00m\n\u001b[1;32m----> 4\u001b[0m cosine_similarities \u001b[38;5;241m=\u001b[39m \u001b[43mreturn_similarities\u001b[49m\u001b[43m(\u001b[49m\u001b[43membedding\u001b[49m\u001b[43m,\u001b[49m\u001b[43m \u001b[49m\u001b[43mconcepts_emb_pretrained_raw\u001b[49m\u001b[43m)\u001b[49m\n\u001b[0;32m      5\u001b[0m \u001b[38;5;28;01mreturn\u001b[39;00m concepts_emb_pretrained\u001b[38;5;241m.\u001b[39miloc[cosine_similarities\u001b[38;5;241m.\u001b[39margmax()][\u001b[38;5;124m'\u001b[39m\u001b[38;5;124mconcept_name\u001b[39m\u001b[38;5;124m'\u001b[39m]\n",
      "File \u001b[1;32mc:\\users\\krystian kurek\\.conda\\envs\\nlp\\lib\\site-packages\\numba\\core\\serialize.py:29\u001b[0m, in \u001b[0;36m_numba_unpickle\u001b[1;34m(address, bytedata, hashed)\u001b[0m\n\u001b[0;32m     25\u001b[0m \u001b[38;5;66;03m# Keep unpickled object via `numba_unpickle` alive.\u001b[39;00m\n\u001b[0;32m     26\u001b[0m _unpickled_memo \u001b[38;5;241m=\u001b[39m {}\n\u001b[1;32m---> 29\u001b[0m \u001b[38;5;28;01mdef\u001b[39;00m \u001b[38;5;21m_numba_unpickle\u001b[39m(address, bytedata, hashed):\n\u001b[0;32m     30\u001b[0m     \u001b[38;5;124;03m\"\"\"Used by `numba_unpickle` from _helperlib.c\u001b[39;00m\n\u001b[0;32m     31\u001b[0m \n\u001b[0;32m     32\u001b[0m \u001b[38;5;124;03m    Parameters\u001b[39;00m\n\u001b[1;32m   (...)\u001b[0m\n\u001b[0;32m     41\u001b[0m \u001b[38;5;124;03m        unpickled object\u001b[39;00m\n\u001b[0;32m     42\u001b[0m \u001b[38;5;124;03m    \"\"\"\u001b[39;00m\n\u001b[0;32m     43\u001b[0m     key \u001b[38;5;241m=\u001b[39m (address, hashed)\n",
      "\u001b[1;31mKeyboardInterrupt\u001b[0m: "
     ]
    }
   ],
   "source": [
    "import tqdm\n",
    "for name, filename in emb_files.items():\n",
    "    keyword_embs = pd.read_csv(filename)\n",
    "    tagged_words = []\n",
    "    for i, row in tqdm.tqdm(keyword_embs.iterrows(), total=len(keyword_embs)):\n",
    "        tagged_word = return_embedded_word(row)\n",
    "        tagged_words.append(tagged_word)\n",
    "    keyword_embs['tagged_word'] = tagged_words\n",
    "    output_filename = filename.replace('embeddings', 'emb_tagged')\n",
    "    output_filename = os.path.join(os.path.dirname(output_filename), 'tagged_' + os.path.basename(output_filename))\n",
    "    print(output_filename)\n",
    "    #keyword_embs.groupby('PMID').apply(collect_list).reset_index().to_csv('../results/tagged_bertopic_bert_pretrained.csv', index=False)\n",
    "    keyword_embs.to_csv(output_filename, index=False)"
   ]
  },
  {
   "cell_type": "code",
   "execution_count": 30,
   "id": "d8165eb1",
   "metadata": {},
   "outputs": [
    {
     "data": {
      "text/plain": [
       "  C_CONTIGUOUS : False\n",
       "  F_CONTIGUOUS : True\n",
       "  OWNDATA : True\n",
       "  WRITEABLE : True\n",
       "  ALIGNED : True\n",
       "  WRITEBACKIFCOPY : False"
      ]
     },
     "execution_count": 30,
     "metadata": {},
     "output_type": "execute_result"
    }
   ],
   "source": [
    "concepts_emb_pretrained_raw.flags"
   ]
  },
  {
   "cell_type": "code",
   "execution_count": null,
   "id": "0a83a9cc",
   "metadata": {},
   "outputs": [],
   "source": []
  }
 ],
 "metadata": {
  "kernelspec": {
   "display_name": "Python 3 (ipykernel)",
   "language": "python",
   "name": "python3"
  },
  "language_info": {
   "codemirror_mode": {
    "name": "ipython",
    "version": 3
   },
   "file_extension": ".py",
   "mimetype": "text/x-python",
   "name": "python",
   "nbconvert_exporter": "python",
   "pygments_lexer": "ipython3",
   "version": "3.9.14"
  }
 },
 "nbformat": 4,
 "nbformat_minor": 5
}
