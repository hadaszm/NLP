{
 "cells": [
  {
   "cell_type": "code",
   "execution_count": 85,
   "id": "a790596f",
   "metadata": {},
   "outputs": [],
   "source": [
    "import pandas as pd\n",
    "from numpy import dot\n",
    "from numpy.linalg import norm\n",
    "import numpy as np\n",
    "from numba import jit, njit"
   ]
  },
  {
   "cell_type": "code",
   "execution_count": 86,
   "id": "0d63ae5c",
   "metadata": {},
   "outputs": [],
   "source": [
    "@jit\n",
    "def cosine_sim(a, b): \n",
    "    return dot(a, b)/(norm(a)*norm(b))\n",
    "[cosine_sim(np.random.normal(size=(800,)),np.random.normal(size=(800,))) for _ in range(20000)];"
   ]
  },
  {
   "cell_type": "code",
   "execution_count": 69,
   "id": "a2969011",
   "metadata": {},
   "outputs": [],
   "source": [
    "bertopic_emb = pd.read_csv('../results/embeddings/bertopic_processed_data_2022-11-22_23-14-24_test_embeddings_model_pretrained.csv')\n",
    "lda_emb = pd.read_csv('../results/embeddings/LDA_test_2022-11-23_17-47-24_embeddings_model_pretrained.csv')"
   ]
  },
  {
   "cell_type": "code",
   "execution_count": 70,
   "id": "a8a68068",
   "metadata": {},
   "outputs": [],
   "source": [
    "concepts_emb_pretrained = pd.read_csv('../results/embeddings/concepts_emb_pretrained_model.csv')"
   ]
  },
  {
   "cell_type": "code",
   "execution_count": 71,
   "id": "506d0de3",
   "metadata": {},
   "outputs": [],
   "source": [
    "concepts_emb_pretrained_raw = concepts_emb_pretrained.values[:, :-1].astype(np.float32)"
   ]
  },
  {
   "cell_type": "code",
   "execution_count": 89,
   "id": "7106e4b7",
   "metadata": {},
   "outputs": [],
   "source": [
    "def return_embedded_word(row):\n",
    "    embedding = row.values[5:].astype(np.float32).flatten()\n",
    "    cosine_similarities = np.apply_along_axis(lambda x: cosine_sim(embedding, x), axis=1, arr=concepts_emb_pretrained_raw)\n",
    "    return concepts_emb_pretrained.iloc[cosine_similarities.argmax()]['concept_name']"
   ]
  },
  {
   "cell_type": "code",
   "execution_count": 90,
   "id": "795062b2",
   "metadata": {},
   "outputs": [
    {
     "name": "stderr",
     "output_type": "stream",
     "text": [
      "100%|██████████████████████████████████████████████████████████████████████████████| 8790/8790 [12:01<00:00, 12.19it/s]\n"
     ]
    }
   ],
   "source": [
    "import tqdm\n",
    "tagged_words = []\n",
    "for i, row in tqdm.tqdm(bertopic_emb.iterrows(), total=len(bertopic_emb)):\n",
    "    tagged_word = return_embedded_word(row)\n",
    "    tagged_words.append(tagged_word)\n",
    "bertopic_emb['tagged_word'] = tagged_words"
   ]
  },
  {
   "cell_type": "code",
   "execution_count": 92,
   "id": "d8165eb1",
   "metadata": {},
   "outputs": [],
   "source": [
    "def collect_list(x): \n",
    "    result= {}\n",
    "    result['tagged_words'] = list(x['tagged_word'])\n",
    "    return pd.Series(result, index=['tagged_words'])\n",
    "bertopic_emb.groupby('PMID').apply(collect_list).reset_index().to_csv('../results/tagged_bertopic_bert_pretrained.csv', index=False)"
   ]
  },
  {
   "cell_type": "code",
   "execution_count": null,
   "id": "0a83a9cc",
   "metadata": {},
   "outputs": [],
   "source": []
  }
 ],
 "metadata": {
  "kernelspec": {
   "display_name": "Python 3 (ipykernel)",
   "language": "python",
   "name": "python3"
  },
  "language_info": {
   "codemirror_mode": {
    "name": "ipython",
    "version": 3
   },
   "file_extension": ".py",
   "mimetype": "text/x-python",
   "name": "python",
   "nbconvert_exporter": "python",
   "pygments_lexer": "ipython3",
   "version": "3.9.14"
  }
 },
 "nbformat": 4,
 "nbformat_minor": 5
}
