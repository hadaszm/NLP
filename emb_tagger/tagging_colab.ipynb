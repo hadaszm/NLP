{
 "cells": [
  {
   "cell_type": "code",
   "execution_count": 13,
   "id": "a790596f",
   "metadata": {},
   "outputs": [],
   "source": [
    "import pandas as pd\n",
    "import numpy as np\n",
    "from numba import jit, njit, prange\n",
    "import glob\n",
    "import os"
   ]
  },
  {
   "cell_type": "code",
   "execution_count": 14,
   "id": "f49847f0",
   "metadata": {},
   "outputs": [],
   "source": [
    "emb_cols = [str(col) for col in range(767+1)]"
   ]
  },
  {
   "cell_type": "code",
   "execution_count": 15,
   "id": "0d63ae5c",
   "metadata": {},
   "outputs": [],
   "source": [
    "@njit\n",
    "def cosine_sim(a, b): \n",
    "    return np.dot(a, b)/(np.linalg.norm(a)*np.linalg.norm(b))\n",
    "[cosine_sim(np.random.normal(size=(800,)),np.random.normal(size=(800,))) for _ in range(20000)];"
   ]
  },
  {
   "cell_type": "code",
   "execution_count": 16,
   "id": "f5b7b358",
   "metadata": {},
   "outputs": [],
   "source": [
    "@njit(parallel=True)\n",
    "def return_similarities(embedding, concept_embeddings):\n",
    "    result = np.zeros((concept_embeddings.shape[0], ))\n",
    "    for i in prange(concept_embeddings.shape[0]):\n",
    "        result[i] = cosine_sim(embedding, concept_embeddings[i])\n",
    "    return result"
   ]
  },
  {
   "cell_type": "code",
   "execution_count": 17,
   "id": "04a5905c",
   "metadata": {},
   "outputs": [],
   "source": [
    "try:\n",
    "    import google.colab\n",
    "    colab = True\n",
    "    from google.colab import drive\n",
    "    drive.mount('/content/drive')\n",
    "    \n",
    "    emb_files = {\n",
    "        'bertopic_test': '/content/drive/MyDrive/NLP_files/embeddings/bertopic_processed_data_2022-11-22_23-14-24_test_embeddings_biobert.csv',\n",
    "        'bertopic_train': '/content/drive/MyDrive/NLP_files/embeddings/bertopic_processed_data_2022-11-22_23-14-24_train_embeddings_biobert.csv',\n",
    "        'LDA_test': '/content/drive/MyDrive/NLP_files/embeddings/LDA_test_2022-11-23_17-47-24_embeddings_biobert.csv',\n",
    "        'LDA_train': '/content/drive/MyDrive/NLP_files/embeddings/LDA_train_2022-11-23_17-47-24_embeddings_biobert.csv'\n",
    "    }\n",
    "    \n",
    "    emb_glob_regex = '/content/drive/MyDrive/NLP_files/concepts_embeddings_*_biobert.csv'\n",
    "    \n",
    "    device_name = 'cuda'\n",
    "    sys.path.append('/content/drive/MyDrive/NLP/bert_embeddings')\n",
    "    print(sys.path[-1])\n",
    "except ImportError:\n",
    "    colab = False\n",
    "    \n",
    "    emb_files = {\n",
    "        'bertopic_test': '../results/embeddings/bertopic_processed_data_2022-11-22_23-14-24_test_embeddings_biobert.csv',\n",
    "        'bertopic_train': '../results/embeddings/bertopic_processed_data_2022-11-22_23-14-24_train_embeddings_biobert.csv',\n",
    "        'LDA_test': '../results/embeddings/LDA_test_2022-11-23_17-47-24_embeddings_biobert.csv',\n",
    "        'LDA_train': '../results/embeddings/LDA_train_2022-11-23_17-47-24_embeddings_biobert.csv'\n",
    "    }\n",
    "    emb_glob_regex = '../results/embeddings/concepts_embeddings_*_biobert.csv'\n",
    "    \n",
    "    device_name = 'cpu'"
   ]
  },
  {
   "cell_type": "code",
   "execution_count": 18,
   "id": "a8a68068",
   "metadata": {},
   "outputs": [],
   "source": [
    "concepts_emb_pretrained = pd.concat([pd.read_csv(file) for file in glob.glob(emb_glob_regex)])"
   ]
  },
  {
   "cell_type": "code",
   "execution_count": 19,
   "id": "506d0de3",
   "metadata": {},
   "outputs": [],
   "source": [
    "concepts_emb_pretrained_raw = np.ascontiguousarray(concepts_emb_pretrained[emb_cols].values.astype(np.float32))"
   ]
  },
  {
   "cell_type": "code",
   "execution_count": 20,
   "id": "935c7b72",
   "metadata": {},
   "outputs": [],
   "source": [
    "concepts_emb_pretrained = concepts_emb_pretrained[['concept_name']]"
   ]
  },
  {
   "cell_type": "code",
   "execution_count": 21,
   "id": "7106e4b7",
   "metadata": {},
   "outputs": [],
   "source": [
    "def return_embedded_word(row):\n",
    "    embedding = row.values[5:].astype(np.float32).flatten()\n",
    "    #cosine_similarities = np.apply_along_axis(lambda x: cosine_sim(embedding, x), axis=1, arr=concepts_emb_pretrained_raw)\n",
    "    cosine_similarities = return_similarities(embedding, concepts_emb_pretrained_raw)\n",
    "    max_idx = cosine_similarities.argmax()\n",
    "    return concepts_emb_pretrained.iloc[max_idx]['concept_name'], concepts_emb_pretrained.iloc[max_idx]['CUI']"
   ]
  },
  {
   "cell_type": "code",
   "execution_count": 22,
   "id": "d4c2f122",
   "metadata": {},
   "outputs": [],
   "source": [
    "def collect_list(x): \n",
    "    result= {}\n",
    "    result['tagged_words'] = list(x['tagged_word'])\n",
    "    return pd.Series(result, index=['tagged_words'])"
   ]
  },
  {
   "cell_type": "code",
   "execution_count": 23,
   "id": "795062b2",
   "metadata": {},
   "outputs": [
    {
     "name": "stderr",
     "output_type": "stream",
     "text": [
      "  0%|                                                                                            | 0/5 [00:01<?, ?it/s]\n"
     ]
    },
    {
     "ename": "KeyError",
     "evalue": "'CUI'",
     "output_type": "error",
     "traceback": [
      "\u001b[1;31m---------------------------------------------------------------------------\u001b[0m",
      "\u001b[1;31mKeyError\u001b[0m                                  Traceback (most recent call last)",
      "File \u001b[1;32mc:\\users\\krystian kurek\\.conda\\envs\\nlp\\lib\\site-packages\\pandas\\core\\indexes\\base.py:3803\u001b[0m, in \u001b[0;36mIndex.get_loc\u001b[1;34m(self, key, method, tolerance)\u001b[0m\n\u001b[0;32m   3802\u001b[0m \u001b[38;5;28;01mtry\u001b[39;00m:\n\u001b[1;32m-> 3803\u001b[0m     \u001b[38;5;28;01mreturn\u001b[39;00m \u001b[38;5;28;43mself\u001b[39;49m\u001b[38;5;241;43m.\u001b[39;49m\u001b[43m_engine\u001b[49m\u001b[38;5;241;43m.\u001b[39;49m\u001b[43mget_loc\u001b[49m\u001b[43m(\u001b[49m\u001b[43mcasted_key\u001b[49m\u001b[43m)\u001b[49m\n\u001b[0;32m   3804\u001b[0m \u001b[38;5;28;01mexcept\u001b[39;00m \u001b[38;5;167;01mKeyError\u001b[39;00m \u001b[38;5;28;01mas\u001b[39;00m err:\n",
      "File \u001b[1;32mc:\\users\\krystian kurek\\.conda\\envs\\nlp\\lib\\site-packages\\pandas\\_libs\\index.pyx:138\u001b[0m, in \u001b[0;36mpandas._libs.index.IndexEngine.get_loc\u001b[1;34m()\u001b[0m\n",
      "File \u001b[1;32mc:\\users\\krystian kurek\\.conda\\envs\\nlp\\lib\\site-packages\\pandas\\_libs\\index.pyx:165\u001b[0m, in \u001b[0;36mpandas._libs.index.IndexEngine.get_loc\u001b[1;34m()\u001b[0m\n",
      "File \u001b[1;32mpandas\\_libs\\hashtable_class_helper.pxi:5745\u001b[0m, in \u001b[0;36mpandas._libs.hashtable.PyObjectHashTable.get_item\u001b[1;34m()\u001b[0m\n",
      "File \u001b[1;32mpandas\\_libs\\hashtable_class_helper.pxi:5753\u001b[0m, in \u001b[0;36mpandas._libs.hashtable.PyObjectHashTable.get_item\u001b[1;34m()\u001b[0m\n",
      "\u001b[1;31mKeyError\u001b[0m: 'CUI'",
      "\nThe above exception was the direct cause of the following exception:\n",
      "\u001b[1;31mKeyError\u001b[0m                                  Traceback (most recent call last)",
      "Cell \u001b[1;32mIn [23], line 7\u001b[0m\n\u001b[0;32m      5\u001b[0m CUIs \u001b[38;5;241m=\u001b[39m []\n\u001b[0;32m      6\u001b[0m \u001b[38;5;28;01mfor\u001b[39;00m i, row \u001b[38;5;129;01min\u001b[39;00m tqdm\u001b[38;5;241m.\u001b[39mtqdm(keyword_embs\u001b[38;5;241m.\u001b[39miterrows(), total\u001b[38;5;241m=\u001b[39m\u001b[38;5;28mlen\u001b[39m(keyword_embs)):\n\u001b[1;32m----> 7\u001b[0m     tagged_word, CUI \u001b[38;5;241m=\u001b[39m \u001b[43mreturn_embedded_word\u001b[49m\u001b[43m(\u001b[49m\u001b[43mrow\u001b[49m\u001b[43m)\u001b[49m\n\u001b[0;32m      8\u001b[0m     tagged_words\u001b[38;5;241m.\u001b[39mappend(tagged_word)\n\u001b[0;32m      9\u001b[0m     CUIs\u001b[38;5;241m.\u001b[39mappend(CUI)\n",
      "Cell \u001b[1;32mIn [21], line 6\u001b[0m, in \u001b[0;36mreturn_embedded_word\u001b[1;34m(row)\u001b[0m\n\u001b[0;32m      4\u001b[0m cosine_similarities \u001b[38;5;241m=\u001b[39m return_similarities(embedding, concepts_emb_pretrained_raw)\n\u001b[0;32m      5\u001b[0m max_idx \u001b[38;5;241m=\u001b[39m cosine_similarities\u001b[38;5;241m.\u001b[39margmax()\n\u001b[1;32m----> 6\u001b[0m \u001b[38;5;28;01mreturn\u001b[39;00m concepts_emb_pretrained\u001b[38;5;241m.\u001b[39miloc[max_idx][\u001b[38;5;124m'\u001b[39m\u001b[38;5;124mconcept_name\u001b[39m\u001b[38;5;124m'\u001b[39m], \u001b[43mconcepts_emb_pretrained\u001b[49m\u001b[38;5;241;43m.\u001b[39;49m\u001b[43miloc\u001b[49m\u001b[43m[\u001b[49m\u001b[43mmax_idx\u001b[49m\u001b[43m]\u001b[49m\u001b[43m[\u001b[49m\u001b[38;5;124;43m'\u001b[39;49m\u001b[38;5;124;43mCUI\u001b[39;49m\u001b[38;5;124;43m'\u001b[39;49m\u001b[43m]\u001b[49m\n",
      "File \u001b[1;32mc:\\users\\krystian kurek\\.conda\\envs\\nlp\\lib\\site-packages\\pandas\\core\\series.py:981\u001b[0m, in \u001b[0;36mSeries.__getitem__\u001b[1;34m(self, key)\u001b[0m\n\u001b[0;32m    978\u001b[0m     \u001b[38;5;28;01mreturn\u001b[39;00m \u001b[38;5;28mself\u001b[39m\u001b[38;5;241m.\u001b[39m_values[key]\n\u001b[0;32m    980\u001b[0m \u001b[38;5;28;01melif\u001b[39;00m key_is_scalar:\n\u001b[1;32m--> 981\u001b[0m     \u001b[38;5;28;01mreturn\u001b[39;00m \u001b[38;5;28;43mself\u001b[39;49m\u001b[38;5;241;43m.\u001b[39;49m\u001b[43m_get_value\u001b[49m\u001b[43m(\u001b[49m\u001b[43mkey\u001b[49m\u001b[43m)\u001b[49m\n\u001b[0;32m    983\u001b[0m \u001b[38;5;28;01mif\u001b[39;00m is_hashable(key):\n\u001b[0;32m    984\u001b[0m     \u001b[38;5;66;03m# Otherwise index.get_value will raise InvalidIndexError\u001b[39;00m\n\u001b[0;32m    985\u001b[0m     \u001b[38;5;28;01mtry\u001b[39;00m:\n\u001b[0;32m    986\u001b[0m         \u001b[38;5;66;03m# For labels that don't resolve as scalars like tuples and frozensets\u001b[39;00m\n",
      "File \u001b[1;32mc:\\users\\krystian kurek\\.conda\\envs\\nlp\\lib\\site-packages\\pandas\\core\\series.py:1089\u001b[0m, in \u001b[0;36mSeries._get_value\u001b[1;34m(self, label, takeable)\u001b[0m\n\u001b[0;32m   1086\u001b[0m     \u001b[38;5;28;01mreturn\u001b[39;00m \u001b[38;5;28mself\u001b[39m\u001b[38;5;241m.\u001b[39m_values[label]\n\u001b[0;32m   1088\u001b[0m \u001b[38;5;66;03m# Similar to Index.get_value, but we do not fall back to positional\u001b[39;00m\n\u001b[1;32m-> 1089\u001b[0m loc \u001b[38;5;241m=\u001b[39m \u001b[38;5;28;43mself\u001b[39;49m\u001b[38;5;241;43m.\u001b[39;49m\u001b[43mindex\u001b[49m\u001b[38;5;241;43m.\u001b[39;49m\u001b[43mget_loc\u001b[49m\u001b[43m(\u001b[49m\u001b[43mlabel\u001b[49m\u001b[43m)\u001b[49m\n\u001b[0;32m   1090\u001b[0m \u001b[38;5;28;01mreturn\u001b[39;00m \u001b[38;5;28mself\u001b[39m\u001b[38;5;241m.\u001b[39mindex\u001b[38;5;241m.\u001b[39m_get_values_for_loc(\u001b[38;5;28mself\u001b[39m, loc, label)\n",
      "File \u001b[1;32mc:\\users\\krystian kurek\\.conda\\envs\\nlp\\lib\\site-packages\\pandas\\core\\indexes\\base.py:3805\u001b[0m, in \u001b[0;36mIndex.get_loc\u001b[1;34m(self, key, method, tolerance)\u001b[0m\n\u001b[0;32m   3803\u001b[0m     \u001b[38;5;28;01mreturn\u001b[39;00m \u001b[38;5;28mself\u001b[39m\u001b[38;5;241m.\u001b[39m_engine\u001b[38;5;241m.\u001b[39mget_loc(casted_key)\n\u001b[0;32m   3804\u001b[0m \u001b[38;5;28;01mexcept\u001b[39;00m \u001b[38;5;167;01mKeyError\u001b[39;00m \u001b[38;5;28;01mas\u001b[39;00m err:\n\u001b[1;32m-> 3805\u001b[0m     \u001b[38;5;28;01mraise\u001b[39;00m \u001b[38;5;167;01mKeyError\u001b[39;00m(key) \u001b[38;5;28;01mfrom\u001b[39;00m \u001b[38;5;21;01merr\u001b[39;00m\n\u001b[0;32m   3806\u001b[0m \u001b[38;5;28;01mexcept\u001b[39;00m \u001b[38;5;167;01mTypeError\u001b[39;00m:\n\u001b[0;32m   3807\u001b[0m     \u001b[38;5;66;03m# If we have a listlike key, _check_indexing_error will raise\u001b[39;00m\n\u001b[0;32m   3808\u001b[0m     \u001b[38;5;66;03m#  InvalidIndexError. Otherwise we fall through and re-raise\u001b[39;00m\n\u001b[0;32m   3809\u001b[0m     \u001b[38;5;66;03m#  the TypeError.\u001b[39;00m\n\u001b[0;32m   3810\u001b[0m     \u001b[38;5;28mself\u001b[39m\u001b[38;5;241m.\u001b[39m_check_indexing_error(key)\n",
      "\u001b[1;31mKeyError\u001b[0m: 'CUI'"
     ]
    }
   ],
   "source": [
    "import tqdm\n",
    "for name, filename in emb_files.items():\n",
    "    keyword_embs = pd.read_csv(filename).head(5)\n",
    "    tagged_words = []\n",
    "    CUIs = []\n",
    "    for i, row in tqdm.tqdm(keyword_embs.iterrows(), total=len(keyword_embs)):\n",
    "        tagged_word, CUI = return_embedded_word(row)\n",
    "        tagged_words.append(tagged_word)\n",
    "        CUIs.append(CUI)\n",
    "    keyword_embs['tagged_word'] = tagged_words\n",
    "    keyword_embs['CUI'] = CUIs\n",
    "    output_filename = filename.replace('embeddings', 'emb_tagged')\n",
    "    output_filename = os.path.join(os.path.dirname(output_filename), 'tagged_' + os.path.basename(output_filename))\n",
    "    print(output_filename)\n",
    "    #keyword_embs.groupby('PMID').apply(collect_list).reset_index().to_csv('../results/tagged_bertopic_bert_pretrained.csv', index=False)\n",
    "    keyword_embs.to_csv(output_filename, index=False)\n",
    "    break"
   ]
  },
  {
   "cell_type": "code",
   "execution_count": null,
   "id": "47e3e2b8",
   "metadata": {},
   "outputs": [],
   "source": [
    "keyword_embs"
   ]
  },
  {
   "cell_type": "code",
   "execution_count": null,
   "id": "70013428",
   "metadata": {},
   "outputs": [],
   "source": []
  }
 ],
 "metadata": {
  "kernelspec": {
   "display_name": "Python 3 (ipykernel)",
   "language": "python",
   "name": "python3"
  },
  "language_info": {
   "codemirror_mode": {
    "name": "ipython",
    "version": 3
   },
   "file_extension": ".py",
   "mimetype": "text/x-python",
   "name": "python",
   "nbconvert_exporter": "python",
   "pygments_lexer": "ipython3",
   "version": "3.9.14"
  }
 },
 "nbformat": 4,
 "nbformat_minor": 5
}
