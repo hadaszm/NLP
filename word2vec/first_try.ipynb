{
 "cells": [
  {
   "cell_type": "code",
   "execution_count": 1,
   "id": "4ac56138",
   "metadata": {},
   "outputs": [],
   "source": [
    "import pandas as pd\n",
    "from sklearn.model_selection import train_test_split"
   ]
  },
  {
   "cell_type": "code",
   "execution_count": 2,
   "id": "23ffc531",
   "metadata": {},
   "outputs": [],
   "source": [
    "df = pd.read_csv('../data/titles_and_abstracts_processed.csv')\\\n",
    "    .drop(['tokenized_words_processed__alpha', 'Unnamed: 0'], axis=1)"
   ]
  },
  {
   "cell_type": "code",
   "execution_count": 3,
   "id": "3d1ea55e",
   "metadata": {},
   "outputs": [],
   "source": [
    "unique_pmids = df['PMID'].drop_duplicates()"
   ]
  },
  {
   "cell_type": "code",
   "execution_count": 4,
   "id": "632198cb",
   "metadata": {},
   "outputs": [],
   "source": [
    "train_pmids, test_pmids = train_test_split(unique_pmids, test_size=0.2)"
   ]
  },
  {
   "cell_type": "code",
   "execution_count": 5,
   "id": "476b6d30",
   "metadata": {},
   "outputs": [],
   "source": [
    "df.merge(train_pmids).to_csv('../data/titles_and_abstracts_processed_train.csv', index=False)\n",
    "df.merge(test_pmids).to_csv('../data/titles_and_abstracts_processed_test.csv', index=False)"
   ]
  },
  {
   "cell_type": "code",
   "execution_count": 20,
   "id": "a2ce92ae",
   "metadata": {},
   "outputs": [
    {
     "data": {
      "text/html": [
       "<div>\n",
       "<style scoped>\n",
       "    .dataframe tbody tr th:only-of-type {\n",
       "        vertical-align: middle;\n",
       "    }\n",
       "\n",
       "    .dataframe tbody tr th {\n",
       "        vertical-align: top;\n",
       "    }\n",
       "\n",
       "    .dataframe thead th {\n",
       "        text-align: right;\n",
       "    }\n",
       "</style>\n",
       "<table border=\"1\" class=\"dataframe\">\n",
       "  <thead>\n",
       "    <tr style=\"text-align: right;\">\n",
       "      <th></th>\n",
       "      <th>PMID</th>\n",
       "      <th>Type</th>\n",
       "      <th>Content</th>\n",
       "      <th>tokenized_sentences</th>\n",
       "      <th>tokenized_words</th>\n",
       "      <th>tokenized_words_processed</th>\n",
       "    </tr>\n",
       "  </thead>\n",
       "  <tbody>\n",
       "    <tr>\n",
       "      <th>0</th>\n",
       "      <td>25763772</td>\n",
       "      <td>t</td>\n",
       "      <td>DCTN4 as a modifier of chronic Pseudomonas aer...</td>\n",
       "      <td>[DCTN4 as a modifier of chronic Pseudomonas ae...</td>\n",
       "      <td>[[DCTN4, as, a, modifier, of, chronic, Pseudom...</td>\n",
       "      <td>[dctn4, modifi, chronic, pseudomona, aeruginos...</td>\n",
       "    </tr>\n",
       "    <tr>\n",
       "      <th>1</th>\n",
       "      <td>25763772</td>\n",
       "      <td>a</td>\n",
       "      <td>Pseudomonas aeruginosa (Pa) infection in cysti...</td>\n",
       "      <td>[Pseudomonas aeruginosa (Pa) infection in cyst...</td>\n",
       "      <td>[[Pseudomonas, aeruginosa, (, Pa, ), infection...</td>\n",
       "      <td>[pseudomona, aeruginosa, infect, cystic, fibro...</td>\n",
       "    </tr>\n",
       "    <tr>\n",
       "      <th>2</th>\n",
       "      <td>25847295</td>\n",
       "      <td>t</td>\n",
       "      <td>Nonylphenol diethoxylate inhibits apoptosis in...</td>\n",
       "      <td>[Nonylphenol diethoxylate inhibits apoptosis i...</td>\n",
       "      <td>[[Nonylphenol, diethoxylate, inhibits, apoptos...</td>\n",
       "      <td>[nonylphenol, diethoxyl, inhibit, apoptosi, in...</td>\n",
       "    </tr>\n",
       "    <tr>\n",
       "      <th>3</th>\n",
       "      <td>25847295</td>\n",
       "      <td>a</td>\n",
       "      <td>Nonylphenol and short-chain nonylphenol ethoxy...</td>\n",
       "      <td>[Nonylphenol and short-chain nonylphenol ethox...</td>\n",
       "      <td>[[Nonylphenol, and, short-chain, nonylphenol, ...</td>\n",
       "      <td>[nonylphenol, nonylphenol, ethoxyl, np2, eo, p...</td>\n",
       "    </tr>\n",
       "    <tr>\n",
       "      <th>4</th>\n",
       "      <td>26316050</td>\n",
       "      <td>t</td>\n",
       "      <td>Prevascularized silicon membranes for the enha...</td>\n",
       "      <td>[Prevascularized silicon membranes for the enh...</td>\n",
       "      <td>[[Prevascularized, silicon, membranes, for, th...</td>\n",
       "      <td>[prevascular, silicon, membran, enhanc, transp...</td>\n",
       "    </tr>\n",
       "  </tbody>\n",
       "</table>\n",
       "</div>"
      ],
      "text/plain": [
       "       PMID Type                                            Content  \\\n",
       "0  25763772    t  DCTN4 as a modifier of chronic Pseudomonas aer...   \n",
       "1  25763772    a  Pseudomonas aeruginosa (Pa) infection in cysti...   \n",
       "2  25847295    t  Nonylphenol diethoxylate inhibits apoptosis in...   \n",
       "3  25847295    a  Nonylphenol and short-chain nonylphenol ethoxy...   \n",
       "4  26316050    t  Prevascularized silicon membranes for the enha...   \n",
       "\n",
       "                                 tokenized_sentences  \\\n",
       "0  [DCTN4 as a modifier of chronic Pseudomonas ae...   \n",
       "1  [Pseudomonas aeruginosa (Pa) infection in cyst...   \n",
       "2  [Nonylphenol diethoxylate inhibits apoptosis i...   \n",
       "3  [Nonylphenol and short-chain nonylphenol ethox...   \n",
       "4  [Prevascularized silicon membranes for the enh...   \n",
       "\n",
       "                                     tokenized_words  \\\n",
       "0  [[DCTN4, as, a, modifier, of, chronic, Pseudom...   \n",
       "1  [[Pseudomonas, aeruginosa, (, Pa, ), infection...   \n",
       "2  [[Nonylphenol, diethoxylate, inhibits, apoptos...   \n",
       "3  [[Nonylphenol, and, short-chain, nonylphenol, ...   \n",
       "4  [[Prevascularized, silicon, membranes, for, th...   \n",
       "\n",
       "                           tokenized_words_processed  \n",
       "0  [dctn4, modifi, chronic, pseudomona, aeruginos...  \n",
       "1  [pseudomona, aeruginosa, infect, cystic, fibro...  \n",
       "2  [nonylphenol, diethoxyl, inhibit, apoptosi, in...  \n",
       "3  [nonylphenol, nonylphenol, ethoxyl, np2, eo, p...  \n",
       "4  [prevascular, silicon, membran, enhanc, transp...  "
      ]
     },
     "execution_count": 20,
     "metadata": {},
     "output_type": "execute_result"
    }
   ],
   "source": [
    "for col in ['tokenized_sentences', 'tokenized_words', 'tokenized_words_processed']:\n",
    "    df[col] = df[col].apply(eval)\n",
    "df.head()"
   ]
  },
  {
   "cell_type": "code",
   "execution_count": 21,
   "id": "a32da9c1",
   "metadata": {},
   "outputs": [],
   "source": [
    "from gensim.models import KeyedVectors\n",
    "# Load pretrained model (since intermediate data is not included, the model cannot be refined with additional data)\n",
    "model = KeyedVectors.load_word2vec_format('GoogleNews-vectors-negative300.bin', binary=True)"
   ]
  },
  {
   "cell_type": "code",
   "execution_count": 22,
   "id": "3b156be3",
   "metadata": {},
   "outputs": [],
   "source": [
    "distinct_words = {word for words in df['tokenized_words_processed'] for word in words}"
   ]
  },
  {
   "cell_type": "code",
   "execution_count": 23,
   "id": "6151c18d",
   "metadata": {},
   "outputs": [],
   "source": [
    "words_in_model = {word for word in distinct_words if word in model}\n",
    "words_not_in_model = {word for word in distinct_words if word not in model}"
   ]
  },
  {
   "cell_type": "code",
   "execution_count": 24,
   "id": "09d96c99",
   "metadata": {},
   "outputs": [
    {
     "data": {
      "text/plain": [
       "(8769, 18534)"
      ]
     },
     "execution_count": 24,
     "metadata": {},
     "output_type": "execute_result"
    }
   ],
   "source": [
    "len(words_in_model), len(words_not_in_model)"
   ]
  },
  {
   "cell_type": "code",
   "execution_count": 27,
   "id": "29272531",
   "metadata": {},
   "outputs": [
    {
     "data": {
      "text/plain": [
       "array(['ebu', 'dehydroepiandrosteron', 'maddux', 'aequu', 'p300',\n",
       "       'biomechan', 'fluoroscopi', 'methanosarcina', '2825', 'biocid'],\n",
       "      dtype='<U28')"
      ]
     },
     "execution_count": 27,
     "metadata": {},
     "output_type": "execute_result"
    }
   ],
   "source": [
    "import numpy as np\n",
    "np.random.choice(list(words_not_in_model), size=10)"
   ]
  },
  {
   "cell_type": "code",
   "execution_count": 26,
   "id": "207f56f3",
   "metadata": {},
   "outputs": [
    {
     "data": {
      "text/plain": [
       "array(['antemortem', 'fallen', 'bsc', 'katydid', 'promot', 'lemon',\n",
       "       'alveoli', 'assay', 'bat', 'scratch'], dtype='<U21')"
      ]
     },
     "execution_count": 26,
     "metadata": {},
     "output_type": "execute_result"
    }
   ],
   "source": [
    "np.random.choice(list(words_in_model), size=10)"
   ]
  },
  {
   "cell_type": "code",
   "execution_count": null,
   "id": "6854ef0d",
   "metadata": {},
   "outputs": [],
   "source": []
  }
 ],
 "metadata": {
  "kernelspec": {
   "display_name": "Python 3 (ipykernel)",
   "language": "python",
   "name": "python3"
  },
  "language_info": {
   "codemirror_mode": {
    "name": "ipython",
    "version": 3
   },
   "file_extension": ".py",
   "mimetype": "text/x-python",
   "name": "python",
   "nbconvert_exporter": "python",
   "pygments_lexer": "ipython3",
   "version": "3.9.14"
  }
 },
 "nbformat": 4,
 "nbformat_minor": 5
}
