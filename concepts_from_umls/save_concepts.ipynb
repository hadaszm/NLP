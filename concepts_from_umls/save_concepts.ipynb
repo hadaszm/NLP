{
 "cells": [
  {
   "cell_type": "code",
   "execution_count": 1,
   "id": "343a1a7b",
   "metadata": {},
   "outputs": [],
   "source": [
    "import pandas as pd"
   ]
  },
  {
   "cell_type": "code",
   "execution_count": 2,
   "id": "4fe7a1c0",
   "metadata": {},
   "outputs": [],
   "source": [
    "from collections import Counter"
   ]
  },
  {
   "cell_type": "code",
   "execution_count": 3,
   "id": "689bd820",
   "metadata": {},
   "outputs": [],
   "source": [
    "columns =  ['CUI','LAT','TS','LUI','STT','SUI','ISPREF','AUI','SAUI',\n",
    "            'SCUI','SDUI','SAB','TTY','CODE','STR','SRL','SUPPRESS','CVF',\n",
    "                            'YEAR_OCCURENCE'] # indicates the last version of the UMLS in which each atom appeared."
   ]
  },
  {
   "cell_type": "code",
   "execution_count": 4,
   "id": "2c42265d",
   "metadata": {},
   "outputs": [],
   "source": [
    "history_concepts = pd.read_csv('../data/MRCONSO_HISTORY.txt', sep='|', header=None, dtype=str)\n",
    "history_concepts.columns = columns"
   ]
  },
  {
   "cell_type": "code",
   "execution_count": 5,
   "id": "b372039c",
   "metadata": {},
   "outputs": [],
   "source": [
    "current_concepts = pd.read_csv('../data/MRCONSO.RRF', sep='|', header=None, dtype=str)\n",
    "current_concepts = current_concepts.drop(current_concepts.columns[-1], axis=1)\n",
    "current_concepts.columns = columns[:-1]"
   ]
  },
  {
   "cell_type": "code",
   "execution_count": 6,
   "id": "f612ed34",
   "metadata": {},
   "outputs": [],
   "source": [
    "concepts = pd.concat([history_concepts, current_concepts])\n",
    "del history_concepts\n",
    "del current_concepts \n",
    "concepts['YEAR_OCCURENCE'] = concepts['YEAR_OCCURENCE'].fillna('2022AA')"
   ]
  },
  {
   "cell_type": "code",
   "execution_count": 8,
   "id": "a8b6ceb4",
   "metadata": {},
   "outputs": [],
   "source": [
    "concepts = concepts.loc[concepts['YEAR_OCCURENCE'].apply(lambda x: int(x[:4])) >= 2017]"
   ]
  },
  {
   "cell_type": "code",
   "execution_count": 9,
   "id": "09cf36c8",
   "metadata": {},
   "outputs": [],
   "source": [
    "concepts = concepts.loc[concepts['LAT'] == 'ENG']"
   ]
  },
  {
   "cell_type": "code",
   "execution_count": 10,
   "id": "2507fdc2",
   "metadata": {},
   "outputs": [],
   "source": [
    "concepts = concepts.dropna(subset='STR')"
   ]
  },
  {
   "cell_type": "code",
   "execution_count": 11,
   "id": "308824ac",
   "metadata": {},
   "outputs": [
    {
     "data": {
      "text/html": [
       "<div>\n",
       "<style scoped>\n",
       "    .dataframe tbody tr th:only-of-type {\n",
       "        vertical-align: middle;\n",
       "    }\n",
       "\n",
       "    .dataframe tbody tr th {\n",
       "        vertical-align: top;\n",
       "    }\n",
       "\n",
       "    .dataframe thead th {\n",
       "        text-align: right;\n",
       "    }\n",
       "</style>\n",
       "<table border=\"1\" class=\"dataframe\">\n",
       "  <thead>\n",
       "    <tr style=\"text-align: right;\">\n",
       "      <th></th>\n",
       "      <th>CUI</th>\n",
       "      <th>LAT</th>\n",
       "      <th>TS</th>\n",
       "      <th>LUI</th>\n",
       "      <th>STT</th>\n",
       "      <th>SUI</th>\n",
       "      <th>ISPREF</th>\n",
       "      <th>AUI</th>\n",
       "      <th>SAUI</th>\n",
       "      <th>SCUI</th>\n",
       "      <th>SDUI</th>\n",
       "      <th>SAB</th>\n",
       "      <th>TTY</th>\n",
       "      <th>CODE</th>\n",
       "      <th>STR</th>\n",
       "      <th>SRL</th>\n",
       "      <th>SUPPRESS</th>\n",
       "      <th>CVF</th>\n",
       "      <th>YEAR_OCCURENCE</th>\n",
       "    </tr>\n",
       "  </thead>\n",
       "  <tbody>\n",
       "    <tr>\n",
       "      <th>31</th>\n",
       "      <td>C0000039</td>\n",
       "      <td>ENG</td>\n",
       "      <td>S</td>\n",
       "      <td>L0000038</td>\n",
       "      <td>PF</td>\n",
       "      <td>S0007563</td>\n",
       "      <td>N</td>\n",
       "      <td>A17876358</td>\n",
       "      <td>NaN</td>\n",
       "      <td>N0000007747</td>\n",
       "      <td>NaN</td>\n",
       "      <td>NDFRT</td>\n",
       "      <td>SY</td>\n",
       "      <td>N0000007747</td>\n",
       "      <td>1,2-Dipalmitoyl-Glycerophosphocholine</td>\n",
       "      <td>0</td>\n",
       "      <td>N</td>\n",
       "      <td>NaN</td>\n",
       "      <td>2019AA</td>\n",
       "    </tr>\n",
       "    <tr>\n",
       "      <th>32</th>\n",
       "      <td>C0000039</td>\n",
       "      <td>ENG</td>\n",
       "      <td>S</td>\n",
       "      <td>L0354989</td>\n",
       "      <td>PF</td>\n",
       "      <td>S0464922</td>\n",
       "      <td>N</td>\n",
       "      <td>A17900509</td>\n",
       "      <td>NaN</td>\n",
       "      <td>N0000007747</td>\n",
       "      <td>NaN</td>\n",
       "      <td>NDFRT</td>\n",
       "      <td>SY</td>\n",
       "      <td>N0000007747</td>\n",
       "      <td>3,5,9-Trioxa-4-phosphapentacosan-1-aminium, 4-...</td>\n",
       "      <td>0</td>\n",
       "      <td>N</td>\n",
       "      <td>NaN</td>\n",
       "      <td>2019AA</td>\n",
       "    </tr>\n",
       "    <tr>\n",
       "      <th>35</th>\n",
       "      <td>C0000039</td>\n",
       "      <td>ENG</td>\n",
       "      <td>S</td>\n",
       "      <td>L0000035</td>\n",
       "      <td>PF</td>\n",
       "      <td>S0007560</td>\n",
       "      <td>N</td>\n",
       "      <td>A17924851</td>\n",
       "      <td>NaN</td>\n",
       "      <td>N0000007747</td>\n",
       "      <td>NaN</td>\n",
       "      <td>NDFRT</td>\n",
       "      <td>SY</td>\n",
       "      <td>N0000007747</td>\n",
       "      <td>1,2-Dihexadecyl-sn-Glycerophosphocholine</td>\n",
       "      <td>0</td>\n",
       "      <td>N</td>\n",
       "      <td>NaN</td>\n",
       "      <td>2019AA</td>\n",
       "    </tr>\n",
       "    <tr>\n",
       "      <th>36</th>\n",
       "      <td>C0000039</td>\n",
       "      <td>ENG</td>\n",
       "      <td>S</td>\n",
       "      <td>L0012509</td>\n",
       "      <td>PF</td>\n",
       "      <td>S0033297</td>\n",
       "      <td>N</td>\n",
       "      <td>A17924852</td>\n",
       "      <td>NaN</td>\n",
       "      <td>N0000007747</td>\n",
       "      <td>NaN</td>\n",
       "      <td>NDFRT</td>\n",
       "      <td>SY</td>\n",
       "      <td>N0000007747</td>\n",
       "      <td>Dipalmitoyllecithin</td>\n",
       "      <td>0</td>\n",
       "      <td>N</td>\n",
       "      <td>256</td>\n",
       "      <td>2019AA</td>\n",
       "    </tr>\n",
       "    <tr>\n",
       "      <th>37</th>\n",
       "      <td>C0000039</td>\n",
       "      <td>ENG</td>\n",
       "      <td>P</td>\n",
       "      <td>L0000039</td>\n",
       "      <td>VC</td>\n",
       "      <td>S0007564</td>\n",
       "      <td>N</td>\n",
       "      <td>A17972823</td>\n",
       "      <td>NaN</td>\n",
       "      <td>N0000007747</td>\n",
       "      <td>NaN</td>\n",
       "      <td>NDFRT</td>\n",
       "      <td>PT</td>\n",
       "      <td>N0000007747</td>\n",
       "      <td>1,2-Dipalmitoylphosphatidylcholine</td>\n",
       "      <td>0</td>\n",
       "      <td>N</td>\n",
       "      <td>NaN</td>\n",
       "      <td>2019AA</td>\n",
       "    </tr>\n",
       "  </tbody>\n",
       "</table>\n",
       "</div>"
      ],
      "text/plain": [
       "         CUI  LAT TS       LUI STT       SUI ISPREF        AUI SAUI  \\\n",
       "31  C0000039  ENG  S  L0000038  PF  S0007563      N  A17876358  NaN   \n",
       "32  C0000039  ENG  S  L0354989  PF  S0464922      N  A17900509  NaN   \n",
       "35  C0000039  ENG  S  L0000035  PF  S0007560      N  A17924851  NaN   \n",
       "36  C0000039  ENG  S  L0012509  PF  S0033297      N  A17924852  NaN   \n",
       "37  C0000039  ENG  P  L0000039  VC  S0007564      N  A17972823  NaN   \n",
       "\n",
       "           SCUI SDUI    SAB TTY         CODE  \\\n",
       "31  N0000007747  NaN  NDFRT  SY  N0000007747   \n",
       "32  N0000007747  NaN  NDFRT  SY  N0000007747   \n",
       "35  N0000007747  NaN  NDFRT  SY  N0000007747   \n",
       "36  N0000007747  NaN  NDFRT  SY  N0000007747   \n",
       "37  N0000007747  NaN  NDFRT  PT  N0000007747   \n",
       "\n",
       "                                                  STR SRL SUPPRESS  CVF  \\\n",
       "31              1,2-Dipalmitoyl-Glycerophosphocholine   0        N  NaN   \n",
       "32  3,5,9-Trioxa-4-phosphapentacosan-1-aminium, 4-...   0        N  NaN   \n",
       "35           1,2-Dihexadecyl-sn-Glycerophosphocholine   0        N  NaN   \n",
       "36                                Dipalmitoyllecithin   0        N  256   \n",
       "37                 1,2-Dipalmitoylphosphatidylcholine   0        N  NaN   \n",
       "\n",
       "   YEAR_OCCURENCE  \n",
       "31         2019AA  \n",
       "32         2019AA  \n",
       "35         2019AA  \n",
       "36         2019AA  \n",
       "37         2019AA  "
      ]
     },
     "execution_count": 11,
     "metadata": {},
     "output_type": "execute_result"
    }
   ],
   "source": [
    "concepts.head()"
   ]
  },
  {
   "cell_type": "code",
   "execution_count": 14,
   "id": "ee1f84d2",
   "metadata": {},
   "outputs": [],
   "source": [
    "UMLS_ST21pv_semantic_types_ids = ['T005', 'T007', 'T017', 'T022', 'T031', 'T033', 'T037', 'T038',\n",
    "'T058', 'T062', 'T074', 'T082', 'T091', 'T092', 'T097', 'T098', 'T103', 'T168', 'T170', 'T201', 'T204']\n",
    "\n",
    "UMLS_ST21pv_ontologies_ids = {'CPT', 'FMA', 'GO', 'HGNC', 'HPO', 'ICD10', 'ICD10CM', 'ICD9CM', 'MDR', 'MSH', 'MTH', 'NCBI', 'NCI', 'NDDF', 'NDFRT', 'OMIM', 'RXNORM', 'SNOMEDCT_US'}"
   ]
  },
  {
   "cell_type": "code",
   "execution_count": 18,
   "id": "738ed920",
   "metadata": {},
   "outputs": [],
   "source": [
    "concepts = concepts.loc[concepts['SAB'].isin(UMLS_ST21pv_ontologies_ids)]"
   ]
  },
  {
   "cell_type": "code",
   "execution_count": 20,
   "id": "5a0908bb",
   "metadata": {},
   "outputs": [
    {
     "data": {
      "text/html": [
       "<div>\n",
       "<style scoped>\n",
       "    .dataframe tbody tr th:only-of-type {\n",
       "        vertical-align: middle;\n",
       "    }\n",
       "\n",
       "    .dataframe tbody tr th {\n",
       "        vertical-align: top;\n",
       "    }\n",
       "\n",
       "    .dataframe thead th {\n",
       "        text-align: right;\n",
       "    }\n",
       "</style>\n",
       "<table border=\"1\" class=\"dataframe\">\n",
       "  <thead>\n",
       "    <tr style=\"text-align: right;\">\n",
       "      <th></th>\n",
       "      <th>CUI</th>\n",
       "      <th>LAT</th>\n",
       "      <th>TS</th>\n",
       "      <th>LUI</th>\n",
       "      <th>STT</th>\n",
       "      <th>SUI</th>\n",
       "      <th>ISPREF</th>\n",
       "      <th>AUI</th>\n",
       "      <th>SAUI</th>\n",
       "      <th>SCUI</th>\n",
       "      <th>SDUI</th>\n",
       "      <th>SAB</th>\n",
       "      <th>TTY</th>\n",
       "      <th>CODE</th>\n",
       "      <th>STR</th>\n",
       "      <th>SRL</th>\n",
       "      <th>SUPPRESS</th>\n",
       "      <th>CVF</th>\n",
       "      <th>YEAR_OCCURENCE</th>\n",
       "    </tr>\n",
       "  </thead>\n",
       "  <tbody>\n",
       "    <tr>\n",
       "      <th>31</th>\n",
       "      <td>C0000039</td>\n",
       "      <td>ENG</td>\n",
       "      <td>S</td>\n",
       "      <td>L0000038</td>\n",
       "      <td>PF</td>\n",
       "      <td>S0007563</td>\n",
       "      <td>N</td>\n",
       "      <td>A17876358</td>\n",
       "      <td>NaN</td>\n",
       "      <td>N0000007747</td>\n",
       "      <td>NaN</td>\n",
       "      <td>NDFRT</td>\n",
       "      <td>SY</td>\n",
       "      <td>N0000007747</td>\n",
       "      <td>1,2-Dipalmitoyl-Glycerophosphocholine</td>\n",
       "      <td>0</td>\n",
       "      <td>N</td>\n",
       "      <td>NaN</td>\n",
       "      <td>2019AA</td>\n",
       "    </tr>\n",
       "  </tbody>\n",
       "</table>\n",
       "</div>"
      ],
      "text/plain": [
       "         CUI  LAT TS       LUI STT       SUI ISPREF        AUI SAUI  \\\n",
       "31  C0000039  ENG  S  L0000038  PF  S0007563      N  A17876358  NaN   \n",
       "\n",
       "           SCUI SDUI    SAB TTY         CODE  \\\n",
       "31  N0000007747  NaN  NDFRT  SY  N0000007747   \n",
       "\n",
       "                                      STR SRL SUPPRESS  CVF YEAR_OCCURENCE  \n",
       "31  1,2-Dipalmitoyl-Glycerophosphocholine   0        N  NaN         2019AA  "
      ]
     },
     "execution_count": 20,
     "metadata": {},
     "output_type": "execute_result"
    }
   ],
   "source": [
    "concepts.head(1)"
   ]
  },
  {
   "cell_type": "code",
   "execution_count": 35,
   "id": "6e83abf7",
   "metadata": {},
   "outputs": [],
   "source": [
    "concepts = concepts[['CUI', 'STR', 'SAB']].drop_duplicates()"
   ]
  },
  {
   "cell_type": "code",
   "execution_count": 38,
   "id": "ab2eb44a",
   "metadata": {},
   "outputs": [],
   "source": [
    "concepts.to_csv('../data/concepts_strings_with_ids.csv', index=False)"
   ]
  }
 ],
 "metadata": {
  "kernelspec": {
   "display_name": "Python 3 (ipykernel)",
   "language": "python",
   "name": "python3"
  },
  "language_info": {
   "codemirror_mode": {
    "name": "ipython",
    "version": 3
   },
   "file_extension": ".py",
   "mimetype": "text/x-python",
   "name": "python",
   "nbconvert_exporter": "python",
   "pygments_lexer": "ipython3",
   "version": "3.9.14"
  }
 },
 "nbformat": 4,
 "nbformat_minor": 5
}
