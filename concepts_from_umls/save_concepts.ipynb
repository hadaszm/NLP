{
 "cells": [
  {
   "cell_type": "code",
   "execution_count": 1,
   "id": "343a1a7b",
   "metadata": {},
   "outputs": [],
   "source": [
    "import pandas as pd"
   ]
  },
  {
   "cell_type": "code",
   "execution_count": 2,
   "id": "4fe7a1c0",
   "metadata": {},
   "outputs": [],
   "source": [
    "from collections import Counter"
   ]
  },
  {
   "cell_type": "code",
   "execution_count": 3,
   "id": "689bd820",
   "metadata": {},
   "outputs": [],
   "source": [
    "columns =  ['CUI','LAT','TS','LUI','STT','SUI','ISPREF','AUI','SAUI',\n",
    "            'SCUI','SDUI','SAB','TTY','CODE','STR','SRL','SUPPRESS','CVF',\n",
    "                            'YEAR_OCCURENCE'] # indicates the last version of the UMLS in which each atom appeared."
   ]
  },
  {
   "cell_type": "code",
   "execution_count": 4,
   "id": "b0cff896",
   "metadata": {},
   "outputs": [
    {
     "data": {
      "text/html": [
       "<div>\n",
       "<style scoped>\n",
       "    .dataframe tbody tr th:only-of-type {\n",
       "        vertical-align: middle;\n",
       "    }\n",
       "\n",
       "    .dataframe tbody tr th {\n",
       "        vertical-align: top;\n",
       "    }\n",
       "\n",
       "    .dataframe thead th {\n",
       "        text-align: right;\n",
       "    }\n",
       "</style>\n",
       "<table border=\"1\" class=\"dataframe\">\n",
       "  <thead>\n",
       "    <tr style=\"text-align: right;\">\n",
       "      <th></th>\n",
       "      <th>0</th>\n",
       "      <th>1</th>\n",
       "      <th>2</th>\n",
       "      <th>3</th>\n",
       "      <th>4</th>\n",
       "      <th>5</th>\n",
       "      <th>6</th>\n",
       "    </tr>\n",
       "  </thead>\n",
       "  <tbody>\n",
       "    <tr>\n",
       "      <th>0</th>\n",
       "      <td>C0000005</td>\n",
       "      <td>T116</td>\n",
       "      <td>A1.4.1.2.1.7</td>\n",
       "      <td>Amino Acid, Peptide, or Protein</td>\n",
       "      <td>AT17648347</td>\n",
       "      <td>256</td>\n",
       "      <td>NaN</td>\n",
       "    </tr>\n",
       "    <tr>\n",
       "      <th>1</th>\n",
       "      <td>C0000005</td>\n",
       "      <td>T121</td>\n",
       "      <td>A1.4.1.1.1</td>\n",
       "      <td>Pharmacologic Substance</td>\n",
       "      <td>AT17575038</td>\n",
       "      <td>256</td>\n",
       "      <td>NaN</td>\n",
       "    </tr>\n",
       "    <tr>\n",
       "      <th>2</th>\n",
       "      <td>C0000005</td>\n",
       "      <td>T130</td>\n",
       "      <td>A1.4.1.1.4</td>\n",
       "      <td>Indicator, Reagent, or Diagnostic Aid</td>\n",
       "      <td>AT17634323</td>\n",
       "      <td>256</td>\n",
       "      <td>NaN</td>\n",
       "    </tr>\n",
       "    <tr>\n",
       "      <th>3</th>\n",
       "      <td>C0000039</td>\n",
       "      <td>T109</td>\n",
       "      <td>A1.4.1.2.1</td>\n",
       "      <td>Organic Chemical</td>\n",
       "      <td>AT45562015</td>\n",
       "      <td>256</td>\n",
       "      <td>NaN</td>\n",
       "    </tr>\n",
       "    <tr>\n",
       "      <th>4</th>\n",
       "      <td>C0000039</td>\n",
       "      <td>T121</td>\n",
       "      <td>A1.4.1.1.1</td>\n",
       "      <td>Pharmacologic Substance</td>\n",
       "      <td>AT17567371</td>\n",
       "      <td>256</td>\n",
       "      <td>NaN</td>\n",
       "    </tr>\n",
       "  </tbody>\n",
       "</table>\n",
       "</div>"
      ],
      "text/plain": [
       "          0     1             2                                      3  \\\n",
       "0  C0000005  T116  A1.4.1.2.1.7        Amino Acid, Peptide, or Protein   \n",
       "1  C0000005  T121    A1.4.1.1.1                Pharmacologic Substance   \n",
       "2  C0000005  T130    A1.4.1.1.4  Indicator, Reagent, or Diagnostic Aid   \n",
       "3  C0000039  T109    A1.4.1.2.1                       Organic Chemical   \n",
       "4  C0000039  T121    A1.4.1.1.1                Pharmacologic Substance   \n",
       "\n",
       "            4    5    6  \n",
       "0  AT17648347  256  NaN  \n",
       "1  AT17575038  256  NaN  \n",
       "2  AT17634323  256  NaN  \n",
       "3  AT45562015  256  NaN  \n",
       "4  AT17567371  256  NaN  "
      ]
     },
     "execution_count": 4,
     "metadata": {},
     "output_type": "execute_result"
    }
   ],
   "source": [
    "s_types = pd.read_csv('../data/MRSTY.RRF', sep='|', header=None, dtype=str)\n",
    "s_types.head()"
   ]
  },
  {
   "cell_type": "code",
   "execution_count": 5,
   "id": "0be9bc48",
   "metadata": {},
   "outputs": [],
   "source": [
    "s_types = s_types.drop(6, axis=1)"
   ]
  },
  {
   "cell_type": "code",
   "execution_count": 6,
   "id": "e16400c6",
   "metadata": {},
   "outputs": [],
   "source": [
    "s_types.columns = ['CUI','TUI','STN','STY','ATUI','CVF']"
   ]
  },
  {
   "cell_type": "code",
   "execution_count": 7,
   "id": "dbd70124",
   "metadata": {},
   "outputs": [],
   "source": [
    "s_types = s_types[['CUI','TUI']].drop_duplicates()"
   ]
  },
  {
   "cell_type": "code",
   "execution_count": 8,
   "id": "bb72b218",
   "metadata": {},
   "outputs": [],
   "source": [
    "UMLS_ST21pv_semantic_types_ids = {'T005', 'T007', 'T017', 'T022', 'T031', 'T033', 'T037', 'T038',\n",
    "'T058', 'T062', 'T074', 'T082', 'T091', 'T092', 'T097', 'T098', 'T103', 'T168', 'T170', 'T201', 'T204'}"
   ]
  },
  {
   "cell_type": "code",
   "execution_count": 9,
   "id": "58b4cd1e",
   "metadata": {},
   "outputs": [],
   "source": [
    "s_types = s_types.loc[s_types['TUI'].isin(UMLS_ST21pv_semantic_types_ids)]"
   ]
  },
  {
   "cell_type": "code",
   "execution_count": 10,
   "id": "77e7ab3e",
   "metadata": {},
   "outputs": [
    {
     "data": {
      "text/plain": [
       "Counter({1: 1436096, 2: 53})"
      ]
     },
     "execution_count": 10,
     "metadata": {},
     "output_type": "execute_result"
    }
   ],
   "source": [
    "from collections import Counter\n",
    "Counter(s_types.groupby(['CUI']).count()['TUI'])"
   ]
  },
  {
   "cell_type": "code",
   "execution_count": 11,
   "id": "2c42265d",
   "metadata": {},
   "outputs": [],
   "source": [
    "history_concepts = pd.read_csv('../data/MRCONSO_HISTORY.txt', sep='|', header=None, dtype=str)\n",
    "history_concepts.columns = columns"
   ]
  },
  {
   "cell_type": "code",
   "execution_count": 12,
   "id": "b372039c",
   "metadata": {},
   "outputs": [],
   "source": [
    "current_concepts = pd.read_csv('../data/MRCONSO.RRF', sep='|', header=None, dtype=str)\n",
    "current_concepts = current_concepts.drop(current_concepts.columns[-1], axis=1)\n",
    "current_concepts.columns = columns[:-1]"
   ]
  },
  {
   "cell_type": "code",
   "execution_count": 13,
   "id": "f612ed34",
   "metadata": {},
   "outputs": [],
   "source": [
    "concepts = pd.concat([history_concepts, current_concepts])\n",
    "del history_concepts\n",
    "del current_concepts \n",
    "concepts['YEAR_OCCURENCE'] = concepts['YEAR_OCCURENCE'].fillna('2022AA')"
   ]
  },
  {
   "cell_type": "code",
   "execution_count": 14,
   "id": "a8b6ceb4",
   "metadata": {},
   "outputs": [],
   "source": [
    "concepts = concepts.loc[concepts['YEAR_OCCURENCE'].apply(lambda x: int(x[:4])) >= 2017]"
   ]
  },
  {
   "cell_type": "code",
   "execution_count": 15,
   "id": "09cf36c8",
   "metadata": {},
   "outputs": [],
   "source": [
    "concepts = concepts.loc[concepts['LAT'] == 'ENG']"
   ]
  },
  {
   "cell_type": "code",
   "execution_count": 16,
   "id": "2507fdc2",
   "metadata": {},
   "outputs": [],
   "source": [
    "concepts = concepts.dropna(subset='STR')"
   ]
  },
  {
   "cell_type": "code",
   "execution_count": 17,
   "id": "308824ac",
   "metadata": {},
   "outputs": [
    {
     "data": {
      "text/html": [
       "<div>\n",
       "<style scoped>\n",
       "    .dataframe tbody tr th:only-of-type {\n",
       "        vertical-align: middle;\n",
       "    }\n",
       "\n",
       "    .dataframe tbody tr th {\n",
       "        vertical-align: top;\n",
       "    }\n",
       "\n",
       "    .dataframe thead th {\n",
       "        text-align: right;\n",
       "    }\n",
       "</style>\n",
       "<table border=\"1\" class=\"dataframe\">\n",
       "  <thead>\n",
       "    <tr style=\"text-align: right;\">\n",
       "      <th></th>\n",
       "      <th>CUI</th>\n",
       "      <th>LAT</th>\n",
       "      <th>TS</th>\n",
       "      <th>LUI</th>\n",
       "      <th>STT</th>\n",
       "      <th>SUI</th>\n",
       "      <th>ISPREF</th>\n",
       "      <th>AUI</th>\n",
       "      <th>SAUI</th>\n",
       "      <th>SCUI</th>\n",
       "      <th>SDUI</th>\n",
       "      <th>SAB</th>\n",
       "      <th>TTY</th>\n",
       "      <th>CODE</th>\n",
       "      <th>STR</th>\n",
       "      <th>SRL</th>\n",
       "      <th>SUPPRESS</th>\n",
       "      <th>CVF</th>\n",
       "      <th>YEAR_OCCURENCE</th>\n",
       "    </tr>\n",
       "  </thead>\n",
       "  <tbody>\n",
       "    <tr>\n",
       "      <th>31</th>\n",
       "      <td>C0000039</td>\n",
       "      <td>ENG</td>\n",
       "      <td>S</td>\n",
       "      <td>L0000038</td>\n",
       "      <td>PF</td>\n",
       "      <td>S0007563</td>\n",
       "      <td>N</td>\n",
       "      <td>A17876358</td>\n",
       "      <td>NaN</td>\n",
       "      <td>N0000007747</td>\n",
       "      <td>NaN</td>\n",
       "      <td>NDFRT</td>\n",
       "      <td>SY</td>\n",
       "      <td>N0000007747</td>\n",
       "      <td>1,2-Dipalmitoyl-Glycerophosphocholine</td>\n",
       "      <td>0</td>\n",
       "      <td>N</td>\n",
       "      <td>NaN</td>\n",
       "      <td>2019AA</td>\n",
       "    </tr>\n",
       "    <tr>\n",
       "      <th>32</th>\n",
       "      <td>C0000039</td>\n",
       "      <td>ENG</td>\n",
       "      <td>S</td>\n",
       "      <td>L0354989</td>\n",
       "      <td>PF</td>\n",
       "      <td>S0464922</td>\n",
       "      <td>N</td>\n",
       "      <td>A17900509</td>\n",
       "      <td>NaN</td>\n",
       "      <td>N0000007747</td>\n",
       "      <td>NaN</td>\n",
       "      <td>NDFRT</td>\n",
       "      <td>SY</td>\n",
       "      <td>N0000007747</td>\n",
       "      <td>3,5,9-Trioxa-4-phosphapentacosan-1-aminium, 4-...</td>\n",
       "      <td>0</td>\n",
       "      <td>N</td>\n",
       "      <td>NaN</td>\n",
       "      <td>2019AA</td>\n",
       "    </tr>\n",
       "    <tr>\n",
       "      <th>35</th>\n",
       "      <td>C0000039</td>\n",
       "      <td>ENG</td>\n",
       "      <td>S</td>\n",
       "      <td>L0000035</td>\n",
       "      <td>PF</td>\n",
       "      <td>S0007560</td>\n",
       "      <td>N</td>\n",
       "      <td>A17924851</td>\n",
       "      <td>NaN</td>\n",
       "      <td>N0000007747</td>\n",
       "      <td>NaN</td>\n",
       "      <td>NDFRT</td>\n",
       "      <td>SY</td>\n",
       "      <td>N0000007747</td>\n",
       "      <td>1,2-Dihexadecyl-sn-Glycerophosphocholine</td>\n",
       "      <td>0</td>\n",
       "      <td>N</td>\n",
       "      <td>NaN</td>\n",
       "      <td>2019AA</td>\n",
       "    </tr>\n",
       "    <tr>\n",
       "      <th>36</th>\n",
       "      <td>C0000039</td>\n",
       "      <td>ENG</td>\n",
       "      <td>S</td>\n",
       "      <td>L0012509</td>\n",
       "      <td>PF</td>\n",
       "      <td>S0033297</td>\n",
       "      <td>N</td>\n",
       "      <td>A17924852</td>\n",
       "      <td>NaN</td>\n",
       "      <td>N0000007747</td>\n",
       "      <td>NaN</td>\n",
       "      <td>NDFRT</td>\n",
       "      <td>SY</td>\n",
       "      <td>N0000007747</td>\n",
       "      <td>Dipalmitoyllecithin</td>\n",
       "      <td>0</td>\n",
       "      <td>N</td>\n",
       "      <td>256</td>\n",
       "      <td>2019AA</td>\n",
       "    </tr>\n",
       "    <tr>\n",
       "      <th>37</th>\n",
       "      <td>C0000039</td>\n",
       "      <td>ENG</td>\n",
       "      <td>P</td>\n",
       "      <td>L0000039</td>\n",
       "      <td>VC</td>\n",
       "      <td>S0007564</td>\n",
       "      <td>N</td>\n",
       "      <td>A17972823</td>\n",
       "      <td>NaN</td>\n",
       "      <td>N0000007747</td>\n",
       "      <td>NaN</td>\n",
       "      <td>NDFRT</td>\n",
       "      <td>PT</td>\n",
       "      <td>N0000007747</td>\n",
       "      <td>1,2-Dipalmitoylphosphatidylcholine</td>\n",
       "      <td>0</td>\n",
       "      <td>N</td>\n",
       "      <td>NaN</td>\n",
       "      <td>2019AA</td>\n",
       "    </tr>\n",
       "  </tbody>\n",
       "</table>\n",
       "</div>"
      ],
      "text/plain": [
       "         CUI  LAT TS       LUI STT       SUI ISPREF        AUI SAUI  \\\n",
       "31  C0000039  ENG  S  L0000038  PF  S0007563      N  A17876358  NaN   \n",
       "32  C0000039  ENG  S  L0354989  PF  S0464922      N  A17900509  NaN   \n",
       "35  C0000039  ENG  S  L0000035  PF  S0007560      N  A17924851  NaN   \n",
       "36  C0000039  ENG  S  L0012509  PF  S0033297      N  A17924852  NaN   \n",
       "37  C0000039  ENG  P  L0000039  VC  S0007564      N  A17972823  NaN   \n",
       "\n",
       "           SCUI SDUI    SAB TTY         CODE  \\\n",
       "31  N0000007747  NaN  NDFRT  SY  N0000007747   \n",
       "32  N0000007747  NaN  NDFRT  SY  N0000007747   \n",
       "35  N0000007747  NaN  NDFRT  SY  N0000007747   \n",
       "36  N0000007747  NaN  NDFRT  SY  N0000007747   \n",
       "37  N0000007747  NaN  NDFRT  PT  N0000007747   \n",
       "\n",
       "                                                  STR SRL SUPPRESS  CVF  \\\n",
       "31              1,2-Dipalmitoyl-Glycerophosphocholine   0        N  NaN   \n",
       "32  3,5,9-Trioxa-4-phosphapentacosan-1-aminium, 4-...   0        N  NaN   \n",
       "35           1,2-Dihexadecyl-sn-Glycerophosphocholine   0        N  NaN   \n",
       "36                                Dipalmitoyllecithin   0        N  256   \n",
       "37                 1,2-Dipalmitoylphosphatidylcholine   0        N  NaN   \n",
       "\n",
       "   YEAR_OCCURENCE  \n",
       "31         2019AA  \n",
       "32         2019AA  \n",
       "35         2019AA  \n",
       "36         2019AA  \n",
       "37         2019AA  "
      ]
     },
     "execution_count": 17,
     "metadata": {},
     "output_type": "execute_result"
    }
   ],
   "source": [
    "concepts.head()"
   ]
  },
  {
   "cell_type": "code",
   "execution_count": 18,
   "id": "ee1f84d2",
   "metadata": {},
   "outputs": [],
   "source": [
    "\n",
    "\n",
    "UMLS_ST21pv_ontologies_ids = {'CPT', 'FMA', 'GO', 'HGNC', 'HPO', 'ICD10', 'ICD10CM', 'ICD9CM', 'MDR', 'MSH', 'MTH', 'NCBI', 'NCI', 'NDDF', 'NDFRT', 'OMIM', 'RXNORM', 'SNOMEDCT_US'}"
   ]
  },
  {
   "cell_type": "code",
   "execution_count": 19,
   "id": "738ed920",
   "metadata": {},
   "outputs": [],
   "source": [
    "concepts = concepts.loc[concepts['SAB'].isin(UMLS_ST21pv_ontologies_ids)]"
   ]
  },
  {
   "cell_type": "code",
   "execution_count": 20,
   "id": "5a0908bb",
   "metadata": {},
   "outputs": [
    {
     "data": {
      "text/html": [
       "<div>\n",
       "<style scoped>\n",
       "    .dataframe tbody tr th:only-of-type {\n",
       "        vertical-align: middle;\n",
       "    }\n",
       "\n",
       "    .dataframe tbody tr th {\n",
       "        vertical-align: top;\n",
       "    }\n",
       "\n",
       "    .dataframe thead th {\n",
       "        text-align: right;\n",
       "    }\n",
       "</style>\n",
       "<table border=\"1\" class=\"dataframe\">\n",
       "  <thead>\n",
       "    <tr style=\"text-align: right;\">\n",
       "      <th></th>\n",
       "      <th>CUI</th>\n",
       "      <th>LAT</th>\n",
       "      <th>TS</th>\n",
       "      <th>LUI</th>\n",
       "      <th>STT</th>\n",
       "      <th>SUI</th>\n",
       "      <th>ISPREF</th>\n",
       "      <th>AUI</th>\n",
       "      <th>SAUI</th>\n",
       "      <th>SCUI</th>\n",
       "      <th>SDUI</th>\n",
       "      <th>SAB</th>\n",
       "      <th>TTY</th>\n",
       "      <th>CODE</th>\n",
       "      <th>STR</th>\n",
       "      <th>SRL</th>\n",
       "      <th>SUPPRESS</th>\n",
       "      <th>CVF</th>\n",
       "      <th>YEAR_OCCURENCE</th>\n",
       "    </tr>\n",
       "  </thead>\n",
       "  <tbody>\n",
       "    <tr>\n",
       "      <th>31</th>\n",
       "      <td>C0000039</td>\n",
       "      <td>ENG</td>\n",
       "      <td>S</td>\n",
       "      <td>L0000038</td>\n",
       "      <td>PF</td>\n",
       "      <td>S0007563</td>\n",
       "      <td>N</td>\n",
       "      <td>A17876358</td>\n",
       "      <td>NaN</td>\n",
       "      <td>N0000007747</td>\n",
       "      <td>NaN</td>\n",
       "      <td>NDFRT</td>\n",
       "      <td>SY</td>\n",
       "      <td>N0000007747</td>\n",
       "      <td>1,2-Dipalmitoyl-Glycerophosphocholine</td>\n",
       "      <td>0</td>\n",
       "      <td>N</td>\n",
       "      <td>NaN</td>\n",
       "      <td>2019AA</td>\n",
       "    </tr>\n",
       "  </tbody>\n",
       "</table>\n",
       "</div>"
      ],
      "text/plain": [
       "         CUI  LAT TS       LUI STT       SUI ISPREF        AUI SAUI  \\\n",
       "31  C0000039  ENG  S  L0000038  PF  S0007563      N  A17876358  NaN   \n",
       "\n",
       "           SCUI SDUI    SAB TTY         CODE  \\\n",
       "31  N0000007747  NaN  NDFRT  SY  N0000007747   \n",
       "\n",
       "                                      STR SRL SUPPRESS  CVF YEAR_OCCURENCE  \n",
       "31  1,2-Dipalmitoyl-Glycerophosphocholine   0        N  NaN         2019AA  "
      ]
     },
     "execution_count": 20,
     "metadata": {},
     "output_type": "execute_result"
    }
   ],
   "source": [
    "concepts.head(1)"
   ]
  },
  {
   "cell_type": "code",
   "execution_count": 21,
   "id": "6e83abf7",
   "metadata": {},
   "outputs": [],
   "source": [
    "concepts = concepts[['CUI', 'STR', 'SAB']].drop_duplicates()"
   ]
  },
  {
   "cell_type": "code",
   "execution_count": 22,
   "id": "ca323b55",
   "metadata": {},
   "outputs": [],
   "source": [
    "s_types.to_csv('../data/all_concepts_semantic_types_mapping.csv', index=False)"
   ]
  },
  {
   "cell_type": "code",
   "execution_count": 23,
   "id": "fe1ee65d",
   "metadata": {},
   "outputs": [],
   "source": [
    "s_types = s_types[['CUI']].drop_duplicates()"
   ]
  },
  {
   "cell_type": "code",
   "execution_count": 24,
   "id": "343efec0",
   "metadata": {},
   "outputs": [],
   "source": [
    "concepts = concepts.merge(s_types)"
   ]
  },
  {
   "cell_type": "code",
   "execution_count": 25,
   "id": "2b31dadd",
   "metadata": {},
   "outputs": [],
   "source": [
    "from difflib import SequenceMatcher\n",
    "\n",
    "def similarity(a, b):\n",
    "    return SequenceMatcher(None, a, b).ratio()"
   ]
  },
  {
   "cell_type": "code",
   "execution_count": 26,
   "id": "dfa05691",
   "metadata": {},
   "outputs": [
    {
     "name": "stderr",
     "output_type": "stream",
     "text": [
      "100%|██████████████████████████████████████████████████████████████████████| 1073954/1073954 [12:47<00:00, 1399.81it/s]\n"
     ]
    }
   ],
   "source": [
    "import numpy as np\n",
    "import tqdm\n",
    "def choose_best_string(x): \n",
    "    all_strings = np.unique(x['STR'].values)\n",
    "    similarities = np.zeros((len(all_strings), len(all_strings)))\n",
    "    for i in range(len(all_strings)):\n",
    "        for j in range(len(all_strings)):\n",
    "            similarity_val = similarity(all_strings[i], all_strings[j])\n",
    "            similarities[i,j] = similarity_val\n",
    "            similarities[j,i] = similarity_val\n",
    "    \n",
    "    best_string_idx = similarities.sum(axis=1).argmax()\n",
    "    best_string = all_strings[best_string_idx]\n",
    "    result = {\n",
    "        'best_string': best_string,\n",
    "        'all_strings': all_strings \n",
    "    }\n",
    "    bar.update(1)\n",
    "    return pd.Series(result, index=['best_string', 'all_strings'])\n",
    "  \n",
    "bar = tqdm.tqdm(total=len(set(concepts['CUI'])))\n",
    "concepts = concepts.groupby('CUI').apply(choose_best_string).reset_index().drop('all_strings',axis=1)\n",
    "bar.close()"
   ]
  },
  {
   "cell_type": "code",
   "execution_count": 49,
   "id": "463c451b",
   "metadata": {},
   "outputs": [],
   "source": [
    "ground_truth_concepts = pd.read_csv('../data/concept_names_tmp.csv')\\\n",
    "    .rename({'concept_id': 'CUI', 'concept_name': 'STR'}, axis=1)"
   ]
  },
  {
   "cell_type": "code",
   "execution_count": 51,
   "id": "61b918ad",
   "metadata": {},
   "outputs": [],
   "source": [
    "ground_truth_concepts = ground_truth_concepts.groupby('CUI')\\\n",
    "    .apply(choose_best_string)\\\n",
    "    .reset_index()\\\n",
    "    .drop('all_strings',axis=1)"
   ]
  },
  {
   "cell_type": "code",
   "execution_count": 53,
   "id": "b9e77362",
   "metadata": {},
   "outputs": [],
   "source": [
    "concepts = concepts.loc[~concepts['CUI'].isin(set(ground_truth_concepts['CUI']))]"
   ]
  },
  {
   "cell_type": "code",
   "execution_count": 54,
   "id": "718f621d",
   "metadata": {},
   "outputs": [],
   "source": [
    "concepts = pd.concat([concepts, ground_truth_concepts])"
   ]
  },
  {
   "cell_type": "code",
   "execution_count": 58,
   "id": "ea6a4742",
   "metadata": {},
   "outputs": [],
   "source": [
    "concepts.to_csv('../data/concepts_strings_with_ids.csv', index=False)"
   ]
  },
  {
   "cell_type": "code",
   "execution_count": 60,
   "id": "494003fe",
   "metadata": {},
   "outputs": [],
   "source": [
    "concepts = pd.read_csv('../data/concepts_strings_with_ids.csv')"
   ]
  },
  {
   "cell_type": "code",
   "execution_count": 61,
   "id": "8ebe0bc2",
   "metadata": {},
   "outputs": [
    {
     "name": "stdout",
     "output_type": "stream",
     "text": [
      "0 100000\n",
      "100000 200000\n",
      "200000 300000\n",
      "300000 400000\n",
      "400000 500000\n",
      "500000 600000\n",
      "600000 700000\n",
      "700000 800000\n",
      "800000 900000\n",
      "900000 1000000\n",
      "1000000 1100000\n",
      "1100000 1200000\n"
     ]
    }
   ],
   "source": [
    "n = 100000\n",
    "for i in range(0, len(concepts),n): \n",
    "    print(i, i+n)\n",
    "    concepts.iloc[i: i+n].to_csv(f'../data/concepts_strings_with_ids_{i//n}.csv', index=False)"
   ]
  },
  {
   "cell_type": "code",
   "execution_count": null,
   "id": "8733d861",
   "metadata": {},
   "outputs": [],
   "source": []
  }
 ],
 "metadata": {
  "kernelspec": {
   "display_name": "Python 3 (ipykernel)",
   "language": "python",
   "name": "python3"
  },
  "language_info": {
   "codemirror_mode": {
    "name": "ipython",
    "version": 3
   },
   "file_extension": ".py",
   "mimetype": "text/x-python",
   "name": "python",
   "nbconvert_exporter": "python",
   "pygments_lexer": "ipython3",
   "version": "3.9.14"
  }
 },
 "nbformat": 4,
 "nbformat_minor": 5
}
