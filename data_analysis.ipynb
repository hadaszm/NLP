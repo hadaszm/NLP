{
 "cells": [
  {
   "cell_type": "code",
   "execution_count": 103,
   "metadata": {},
   "outputs": [],
   "source": [
    "import gzip\n",
    "import pandas as pd\n",
    "import os\n",
    "import re\n",
    "from tqdm import tqdm\n",
    "import matplotlib.pyplot as plt\n",
    "import seaborn as sns\n",
    "import numpy as np"
   ]
  },
  {
   "cell_type": "markdown",
   "metadata": {},
   "source": [
    "# Functions"
   ]
  },
  {
   "cell_type": "code",
   "execution_count": 52,
   "metadata": {},
   "outputs": [],
   "source": [
    "def parse(file_path:str, data_columns:list,annotations_columns:list) -> tuple[pd.DataFrame, pd.DataFrame, pd.DataFrame]:\n",
    "    \"\"\"\n",
    "    Parameters\n",
    "    ----------\n",
    "    file_path : str\n",
    "        The path to location of the data\n",
    "    data_columns : list\n",
    "        The list of columns' names for the text data - abstract, title\n",
    "    annotations_columns : list\n",
    "        The list of columns' names for annotation data\n",
    "\n",
    "    Returns\n",
    "\n",
    "    -------\n",
    "    tuple of DataFrames\n",
    "        data - with texts of abstracts and titles\n",
    "        annotations - with annotations \n",
    "        errors - records that did not fit to the data or annotations\n",
    "    \"\"\"  \n",
    "    data = pd.DataFrame(columns = data_columns)\n",
    "    annotations = pd.DataFrame(columns = annotations_columns)\n",
    "    errors = pd.DataFrame()\n",
    "    # hardcoded\n",
    "    HEADER = re.compile(r\"(?P<PMID>[0-9]*)\\|(?P<Type>[t|a])\\|(?P<Content>.*)\")\n",
    "    with gzip.open(file_path, 'rb') as f:\n",
    "        i = 0\n",
    "        for line in tqdm(f.readlines()):\n",
    "            i+=1\n",
    "            l = line.decode(\"utf-8\")\n",
    "            if l == '\\n':\n",
    "                continue\n",
    "            h = HEADER.match(l)\n",
    "            if h:\n",
    "                data = pd.concat([data,pd.DataFrame([{k:h.group(k) for k in data_columns}])], ignore_index=True)\n",
    "            else:\n",
    "                _ = l.split('\\t')\n",
    "                if len(_) == len(annotations_columns):\n",
    "                    annotations = pd.concat([annotations,pd.DataFrame([dict(zip(annotations_columns,_))])], ignore_index=True)\n",
    "                else:\n",
    "                    errors = pd.concat([errors,pd.DataFrame([l])],ignore_index=True)\n",
    "    return data, annotations,errors"
   ]
  },
  {
   "cell_type": "code",
   "execution_count": 125,
   "metadata": {},
   "outputs": [],
   "source": [
    "def draw_histogram(data,title, xlabel, ylabel, legend = [], bins_number = 20):\n",
    "     fig, ax = plt.subplots(1,1,figsize =(10,5))\n",
    "     g1 = sns.histplot(data = data, ax = ax, bins = bins_number)\n",
    "     plt.legend(legend, frameon=False)\n",
    "     g1.set(title = title, xlabel =xlabel, ylabel = ylabel )\n",
    "     plt.show()"
   ]
  },
  {
   "cell_type": "markdown",
   "metadata": {},
   "source": [
    "# Getting data"
   ]
  },
  {
   "cell_type": "markdown",
   "metadata": {},
   "source": [
    "# ST21pv\n",
    "- eliminate all concepts that were only linked to semantic types at levels 1 or 2 ( too broad )\n",
    "- selected 21 semantic types at level 3-5 relevant and have enough occurences ( only concepts mapping into one of\n",
    "these 21 types [ or to a descendant] )\n",
    "- excluded any concepts that were not linked in UMLS to at least one of 18 preffered vocabluary sources\n",
    "- 25,419 unique concepts mentioned\n",
    "- 203,282 concept mentions\n",
    "- 4392 documents\n",
    "\n"
   ]
  },
  {
   "cell_type": "code",
   "execution_count": 55,
   "metadata": {},
   "outputs": [],
   "source": [
    "folder = 'data'\n",
    "file_name = 'corpus_pubtator.txt.gz'"
   ]
  },
  {
   "cell_type": "code",
   "execution_count": 56,
   "metadata": {},
   "outputs": [],
   "source": [
    "data_columns = ['PMID', 'Type','Content']\n",
    "annotations_columns = ['PMID', 'StartIndex','EndIndex','MentionTextSegment','SemanticTypeID','EntityID']\n"
   ]
  },
  {
   "cell_type": "code",
   "execution_count": 57,
   "metadata": {},
   "outputs": [
    {
     "name": "stderr",
     "output_type": "stream",
     "text": [
      "100%|██████████| 216458/216458 [43:08<00:00, 83.62it/s]  \n"
     ]
    }
   ],
   "source": [
    "data_21, annotations_21,errors_21 = parse(os.path.join(folder,file_name), data_columns, annotations_columns)"
   ]
  },
  {
   "cell_type": "markdown",
   "metadata": {},
   "source": [
    "### Data cleaning"
   ]
  },
  {
   "cell_type": "code",
   "execution_count": 157,
   "metadata": {},
   "outputs": [],
   "source": [
    "semantic_mapping = pd.read_csv(os.path.join(folder, 'semantic_type_mapping.txt'), sep = '|', header=None)[[1,2]]\n",
    "semanitc_mapper = dict(zip(semantic_mapping[1],semantic_mapping[2] ))"
   ]
  },
  {
   "cell_type": "code",
   "execution_count": 158,
   "metadata": {},
   "outputs": [],
   "source": [
    "annotations_21['EntityID'] = annotations_21['EntityID'].apply(lambda x : x.replace('\\n',''))\n",
    "annotations_21['SemanticMeaning'] = annotations_21['SemanticTypeID'].apply(lambda x : semanitc_mapper[x])"
   ]
  },
  {
   "cell_type": "markdown",
   "metadata": {},
   "source": [
    "### Checking if numbers in paper are correct"
   ]
  },
  {
   "cell_type": "code",
   "execution_count": 159,
   "metadata": {},
   "outputs": [
    {
     "name": "stdout",
     "output_type": "stream",
     "text": [
      " Number of records in errors 0\n"
     ]
    }
   ],
   "source": [
    "print(f\" Number of records in errors {len(errors_21)}\")"
   ]
  },
  {
   "cell_type": "code",
   "execution_count": 160,
   "metadata": {},
   "outputs": [
    {
     "name": "stdout",
     "output_type": "stream",
     "text": [
      "Number of documents 4392 in documents_21, does all have both title and abstract True\n"
     ]
    }
   ],
   "source": [
    "_ = data_21['PMID'].value_counts()\n",
    "print(f\"Number of documents {len(_)} in documents_21, does all have both title and abstract {sum(_ == 2) == len(_)}\")"
   ]
  },
  {
   "cell_type": "code",
   "execution_count": 161,
   "metadata": {},
   "outputs": [
    {
     "name": "stdout",
     "output_type": "stream",
     "text": [
      "Number of documents in annotations_21: 4392\n"
     ]
    }
   ],
   "source": [
    "print(f\"Number of documents in annotations_21: {len(annotations_21['PMID'].unique())}\")"
   ]
  },
  {
   "cell_type": "code",
   "execution_count": 162,
   "metadata": {},
   "outputs": [
    {
     "name": "stdout",
     "output_type": "stream",
     "text": [
      "Number of semantic types in annotations_21: 21\n"
     ]
    }
   ],
   "source": [
    "print(f\"Number of semantic types in annotations_21: {len(annotations_21['SemanticMeaning'].unique())}\")"
   ]
  },
  {
   "cell_type": "code",
   "execution_count": 163,
   "metadata": {},
   "outputs": [
    {
     "name": "stdout",
     "output_type": "stream",
     "text": [
      "Number of unique concept metions in annotations_21: 25419\n"
     ]
    }
   ],
   "source": [
    "print(f\"Number of unique concept metions in annotations_21: {len(annotations_21['EntityID'].unique())}\")"
   ]
  },
  {
   "cell_type": "code",
   "execution_count": 164,
   "metadata": {},
   "outputs": [
    {
     "name": "stdout",
     "output_type": "stream",
     "text": [
      "Number of all concept metions in annotations_21: 203282\n"
     ]
    }
   ],
   "source": [
    "print(f\"Number of all concept metions in annotations_21: {len(annotations_21)}\")"
   ]
  },
  {
   "cell_type": "markdown",
   "metadata": {},
   "source": [
    "### Basic Statistics "
   ]
  },
  {
   "cell_type": "code",
   "execution_count": 165,
   "metadata": {},
   "outputs": [
    {
     "data": {
      "image/png": "[encoded data removed]",
      "text/plain": [
       "<Figure size 1000x500 with 1 Axes>"
      ]
     },
     "metadata": {},
     "output_type": "display_data"
    }
   ],
   "source": [
    "annots_per_documents = annotations_21.groupby('PMID').agg({'StartIndex ':len})\n",
    "draw_histogram(annots_per_documents,'Number of annotations per document', 'Number of annotations', 'Number of documents')"
   ]
  },
  {
   "cell_type": "code",
   "execution_count": 166,
   "metadata": {},
   "outputs": [
    {
     "data": {
      "image/png": "[encoded data removed]",
      "text/plain": [
       "<Figure size 1000x500 with 1 Axes>"
      ]
     },
     "metadata": {},
     "output_type": "display_data"
    }
   ],
   "source": [
    "annots_per_sem = annotations_21.groupby('SemanticMeaning').agg({'StartIndex ':len})\n",
    "draw_histogram(annots_per_sem,'Number of annotations per semantic types', 'Number of annotations', 'Number of semantic types', bins_number=10)"
   ]
  },
  {
   "cell_type": "code",
   "execution_count": 167,
   "metadata": {},
   "outputs": [
    {
     "data": {
      "text/html": [
       "<div>\n",
       "<style scoped>\n",
       "    .dataframe tbody tr th:only-of-type {\n",
       "        vertical-align: middle;\n",
       "    }\n",
       "\n",
       "    .dataframe tbody tr th {\n",
       "        vertical-align: top;\n",
       "    }\n",
       "\n",
       "    .dataframe thead th {\n",
       "        text-align: right;\n",
       "    }\n",
       "</style>\n",
       "<table border=\"1\" class=\"dataframe\">\n",
       "  <thead>\n",
       "    <tr style=\"text-align: right;\">\n",
       "      <th></th>\n",
       "      <th>StartIndex</th>\n",
       "    </tr>\n",
       "    <tr>\n",
       "      <th>SemanticMeaning</th>\n",
       "      <th></th>\n",
       "    </tr>\n",
       "  </thead>\n",
       "  <tbody>\n",
       "    <tr>\n",
       "      <th>Biologic Function</th>\n",
       "      <td>41422</td>\n",
       "    </tr>\n",
       "    <tr>\n",
       "      <th>Chemical</th>\n",
       "      <td>37401</td>\n",
       "    </tr>\n",
       "    <tr>\n",
       "      <th>Health Care Activity</th>\n",
       "      <td>24306</td>\n",
       "    </tr>\n",
       "    <tr>\n",
       "      <th>Anatomical Structure</th>\n",
       "      <td>20497</td>\n",
       "    </tr>\n",
       "    <tr>\n",
       "      <th>Finding</th>\n",
       "      <td>16227</td>\n",
       "    </tr>\n",
       "    <tr>\n",
       "      <th>Spatial Concept</th>\n",
       "      <td>12500</td>\n",
       "    </tr>\n",
       "    <tr>\n",
       "      <th>Intellectual Product</th>\n",
       "      <td>10324</td>\n",
       "    </tr>\n",
       "    <tr>\n",
       "      <th>Research Activity</th>\n",
       "      <td>9172</td>\n",
       "    </tr>\n",
       "    <tr>\n",
       "      <th>Eukaryote</th>\n",
       "      <td>8543</td>\n",
       "    </tr>\n",
       "    <tr>\n",
       "      <th>Population Group</th>\n",
       "      <td>6154</td>\n",
       "    </tr>\n",
       "    <tr>\n",
       "      <th>Organization</th>\n",
       "      <td>2143</td>\n",
       "    </tr>\n",
       "    <tr>\n",
       "      <th>Bacterium</th>\n",
       "      <td>2050</td>\n",
       "    </tr>\n",
       "    <tr>\n",
       "      <th>Medical Device</th>\n",
       "      <td>2018</td>\n",
       "    </tr>\n",
       "    <tr>\n",
       "      <th>Injury or Poisoning</th>\n",
       "      <td>1854</td>\n",
       "    </tr>\n",
       "    <tr>\n",
       "      <th>Professional or Occupational Group</th>\n",
       "      <td>1779</td>\n",
       "    </tr>\n",
       "    <tr>\n",
       "      <th>Clinical Attribute</th>\n",
       "      <td>1773</td>\n",
       "    </tr>\n",
       "    <tr>\n",
       "      <th>Food</th>\n",
       "      <td>1352</td>\n",
       "    </tr>\n",
       "    <tr>\n",
       "      <th>Body Substance</th>\n",
       "      <td>1256</td>\n",
       "    </tr>\n",
       "    <tr>\n",
       "      <th>Virus</th>\n",
       "      <td>1100</td>\n",
       "    </tr>\n",
       "    <tr>\n",
       "      <th>Biomedical Occupation or Discipline</th>\n",
       "      <td>916</td>\n",
       "    </tr>\n",
       "    <tr>\n",
       "      <th>Body System</th>\n",
       "      <td>495</td>\n",
       "    </tr>\n",
       "  </tbody>\n",
       "</table>\n",
       "</div>"
      ],
      "text/plain": [
       "                                     StartIndex \n",
       "SemanticMeaning                                 \n",
       "Biologic Function                          41422\n",
       "Chemical                                   37401\n",
       "Health Care Activity                       24306\n",
       "Anatomical Structure                       20497\n",
       "Finding                                    16227\n",
       "Spatial Concept                            12500\n",
       "Intellectual Product                       10324\n",
       "Research Activity                           9172\n",
       "Eukaryote                                   8543\n",
       "Population Group                            6154\n",
       "Organization                                2143\n",
       "Bacterium                                   2050\n",
       "Medical Device                              2018\n",
       "Injury or Poisoning                         1854\n",
       "Professional or Occupational Group          1779\n",
       "Clinical Attribute                          1773\n",
       "Food                                        1352\n",
       "Body Substance                              1256\n",
       "Virus                                       1100\n",
       "Biomedical Occupation or Discipline          916\n",
       "Body System                                  495"
      ]
     },
     "execution_count": 167,
     "metadata": {},
     "output_type": "execute_result"
    }
   ],
   "source": [
    "annots_per_sem.sort_values(by = \"StartIndex \", ascending=False)"
   ]
  },
  {
   "cell_type": "code",
   "execution_count": 170,
   "metadata": {},
   "outputs": [
    {
     "data": {
      "image/png": "[encoded data removed]",
      "text/plain": [
       "<Figure size 1000x500 with 1 Axes>"
      ]
     },
     "metadata": {},
     "output_type": "display_data"
    }
   ],
   "source": [
    "annots_per_type = annotations_21.groupby('MentionTextSegment').agg({'StartIndex ':len})\n",
    "draw_histogram(annots_per_type,'Number of mentions of each concept', 'Number of concepts', 'Number of mentions', bins_number=50)"
   ]
  },
  {
   "cell_type": "code",
   "execution_count": 171,
   "metadata": {},
   "outputs": [
    {
     "data": {
      "text/html": [
       "<div>\n",
       "<style scoped>\n",
       "    .dataframe tbody tr th:only-of-type {\n",
       "        vertical-align: middle;\n",
       "    }\n",
       "\n",
       "    .dataframe tbody tr th {\n",
       "        vertical-align: top;\n",
       "    }\n",
       "\n",
       "    .dataframe thead th {\n",
       "        text-align: right;\n",
       "    }\n",
       "</style>\n",
       "<table border=\"1\" class=\"dataframe\">\n",
       "  <thead>\n",
       "    <tr style=\"text-align: right;\">\n",
       "      <th></th>\n",
       "      <th>StartIndex</th>\n",
       "    </tr>\n",
       "    <tr>\n",
       "      <th>MentionTextSegment</th>\n",
       "      <th></th>\n",
       "    </tr>\n",
       "  </thead>\n",
       "  <tbody>\n",
       "    <tr>\n",
       "      <th>study</th>\n",
       "      <td>1713</td>\n",
       "    </tr>\n",
       "    <tr>\n",
       "      <th>expression</th>\n",
       "      <td>799</td>\n",
       "    </tr>\n",
       "    <tr>\n",
       "      <th>treatment</th>\n",
       "      <td>763</td>\n",
       "    </tr>\n",
       "    <tr>\n",
       "      <th>women</th>\n",
       "      <td>549</td>\n",
       "    </tr>\n",
       "    <tr>\n",
       "      <th>human</th>\n",
       "      <td>504</td>\n",
       "    </tr>\n",
       "    <tr>\n",
       "      <th>...</th>\n",
       "      <td>...</td>\n",
       "    </tr>\n",
       "    <tr>\n",
       "      <th>arousal system</th>\n",
       "      <td>1</td>\n",
       "    </tr>\n",
       "    <tr>\n",
       "      <th>arousals</th>\n",
       "      <td>1</td>\n",
       "    </tr>\n",
       "    <tr>\n",
       "      <th>array CGH</th>\n",
       "      <td>1</td>\n",
       "    </tr>\n",
       "    <tr>\n",
       "      <th>array analysis</th>\n",
       "      <td>1</td>\n",
       "    </tr>\n",
       "    <tr>\n",
       "      <th>▵(9_)THC</th>\n",
       "      <td>1</td>\n",
       "    </tr>\n",
       "  </tbody>\n",
       "</table>\n",
       "<p>65947 rows × 1 columns</p>\n",
       "</div>"
      ],
      "text/plain": [
       "                    StartIndex \n",
       "MentionTextSegment             \n",
       "study                      1713\n",
       "expression                  799\n",
       "treatment                   763\n",
       "women                       549\n",
       "human                       504\n",
       "...                         ...\n",
       "arousal system                1\n",
       "arousals                      1\n",
       "array CGH                     1\n",
       "array analysis                1\n",
       "▵(9_)THC                      1\n",
       "\n",
       "[65947 rows x 1 columns]"
      ]
     },
     "execution_count": 171,
     "metadata": {},
     "output_type": "execute_result"
    }
   ],
   "source": [
    "annots_per_type.sort_values(by = \"StartIndex \", ascending=False)"
   ]
  },
  {
   "cell_type": "markdown",
   "metadata": {},
   "source": [
    "# Saving raw data"
   ]
  },
  {
   "cell_type": "code",
   "execution_count": 175,
   "metadata": {},
   "outputs": [],
   "source": [
    "annotations_21.to_csv(os.path.join(folder,\"annotations_21_raw.csv\"))\n",
    "data_21.to_csv(os.path.join(folder,\"titles_and_abstracts_raw.csv\"))"
   ]
  },
  {
   "cell_type": "markdown",
   "metadata": {},
   "source": [
    "# Data Cleaning"
   ]
  },
  {
   "cell_type": "code",
   "execution_count": 199,
   "metadata": {},
   "outputs": [],
   "source": [
    "import nltk\n",
    "from nltk.corpus import stopwords\n",
    "from nltk.stem import PorterStemmer"
   ]
  },
  {
   "cell_type": "markdown",
   "metadata": {},
   "source": [
    "## sentences"
   ]
  },
  {
   "cell_type": "code",
   "execution_count": 182,
   "metadata": {},
   "outputs": [],
   "source": [
    "data_21['tokenized_sentences'] = data_21['Content'].apply(lambda text : nltk.sent_tokenize(text))"
   ]
  },
  {
   "cell_type": "markdown",
   "metadata": {},
   "source": [
    "## words\n",
    "- format: list of lists"
   ]
  },
  {
   "cell_type": "code",
   "execution_count": null,
   "metadata": {},
   "outputs": [],
   "source": [
    "def process(sentence: list) -> list:\n",
    "    \"\"\"\n",
    "    takes list of tokens and returns steamed tokens without stopwords\n",
    "    \"\"\""
   ]
  },
  {
   "cell_type": "code",
   "execution_count": 194,
   "metadata": {},
   "outputs": [],
   "source": [
    "# decided to tokenize words in tokenized sentences -> I think it would be more useful and easy to change\n",
    "data_21['tokenized_words'] = None\n",
    "data_21['tokenized_words_processed'] = None\n",
    "for index, row in data_21.iterrows():\n",
    "    tokens = []\n",
    "    tokens_no_stop = []\n",
    "    for sentence in row['tokenized_sentences']:\n",
    "        tokens.append(nltk.word_tokenize(sentence))\n",
    "    data_21.loc[index,'tokenized_words']  = tokens\n",
    "        "
   ]
  },
  {
   "cell_type": "markdown",
   "metadata": {},
   "source": [
    "## Stop words removal"
   ]
  },
  {
   "cell_type": "code",
   "execution_count": null,
   "metadata": {},
   "outputs": [],
   "source": [
    "data_21['abstract_no_stop_words'] = data_21['abstract'].apply(lambda x: ' '.join([w for w in x.split(' ') if not w.lower() in stopwords]))"
   ]
  }
 ],
 "metadata": {
  "kernelspec": {
   "display_name": "Python 3.9.13 ('envNNN')",
   "language": "python",
   "name": "python3"
  },
  "language_info": {
   "codemirror_mode": {
    "name": "ipython",
    "version": 3
   },
   "file_extension": ".py",
   "mimetype": "text/x-python",
   "name": "python",
   "nbconvert_exporter": "python",
   "pygments_lexer": "ipython3",
   "version": "3.9.13"
  },
  "orig_nbformat": 4,
  "vscode": {
   "interpreter": {
    "hash": "69b1adaa11ceff177c5ff5a0e22271ae8b2837f309a3421a8d0197a8c1aada63"
   }
  }
 },
 "nbformat": 4,
 "nbformat_minor": 2
}
