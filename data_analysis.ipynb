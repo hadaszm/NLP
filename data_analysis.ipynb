{
 "cells": [
  {
   "cell_type": "code",
   "execution_count": 1,
   "metadata": {},
   "outputs": [],
   "source": [
    "import gzip\n",
    "import pandas as pd\n",
    "import os\n",
    "import re\n",
    "from tqdm import tqdm\n",
    "import matplotlib.pyplot as plt\n",
    "import seaborn as sns\n",
    "import numpy as np"
   ]
  },
  {
   "cell_type": "markdown",
   "metadata": {},
   "source": [
    "# Functions"
   ]
  },
  {
   "cell_type": "code",
   "execution_count": 13,
   "metadata": {},
   "outputs": [],
   "source": [
    "def parse(file_path:str, data_columns:list,annotations_columns:list) -> tuple[pd.DataFrame, pd.DataFrame, pd.DataFrame]:\n",
    "    \"\"\"\n",
    "    Function parses data from text document into 3 dataframes. \n",
    "\n",
    "    Parameters\n",
    "    ----------\n",
    "    file_path : str\n",
    "        The path to location of the data\n",
    "    data_columns : list\n",
    "        The list of columns' names for the text data - abstract, title\n",
    "    annotations_columns : list\n",
    "        The list of columns' names for annotation data\n",
    "\n",
    "    Returns\n",
    "\n",
    "    -------\n",
    "    tuple of DataFrames\n",
    "        data - with texts of abstracts and titles\n",
    "        annotations - with annotations \n",
    "        errors - records that did not fit to the data or annotations\n",
    "    \"\"\"  \n",
    "    data = pd.DataFrame(columns = data_columns)\n",
    "    annotations = pd.DataFrame(columns = annotations_columns)\n",
    "    errors = pd.DataFrame()\n",
    "    # hardcoded -  differentiate if the line contains content or annotation\n",
    "    # if HEADED it is content\n",
    "    HEADER = re.compile(r\"(?P<PMID>[0-9]*)\\|(?P<Type>[t|a])\\|(?P<Content>.*)\")\n",
    "    with gzip.open(file_path, 'rb') as f:\n",
    "        i = 0\n",
    "        for line in tqdm(f.readlines()):\n",
    "            i+=1\n",
    "            l = line.decode(\"utf-8\")\n",
    "            if l == '\\n':\n",
    "                continue\n",
    "            h = HEADER.match(l)\n",
    "            if h:\n",
    "                data = pd.concat([data,pd.DataFrame([{k:h.group(k) for k in data_columns}])], ignore_index=True)\n",
    "            else:\n",
    "                _ = l.split('\\t')\n",
    "                if len(_) == len(annotations_columns):\n",
    "                    annotations = pd.concat([annotations,pd.DataFrame([dict(zip(annotations_columns,_))])], ignore_index=True)\n",
    "                else:\n",
    "                    errors = pd.concat([errors,pd.DataFrame([l])],ignore_index=True)\n",
    "    return data, annotations,errors"
   ]
  },
  {
   "cell_type": "code",
   "execution_count": 4,
   "metadata": {},
   "outputs": [],
   "source": [
    "def draw_histogram(data,title, xlabel, ylabel, legend = [], bins_number = 20):\n",
    "     fig, ax = plt.subplots(1,1,figsize =(10,5))\n",
    "     g1 = sns.histplot(data = data, ax = ax, bins = bins_number)\n",
    "     plt.legend(legend, frameon=False)\n",
    "     g1.set(title = title, xlabel =xlabel, ylabel = ylabel )\n",
    "     plt.show()"
   ]
  },
  {
   "cell_type": "markdown",
   "metadata": {},
   "source": [
    "# Getting data"
   ]
  },
  {
   "cell_type": "markdown",
   "metadata": {},
   "source": [
    "# ST21pv\n",
    "```\n",
    "- eliminate all concepts that were only linked to semantic types at levels 1 or 2 ( too broad )\n",
    "- selected 21 semantic types at level 3-5 relevant and have enough occurences ( only concepts mapping into one of\n",
    "these 21 types [ or to a descendant] )\n",
    "- excluded any concepts that were not linked in UMLS to at least one of 18 preffered vocabluary sources\n",
    "- 25,419 unique concepts mentioned\n",
    "- 203,282 concept mentions\n",
    "- 4392 documents\n",
    "```\n",
    "\n"
   ]
  },
  {
   "cell_type": "code",
   "execution_count": 6,
   "metadata": {},
   "outputs": [],
   "source": [
    "folder = 'data'\n",
    "file_name = 'corpus_pubtator.txt.gz'\n",
    "folder_to_save = 'data'"
   ]
  },
  {
   "cell_type": "markdown",
   "metadata": {},
   "source": [
    "# GITHUB INFO ABOUT DATA\n",
    "```\n",
    "The document contains 2 types of records:\n",
    "    - records with content of title/abstarct: 25763772|t|DCTN4 as a modifier of chronic Pseudomonas aeruginosa infection in cystic fibrosis \\n\n",
    "    - records with annotation metions ( one mention per line ) : '25763772\\t0\\t5\\tDCTN4\\tT103\\tUMLS:C4308010\\n'\n",
    "Columns of DataFrame:\n",
    "    data_21:\n",
    "        - PMID: Id of document\n",
    "        - Type: t - if title, a - if abstract\n",
    "        - Content - text of abstract/title\n",
    "    annotations_21:\n",
    "        - PMID: Id of the document\n",
    "        - StartIndex,EndIndex - 0-based character indices into the document text, constructed by concatenating the Title and Abstract, separated by a SPACE character\n",
    "        - MentionTextSegment - the actual mention between those character positions\n",
    "        - EntityID - the UMLS entity (concept) id\n",
    "        - SemanticTypeID - the id for the Semantic Type that entity is linked to in UMLS ( If the UMLS entity is linked to more than one semantic type, then this field contains a comma-separated list of all these type IDs. All UMLS concepts that are not in the 2017-AA Active release are linked to the special semantic type UnknownType)\n",
    "```"
   ]
  },
  {
   "cell_type": "code",
   "execution_count": 8,
   "metadata": {},
   "outputs": [],
   "source": [
    "data_columns = ['PMID', 'Type','Content']\n",
    "annotations_columns = ['PMID', 'StartIndex','EndIndex','MentionTextSegment','SemanticTypeID','EntityID']\n"
   ]
  },
  {
   "cell_type": "code",
   "execution_count": 14,
   "metadata": {},
   "outputs": [
    {
     "name": "stderr",
     "output_type": "stream",
     "text": [
      "100%|██████████| 216458/216458 [1:08:19<00:00, 52.80it/s]  \n"
     ]
    }
   ],
   "source": [
    "data_21, annotations_21,errors_21 = parse(os.path.join(folder,file_name), data_columns, annotations_columns)"
   ]
  },
  {
   "cell_type": "markdown",
   "metadata": {},
   "source": [
    "### Data cleaning\n",
    "```\n",
    "semantic_type_mapping.txt - file containing NL explanation of sematic types\n",
    "In this stage:\n",
    "- the new line characters are deleted\n",
    "- the new column with Semantic Meaning ( using the semantic_type_mapping.txt ) is added\n",
    "- the index columns is added - easier to do aggregations\n",
    "```"
   ]
  },
  {
   "cell_type": "code",
   "execution_count": 15,
   "metadata": {},
   "outputs": [],
   "source": [
    "semantic_mapping = pd.read_csv(os.path.join(folder, 'semantic_type_mapping.txt'), sep = '|', header=None)[[1,2]]\n",
    "semanitc_mapper = dict(zip(semantic_mapping[1],semantic_mapping[2] ))"
   ]
  },
  {
   "cell_type": "code",
   "execution_count": 16,
   "metadata": {},
   "outputs": [],
   "source": [
    "annotations_21['EntityID'] = annotations_21['EntityID'].apply(lambda x : x.replace('\\n',''))\n",
    "annotations_21['SemanticMeaning'] = annotations_21['SemanticTypeID'].apply(lambda x : semanitc_mapper[x])"
   ]
  },
  {
   "cell_type": "code",
   "execution_count": 27,
   "metadata": {},
   "outputs": [],
   "source": [
    "data_21 = data_21.reset_index()\n",
    "annotations_21 = annotations_21.reset_index()"
   ]
  },
  {
   "cell_type": "markdown",
   "metadata": {},
   "source": [
    "### Checking if numbers in paper are correct"
   ]
  },
  {
   "cell_type": "code",
   "execution_count": 28,
   "metadata": {},
   "outputs": [
    {
     "name": "stdout",
     "output_type": "stream",
     "text": [
      " Number of records in errors 0\n"
     ]
    }
   ],
   "source": [
    "print(f\" Number of records in errors {len(errors_21)}\")"
   ]
  },
  {
   "cell_type": "code",
   "execution_count": 20,
   "metadata": {},
   "outputs": [
    {
     "name": "stdout",
     "output_type": "stream",
     "text": [
      "Number of documents 4392 in documents_21, does all have both title and abstract True\n"
     ]
    }
   ],
   "source": [
    "_ = data_21['PMID'].value_counts()\n",
    "print(f\"Number of documents {len(_)} in documents_21, does all have both title and abstract {sum(_ == 2) == len(_)}\")"
   ]
  },
  {
   "cell_type": "code",
   "execution_count": 21,
   "metadata": {},
   "outputs": [
    {
     "name": "stdout",
     "output_type": "stream",
     "text": [
      "Number of documents in annotations_21: 4392\n"
     ]
    }
   ],
   "source": [
    "print(f\"Number of documents in annotations_21: {len(annotations_21['PMID'].unique())}\")"
   ]
  },
  {
   "cell_type": "code",
   "execution_count": 22,
   "metadata": {},
   "outputs": [
    {
     "name": "stdout",
     "output_type": "stream",
     "text": [
      "Number of semantic types in annotations_21: 21\n"
     ]
    }
   ],
   "source": [
    "print(f\"Number of semantic types in annotations_21: {len(annotations_21['SemanticMeaning'].unique())}\")"
   ]
  },
  {
   "cell_type": "code",
   "execution_count": 23,
   "metadata": {},
   "outputs": [
    {
     "name": "stdout",
     "output_type": "stream",
     "text": [
      "Number of unique concept metions in annotations_21: 25419\n"
     ]
    }
   ],
   "source": [
    "print(f\"Number of unique concept metions in annotations_21: {len(annotations_21['EntityID'].unique())}\")"
   ]
  },
  {
   "cell_type": "code",
   "execution_count": 24,
   "metadata": {},
   "outputs": [
    {
     "name": "stdout",
     "output_type": "stream",
     "text": [
      "Number of all concept metions in annotations_21: 203282\n"
     ]
    }
   ],
   "source": [
    "print(f\"Number of all concept metions in annotations_21: {len(annotations_21)}\")"
   ]
  },
  {
   "cell_type": "markdown",
   "metadata": {},
   "source": [
    "### Basic Statistics "
   ]
  },
  {
   "cell_type": "code",
   "execution_count": 29,
   "metadata": {},
   "outputs": [
    {
     "data": {
      "image/png": "[encoded data removed]",
      "text/plain": [
       "<Figure size 1000x500 with 1 Axes>"
      ]
     },
     "metadata": {},
     "output_type": "display_data"
    }
   ],
   "source": [
    "annots_per_documents = annotations_21.groupby('PMID').agg({'index':len})\n",
    "draw_histogram(annots_per_documents,'Number of annotations per document', 'Number of annotations', 'Number of documents')"
   ]
  },
  {
   "cell_type": "markdown",
   "metadata": {},
   "source": [
    "```\n",
    "as topic in this case we understand unique annotation \n",
    "\n",
    "```"
   ]
  },
  {
   "cell_type": "code",
   "execution_count": 91,
   "metadata": {},
   "outputs": [
    {
     "data": {
      "image/png": "[encoded data removed]",
      "text/plain": [
       "<Figure size 1000x500 with 1 Axes>"
      ]
     },
     "metadata": {},
     "output_type": "display_data"
    }
   ],
   "source": [
    "grouped_annotations = annotations_21.groupby('PMID')\n",
    "topics_per_documents = grouped_annotations.apply(lambda x: len(set(x['SemanticMeaning'].to_list())))\n",
    "draw_histogram(topics_per_documents,'Number of unique semantic types per document', 'Number of unique semantic types', 'Number of documents')"
   ]
  },
  {
   "cell_type": "code",
   "execution_count": 92,
   "metadata": {},
   "outputs": [
    {
     "data": {
      "image/png": "[encoded data removed]",
      "text/plain": [
       "<Figure size 1000x500 with 1 Axes>"
      ]
     },
     "metadata": {},
     "output_type": "display_data"
    }
   ],
   "source": [
    "annots_per_sem = annotations_21.groupby('SemanticMeaning').agg(count = ('index',len))\n",
    "draw_histogram(annots_per_sem,'Number of annotations per semantic type', 'Number of annotations', 'Number of semantic types', bins_number=10)"
   ]
  },
  {
   "cell_type": "code",
   "execution_count": 32,
   "metadata": {},
   "outputs": [
    {
     "data": {
      "text/html": [
       "<div>\n",
       "<style scoped>\n",
       "    .dataframe tbody tr th:only-of-type {\n",
       "        vertical-align: middle;\n",
       "    }\n",
       "\n",
       "    .dataframe tbody tr th {\n",
       "        vertical-align: top;\n",
       "    }\n",
       "\n",
       "    .dataframe thead th {\n",
       "        text-align: right;\n",
       "    }\n",
       "</style>\n",
       "<table border=\"1\" class=\"dataframe\">\n",
       "  <thead>\n",
       "    <tr style=\"text-align: right;\">\n",
       "      <th></th>\n",
       "      <th>count</th>\n",
       "    </tr>\n",
       "    <tr>\n",
       "      <th>SemanticMeaning</th>\n",
       "      <th></th>\n",
       "    </tr>\n",
       "  </thead>\n",
       "  <tbody>\n",
       "    <tr>\n",
       "      <th>Biologic Function</th>\n",
       "      <td>41422</td>\n",
       "    </tr>\n",
       "    <tr>\n",
       "      <th>Chemical</th>\n",
       "      <td>37401</td>\n",
       "    </tr>\n",
       "    <tr>\n",
       "      <th>Health Care Activity</th>\n",
       "      <td>24306</td>\n",
       "    </tr>\n",
       "    <tr>\n",
       "      <th>Anatomical Structure</th>\n",
       "      <td>20497</td>\n",
       "    </tr>\n",
       "    <tr>\n",
       "      <th>Finding</th>\n",
       "      <td>16227</td>\n",
       "    </tr>\n",
       "    <tr>\n",
       "      <th>Spatial Concept</th>\n",
       "      <td>12500</td>\n",
       "    </tr>\n",
       "    <tr>\n",
       "      <th>Intellectual Product</th>\n",
       "      <td>10324</td>\n",
       "    </tr>\n",
       "    <tr>\n",
       "      <th>Research Activity</th>\n",
       "      <td>9172</td>\n",
       "    </tr>\n",
       "    <tr>\n",
       "      <th>Eukaryote</th>\n",
       "      <td>8543</td>\n",
       "    </tr>\n",
       "    <tr>\n",
       "      <th>Population Group</th>\n",
       "      <td>6154</td>\n",
       "    </tr>\n",
       "    <tr>\n",
       "      <th>Organization</th>\n",
       "      <td>2143</td>\n",
       "    </tr>\n",
       "    <tr>\n",
       "      <th>Bacterium</th>\n",
       "      <td>2050</td>\n",
       "    </tr>\n",
       "    <tr>\n",
       "      <th>Medical Device</th>\n",
       "      <td>2018</td>\n",
       "    </tr>\n",
       "    <tr>\n",
       "      <th>Injury or Poisoning</th>\n",
       "      <td>1854</td>\n",
       "    </tr>\n",
       "    <tr>\n",
       "      <th>Professional or Occupational Group</th>\n",
       "      <td>1779</td>\n",
       "    </tr>\n",
       "    <tr>\n",
       "      <th>Clinical Attribute</th>\n",
       "      <td>1773</td>\n",
       "    </tr>\n",
       "    <tr>\n",
       "      <th>Food</th>\n",
       "      <td>1352</td>\n",
       "    </tr>\n",
       "    <tr>\n",
       "      <th>Body Substance</th>\n",
       "      <td>1256</td>\n",
       "    </tr>\n",
       "    <tr>\n",
       "      <th>Virus</th>\n",
       "      <td>1100</td>\n",
       "    </tr>\n",
       "    <tr>\n",
       "      <th>Biomedical Occupation or Discipline</th>\n",
       "      <td>916</td>\n",
       "    </tr>\n",
       "    <tr>\n",
       "      <th>Body System</th>\n",
       "      <td>495</td>\n",
       "    </tr>\n",
       "  </tbody>\n",
       "</table>\n",
       "</div>"
      ],
      "text/plain": [
       "                                     count\n",
       "SemanticMeaning                           \n",
       "Biologic Function                    41422\n",
       "Chemical                             37401\n",
       "Health Care Activity                 24306\n",
       "Anatomical Structure                 20497\n",
       "Finding                              16227\n",
       "Spatial Concept                      12500\n",
       "Intellectual Product                 10324\n",
       "Research Activity                     9172\n",
       "Eukaryote                             8543\n",
       "Population Group                      6154\n",
       "Organization                          2143\n",
       "Bacterium                             2050\n",
       "Medical Device                        2018\n",
       "Injury or Poisoning                   1854\n",
       "Professional or Occupational Group    1779\n",
       "Clinical Attribute                    1773\n",
       "Food                                  1352\n",
       "Body Substance                        1256\n",
       "Virus                                 1100\n",
       "Biomedical Occupation or Discipline    916\n",
       "Body System                            495"
      ]
     },
     "execution_count": 32,
     "metadata": {},
     "output_type": "execute_result"
    }
   ],
   "source": [
    "annots_per_sem.sort_values(by = \"count\", ascending=False)"
   ]
  },
  {
   "cell_type": "code",
   "execution_count": 33,
   "metadata": {},
   "outputs": [
    {
     "data": {
      "image/png": "[encoded data removed]",
      "text/plain": [
       "<Figure size 1000x500 with 1 Axes>"
      ]
     },
     "metadata": {},
     "output_type": "display_data"
    }
   ],
   "source": [
    "annots_per_type = annotations_21.groupby('MentionTextSegment').agg(count = ('index',len))\n",
    "draw_histogram(annots_per_type,'Number of mentions of each concept', 'Number of concepts', 'Number of mentions', bins_number=50)"
   ]
  },
  {
   "cell_type": "code",
   "execution_count": 35,
   "metadata": {},
   "outputs": [
    {
     "data": {
      "text/html": [
       "<div>\n",
       "<style scoped>\n",
       "    .dataframe tbody tr th:only-of-type {\n",
       "        vertical-align: middle;\n",
       "    }\n",
       "\n",
       "    .dataframe tbody tr th {\n",
       "        vertical-align: top;\n",
       "    }\n",
       "\n",
       "    .dataframe thead th {\n",
       "        text-align: right;\n",
       "    }\n",
       "</style>\n",
       "<table border=\"1\" class=\"dataframe\">\n",
       "  <thead>\n",
       "    <tr style=\"text-align: right;\">\n",
       "      <th></th>\n",
       "      <th>count</th>\n",
       "    </tr>\n",
       "    <tr>\n",
       "      <th>MentionTextSegment</th>\n",
       "      <th></th>\n",
       "    </tr>\n",
       "  </thead>\n",
       "  <tbody>\n",
       "    <tr>\n",
       "      <th>study</th>\n",
       "      <td>1713</td>\n",
       "    </tr>\n",
       "    <tr>\n",
       "      <th>expression</th>\n",
       "      <td>799</td>\n",
       "    </tr>\n",
       "    <tr>\n",
       "      <th>treatment</th>\n",
       "      <td>763</td>\n",
       "    </tr>\n",
       "    <tr>\n",
       "      <th>women</th>\n",
       "      <td>549</td>\n",
       "    </tr>\n",
       "    <tr>\n",
       "      <th>human</th>\n",
       "      <td>504</td>\n",
       "    </tr>\n",
       "    <tr>\n",
       "      <th>...</th>\n",
       "      <td>...</td>\n",
       "    </tr>\n",
       "    <tr>\n",
       "      <th>arousal system</th>\n",
       "      <td>1</td>\n",
       "    </tr>\n",
       "    <tr>\n",
       "      <th>arousals</th>\n",
       "      <td>1</td>\n",
       "    </tr>\n",
       "    <tr>\n",
       "      <th>array CGH</th>\n",
       "      <td>1</td>\n",
       "    </tr>\n",
       "    <tr>\n",
       "      <th>array analysis</th>\n",
       "      <td>1</td>\n",
       "    </tr>\n",
       "    <tr>\n",
       "      <th>▵(9_)THC</th>\n",
       "      <td>1</td>\n",
       "    </tr>\n",
       "  </tbody>\n",
       "</table>\n",
       "<p>65947 rows × 1 columns</p>\n",
       "</div>"
      ],
      "text/plain": [
       "                    count\n",
       "MentionTextSegment       \n",
       "study                1713\n",
       "expression            799\n",
       "treatment             763\n",
       "women                 549\n",
       "human                 504\n",
       "...                   ...\n",
       "arousal system          1\n",
       "arousals                1\n",
       "array CGH               1\n",
       "array analysis          1\n",
       "▵(9_)THC                1\n",
       "\n",
       "[65947 rows x 1 columns]"
      ]
     },
     "execution_count": 35,
     "metadata": {},
     "output_type": "execute_result"
    }
   ],
   "source": [
    "annots_per_type.sort_values(by = \"count\", ascending=False)"
   ]
  },
  {
   "cell_type": "markdown",
   "metadata": {},
   "source": [
    "# Saving raw data"
   ]
  },
  {
   "cell_type": "code",
   "execution_count": 175,
   "metadata": {},
   "outputs": [],
   "source": [
    "annotations_21.to_csv(os.path.join(folder,\"annotations_21_raw.csv\"))\n",
    "data_21.to_csv(os.path.join(folder,\"titles_and_abstracts_raw.csv\"))"
   ]
  },
  {
   "cell_type": "markdown",
   "metadata": {},
   "source": [
    "# Data Cleaning"
   ]
  },
  {
   "cell_type": "code",
   "execution_count": 36,
   "metadata": {},
   "outputs": [],
   "source": [
    "import nltk\n",
    "from nltk.corpus import stopwords\n",
    "from nltk.stem import PorterStemmer\n",
    "ps = PorterStemmer()\n",
    "from nltk.stem import WordNetLemmatizer\n",
    "  \n",
    "lemmatizer = WordNetLemmatizer()"
   ]
  },
  {
   "cell_type": "markdown",
   "metadata": {},
   "source": [
    "## sentences\n",
    "```\n",
    "divide documents into sentences\n",
    "```"
   ]
  },
  {
   "cell_type": "code",
   "execution_count": 37,
   "metadata": {},
   "outputs": [],
   "source": [
    "data_21['tokenized_sentences'] = data_21['Content'].apply(lambda text : nltk.sent_tokenize(text))"
   ]
  },
  {
   "cell_type": "markdown",
   "metadata": {},
   "source": [
    "## words\n",
    "```\n",
    "tokenized_words - divide each sentence into words - result format list of lists\n",
    "tokenized_words_processed - divide each sentence into words, delete stopwords and perform stemming\n",
    "```"
   ]
  },
  {
   "cell_type": "code",
   "execution_count": 38,
   "metadata": {},
   "outputs": [],
   "source": [
    "def process(sentence: list) -> list:\n",
    "    \"\"\"\n",
    "    takes list of tokens and returns steamed tokens without stopwords\n",
    "    If word contains non-letters it appends it to the final list\n",
    "    \"\"\"\n",
    "    processed = []\n",
    "    for word in sentence:\n",
    "        try:\n",
    "            word_lower = word.lower() \n",
    "            if word_lower not in stopwords.words():\n",
    "                processed.append(ps.stem(word))\n",
    "        except TypeError: # when word contains non-letters\n",
    "            processed.append(word)\n",
    "    return processed"
   ]
  },
  {
   "cell_type": "code",
   "execution_count": null,
   "metadata": {},
   "outputs": [],
   "source": [
    "def process_lemma(sentence: list) -> list:\n",
    "    \"\"\"\n",
    "    takes list of tokens and returns steamed tokens without stopwords\n",
    "    If word contains non-letters it appends it to the final list\n",
    "    \"\"\"\n",
    "    processed = []\n",
    "    for word in sentence:\n",
    "        try:\n",
    "            word_lower = word.lower() \n",
    "            if word_lower not in stopwords.words():\n",
    "                processed.append(lemmatizer.lemmatize(word))\n",
    "        except TypeError: # when word contains non-letters\n",
    "            processed.append(word)\n",
    "    return processed"
   ]
  },
  {
   "cell_type": "code",
   "execution_count": 231,
   "metadata": {},
   "outputs": [
    {
     "name": "stderr",
     "output_type": "stream",
     "text": [
      "100%|██████████| 8784/8784 [3:04:51<00:00,  1.26s/it]     \n"
     ]
    }
   ],
   "source": [
    "\n",
    "data_21['tokenized_words'] = None\n",
    "data_21['tokenized_words_processed'] = None\n",
    "data_21['tokenized_words_lemmatize'] = None\n",
    "for index, row in tqdm(data_21.iterrows(), total = len(data_21)):\n",
    "    tokens = []\n",
    "    tokens_processed= []\n",
    "    tokens_lemma = []\n",
    "    for sentence in row['tokenized_sentences']:\n",
    "        tok_sen = nltk.word_tokenize(sentence)\n",
    "        tokens.append(tok_sen)\n",
    "        tokens_processed.append(process(tok_sen))\n",
    "        tokens_lemma.append(process_lemma(tok_sen))\n",
    "    data_21.loc[index,'tokenized_words']  = tokens\n",
    "    data_21.loc[index,'tokenized_words_processed']  = tokens_processed\n",
    "    data_21.loc[index, 'tokenized_words_lemmatize'] = tokens_lemma\n",
    "        "
   ]
  },
  {
   "cell_type": "markdown",
   "metadata": {},
   "source": [
    "```\n",
    "delete non alpha numeric words\n",
    "```"
   ]
  },
  {
   "cell_type": "code",
   "execution_count": 239,
   "metadata": {},
   "outputs": [
    {
     "name": "stderr",
     "output_type": "stream",
     "text": [
      "100%|██████████| 8784/8784 [00:01<00:00, 8446.00it/s]\n"
     ]
    }
   ],
   "source": [
    "\n",
    "for index, row in tqdm(data_21.iterrows(), total = len(data_21)):\n",
    "    tokens = []\n",
    "    for sentence in row['tokenized_words_lemmatize']:\n",
    "        sen = []\n",
    "        for word in sentence:\n",
    "            if word.isalnum():\n",
    "                tokens.append(word)\n",
    "        \n",
    "    data_21.loc[index,'tokenized_words_lemmatize']  = tokens\n",
    "            \n",
    "            \n",
    "        "
   ]
  },
  {
   "cell_type": "code",
   "execution_count": null,
   "metadata": {},
   "outputs": [],
   "source": [
    "\n",
    "for index, row in tqdm(data_21.iterrows(), total = len(data_21)):\n",
    "    tokens = []\n",
    "    for sentence in row['tokenized_words_processed']:\n",
    "        sen = []\n",
    "        for word in sentence:\n",
    "            if word.isalnum():\n",
    "                tokens.append(word)\n",
    "        \n",
    "    data_21.loc[index,'tokenized_words_processed']  = tokens"
   ]
  },
  {
   "cell_type": "markdown",
   "metadata": {},
   "source": [
    "```\n",
    "Final dataframe contains addtionaly ( comparing to the raw one ):\n",
    "    - tokenized_sentences - content divided into sentences\n",
    "    - tokenized_words - each sentence divide into words\n",
    "    - tokenized_words_processed - content divided into words without stopwords and non-alphanumeric ones, words are stemmed"
   ]
  },
  {
   "cell_type": "code",
   "execution_count": 245,
   "metadata": {},
   "outputs": [],
   "source": [
    "data_21.to_csv(os.path.join(folder,\"titles_and_abstracts_processed.csv\"))"
   ]
  },
  {
   "cell_type": "markdown",
   "metadata": {},
   "source": [
    "# Topic per document\n",
    "```\n",
    "Assuming that each annotated word is a topic of the document ( it enables comparison with results from algorithms ),\n",
    "the document contating PMID and list of annotations is prepered\n",
    "Columns:\n",
    "- Topics - list of all annotated semantics ( with repetitions )\n",
    "- Unique_topics - list of all annotated semantics ( without repetitions )\n",
    "\n",
    "```"
   ]
  },
  {
   "cell_type": "code",
   "execution_count": 79,
   "metadata": {},
   "outputs": [
    {
     "data": {
      "text/html": [
       "<div>\n",
       "<style scoped>\n",
       "    .dataframe tbody tr th:only-of-type {\n",
       "        vertical-align: middle;\n",
       "    }\n",
       "\n",
       "    .dataframe tbody tr th {\n",
       "        vertical-align: top;\n",
       "    }\n",
       "\n",
       "    .dataframe thead th {\n",
       "        text-align: right;\n",
       "    }\n",
       "</style>\n",
       "<table border=\"1\" class=\"dataframe\">\n",
       "  <thead>\n",
       "    <tr style=\"text-align: right;\">\n",
       "      <th></th>\n",
       "      <th>Topics</th>\n",
       "      <th>Unique_topics</th>\n",
       "    </tr>\n",
       "    <tr>\n",
       "      <th>PMID</th>\n",
       "      <th></th>\n",
       "      <th></th>\n",
       "    </tr>\n",
       "  </thead>\n",
       "  <tbody>\n",
       "    <tr>\n",
       "      <th>25763772</th>\n",
       "      <td>[Chemical, Biologic Function, Biologic Functio...</td>\n",
       "      <td>[Chemical, Biologic Function, Finding, Researc...</td>\n",
       "    </tr>\n",
       "    <tr>\n",
       "      <th>25847295</th>\n",
       "      <td>[Biologic Function, Anatomical Structure, Find...</td>\n",
       "      <td>[Biologic Function, Anatomical Structure, Find...</td>\n",
       "    </tr>\n",
       "    <tr>\n",
       "      <th>26316050</th>\n",
       "      <td>[Chemical, Finding, Medical Device, Spatial Co...</td>\n",
       "      <td>[Chemical, Finding, Medical Device, Spatial Co...</td>\n",
       "    </tr>\n",
       "    <tr>\n",
       "      <th>26406200</th>\n",
       "      <td>[Finding, Biologic Function, Spatial Concept, ...</td>\n",
       "      <td>[Finding, Biologic Function, Spatial Concept, ...</td>\n",
       "    </tr>\n",
       "    <tr>\n",
       "      <th>26424709</th>\n",
       "      <td>[Finding, Health Care Activity, Spatial Concep...</td>\n",
       "      <td>[Finding, Health Care Activity, Spatial Concep...</td>\n",
       "    </tr>\n",
       "  </tbody>\n",
       "</table>\n",
       "</div>"
      ],
      "text/plain": [
       "                                                     Topics  \\\n",
       "PMID                                                          \n",
       "25763772  [Chemical, Biologic Function, Biologic Functio...   \n",
       "25847295  [Biologic Function, Anatomical Structure, Find...   \n",
       "26316050  [Chemical, Finding, Medical Device, Spatial Co...   \n",
       "26406200  [Finding, Biologic Function, Spatial Concept, ...   \n",
       "26424709  [Finding, Health Care Activity, Spatial Concep...   \n",
       "\n",
       "                                              Unique_topics  \n",
       "PMID                                                         \n",
       "25763772  [Chemical, Biologic Function, Finding, Researc...  \n",
       "25847295  [Biologic Function, Anatomical Structure, Find...  \n",
       "26316050  [Chemical, Finding, Medical Device, Spatial Co...  \n",
       "26406200  [Finding, Biologic Function, Spatial Concept, ...  \n",
       "26424709  [Finding, Health Care Activity, Spatial Concep...  "
      ]
     },
     "execution_count": 79,
     "metadata": {},
     "output_type": "execute_result"
    }
   ],
   "source": [
    "grouped_annotations = annotations_21.groupby('PMID')\n",
    "topics_per_document = grouped_annotations.apply(lambda group : group['SemanticMeaning'].to_list())\n",
    "topics_per_document = pd.DataFrame(topics_per_document).rename(columns = {0:'Topics'})\n",
    "topics_per_document['Unique_topics'] = topics_per_document['Topics'].apply(lambda l: pd.unique(l))\n",
    "topics_per_document.head()"
   ]
  },
  {
   "cell_type": "code",
   "execution_count": 81,
   "metadata": {},
   "outputs": [],
   "source": [
    "topics_per_document.to_csv(os.path.join(folder,'topics_per_document.csv'))"
   ]
  },
  {
   "cell_type": "markdown",
   "metadata": {},
   "source": [
    "# Concepts per document\n",
    "```\n",
    "Columns:\n",
    "- Concepts - list of all annotated concepts ( with repetitions )\n",
    "- Unique_concepts - list of all annotated concepts ( without repetitions )\n",
    "\n",
    "```\n"
   ]
  },
  {
   "cell_type": "code",
   "execution_count": 89,
   "metadata": {},
   "outputs": [
    {
     "data": {
      "text/html": [
       "<div>\n",
       "<style scoped>\n",
       "    .dataframe tbody tr th:only-of-type {\n",
       "        vertical-align: middle;\n",
       "    }\n",
       "\n",
       "    .dataframe tbody tr th {\n",
       "        vertical-align: top;\n",
       "    }\n",
       "\n",
       "    .dataframe thead th {\n",
       "        text-align: right;\n",
       "    }\n",
       "</style>\n",
       "<table border=\"1\" class=\"dataframe\">\n",
       "  <thead>\n",
       "    <tr style=\"text-align: right;\">\n",
       "      <th></th>\n",
       "      <th>Concepts</th>\n",
       "      <th>Unique_concepts</th>\n",
       "    </tr>\n",
       "    <tr>\n",
       "      <th>PMID</th>\n",
       "      <th></th>\n",
       "      <th></th>\n",
       "    </tr>\n",
       "  </thead>\n",
       "  <tbody>\n",
       "    <tr>\n",
       "      <th>25763772</th>\n",
       "      <td>[UMLS:C4308010, UMLS:C0854135, UMLS:C0010674, ...</td>\n",
       "      <td>[UMLS:C4308010, UMLS:C0854135, UMLS:C0010674, ...</td>\n",
       "    </tr>\n",
       "    <tr>\n",
       "      <th>25847295</th>\n",
       "      <td>[UMLS:C0162638, UMLS:C0085262, UMLS:C0150312, ...</td>\n",
       "      <td>[UMLS:C0162638, UMLS:C0085262, UMLS:C0150312, ...</td>\n",
       "    </tr>\n",
       "    <tr>\n",
       "      <th>26316050</th>\n",
       "      <td>[UMLS:C0037114, UMLS:C2828363, UMLS:C0085104, ...</td>\n",
       "      <td>[UMLS:C0037114, UMLS:C2828363, UMLS:C0085104, ...</td>\n",
       "    </tr>\n",
       "    <tr>\n",
       "      <th>26406200</th>\n",
       "      <td>[UMLS:C0277814, UMLS:C0231452, UMLS:C0231472, ...</td>\n",
       "      <td>[UMLS:C0277814, UMLS:C0231452, UMLS:C0231472, ...</td>\n",
       "    </tr>\n",
       "    <tr>\n",
       "      <th>26424709</th>\n",
       "      <td>[UMLS:C0241311, UMLS:C0008819, UMLS:C1514578, ...</td>\n",
       "      <td>[UMLS:C0241311, UMLS:C0008819, UMLS:C1514578, ...</td>\n",
       "    </tr>\n",
       "  </tbody>\n",
       "</table>\n",
       "</div>"
      ],
      "text/plain": [
       "                                                   Concepts  \\\n",
       "PMID                                                          \n",
       "25763772  [UMLS:C4308010, UMLS:C0854135, UMLS:C0010674, ...   \n",
       "25847295  [UMLS:C0162638, UMLS:C0085262, UMLS:C0150312, ...   \n",
       "26316050  [UMLS:C0037114, UMLS:C2828363, UMLS:C0085104, ...   \n",
       "26406200  [UMLS:C0277814, UMLS:C0231452, UMLS:C0231472, ...   \n",
       "26424709  [UMLS:C0241311, UMLS:C0008819, UMLS:C1514578, ...   \n",
       "\n",
       "                                            Unique_concepts  \n",
       "PMID                                                         \n",
       "25763772  [UMLS:C4308010, UMLS:C0854135, UMLS:C0010674, ...  \n",
       "25847295  [UMLS:C0162638, UMLS:C0085262, UMLS:C0150312, ...  \n",
       "26316050  [UMLS:C0037114, UMLS:C2828363, UMLS:C0085104, ...  \n",
       "26406200  [UMLS:C0277814, UMLS:C0231452, UMLS:C0231472, ...  \n",
       "26424709  [UMLS:C0241311, UMLS:C0008819, UMLS:C1514578, ...  "
      ]
     },
     "execution_count": 89,
     "metadata": {},
     "output_type": "execute_result"
    }
   ],
   "source": [
    "concepts_per_document = grouped_annotations.apply(lambda group : group['EntityID'].to_list())\n",
    "concepts_per_document = pd.DataFrame(concepts_per_document).rename(columns = {0:'Concepts'})\n",
    "concepts_per_document['Unique_concepts'] = concepts_per_document['Concepts'].apply(lambda l: pd.unique(l))\n",
    "concepts_per_document.head()"
   ]
  },
  {
   "cell_type": "code",
   "execution_count": 90,
   "metadata": {},
   "outputs": [],
   "source": [
    "topics_per_document.to_csv(os.path.join(folder_to_save,'concepts_per_document.csv'))"
   ]
  },
  {
   "cell_type": "markdown",
   "metadata": {},
   "source": [
    "# Train, Test division\n",
    "```\n",
    "80 % of data are used for traing , the rest for the test\n",
    "```"
   ]
  },
  {
   "cell_type": "code",
   "execution_count": null,
   "metadata": {},
   "outputs": [],
   "source": [
    "from sklearn.model_selection import train_test_split"
   ]
  },
  {
   "cell_type": "code",
   "execution_count": null,
   "metadata": {},
   "outputs": [],
   "source": [
    "unique_pmids = data_21['PMID'].drop_duplicates()\n",
    "train_pmids, test_pmids = train_test_split(unique_pmids, test_size=0.2)"
   ]
  },
  {
   "cell_type": "code",
   "execution_count": null,
   "metadata": {},
   "outputs": [],
   "source": [
    "data_21.merge(train_pmids).to_csv(os.path.join(folder_to_save,'titles_and_abstracts_processed_train.csv', index=False))\n",
    "data_21.merge(test_pmids).to_csv(os.path.join(folder_to_save,'titles_and_abstracts_processed_test.csv', index=False))"
   ]
  }
 ],
 "metadata": {
  "kernelspec": {
   "display_name": "Python 3.9.13 ('envNNN')",
   "language": "python",
   "name": "python3"
  },
  "language_info": {
   "codemirror_mode": {
    "name": "ipython",
    "version": 3
   },
   "file_extension": ".py",
   "mimetype": "text/x-python",
   "name": "python",
   "nbconvert_exporter": "python",
   "pygments_lexer": "ipython3",
   "version": "3.9.13 (main, Oct 13 2022, 21:23:06) [MSC v.1916 64 bit (AMD64)]"
  },
  "orig_nbformat": 4,
  "vscode": {
   "interpreter": {
    "hash": "69b1adaa11ceff177c5ff5a0e22271ae8b2837f309a3421a8d0197a8c1aada63"
   }
  }
 },
 "nbformat": 4,
 "nbformat_minor": 2
}
