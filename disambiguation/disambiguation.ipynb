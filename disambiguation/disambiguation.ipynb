{
 "cells": [
  {
   "cell_type": "code",
   "execution_count": 1,
   "metadata": {},
   "outputs": [],
   "source": [
    "import pandas as pd\n",
    "import os\n",
    "import numpy as np\n",
    "import tqdm\n",
    "import math\n",
    "import datetime\n",
    "import copy"
   ]
  },
  {
   "cell_type": "code",
   "execution_count": 2,
   "metadata": {},
   "outputs": [],
   "source": [
    "folder = '../CRAFT/results/disambiguation/'\n",
    "MAX_ITER = 7\n",
    "no_embedings = []"
   ]
  },
  {
   "cell_type": "markdown",
   "metadata": {},
   "source": [
    "# Functions"
   ]
  },
  {
   "cell_type": "code",
   "execution_count": 3,
   "metadata": {},
   "outputs": [],
   "source": [
    "def get_embeding(word,emb):\n",
    "    return emb.loc[word]"
   ]
  },
  {
   "cell_type": "code",
   "execution_count": 4,
   "metadata": {},
   "outputs": [],
   "source": [
    "def create_tags_list_dict(row, with_sorting = False):\n",
    "    # dictionary keyword: list of concepts\n",
    "    # sorting enabled\n",
    "    result = {}\n",
    "    for tag in row:\n",
    "        key = tag[0].split(',')[0].upper()\n",
    "        value = tag[1].upper()\n",
    "        if key in result.keys():\n",
    "            if  value not in result[key]:\n",
    "                result[key][value]=1\n",
    "            else:\n",
    "                 result[key][value]+=1\n",
    "        else:\n",
    "            result[key]= {value:1}\n",
    "    if with_sorting:\n",
    "        for key in result.keys():\n",
    "            d = result[key]\n",
    "            d = {k:0 for k,v in dict(sorted(d.items(), key=lambda item: item[1], reverse = True)).items()}\n",
    "            result[key] = d\n",
    "    else:\n",
    "        for key in result.keys():\n",
    "            d = result[key]\n",
    "            d = {k:0 for k,v in d.items()}\n",
    "            result[key] = d\n",
    "        \n",
    "\n",
    "    return result"
   ]
  },
  {
   "cell_type": "code",
   "execution_count": 5,
   "metadata": {},
   "outputs": [],
   "source": [
    "def keywords_importance(grouped_data, tagger_data):\n",
    "    return grouped_data.reset_index().merge(tagger_data[['PMID','topic_keywords']] ,on = 'PMID').set_index('text_to_annotate')\n"
   ]
  },
  {
   "cell_type": "code",
   "execution_count": 6,
   "metadata": {},
   "outputs": [],
   "source": [
    "def get_n_best_tags(data, n = 1):\n",
    "    return [{k:sorted(v, key=v.get)[:n] for k,v in dd.items()} for dd in data['after_disambiguation']]"
   ]
  },
  {
   "cell_type": "code",
   "execution_count": 7,
   "metadata": {},
   "outputs": [],
   "source": [
    "def disambiguation(current_selection,embedings, weigths, forced):\n",
    "    ''' \n",
    "    current_selection : dictionary keyword: list of all unique concepts\n",
    "    weigths: the importance of given keyword\n",
    "    forced: should the concept identical with keyword be the first\n",
    "    \n",
    "    '''\n",
    "    # we iterate over the current_selection MAX_ITER times\n",
    "    vis = []\n",
    "    iterations = dict(zip(current_selection.keys(),[0]*len(current_selection)))\n",
    "    new_current_selction  = copy.deepcopy(current_selection)\n",
    "    should_stop = False\n",
    "    for i in range(MAX_ITER):\n",
    "\n",
    "        for keyword, concepts_list in new_current_selction.items():\n",
    "            distances = {} # for each possible concept calaculate the mean distance from other kewords (concepts of them)\n",
    "            if forced and  any([c== keyword for c in concepts_list.keys()]):\n",
    "                _ = [c != keyword for c in concepts_list.keys()]\n",
    "                distances = dict(zip(_,[1000]* len(_)))\n",
    "                distances[keyword] = 0\n",
    "            else:\n",
    "                if iterations[keyword]>0:\n",
    "                    break\n",
    "\n",
    "                for concept in concepts_list.keys():\n",
    "                    distances[concept] = []\n",
    "                    for k, current_best_tags in new_current_selction.items():\n",
    "                        # foreach keyword that is not a current one \n",
    "                        if k!=keyword:\n",
    "                            current_best_tag = list(current_best_tags.keys())[0] # the first out of list of concepts\n",
    "                            try:\n",
    "                                distances[concept].append(weigths[k]*math.dist(get_embeding(concept,embedings),get_embeding(current_best_tag,embedings))) # append distance from this concept\n",
    "                            except Exception as e:\n",
    "                                print(e)\n",
    "                    distances[concept] = np.mean(distances[concept]) # mean distance \n",
    "                if keyword == 'COFFEE':\n",
    "                    vis.append((i,distances))\n",
    "                if list(new_current_selction[keyword].values()) == list(dict(sorted(distances.items(), key=lambda item: item[1])).values()):\n",
    "                    iterations[keyword] = i\n",
    "            new_current_selction[keyword] = dict(sorted(distances.items(), key=lambda item: item[1]))  # upadate the current selection of this keyword\n",
    "    return new_current_selction,vis, iterations\n",
    "    "
   ]
  },
  {
   "cell_type": "code",
   "execution_count": 8,
   "metadata": {},
   "outputs": [],
   "source": [
    "def prepare_disambiguation(data, tagger, embedings,column_name = 'ncbo_annotations_pairs' ,  weighting = False, sorting = False, forcing = False,take_best = 1):\n",
    "    '''\n",
    "    weighting : if the importance of the keyword matters\n",
    "    sorting : should the initial sorting be performed\n",
    "    forcing : should concept identical to keyword be the most important\n",
    "    take_best : how many best concepts should be taken \n",
    "    '''\n",
    "    grouped = data.groupby('text_to_annotate').nth(0)\n",
    "    # get importance for each keyword -> will be used if weighting True\n",
    "    grouped = keywords_importance(grouped, tagger )\n",
    "    grouped['possible_tags'] = grouped[column_name].apply(lambda r: create_tags_list_dict(r, sorting))\n",
    "\n",
    "    # disambiguation\n",
    "    res = []\n",
    "    vis = []\n",
    "    its = []\n",
    "    for idx, row  in tqdm.tqdm(grouped.iterrows(), total = len(grouped)):\n",
    "        current_selection = row['possible_tags']\n",
    "        if not weighting:\n",
    "            weigths = dict(zip(list(row['topic_keywords'].keys()),[1] * len(row['topic_keywords'])))\n",
    "        else:\n",
    "            weigths = row['topic_keywords']\n",
    "        r,v, it= disambiguation(current_selection, embedings,weigths,forcing)\n",
    "        res.append(r)\n",
    "        vis.append(v)\n",
    "        its.append(it)\n",
    "    grouped['after_disambiguation'] = res\n",
    "    data = data.merge(grouped['after_disambiguation'].reset_index(), on = 'text_to_annotate' )\n",
    "    data['disambiguation_best_concept'] = get_n_best_tags(data, take_best)\n",
    "    return data,vis,its"
   ]
  },
  {
   "cell_type": "markdown",
   "metadata": {},
   "source": [
    "# Data"
   ]
  },
  {
   "cell_type": "code",
   "execution_count": 9,
   "metadata": {},
   "outputs": [],
   "source": [
    "def prepare_data(data_name, tagger_name, embedings_name,with_21 = True):\n",
    "    data = pd.read_csv(data_name)\n",
    "    data['ncbo_annotations_pairs'] = data['ncbo_annotations_pairs'].apply(eval)\n",
    "    data['ncbo_annotations_pairs']  = data['ncbo_annotations_pairs'].apply(lambda x : [[a[0].upper(),a[1]] for a in x])\n",
    "    if with_21:\n",
    "        data['ncbo_annotations_ST21pv_semtypes_pairs'] = data['ncbo_annotations_ST21pv_semtypes_pairs'].apply(eval)\n",
    "        data['ncbo_annotations_ST21pv_semtypes_pairs']  = data['ncbo_annotations_ST21pv_semtypes_pairs'].apply(lambda x : [[a[0].upper(),a[1]] for a in x])\n",
    "\n",
    "    tagger = pd.read_csv(tagger_name)\n",
    "    tagger['topic_keywords'] = tagger['topic_keywords'].apply(eval).apply(lambda x: {k.upper():v for k,v in dict(x).items()})\n",
    "\n",
    "\n",
    "    embedings = pd.read_csv(embedings_name)\n",
    "    embedings = embedings.set_index('words')\n",
    "    embedings.index = embedings.index.str.upper()\n",
    "    embedings = embedings[~embedings.index.duplicated(keep='first')]\n",
    "\n",
    "    return  data, tagger, embedings\n",
    "\n"
   ]
  },
  {
   "attachments": {},
   "cell_type": "markdown",
   "metadata": {},
   "source": [
    "## For whole data"
   ]
  },
  {
   "cell_type": "code",
   "execution_count": 10,
   "metadata": {},
   "outputs": [],
   "source": [
    "data, tagger, embedings = prepare_data( '../CRAFT/results/bertopic_ncbo/bertopic_ncbo_data_2023-01-03_13-27-32.csv', '..//CRAFT/results/bertopic/bertopic_lemmatize_nostopwords_data_2023-01-02_10-04-20.csv',\n",
    "'..//CRAFT/results/embedings/ncbo_embeddings.csv',False)"
   ]
  },
  {
   "cell_type": "code",
   "execution_count": 11,
   "metadata": {},
   "outputs": [
    {
     "name": "stderr",
     "output_type": "stream",
     "text": [
      "100%|██████████| 9/9 [00:03<00:00,  2.64it/s]\n"
     ]
    }
   ],
   "source": [
    "data_no_no, vis, its = prepare_disambiguation(data,tagger,embedings,'ncbo_annotations_pairs' )"
   ]
  },
  {
   "cell_type": "code",
   "execution_count": 12,
   "metadata": {},
   "outputs": [
    {
     "name": "stderr",
     "output_type": "stream",
     "text": [
      "100%|██████████| 9/9 [00:03<00:00,  2.65it/s]\n"
     ]
    }
   ],
   "source": [
    "data_sorting_no_weigth, vis, its = prepare_disambiguation(data,tagger,embedings,'ncbo_annotations_pairs',False, True )"
   ]
  },
  {
   "cell_type": "code",
   "execution_count": 13,
   "metadata": {},
   "outputs": [
    {
     "name": "stderr",
     "output_type": "stream",
     "text": [
      "100%|██████████| 9/9 [00:03<00:00,  2.67it/s]\n"
     ]
    }
   ],
   "source": [
    "data_sort_weigth, vis, its = prepare_disambiguation(data,tagger,embedings,'ncbo_annotations_pairs',True,True)"
   ]
  },
  {
   "cell_type": "code",
   "execution_count": 14,
   "metadata": {},
   "outputs": [
    {
     "name": "stderr",
     "output_type": "stream",
     "text": [
      "100%|██████████| 9/9 [00:01<00:00,  5.41it/s]\n"
     ]
    }
   ],
   "source": [
    "data_forced, vis, its = prepare_disambiguation(data,tagger,embedings,'ncbo_annotations_pairs',True,True,True)"
   ]
  },
  {
   "cell_type": "code",
   "execution_count": 15,
   "metadata": {},
   "outputs": [],
   "source": [
    "now = datetime.datetime.now().strftime(\"%Y_%m_%d_%H_%M_%S\")"
   ]
  },
  {
   "cell_type": "code",
   "execution_count": 16,
   "metadata": {},
   "outputs": [],
   "source": [
    "# data_no_no.to_csv(os.path.join(folder,f'bertopic_ncbo_fulldata_lemmatize_nostopwords_data_{now}_no_sorted_no_weighted.csv'))\n",
    "# data_sort_weigth.to_csv(os.path.join(folder,f'bertopic_ncbo_fulldata_lemmatize_nostopwords_data_{now}_weighted_and_sorted.csv'))\n",
    "# data_sorting_no_weigth.to_csv(os.path.join(folder,f'bertopic_ncbo_fulldata_lemmatize_nostopwords_data_{now}_sorted_no_weighted.csv'))\n",
    "data_forced.to_csv(os.path.join(folder,f'bertopic_ncbo_fulldata_lemmatize_nostopwords_data_{now}_sorted_weighted_forced.csv'))"
   ]
  },
  {
   "cell_type": "markdown",
   "metadata": {},
   "source": [
    "# Analysis"
   ]
  },
  {
   "cell_type": "markdown",
   "metadata": {},
   "source": [
    "Changes in distances for keyword IMPLANT"
   ]
  },
  {
   "cell_type": "code",
   "execution_count": 17,
   "metadata": {},
   "outputs": [],
   "source": [
    "# df = pd.DataFrame()\n",
    "# for i in range(2):\n",
    "#         df = pd.concat([df,pd.DataFrame.from_dict({i:vis[11][i][1]})], axis = 1)\n",
    "# #df.to_csv(os.path.join(folder,'changes_in_distances_for_keyword_COFFEE_3rd_topic_train_fine_tunned_21.csv'))"
   ]
  },
  {
   "cell_type": "markdown",
   "metadata": {},
   "source": [
    "Iterations for each keyword"
   ]
  },
  {
   "cell_type": "code",
   "execution_count": 18,
   "metadata": {},
   "outputs": [],
   "source": [
    "# its = pd.DataFrame.from_records(its)\n",
    "# its.to_csv(os.path.join(folder,'number_of_iterations_for_each_keyword_train_ncbo_21.csv'))"
   ]
  },
  {
   "cell_type": "markdown",
   "metadata": {},
   "source": [
    "Changes in distances for keyword IMPLANT"
   ]
  },
  {
   "cell_type": "code",
   "execution_count": 19,
   "metadata": {},
   "outputs": [],
   "source": [
    "# df = pd.DataFrame()\n",
    "# for i in range(4):\n",
    "#         df = pd.concat([df,pd.DataFrame.from_dict({i:vis[2][i][1]})], axis = 1)\n",
    "# df.to_csv(os.path.join(folder,'changes_in_distances_for_keyword_IMPLANT_3rd_topic_train_pretrained.csv'))"
   ]
  },
  {
   "cell_type": "markdown",
   "metadata": {},
   "source": [
    "Iterations for each keyword"
   ]
  },
  {
   "cell_type": "code",
   "execution_count": 20,
   "metadata": {},
   "outputs": [],
   "source": [
    "# its = pd.DataFrame.from_records(its)\n",
    "# its.to_csv(os.path.join(folder,'number_of_iterations_for_each_keyword_train_pretrained.csv'))"
   ]
  },
  {
   "cell_type": "code",
   "execution_count": 21,
   "metadata": {},
   "outputs": [],
   "source": [
    "import matplotlib.pyplot as plt\n",
    "import seaborn as sns"
   ]
  },
  {
   "cell_type": "code",
   "execution_count": 23,
   "metadata": {},
   "outputs": [],
   "source": [
    "# data = pd.read_csv(os.path.join(folder,'number_of_iterations_for_each_keyword_train_pretrained.csv'), index_col = 0)\n",
    "# data = data.fillna(0)"
   ]
  },
  {
   "cell_type": "code",
   "execution_count": null,
   "metadata": {},
   "outputs": [],
   "source": [
    "count = dict(zip([1,2,3,4,5],[0]*5))\n",
    "for k in count.keys():\n",
    "    count[k] = sum(np.count_nonzero(np.array(data) == k, axis=1))"
   ]
  },
  {
   "cell_type": "code",
   "execution_count": null,
   "metadata": {},
   "outputs": [
    {
     "data": {
      "image/png": "[encoded data removed]",
      "text/plain": [
       "<Figure size 640x480 with 1 Axes>"
      ]
     },
     "metadata": {},
     "output_type": "display_data"
    }
   ],
   "source": [
    "g = sns.barplot(x = list(count.keys()), y = list(count.values()))\n",
    "g.set(title = \"Number of iterations needed\", xlabel= \"number of iterations\", ylabel = \"Number of keywords\")\n",
    "plt.show()"
   ]
  },
  {
   "cell_type": "markdown",
   "metadata": {},
   "source": [
    "For one keword"
   ]
  },
  {
   "cell_type": "code",
   "execution_count": null,
   "metadata": {},
   "outputs": [],
   "source": [
    "data = pd.read_csv(os.path.join(folder,'changes_in_distances_for_keyword_IMPLANT_3rd_topic_train_pretrained.csv'), index_col = 0)\n"
   ]
  },
  {
   "cell_type": "code",
   "execution_count": null,
   "metadata": {},
   "outputs": [
    {
     "data": {
      "text/html": [
       "<div>\n",
       "<style scoped>\n",
       "    .dataframe tbody tr th:only-of-type {\n",
       "        vertical-align: middle;\n",
       "    }\n",
       "\n",
       "    .dataframe tbody tr th {\n",
       "        vertical-align: top;\n",
       "    }\n",
       "\n",
       "    .dataframe thead th {\n",
       "        text-align: right;\n",
       "    }\n",
       "</style>\n",
       "<table border=\"1\" class=\"dataframe\">\n",
       "  <thead>\n",
       "    <tr style=\"text-align: right;\">\n",
       "      <th></th>\n",
       "      <th>0</th>\n",
       "      <th>1</th>\n",
       "      <th>2</th>\n",
       "      <th>3</th>\n",
       "    </tr>\n",
       "  </thead>\n",
       "  <tbody>\n",
       "    <tr>\n",
       "      <th>Property or Attribute</th>\n",
       "      <td>12.492491</td>\n",
       "      <td>9.874552</td>\n",
       "      <td>9.359963</td>\n",
       "      <td>9.207696</td>\n",
       "    </tr>\n",
       "    <tr>\n",
       "      <th>Diagnostic, Therapeutic, or Research Equipment</th>\n",
       "      <td>11.902994</td>\n",
       "      <td>10.784446</td>\n",
       "      <td>10.070390</td>\n",
       "      <td>9.537463</td>\n",
       "    </tr>\n",
       "    <tr>\n",
       "      <th>Dosage Form by Physical Form</th>\n",
       "      <td>11.568833</td>\n",
       "      <td>9.957484</td>\n",
       "      <td>9.697583</td>\n",
       "      <td>9.659492</td>\n",
       "    </tr>\n",
       "    <tr>\n",
       "      <th>Pharmaceutical Dosage Form</th>\n",
       "      <td>11.793626</td>\n",
       "      <td>10.188050</td>\n",
       "      <td>10.236463</td>\n",
       "      <td>10.507468</td>\n",
       "    </tr>\n",
       "    <tr>\n",
       "      <th>Implant Dosage Form Category</th>\n",
       "      <td>11.715864</td>\n",
       "      <td>10.079449</td>\n",
       "      <td>10.168648</td>\n",
       "      <td>10.567577</td>\n",
       "    </tr>\n",
       "    <tr>\n",
       "      <th>Implant Dosage Form</th>\n",
       "      <td>11.793726</td>\n",
       "      <td>10.284243</td>\n",
       "      <td>10.385307</td>\n",
       "      <td>10.681883</td>\n",
       "    </tr>\n",
       "    <tr>\n",
       "      <th>Basic Dosage Form Category</th>\n",
       "      <td>12.009453</td>\n",
       "      <td>10.274202</td>\n",
       "      <td>10.297738</td>\n",
       "      <td>10.722028</td>\n",
       "    </tr>\n",
       "    <tr>\n",
       "      <th>Parenteral Route of Administration</th>\n",
       "      <td>12.150218</td>\n",
       "      <td>10.731344</td>\n",
       "      <td>10.759627</td>\n",
       "      <td>10.736739</td>\n",
       "    </tr>\n",
       "    <tr>\n",
       "      <th>Medical Device</th>\n",
       "      <td>11.780650</td>\n",
       "      <td>10.267473</td>\n",
       "      <td>10.571644</td>\n",
       "      <td>10.983834</td>\n",
       "    </tr>\n",
       "    <tr>\n",
       "      <th>Solid Dose Form Category</th>\n",
       "      <td>12.037037</td>\n",
       "      <td>10.438505</td>\n",
       "      <td>10.645154</td>\n",
       "      <td>11.145570</td>\n",
       "    </tr>\n",
       "    <tr>\n",
       "      <th>Implant Dosing Unit</th>\n",
       "      <td>12.278929</td>\n",
       "      <td>10.935806</td>\n",
       "      <td>10.996564</td>\n",
       "      <td>11.167635</td>\n",
       "    </tr>\n",
       "    <tr>\n",
       "      <th>Conceptual Entity</th>\n",
       "      <td>12.623554</td>\n",
       "      <td>11.058688</td>\n",
       "      <td>10.791342</td>\n",
       "      <td>11.195389</td>\n",
       "    </tr>\n",
       "    <tr>\n",
       "      <th>Solid Dosage Form</th>\n",
       "      <td>12.403420</td>\n",
       "      <td>11.205631</td>\n",
       "      <td>11.181822</td>\n",
       "      <td>11.267075</td>\n",
       "    </tr>\n",
       "    <tr>\n",
       "      <th>Implant Device Component</th>\n",
       "      <td>12.454871</td>\n",
       "      <td>10.899209</td>\n",
       "      <td>11.025202</td>\n",
       "      <td>11.277065</td>\n",
       "    </tr>\n",
       "    <tr>\n",
       "      <th>Route of Administration</th>\n",
       "      <td>12.797527</td>\n",
       "      <td>11.327401</td>\n",
       "      <td>11.313240</td>\n",
       "      <td>11.481570</td>\n",
       "    </tr>\n",
       "    <tr>\n",
       "      <th>Potency Unit</th>\n",
       "      <td>12.210697</td>\n",
       "      <td>11.093796</td>\n",
       "      <td>11.163048</td>\n",
       "      <td>11.483386</td>\n",
       "    </tr>\n",
       "    <tr>\n",
       "      <th>Unit by Category</th>\n",
       "      <td>13.170614</td>\n",
       "      <td>11.965730</td>\n",
       "      <td>11.746071</td>\n",
       "      <td>11.717637</td>\n",
       "    </tr>\n",
       "    <tr>\n",
       "      <th>Administration via Implantation</th>\n",
       "      <td>12.831690</td>\n",
       "      <td>11.850514</td>\n",
       "      <td>11.896682</td>\n",
       "      <td>11.823165</td>\n",
       "    </tr>\n",
       "    <tr>\n",
       "      <th>Retired Concept 2006</th>\n",
       "      <td>12.666697</td>\n",
       "      <td>11.365067</td>\n",
       "      <td>11.607432</td>\n",
       "      <td>12.085835</td>\n",
       "    </tr>\n",
       "    <tr>\n",
       "      <th>Manufactured Object</th>\n",
       "      <td>12.868274</td>\n",
       "      <td>11.595640</td>\n",
       "      <td>11.695511</td>\n",
       "      <td>12.089084</td>\n",
       "    </tr>\n",
       "    <tr>\n",
       "      <th>Unit of Measure</th>\n",
       "      <td>13.457045</td>\n",
       "      <td>12.339808</td>\n",
       "      <td>12.187549</td>\n",
       "      <td>12.327448</td>\n",
       "    </tr>\n",
       "    <tr>\n",
       "      <th>Retired Concept</th>\n",
       "      <td>13.198210</td>\n",
       "      <td>11.892485</td>\n",
       "      <td>12.171872</td>\n",
       "      <td>12.687353</td>\n",
       "    </tr>\n",
       "    <tr>\n",
       "      <th>Prosthesis</th>\n",
       "      <td>13.060309</td>\n",
       "      <td>12.589139</td>\n",
       "      <td>12.868112</td>\n",
       "      <td>12.837436</td>\n",
       "    </tr>\n",
       "    <tr>\n",
       "      <th>Device</th>\n",
       "      <td>13.484920</td>\n",
       "      <td>12.557488</td>\n",
       "      <td>12.794033</td>\n",
       "      <td>13.300703</td>\n",
       "    </tr>\n",
       "    <tr>\n",
       "      <th>Category</th>\n",
       "      <td>14.175289</td>\n",
       "      <td>13.135766</td>\n",
       "      <td>13.262552</td>\n",
       "      <td>13.928208</td>\n",
       "    </tr>\n",
       "    <tr>\n",
       "      <th>Implant</th>\n",
       "      <td>14.645285</td>\n",
       "      <td>13.865927</td>\n",
       "      <td>14.229728</td>\n",
       "      <td>14.869803</td>\n",
       "    </tr>\n",
       "    <tr>\n",
       "      <th>Route</th>\n",
       "      <td>16.308603</td>\n",
       "      <td>15.250739</td>\n",
       "      <td>15.650642</td>\n",
       "      <td>16.237710</td>\n",
       "    </tr>\n",
       "  </tbody>\n",
       "</table>\n",
       "</div>"
      ],
      "text/plain": [
       "                                                        0          1  \\\n",
       "Property or Attribute                           12.492491   9.874552   \n",
       "Diagnostic, Therapeutic, or Research Equipment  11.902994  10.784446   \n",
       "Dosage Form by Physical Form                    11.568833   9.957484   \n",
       "Pharmaceutical Dosage Form                      11.793626  10.188050   \n",
       "Implant Dosage Form Category                    11.715864  10.079449   \n",
       "Implant Dosage Form                             11.793726  10.284243   \n",
       "Basic Dosage Form Category                      12.009453  10.274202   \n",
       "Parenteral Route of Administration              12.150218  10.731344   \n",
       "Medical Device                                  11.780650  10.267473   \n",
       "Solid Dose Form Category                        12.037037  10.438505   \n",
       "Implant Dosing Unit                             12.278929  10.935806   \n",
       "Conceptual Entity                               12.623554  11.058688   \n",
       "Solid Dosage Form                               12.403420  11.205631   \n",
       "Implant Device Component                        12.454871  10.899209   \n",
       "Route of Administration                         12.797527  11.327401   \n",
       "Potency Unit                                    12.210697  11.093796   \n",
       "Unit by Category                                13.170614  11.965730   \n",
       "Administration via Implantation                 12.831690  11.850514   \n",
       "Retired Concept 2006                            12.666697  11.365067   \n",
       "Manufactured Object                             12.868274  11.595640   \n",
       "Unit of Measure                                 13.457045  12.339808   \n",
       "Retired Concept                                 13.198210  11.892485   \n",
       "Prosthesis                                      13.060309  12.589139   \n",
       "Device                                          13.484920  12.557488   \n",
       "Category                                        14.175289  13.135766   \n",
       "Implant                                         14.645285  13.865927   \n",
       "Route                                           16.308603  15.250739   \n",
       "\n",
       "                                                        2          3  \n",
       "Property or Attribute                            9.359963   9.207696  \n",
       "Diagnostic, Therapeutic, or Research Equipment  10.070390   9.537463  \n",
       "Dosage Form by Physical Form                     9.697583   9.659492  \n",
       "Pharmaceutical Dosage Form                      10.236463  10.507468  \n",
       "Implant Dosage Form Category                    10.168648  10.567577  \n",
       "Implant Dosage Form                             10.385307  10.681883  \n",
       "Basic Dosage Form Category                      10.297738  10.722028  \n",
       "Parenteral Route of Administration              10.759627  10.736739  \n",
       "Medical Device                                  10.571644  10.983834  \n",
       "Solid Dose Form Category                        10.645154  11.145570  \n",
       "Implant Dosing Unit                             10.996564  11.167635  \n",
       "Conceptual Entity                               10.791342  11.195389  \n",
       "Solid Dosage Form                               11.181822  11.267075  \n",
       "Implant Device Component                        11.025202  11.277065  \n",
       "Route of Administration                         11.313240  11.481570  \n",
       "Potency Unit                                    11.163048  11.483386  \n",
       "Unit by Category                                11.746071  11.717637  \n",
       "Administration via Implantation                 11.896682  11.823165  \n",
       "Retired Concept 2006                            11.607432  12.085835  \n",
       "Manufactured Object                             11.695511  12.089084  \n",
       "Unit of Measure                                 12.187549  12.327448  \n",
       "Retired Concept                                 12.171872  12.687353  \n",
       "Prosthesis                                      12.868112  12.837436  \n",
       "Device                                          12.794033  13.300703  \n",
       "Category                                        13.262552  13.928208  \n",
       "Implant                                         14.229728  14.869803  \n",
       "Route                                           15.650642  16.237710  "
      ]
     },
     "execution_count": 183,
     "metadata": {},
     "output_type": "execute_result"
    }
   ],
   "source": [
    "data.sort_values(by = '3')"
   ]
  }
 ],
 "metadata": {
  "kernelspec": {
   "display_name": "Python 3.9.13 ('envNNN')",
   "language": "python",
   "name": "python3"
  },
  "language_info": {
   "codemirror_mode": {
    "name": "ipython",
    "version": 3
   },
   "file_extension": ".py",
   "mimetype": "text/x-python",
   "name": "python",
   "nbconvert_exporter": "python",
   "pygments_lexer": "ipython3",
   "version": "3.9.13"
  },
  "orig_nbformat": 4,
  "vscode": {
   "interpreter": {
    "hash": "69b1adaa11ceff177c5ff5a0e22271ae8b2837f309a3421a8d0197a8c1aada63"
   }
  }
 },
 "nbformat": 4,
 "nbformat_minor": 2
}
