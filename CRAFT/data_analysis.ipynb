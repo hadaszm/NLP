{
 "cells": [
  {
   "cell_type": "code",
   "execution_count": 1,
   "metadata": {},
   "outputs": [],
   "source": [
    "import pandas as pd\n",
    "import os\n",
    "import xml.etree.ElementTree as ET"
   ]
  },
  {
   "attachments": {},
   "cell_type": "markdown",
   "metadata": {},
   "source": [
    "# getting articles text\n",
    "- to merge abstarct and title one needs to concat them with new line\n",
    "- 3 possible cases of abstarcts (1. Abstarct and text of it, 2. Abstract divided into section 3. Diffrent division for the one document (14611657))\n",
    "- Maxline needed to get only relevant annoatations\n"
   ]
  },
  {
   "cell_type": "code",
   "execution_count": 2,
   "metadata": {},
   "outputs": [],
   "source": [
    "articles_folder = os.path.join('articles','txt')"
   ]
  },
  {
   "attachments": {},
   "cell_type": "markdown",
   "metadata": {},
   "source": [
    "The first line is a title. Then we wait for the abstract. The text of the abstarct is everything until the empty line occure"
   ]
  },
  {
   "cell_type": "code",
   "execution_count": 20,
   "metadata": {},
   "outputs": [],
   "source": [
    "texts = pd.DataFrame(columns = ['PMID','Type','Content','MaxLine'])\n",
    "s = []\n",
    "for file in os.listdir(articles_folder):\n",
    "    if file[-3:] == 'txt':\n",
    "        name = file[:-4]\n",
    "        with open(os.path.join(articles_folder,file),'r',encoding='utf-8') as f:\n",
    "            article  = pd.DataFrame()\n",
    "            lines = list(f.readlines())\n",
    "            texts.loc[len(texts)] = {'PMID':name, 'Type':'t','Content':lines[0]}\n",
    "            if lines[4] not in [ 'Background\\n','Backgroud\\n','Introduction\\n'] and name != '14611657':\n",
    "                texts.loc[len(texts)] = {'PMID':name, 'Type':'a','Content':''.join(lines[1:5]), 'MaxLine':len(''.join(lines[:5]))}\n",
    "            else:\n",
    "                if name == '14611657':\n",
    "                    txt = ''.join(lines[1:7])\n",
    "                    for i,line in enumerate(lines[7:]):\n",
    "                        if line == 'Background\\n' or line == 'Introduction\\n':\n",
    "                            break\n",
    "                        txt = ''.join([txt,line])\n",
    "                    texts.loc[len(texts)] = {'PMID':name, 'Type':'a','Content':txt,'MaxLine':len(''.join(lines[:(7+i)]))}\n",
    "                else:\n",
    "                    txt = ''.join(lines[1:5])\n",
    "                    for i,line in enumerate(lines[5:]):\n",
    "                        if line == 'Background\\n' or line == 'Introduction\\n':\n",
    "                            break\n",
    "                        txt = ''.join([txt,line])\n",
    "                    texts.loc[len(texts)] = {'PMID':name, 'Type':'a','Content':txt,'MaxLine':len(''.join(lines[:(5+i)]))}\n",
    "                        \n",
    "\n",
    "        \n"
   ]
  },
  {
   "cell_type": "code",
   "execution_count": 5,
   "metadata": {},
   "outputs": [],
   "source": [
    "texts.to_csv(os.path.join('data', 'data.csv'))"
   ]
  },
  {
   "attachments": {},
   "cell_type": "markdown",
   "metadata": {},
   "source": [
    "# Ontologies"
   ]
  },
  {
   "attachments": {},
   "cell_type": "markdown",
   "metadata": {},
   "source": [
    "Each document has two types of tags\n",
    "1. annotation - information about annotations found in the document \n",
    "    Each annoatation has 4 tags:\n",
    "    a. mention ( from this we get the id of the mention)\n",
    "    b. span - we get the beginning and the end of the annoation\n",
    "    c. annotator - info about annoatator (not used)\n",
    "    d. spannedText - not used\n",
    "2. classMention - information about the class tagged \n",
    "    id - the id of the annoatation coresponding to 1.mention\n",
    "    mentionClass - has info about class id from the ontology and text of the annoatation\n",
    "    "
   ]
  },
  {
   "attachments": {},
   "cell_type": "markdown",
   "metadata": {},
   "source": [
    "## IMPORTATNT - the text data need to be in variable texts"
   ]
  },
  {
   "cell_type": "code",
   "execution_count": 6,
   "metadata": {},
   "outputs": [],
   "source": [
    "def get_folder_for_ontology(ontology):\n",
    "    folder = os.path.join('concept-annotation',ontology,ontology,'knowtator')\n",
    "    return folder"
   ]
  },
  {
   "cell_type": "code",
   "execution_count": 7,
   "metadata": {},
   "outputs": [],
   "source": [
    "def get_data_from_file(root):\n",
    "    annotations = pd.DataFrame(columns=['StartIndex', 'EndIndex','MentionTextSegment','EntityID'])\n",
    "    for child in root:\n",
    "    # annotation\n",
    "        if child.tag=='annotation':\n",
    "            tmp = {}\n",
    "            id_name = None\n",
    "            for c in child:\n",
    "                if c.tag == 'mention':\n",
    "                    id_name = c.attrib['id']\n",
    "                elif c.tag == 'span':\n",
    "                    tmp['StartIndex'] = c.attrib['start']\n",
    "                    tmp['EndIndex'] = c.attrib['end']\n",
    "            annotations.loc[id_name,['StartIndex','EndIndex']] = tmp\n",
    "\n",
    "    # classmention\n",
    "        else:\n",
    "            id_name =child.attrib['id']\n",
    "            tmp = {}\n",
    "            for c in child:\n",
    "                if 'id' in c.attrib.keys():\n",
    "                    tmp['MentionTextSegment'] = c.text\n",
    "                    tmp['EntityID'] = c.attrib['id']\n",
    "                    annotations.loc[id_name,['MentionTextSegment','EntityID']] = tmp\n",
    "    return annotations"
   ]
  },
  {
   "cell_type": "code",
   "execution_count": 13,
   "metadata": {},
   "outputs": [],
   "source": [
    "def get_before_max(data,max_line):\n",
    "    # get records where StartIndex not empty and smaller than max_line\n",
    "    data = data[~pd.isna(data['StartIndex'])]\n",
    "    return data[data['StartIndex'].astype(int) < max_line]"
   ]
  },
  {
   "cell_type": "code",
   "execution_count": 32,
   "metadata": {},
   "outputs": [],
   "source": [
    "def get_data(ontology,file_name):\n",
    "    folder = get_folder_for_ontology(ontology)\n",
    "    data = pd.DataFrame()\n",
    "    for file in os.listdir(folder):\n",
    "        tree = ET.parse(os.path.join(folder,file))\n",
    "        root = tree.getroot()\n",
    "        annotations = get_data_from_file(root)\n",
    "        annotations['PMID'] = file[:8]\n",
    "        data = pd.concat([data,annotations])\n",
    "    file_path = os.path.join('data',ontology,file_name)\n",
    "    isExist = os.path.exists(os.path.join('data',ontology))\n",
    "    if not isExist:\n",
    "        os.makedirs(os.path.join('data',ontology))\n",
    "    max_lines = list(texts[texts.PMID == file[:8]].MaxLine)[1]\n",
    "    data = get_before_max(data,max_lines)\n",
    "    data.to_csv(file_path)\n",
    "    return data"
   ]
  },
  {
   "cell_type": "code",
   "execution_count": 34,
   "metadata": {},
   "outputs": [],
   "source": [
    "d = get_data('CL','annotations.csv')"
   ]
  }
 ],
 "metadata": {
  "kernelspec": {
   "display_name": "envNNN",
   "language": "python",
   "name": "python3"
  },
  "language_info": {
   "codemirror_mode": {
    "name": "ipython",
    "version": 3
   },
   "file_extension": ".py",
   "mimetype": "text/x-python",
   "name": "python",
   "nbconvert_exporter": "python",
   "pygments_lexer": "ipython3",
   "version": "3.9.13"
  },
  "orig_nbformat": 4,
  "vscode": {
   "interpreter": {
    "hash": "69b1adaa11ceff177c5ff5a0e22271ae8b2837f309a3421a8d0197a8c1aada63"
   }
  }
 },
 "nbformat": 4,
 "nbformat_minor": 2
}
